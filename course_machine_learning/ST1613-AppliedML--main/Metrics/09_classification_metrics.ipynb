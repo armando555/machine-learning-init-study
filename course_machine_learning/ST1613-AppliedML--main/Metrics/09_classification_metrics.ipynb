{
  "cells": [
    {
      "cell_type": "markdown",
      "metadata": {
        "id": "view-in-github",
        "colab_type": "text"
      },
      "source": [
        "<a href=\"https://colab.research.google.com/github/jdmartinev/ST1613-AppliedML-/blob/main/Metrics/09_classification_metrics.ipynb\" target=\"_parent\"><img src=\"https://colab.research.google.com/assets/colab-badge.svg\" alt=\"Open In Colab\"/></a>"
      ]
    },
    {
      "cell_type": "markdown",
      "metadata": {
        "id": "7505Lh_9T3J7"
      },
      "source": [
        "### Imports"
      ]
    },
    {
      "cell_type": "code",
      "source": [
        "#!pip install plotting_functions\n",
        "#Getting important libraries from git \n",
        "url='https://raw.githubusercontent.com/pabloosoriom/Data_TA/main/plotting_functions.py'\n",
        "!wget --no-cache --backups=1 {url}\n",
        "import subprocess\n",
        "result = subprocess.run([\"wget\", \"--no-cache\", \"--backups=1\", url], stderr=subprocess.PIPE, stdout=subprocess.PIPE)\n",
        "#print(result.stderr.decode(\"utf-8\"))\n",
        "\n",
        "url2='https://raw.githubusercontent.com/pabloosoriom/Data_TA/main/utils.py'\n",
        "!wget --no-cache --backups=1 {url2}\n",
        "result2 = subprocess.run([\"wget\", \"--no-cache\", \"--backups=1\", url2], stderr=subprocess.PIPE, stdout=subprocess.PIPE)\n",
        "#print(result2.stderr.decode(\"utf-8\"))"
      ],
      "metadata": {
        "colab": {
          "base_uri": "https://localhost:8080/"
        },
        "id": "T1sPs4FsUFxZ",
        "outputId": "c8b36790-e89d-4eee-93f0-0faba3db85da"
      },
      "execution_count": null,
      "outputs": [
        {
          "output_type": "stream",
          "name": "stdout",
          "text": [
            "--2023-05-02 22:33:35--  https://raw.githubusercontent.com/pabloosoriom/Data_TA/main/plotting_functions.py\n",
            "Resolving raw.githubusercontent.com (raw.githubusercontent.com)... 185.199.111.133, 185.199.108.133, 185.199.109.133, ...\n",
            "Connecting to raw.githubusercontent.com (raw.githubusercontent.com)|185.199.111.133|:443... connected.\n",
            "HTTP request sent, awaiting response... 200 OK\n",
            "Length: 17135 (17K) [text/plain]\n",
            "Saving to: ‘plotting_functions.py’\n",
            "\n",
            "\rplotting_functions.   0%[                    ]       0  --.-KB/s               \rplotting_functions. 100%[===================>]  16.73K  --.-KB/s    in 0.001s  \n",
            "\n",
            "2023-05-02 22:33:35 (14.0 MB/s) - ‘plotting_functions.py’ saved [17135/17135]\n",
            "\n",
            "--2023-05-02 22:33:35--  https://raw.githubusercontent.com/pabloosoriom/Data_TA/main/utils.py\n",
            "Resolving raw.githubusercontent.com (raw.githubusercontent.com)... 185.199.110.133, 185.199.108.133, 185.199.109.133, ...\n",
            "Connecting to raw.githubusercontent.com (raw.githubusercontent.com)|185.199.110.133|:443... connected.\n",
            "HTTP request sent, awaiting response... 200 OK\n",
            "Length: 4350 (4.2K) [text/plain]\n",
            "Saving to: ‘utils.py’\n",
            "\n",
            "utils.py            100%[===================>]   4.25K  --.-KB/s    in 0s      \n",
            "\n",
            "2023-05-02 22:33:35 (34.8 MB/s) - ‘utils.py’ saved [4350/4350]\n",
            "\n"
          ]
        }
      ]
    },
    {
      "cell_type": "code",
      "execution_count": null,
      "metadata": {
        "id": "2Sm-FsvIT3KA"
      },
      "outputs": [],
      "source": [
        "import os\n",
        "import sys\n",
        "\n",
        "sys.path.append(\"code/.\")\n",
        "\n",
        "import IPython\n",
        "import matplotlib.pyplot as plt\n",
        "#import mglearn\n",
        "import numpy as np\n",
        "import pandas as pd\n",
        "from IPython.display import HTML, display\n",
        "from plotting_functions import *\n",
        "from sklearn.dummy import DummyClassifier\n",
        "from sklearn.linear_model import LogisticRegression\n",
        "from sklearn.model_selection import cross_val_score, cross_validate, train_test_split\n",
        "from sklearn.pipeline import Pipeline, make_pipeline\n",
        "from sklearn.preprocessing import StandardScaler\n",
        "from utils import *\n",
        "\n",
        "%matplotlib inline\n",
        "pd.set_option(\"display.max_colwidth\", 200)\n",
        "\n",
        "from IPython.display import Image"
      ]
    },
    {
      "cell_type": "code",
      "execution_count": null,
      "metadata": {
        "id": "j1WaRxPdT3KC"
      },
      "outputs": [],
      "source": [
        "# Changing global matplotlib settings for confusion matrix.\n",
        "plt.rcParams[\"xtick.labelsize\"] = 18\n",
        "plt.rcParams[\"ytick.labelsize\"] = 18"
      ]
    },
    {
      "cell_type": "markdown",
      "metadata": {
        "id": "ruTRn7jKT3KC"
      },
      "source": [
        "### Learning outcomes \n",
        "\n",
        "From this lecture, students are expected to be able to:\n",
        "\n",
        "- Explain why accuracy is not always the best metric in ML.\n",
        "- Explain components of a confusion matrix. \n",
        "- Define precision, recall, and f1-score and use them to evaluate different classifiers. \n",
        "- Broadly explain macro-average, weighted average.\n",
        "- Interpret and use precision-recall curves. \n",
        "- Explain average precision score.\n",
        "- Interpret and use ROC curves and ROC AUC using `scikit-learn`.  \n",
        "- Identify whether there is class imbalance and whether you need to deal with it.\n",
        "- Explain and use `class_weight` to deal with data imbalance."
      ]
    },
    {
      "cell_type": "markdown",
      "metadata": {
        "id": "gxr2fBfzT3KD"
      },
      "source": [
        "## Evaluation metrics for binary classification: Motivation "
      ]
    },
    {
      "cell_type": "markdown",
      "metadata": {
        "id": "iHDBy1m-T3KD"
      },
      "source": [
        "### Dataset for demonstration \n",
        "\n",
        "- Let's classify fraudulent and non-fraudulent transactions using Kaggle's [Credit Card Fraud Detection](https://www.kaggle.com/mlg-ulb/creditcardfraud) data set."
      ]
    },
    {
      "cell_type": "code",
      "source": [
        "# Code to read csv file from drive into Colaboratory (ignore):\n",
        "!pip install -U -q PyDrive\n",
        "from pydrive.auth import GoogleAuth\n",
        "from pydrive.drive import GoogleDrive\n",
        "from google.colab import auth\n",
        "from oauth2client.client import GoogleCredentials\n",
        "# Authenticate and create the PyDrive client.\n",
        "auth.authenticate_user()\n",
        "gauth = GoogleAuth()\n",
        "gauth.credentials = GoogleCredentials.get_application_default()\n",
        "drive = GoogleDrive(gauth)\n",
        "id='1XgYfOnQ0cyFFoMrsr82zhflZ0vQLKFLW'\n",
        "downloaded = drive.CreateFile({'id':id}) \n",
        "downloaded.GetContentFile('creditcard.csv')  \n",
        "df3 = pd.read_csv('creditcard.csv')"
      ],
      "metadata": {
        "id": "nda20i9bXkrp"
      },
      "execution_count": null,
      "outputs": []
    },
    {
      "cell_type": "code",
      "execution_count": null,
      "metadata": {
        "colab": {
          "base_uri": "https://localhost:8080/",
          "height": 299
        },
        "id": "-ri4QQs9T3KD",
        "outputId": "261f83ef-930b-4c31-c2f1-9d6477eea241"
      },
      "outputs": [
        {
          "output_type": "execute_result",
          "data": {
            "text/plain": [
              "            Time        V1        V2        V3        V4        V5        V6  \\\n",
              "64454    51150.0 -3.538816  3.481893 -1.827130 -0.573050  2.644106 -0.340988   \n",
              "37906    39163.0 -0.363913  0.853399  1.648195  1.118934  0.100882  0.423852   \n",
              "79378    57994.0  1.193021 -0.136714  0.622612  0.780864 -0.823511 -0.706444   \n",
              "245686  152859.0  1.604032 -0.808208 -1.594982  0.200475  0.502985  0.832370   \n",
              "60943    49575.0 -2.669614 -2.734385  0.662450 -0.059077  3.346850 -2.549682   \n",
              "\n",
              "              V7        V8        V9  ...       V21       V22       V23  \\\n",
              "64454   2.102135 -2.939006  2.578654  ...  0.530978 -0.860677 -0.201810   \n",
              "37906   0.472790 -0.972440  0.033833  ...  0.687055 -0.094586  0.121531   \n",
              "79378  -0.206073 -0.016918  0.781531  ... -0.310405 -0.842028  0.085477   \n",
              "245686 -0.034071  0.234040  0.550616  ...  0.519029  1.429217 -0.139322   \n",
              "60943  -1.430571 -0.118450  0.469383  ... -0.228329 -0.370643 -0.211544   \n",
              "\n",
              "             V24       V25       V26       V27       V28  Amount  Class  \n",
              "64454  -1.719747  0.729143 -0.547993 -0.023636 -0.454966    1.00      0  \n",
              "37906   0.146830 -0.944092 -0.558564 -0.186814 -0.257103   18.49      0  \n",
              "79378   0.366005  0.254443  0.290002 -0.036764  0.015039   23.74      0  \n",
              "245686 -1.293663  0.037785  0.061206  0.005387 -0.057296  156.52      0  \n",
              "60943  -0.300837 -1.174590  0.573818  0.388023  0.161782   57.50      0  \n",
              "\n",
              "[5 rows x 31 columns]"
            ],
            "text/html": [
              "\n",
              "  <div id=\"df-95ac923e-8e66-4cde-b66f-eba3edbdb09b\">\n",
              "    <div class=\"colab-df-container\">\n",
              "      <div>\n",
              "<style scoped>\n",
              "    .dataframe tbody tr th:only-of-type {\n",
              "        vertical-align: middle;\n",
              "    }\n",
              "\n",
              "    .dataframe tbody tr th {\n",
              "        vertical-align: top;\n",
              "    }\n",
              "\n",
              "    .dataframe thead th {\n",
              "        text-align: right;\n",
              "    }\n",
              "</style>\n",
              "<table border=\"1\" class=\"dataframe\">\n",
              "  <thead>\n",
              "    <tr style=\"text-align: right;\">\n",
              "      <th></th>\n",
              "      <th>Time</th>\n",
              "      <th>V1</th>\n",
              "      <th>V2</th>\n",
              "      <th>V3</th>\n",
              "      <th>V4</th>\n",
              "      <th>V5</th>\n",
              "      <th>V6</th>\n",
              "      <th>V7</th>\n",
              "      <th>V8</th>\n",
              "      <th>V9</th>\n",
              "      <th>...</th>\n",
              "      <th>V21</th>\n",
              "      <th>V22</th>\n",
              "      <th>V23</th>\n",
              "      <th>V24</th>\n",
              "      <th>V25</th>\n",
              "      <th>V26</th>\n",
              "      <th>V27</th>\n",
              "      <th>V28</th>\n",
              "      <th>Amount</th>\n",
              "      <th>Class</th>\n",
              "    </tr>\n",
              "  </thead>\n",
              "  <tbody>\n",
              "    <tr>\n",
              "      <th>64454</th>\n",
              "      <td>51150.0</td>\n",
              "      <td>-3.538816</td>\n",
              "      <td>3.481893</td>\n",
              "      <td>-1.827130</td>\n",
              "      <td>-0.573050</td>\n",
              "      <td>2.644106</td>\n",
              "      <td>-0.340988</td>\n",
              "      <td>2.102135</td>\n",
              "      <td>-2.939006</td>\n",
              "      <td>2.578654</td>\n",
              "      <td>...</td>\n",
              "      <td>0.530978</td>\n",
              "      <td>-0.860677</td>\n",
              "      <td>-0.201810</td>\n",
              "      <td>-1.719747</td>\n",
              "      <td>0.729143</td>\n",
              "      <td>-0.547993</td>\n",
              "      <td>-0.023636</td>\n",
              "      <td>-0.454966</td>\n",
              "      <td>1.00</td>\n",
              "      <td>0</td>\n",
              "    </tr>\n",
              "    <tr>\n",
              "      <th>37906</th>\n",
              "      <td>39163.0</td>\n",
              "      <td>-0.363913</td>\n",
              "      <td>0.853399</td>\n",
              "      <td>1.648195</td>\n",
              "      <td>1.118934</td>\n",
              "      <td>0.100882</td>\n",
              "      <td>0.423852</td>\n",
              "      <td>0.472790</td>\n",
              "      <td>-0.972440</td>\n",
              "      <td>0.033833</td>\n",
              "      <td>...</td>\n",
              "      <td>0.687055</td>\n",
              "      <td>-0.094586</td>\n",
              "      <td>0.121531</td>\n",
              "      <td>0.146830</td>\n",
              "      <td>-0.944092</td>\n",
              "      <td>-0.558564</td>\n",
              "      <td>-0.186814</td>\n",
              "      <td>-0.257103</td>\n",
              "      <td>18.49</td>\n",
              "      <td>0</td>\n",
              "    </tr>\n",
              "    <tr>\n",
              "      <th>79378</th>\n",
              "      <td>57994.0</td>\n",
              "      <td>1.193021</td>\n",
              "      <td>-0.136714</td>\n",
              "      <td>0.622612</td>\n",
              "      <td>0.780864</td>\n",
              "      <td>-0.823511</td>\n",
              "      <td>-0.706444</td>\n",
              "      <td>-0.206073</td>\n",
              "      <td>-0.016918</td>\n",
              "      <td>0.781531</td>\n",
              "      <td>...</td>\n",
              "      <td>-0.310405</td>\n",
              "      <td>-0.842028</td>\n",
              "      <td>0.085477</td>\n",
              "      <td>0.366005</td>\n",
              "      <td>0.254443</td>\n",
              "      <td>0.290002</td>\n",
              "      <td>-0.036764</td>\n",
              "      <td>0.015039</td>\n",
              "      <td>23.74</td>\n",
              "      <td>0</td>\n",
              "    </tr>\n",
              "    <tr>\n",
              "      <th>245686</th>\n",
              "      <td>152859.0</td>\n",
              "      <td>1.604032</td>\n",
              "      <td>-0.808208</td>\n",
              "      <td>-1.594982</td>\n",
              "      <td>0.200475</td>\n",
              "      <td>0.502985</td>\n",
              "      <td>0.832370</td>\n",
              "      <td>-0.034071</td>\n",
              "      <td>0.234040</td>\n",
              "      <td>0.550616</td>\n",
              "      <td>...</td>\n",
              "      <td>0.519029</td>\n",
              "      <td>1.429217</td>\n",
              "      <td>-0.139322</td>\n",
              "      <td>-1.293663</td>\n",
              "      <td>0.037785</td>\n",
              "      <td>0.061206</td>\n",
              "      <td>0.005387</td>\n",
              "      <td>-0.057296</td>\n",
              "      <td>156.52</td>\n",
              "      <td>0</td>\n",
              "    </tr>\n",
              "    <tr>\n",
              "      <th>60943</th>\n",
              "      <td>49575.0</td>\n",
              "      <td>-2.669614</td>\n",
              "      <td>-2.734385</td>\n",
              "      <td>0.662450</td>\n",
              "      <td>-0.059077</td>\n",
              "      <td>3.346850</td>\n",
              "      <td>-2.549682</td>\n",
              "      <td>-1.430571</td>\n",
              "      <td>-0.118450</td>\n",
              "      <td>0.469383</td>\n",
              "      <td>...</td>\n",
              "      <td>-0.228329</td>\n",
              "      <td>-0.370643</td>\n",
              "      <td>-0.211544</td>\n",
              "      <td>-0.300837</td>\n",
              "      <td>-1.174590</td>\n",
              "      <td>0.573818</td>\n",
              "      <td>0.388023</td>\n",
              "      <td>0.161782</td>\n",
              "      <td>57.50</td>\n",
              "      <td>0</td>\n",
              "    </tr>\n",
              "  </tbody>\n",
              "</table>\n",
              "<p>5 rows × 31 columns</p>\n",
              "</div>\n",
              "      <button class=\"colab-df-convert\" onclick=\"convertToInteractive('df-95ac923e-8e66-4cde-b66f-eba3edbdb09b')\"\n",
              "              title=\"Convert this dataframe to an interactive table.\"\n",
              "              style=\"display:none;\">\n",
              "        \n",
              "  <svg xmlns=\"http://www.w3.org/2000/svg\" height=\"24px\"viewBox=\"0 0 24 24\"\n",
              "       width=\"24px\">\n",
              "    <path d=\"M0 0h24v24H0V0z\" fill=\"none\"/>\n",
              "    <path d=\"M18.56 5.44l.94 2.06.94-2.06 2.06-.94-2.06-.94-.94-2.06-.94 2.06-2.06.94zm-11 1L8.5 8.5l.94-2.06 2.06-.94-2.06-.94L8.5 2.5l-.94 2.06-2.06.94zm10 10l.94 2.06.94-2.06 2.06-.94-2.06-.94-.94-2.06-.94 2.06-2.06.94z\"/><path d=\"M17.41 7.96l-1.37-1.37c-.4-.4-.92-.59-1.43-.59-.52 0-1.04.2-1.43.59L10.3 9.45l-7.72 7.72c-.78.78-.78 2.05 0 2.83L4 21.41c.39.39.9.59 1.41.59.51 0 1.02-.2 1.41-.59l7.78-7.78 2.81-2.81c.8-.78.8-2.07 0-2.86zM5.41 20L4 18.59l7.72-7.72 1.47 1.35L5.41 20z\"/>\n",
              "  </svg>\n",
              "      </button>\n",
              "      \n",
              "  <style>\n",
              "    .colab-df-container {\n",
              "      display:flex;\n",
              "      flex-wrap:wrap;\n",
              "      gap: 12px;\n",
              "    }\n",
              "\n",
              "    .colab-df-convert {\n",
              "      background-color: #E8F0FE;\n",
              "      border: none;\n",
              "      border-radius: 50%;\n",
              "      cursor: pointer;\n",
              "      display: none;\n",
              "      fill: #1967D2;\n",
              "      height: 32px;\n",
              "      padding: 0 0 0 0;\n",
              "      width: 32px;\n",
              "    }\n",
              "\n",
              "    .colab-df-convert:hover {\n",
              "      background-color: #E2EBFA;\n",
              "      box-shadow: 0px 1px 2px rgba(60, 64, 67, 0.3), 0px 1px 3px 1px rgba(60, 64, 67, 0.15);\n",
              "      fill: #174EA6;\n",
              "    }\n",
              "\n",
              "    [theme=dark] .colab-df-convert {\n",
              "      background-color: #3B4455;\n",
              "      fill: #D2E3FC;\n",
              "    }\n",
              "\n",
              "    [theme=dark] .colab-df-convert:hover {\n",
              "      background-color: #434B5C;\n",
              "      box-shadow: 0px 1px 3px 1px rgba(0, 0, 0, 0.15);\n",
              "      filter: drop-shadow(0px 1px 2px rgba(0, 0, 0, 0.3));\n",
              "      fill: #FFFFFF;\n",
              "    }\n",
              "  </style>\n",
              "\n",
              "      <script>\n",
              "        const buttonEl =\n",
              "          document.querySelector('#df-95ac923e-8e66-4cde-b66f-eba3edbdb09b button.colab-df-convert');\n",
              "        buttonEl.style.display =\n",
              "          google.colab.kernel.accessAllowed ? 'block' : 'none';\n",
              "\n",
              "        async function convertToInteractive(key) {\n",
              "          const element = document.querySelector('#df-95ac923e-8e66-4cde-b66f-eba3edbdb09b');\n",
              "          const dataTable =\n",
              "            await google.colab.kernel.invokeFunction('convertToInteractive',\n",
              "                                                     [key], {});\n",
              "          if (!dataTable) return;\n",
              "\n",
              "          const docLinkHtml = 'Like what you see? Visit the ' +\n",
              "            '<a target=\"_blank\" href=https://colab.research.google.com/notebooks/data_table.ipynb>data table notebook</a>'\n",
              "            + ' to learn more about interactive tables.';\n",
              "          element.innerHTML = '';\n",
              "          dataTable['output_type'] = 'display_data';\n",
              "          await google.colab.output.renderOutput(dataTable, element);\n",
              "          const docLink = document.createElement('div');\n",
              "          docLink.innerHTML = docLinkHtml;\n",
              "          element.appendChild(docLink);\n",
              "        }\n",
              "      </script>\n",
              "    </div>\n",
              "  </div>\n",
              "  "
            ]
          },
          "metadata": {},
          "execution_count": 6
        }
      ],
      "source": [
        "cc_df = df3\n",
        "train_df, test_df = train_test_split(cc_df, test_size=0.3, random_state=111)\n",
        "train_df.head()"
      ]
    },
    {
      "cell_type": "code",
      "execution_count": null,
      "metadata": {
        "colab": {
          "base_uri": "https://localhost:8080/"
        },
        "id": "9ftpxGWvT3KE",
        "outputId": "b7a6bfe1-6dd3-420c-b140-45517642da51"
      },
      "outputs": [
        {
          "output_type": "execute_result",
          "data": {
            "text/plain": [
              "(199364, 31)"
            ]
          },
          "metadata": {},
          "execution_count": 7
        }
      ],
      "source": [
        "train_df.shape"
      ]
    },
    {
      "cell_type": "markdown",
      "metadata": {
        "id": "z1K499yhT3KE"
      },
      "source": [
        "- Good size dataset \n",
        "- For confidentially reasons, it only provides transformed features with PCA, which is a popular dimensionality reduction technique. "
      ]
    },
    {
      "cell_type": "markdown",
      "metadata": {
        "id": "wGvqZiszT3KF"
      },
      "source": [
        "### EDA"
      ]
    },
    {
      "cell_type": "code",
      "execution_count": null,
      "metadata": {
        "colab": {
          "base_uri": "https://localhost:8080/"
        },
        "id": "ZNkNzwEZT3KF",
        "outputId": "7c0cf7ce-f310-4841-9a5f-51398fb68864"
      },
      "outputs": [
        {
          "output_type": "stream",
          "name": "stdout",
          "text": [
            "<class 'pandas.core.frame.DataFrame'>\n",
            "Int64Index: 199364 entries, 64454 to 129900\n",
            "Data columns (total 31 columns):\n",
            " #   Column  Non-Null Count   Dtype  \n",
            "---  ------  --------------   -----  \n",
            " 0   Time    199364 non-null  float64\n",
            " 1   V1      199364 non-null  float64\n",
            " 2   V2      199364 non-null  float64\n",
            " 3   V3      199364 non-null  float64\n",
            " 4   V4      199364 non-null  float64\n",
            " 5   V5      199364 non-null  float64\n",
            " 6   V6      199364 non-null  float64\n",
            " 7   V7      199364 non-null  float64\n",
            " 8   V8      199364 non-null  float64\n",
            " 9   V9      199364 non-null  float64\n",
            " 10  V10     199364 non-null  float64\n",
            " 11  V11     199364 non-null  float64\n",
            " 12  V12     199364 non-null  float64\n",
            " 13  V13     199364 non-null  float64\n",
            " 14  V14     199364 non-null  float64\n",
            " 15  V15     199364 non-null  float64\n",
            " 16  V16     199364 non-null  float64\n",
            " 17  V17     199364 non-null  float64\n",
            " 18  V18     199364 non-null  float64\n",
            " 19  V19     199364 non-null  float64\n",
            " 20  V20     199364 non-null  float64\n",
            " 21  V21     199364 non-null  float64\n",
            " 22  V22     199364 non-null  float64\n",
            " 23  V23     199364 non-null  float64\n",
            " 24  V24     199364 non-null  float64\n",
            " 25  V25     199364 non-null  float64\n",
            " 26  V26     199364 non-null  float64\n",
            " 27  V27     199364 non-null  float64\n",
            " 28  V28     199364 non-null  float64\n",
            " 29  Amount  199364 non-null  float64\n",
            " 30  Class   199364 non-null  int64  \n",
            "dtypes: float64(30), int64(1)\n",
            "memory usage: 48.7 MB\n"
          ]
        }
      ],
      "source": [
        "train_df.info()"
      ]
    },
    {
      "cell_type": "code",
      "execution_count": null,
      "metadata": {
        "colab": {
          "base_uri": "https://localhost:8080/",
          "height": 393
        },
        "id": "NX0paIE6T3KF",
        "outputId": "65a10159-6456-4229-c5c7-4ff722f50bbe"
      },
      "outputs": [
        {
          "output_type": "execute_result",
          "data": {
            "text/plain": [
              "                Time             V1             V2             V3  \\\n",
              "count  199364.000000  199364.000000  199364.000000  199364.000000   \n",
              "mean    94888.815669       0.000492      -0.000726       0.000927   \n",
              "std     47491.435489       1.959870       1.645519       1.505335   \n",
              "min         0.000000     -56.407510     -72.715728     -31.813586   \n",
              "25%     54240.000000      -0.918124      -0.600193      -0.892476   \n",
              "50%     84772.500000       0.018854       0.065463       0.179080   \n",
              "75%    139349.250000       1.315630       0.803617       1.028023   \n",
              "max    172792.000000       2.451888      22.057729       9.382558   \n",
              "\n",
              "                  V4             V5             V6             V7  \\\n",
              "count  199364.000000  199364.000000  199364.000000  199364.000000   \n",
              "mean        0.000630       0.000036       0.000011      -0.001286   \n",
              "std         1.413958       1.361718       1.327188       1.210001   \n",
              "min        -5.683171     -42.147898     -26.160506     -43.557242   \n",
              "25%        -0.847178      -0.691241      -0.768512      -0.553979   \n",
              "50%        -0.019531      -0.056703      -0.275290       0.040497   \n",
              "75%         0.744201       0.610407       0.399827       0.570449   \n",
              "max        16.491217      34.801666      23.917837      44.054461   \n",
              "\n",
              "                  V8             V9  ...            V21            V22  \\\n",
              "count  199364.000000  199364.000000  ...  199364.000000  199364.000000   \n",
              "mean       -0.002889      -0.000891  ...       0.001205       0.000155   \n",
              "std         1.214852       1.096927  ...       0.748510       0.726634   \n",
              "min       -73.216718     -13.320155  ...     -34.830382      -8.887017   \n",
              "25%        -0.209746      -0.642965  ...      -0.227836      -0.541795   \n",
              "50%         0.022039      -0.052607  ...      -0.029146       0.007666   \n",
              "75%         0.327408       0.597326  ...       0.186899       0.529210   \n",
              "max        19.587773      15.594995  ...      27.202839      10.503090   \n",
              "\n",
              "                 V23            V24            V25            V26  \\\n",
              "count  199364.000000  199364.000000  199364.000000  199364.000000   \n",
              "mean       -0.000198       0.000113       0.000235       0.000312   \n",
              "std         0.628139       0.605060       0.520857       0.481960   \n",
              "min       -44.807735      -2.824849     -10.295397      -2.241620   \n",
              "25%        -0.162330      -0.354604      -0.317761      -0.326730   \n",
              "50%        -0.011678       0.041031       0.016587      -0.052790   \n",
              "75%         0.146809       0.439209       0.351366       0.242169   \n",
              "max        22.083545       4.022866       6.070850       3.517346   \n",
              "\n",
              "                 V27            V28         Amount          Class  \n",
              "count  199364.000000  199364.000000  199364.000000  199364.000000  \n",
              "mean       -0.000366       0.000227      88.164679       0.001700  \n",
              "std         0.401541       0.333139     238.925768       0.041201  \n",
              "min       -22.565679     -11.710896       0.000000       0.000000  \n",
              "25%        -0.070929      -0.052819       5.640000       0.000000  \n",
              "50%         0.001239       0.011234      22.000000       0.000000  \n",
              "75%         0.090453       0.078052      77.150000       0.000000  \n",
              "max        12.152401      33.847808   11898.090000       1.000000  \n",
              "\n",
              "[8 rows x 31 columns]"
            ],
            "text/html": [
              "\n",
              "  <div id=\"df-82fd16cc-af7a-43fc-b85f-afbb3fa7510d\">\n",
              "    <div class=\"colab-df-container\">\n",
              "      <div>\n",
              "<style scoped>\n",
              "    .dataframe tbody tr th:only-of-type {\n",
              "        vertical-align: middle;\n",
              "    }\n",
              "\n",
              "    .dataframe tbody tr th {\n",
              "        vertical-align: top;\n",
              "    }\n",
              "\n",
              "    .dataframe thead th {\n",
              "        text-align: right;\n",
              "    }\n",
              "</style>\n",
              "<table border=\"1\" class=\"dataframe\">\n",
              "  <thead>\n",
              "    <tr style=\"text-align: right;\">\n",
              "      <th></th>\n",
              "      <th>Time</th>\n",
              "      <th>V1</th>\n",
              "      <th>V2</th>\n",
              "      <th>V3</th>\n",
              "      <th>V4</th>\n",
              "      <th>V5</th>\n",
              "      <th>V6</th>\n",
              "      <th>V7</th>\n",
              "      <th>V8</th>\n",
              "      <th>V9</th>\n",
              "      <th>...</th>\n",
              "      <th>V21</th>\n",
              "      <th>V22</th>\n",
              "      <th>V23</th>\n",
              "      <th>V24</th>\n",
              "      <th>V25</th>\n",
              "      <th>V26</th>\n",
              "      <th>V27</th>\n",
              "      <th>V28</th>\n",
              "      <th>Amount</th>\n",
              "      <th>Class</th>\n",
              "    </tr>\n",
              "  </thead>\n",
              "  <tbody>\n",
              "    <tr>\n",
              "      <th>count</th>\n",
              "      <td>199364.000000</td>\n",
              "      <td>199364.000000</td>\n",
              "      <td>199364.000000</td>\n",
              "      <td>199364.000000</td>\n",
              "      <td>199364.000000</td>\n",
              "      <td>199364.000000</td>\n",
              "      <td>199364.000000</td>\n",
              "      <td>199364.000000</td>\n",
              "      <td>199364.000000</td>\n",
              "      <td>199364.000000</td>\n",
              "      <td>...</td>\n",
              "      <td>199364.000000</td>\n",
              "      <td>199364.000000</td>\n",
              "      <td>199364.000000</td>\n",
              "      <td>199364.000000</td>\n",
              "      <td>199364.000000</td>\n",
              "      <td>199364.000000</td>\n",
              "      <td>199364.000000</td>\n",
              "      <td>199364.000000</td>\n",
              "      <td>199364.000000</td>\n",
              "      <td>199364.000000</td>\n",
              "    </tr>\n",
              "    <tr>\n",
              "      <th>mean</th>\n",
              "      <td>94888.815669</td>\n",
              "      <td>0.000492</td>\n",
              "      <td>-0.000726</td>\n",
              "      <td>0.000927</td>\n",
              "      <td>0.000630</td>\n",
              "      <td>0.000036</td>\n",
              "      <td>0.000011</td>\n",
              "      <td>-0.001286</td>\n",
              "      <td>-0.002889</td>\n",
              "      <td>-0.000891</td>\n",
              "      <td>...</td>\n",
              "      <td>0.001205</td>\n",
              "      <td>0.000155</td>\n",
              "      <td>-0.000198</td>\n",
              "      <td>0.000113</td>\n",
              "      <td>0.000235</td>\n",
              "      <td>0.000312</td>\n",
              "      <td>-0.000366</td>\n",
              "      <td>0.000227</td>\n",
              "      <td>88.164679</td>\n",
              "      <td>0.001700</td>\n",
              "    </tr>\n",
              "    <tr>\n",
              "      <th>std</th>\n",
              "      <td>47491.435489</td>\n",
              "      <td>1.959870</td>\n",
              "      <td>1.645519</td>\n",
              "      <td>1.505335</td>\n",
              "      <td>1.413958</td>\n",
              "      <td>1.361718</td>\n",
              "      <td>1.327188</td>\n",
              "      <td>1.210001</td>\n",
              "      <td>1.214852</td>\n",
              "      <td>1.096927</td>\n",
              "      <td>...</td>\n",
              "      <td>0.748510</td>\n",
              "      <td>0.726634</td>\n",
              "      <td>0.628139</td>\n",
              "      <td>0.605060</td>\n",
              "      <td>0.520857</td>\n",
              "      <td>0.481960</td>\n",
              "      <td>0.401541</td>\n",
              "      <td>0.333139</td>\n",
              "      <td>238.925768</td>\n",
              "      <td>0.041201</td>\n",
              "    </tr>\n",
              "    <tr>\n",
              "      <th>min</th>\n",
              "      <td>0.000000</td>\n",
              "      <td>-56.407510</td>\n",
              "      <td>-72.715728</td>\n",
              "      <td>-31.813586</td>\n",
              "      <td>-5.683171</td>\n",
              "      <td>-42.147898</td>\n",
              "      <td>-26.160506</td>\n",
              "      <td>-43.557242</td>\n",
              "      <td>-73.216718</td>\n",
              "      <td>-13.320155</td>\n",
              "      <td>...</td>\n",
              "      <td>-34.830382</td>\n",
              "      <td>-8.887017</td>\n",
              "      <td>-44.807735</td>\n",
              "      <td>-2.824849</td>\n",
              "      <td>-10.295397</td>\n",
              "      <td>-2.241620</td>\n",
              "      <td>-22.565679</td>\n",
              "      <td>-11.710896</td>\n",
              "      <td>0.000000</td>\n",
              "      <td>0.000000</td>\n",
              "    </tr>\n",
              "    <tr>\n",
              "      <th>25%</th>\n",
              "      <td>54240.000000</td>\n",
              "      <td>-0.918124</td>\n",
              "      <td>-0.600193</td>\n",
              "      <td>-0.892476</td>\n",
              "      <td>-0.847178</td>\n",
              "      <td>-0.691241</td>\n",
              "      <td>-0.768512</td>\n",
              "      <td>-0.553979</td>\n",
              "      <td>-0.209746</td>\n",
              "      <td>-0.642965</td>\n",
              "      <td>...</td>\n",
              "      <td>-0.227836</td>\n",
              "      <td>-0.541795</td>\n",
              "      <td>-0.162330</td>\n",
              "      <td>-0.354604</td>\n",
              "      <td>-0.317761</td>\n",
              "      <td>-0.326730</td>\n",
              "      <td>-0.070929</td>\n",
              "      <td>-0.052819</td>\n",
              "      <td>5.640000</td>\n",
              "      <td>0.000000</td>\n",
              "    </tr>\n",
              "    <tr>\n",
              "      <th>50%</th>\n",
              "      <td>84772.500000</td>\n",
              "      <td>0.018854</td>\n",
              "      <td>0.065463</td>\n",
              "      <td>0.179080</td>\n",
              "      <td>-0.019531</td>\n",
              "      <td>-0.056703</td>\n",
              "      <td>-0.275290</td>\n",
              "      <td>0.040497</td>\n",
              "      <td>0.022039</td>\n",
              "      <td>-0.052607</td>\n",
              "      <td>...</td>\n",
              "      <td>-0.029146</td>\n",
              "      <td>0.007666</td>\n",
              "      <td>-0.011678</td>\n",
              "      <td>0.041031</td>\n",
              "      <td>0.016587</td>\n",
              "      <td>-0.052790</td>\n",
              "      <td>0.001239</td>\n",
              "      <td>0.011234</td>\n",
              "      <td>22.000000</td>\n",
              "      <td>0.000000</td>\n",
              "    </tr>\n",
              "    <tr>\n",
              "      <th>75%</th>\n",
              "      <td>139349.250000</td>\n",
              "      <td>1.315630</td>\n",
              "      <td>0.803617</td>\n",
              "      <td>1.028023</td>\n",
              "      <td>0.744201</td>\n",
              "      <td>0.610407</td>\n",
              "      <td>0.399827</td>\n",
              "      <td>0.570449</td>\n",
              "      <td>0.327408</td>\n",
              "      <td>0.597326</td>\n",
              "      <td>...</td>\n",
              "      <td>0.186899</td>\n",
              "      <td>0.529210</td>\n",
              "      <td>0.146809</td>\n",
              "      <td>0.439209</td>\n",
              "      <td>0.351366</td>\n",
              "      <td>0.242169</td>\n",
              "      <td>0.090453</td>\n",
              "      <td>0.078052</td>\n",
              "      <td>77.150000</td>\n",
              "      <td>0.000000</td>\n",
              "    </tr>\n",
              "    <tr>\n",
              "      <th>max</th>\n",
              "      <td>172792.000000</td>\n",
              "      <td>2.451888</td>\n",
              "      <td>22.057729</td>\n",
              "      <td>9.382558</td>\n",
              "      <td>16.491217</td>\n",
              "      <td>34.801666</td>\n",
              "      <td>23.917837</td>\n",
              "      <td>44.054461</td>\n",
              "      <td>19.587773</td>\n",
              "      <td>15.594995</td>\n",
              "      <td>...</td>\n",
              "      <td>27.202839</td>\n",
              "      <td>10.503090</td>\n",
              "      <td>22.083545</td>\n",
              "      <td>4.022866</td>\n",
              "      <td>6.070850</td>\n",
              "      <td>3.517346</td>\n",
              "      <td>12.152401</td>\n",
              "      <td>33.847808</td>\n",
              "      <td>11898.090000</td>\n",
              "      <td>1.000000</td>\n",
              "    </tr>\n",
              "  </tbody>\n",
              "</table>\n",
              "<p>8 rows × 31 columns</p>\n",
              "</div>\n",
              "      <button class=\"colab-df-convert\" onclick=\"convertToInteractive('df-82fd16cc-af7a-43fc-b85f-afbb3fa7510d')\"\n",
              "              title=\"Convert this dataframe to an interactive table.\"\n",
              "              style=\"display:none;\">\n",
              "        \n",
              "  <svg xmlns=\"http://www.w3.org/2000/svg\" height=\"24px\"viewBox=\"0 0 24 24\"\n",
              "       width=\"24px\">\n",
              "    <path d=\"M0 0h24v24H0V0z\" fill=\"none\"/>\n",
              "    <path d=\"M18.56 5.44l.94 2.06.94-2.06 2.06-.94-2.06-.94-.94-2.06-.94 2.06-2.06.94zm-11 1L8.5 8.5l.94-2.06 2.06-.94-2.06-.94L8.5 2.5l-.94 2.06-2.06.94zm10 10l.94 2.06.94-2.06 2.06-.94-2.06-.94-.94-2.06-.94 2.06-2.06.94z\"/><path d=\"M17.41 7.96l-1.37-1.37c-.4-.4-.92-.59-1.43-.59-.52 0-1.04.2-1.43.59L10.3 9.45l-7.72 7.72c-.78.78-.78 2.05 0 2.83L4 21.41c.39.39.9.59 1.41.59.51 0 1.02-.2 1.41-.59l7.78-7.78 2.81-2.81c.8-.78.8-2.07 0-2.86zM5.41 20L4 18.59l7.72-7.72 1.47 1.35L5.41 20z\"/>\n",
              "  </svg>\n",
              "      </button>\n",
              "      \n",
              "  <style>\n",
              "    .colab-df-container {\n",
              "      display:flex;\n",
              "      flex-wrap:wrap;\n",
              "      gap: 12px;\n",
              "    }\n",
              "\n",
              "    .colab-df-convert {\n",
              "      background-color: #E8F0FE;\n",
              "      border: none;\n",
              "      border-radius: 50%;\n",
              "      cursor: pointer;\n",
              "      display: none;\n",
              "      fill: #1967D2;\n",
              "      height: 32px;\n",
              "      padding: 0 0 0 0;\n",
              "      width: 32px;\n",
              "    }\n",
              "\n",
              "    .colab-df-convert:hover {\n",
              "      background-color: #E2EBFA;\n",
              "      box-shadow: 0px 1px 2px rgba(60, 64, 67, 0.3), 0px 1px 3px 1px rgba(60, 64, 67, 0.15);\n",
              "      fill: #174EA6;\n",
              "    }\n",
              "\n",
              "    [theme=dark] .colab-df-convert {\n",
              "      background-color: #3B4455;\n",
              "      fill: #D2E3FC;\n",
              "    }\n",
              "\n",
              "    [theme=dark] .colab-df-convert:hover {\n",
              "      background-color: #434B5C;\n",
              "      box-shadow: 0px 1px 3px 1px rgba(0, 0, 0, 0.15);\n",
              "      filter: drop-shadow(0px 1px 2px rgba(0, 0, 0, 0.3));\n",
              "      fill: #FFFFFF;\n",
              "    }\n",
              "  </style>\n",
              "\n",
              "      <script>\n",
              "        const buttonEl =\n",
              "          document.querySelector('#df-82fd16cc-af7a-43fc-b85f-afbb3fa7510d button.colab-df-convert');\n",
              "        buttonEl.style.display =\n",
              "          google.colab.kernel.accessAllowed ? 'block' : 'none';\n",
              "\n",
              "        async function convertToInteractive(key) {\n",
              "          const element = document.querySelector('#df-82fd16cc-af7a-43fc-b85f-afbb3fa7510d');\n",
              "          const dataTable =\n",
              "            await google.colab.kernel.invokeFunction('convertToInteractive',\n",
              "                                                     [key], {});\n",
              "          if (!dataTable) return;\n",
              "\n",
              "          const docLinkHtml = 'Like what you see? Visit the ' +\n",
              "            '<a target=\"_blank\" href=https://colab.research.google.com/notebooks/data_table.ipynb>data table notebook</a>'\n",
              "            + ' to learn more about interactive tables.';\n",
              "          element.innerHTML = '';\n",
              "          dataTable['output_type'] = 'display_data';\n",
              "          await google.colab.output.renderOutput(dataTable, element);\n",
              "          const docLink = document.createElement('div');\n",
              "          docLink.innerHTML = docLinkHtml;\n",
              "          element.appendChild(docLink);\n",
              "        }\n",
              "      </script>\n",
              "    </div>\n",
              "  </div>\n",
              "  "
            ]
          },
          "metadata": {},
          "execution_count": 9
        }
      ],
      "source": [
        "train_df.describe(include=\"all\")"
      ]
    },
    {
      "cell_type": "markdown",
      "metadata": {
        "id": "moEGdbRUT3KG"
      },
      "source": [
        "- We do not have categorical features. All features are numeric. \n",
        "- We have to be careful about the `Time` and `Amount` features. \n",
        "- We could scale `Amount`. \n",
        "- Do we want to scale time?\n",
        "    - In this lecture, we'll just drop the Time feature. \n",
        "    - We'll learn about time series briefly later in the course. "
      ]
    },
    {
      "cell_type": "markdown",
      "metadata": {
        "id": "qFR0mbXUT3KG"
      },
      "source": [
        "Let's separate `X` and `y` for train and test splits."
      ]
    },
    {
      "cell_type": "code",
      "execution_count": null,
      "metadata": {
        "id": "ce5AhQZZT3KG"
      },
      "outputs": [],
      "source": [
        "X_train_big, y_train_big = train_df.drop(columns=[\"Class\", \"Time\"]), train_df[\"Class\"]\n",
        "X_test, y_test = test_df.drop(columns=[\"Class\", \"Time\"]), test_df[\"Class\"]"
      ]
    },
    {
      "cell_type": "markdown",
      "metadata": {
        "id": "osSf_MiVT3KH"
      },
      "source": [
        "- It's easier to demonstrate evaluation metrics using an explicit validation set instead of using cross-validation. \n",
        "- So let's create a validation set. \n",
        "- Our data is large enough so it shouldn't be a problem. \n"
      ]
    },
    {
      "cell_type": "code",
      "execution_count": null,
      "metadata": {
        "id": "QVzmnC7MT3KH"
      },
      "outputs": [],
      "source": [
        "X_train, X_valid, y_train, y_valid = train_test_split(\n",
        "    X_train_big, y_train_big, test_size=0.3, random_state=123\n",
        ")"
      ]
    },
    {
      "cell_type": "markdown",
      "metadata": {
        "id": "kmE_OVDAT3KH"
      },
      "source": [
        "### Baseline"
      ]
    },
    {
      "cell_type": "code",
      "execution_count": null,
      "metadata": {
        "colab": {
          "base_uri": "https://localhost:8080/"
        },
        "id": "DQUSW5a2T3KH",
        "outputId": "72635d23-0a9f-4ab3-e010-82444e486bcb"
      },
      "outputs": [
        {
          "output_type": "execute_result",
          "data": {
            "text/plain": [
              "fit_time       0.036064\n",
              "score_time     0.004317\n",
              "test_score     0.998302\n",
              "train_score    0.998302\n",
              "dtype: float64"
            ]
          },
          "metadata": {},
          "execution_count": 12
        }
      ],
      "source": [
        "dummy = DummyClassifier()\n",
        "pd.DataFrame(cross_validate(dummy, X_train, y_train, return_train_score=True)).mean()"
      ]
    },
    {
      "cell_type": "markdown",
      "metadata": {
        "id": "zqgEZnovT3KI"
      },
      "source": [
        "### Observations \n",
        "\n",
        "- `DummyClassifier` is getting 0.998 cross-validation accuracy!! \n",
        "- Should we be happy with this accuracy and deploy this `DummyClassifier` model for fraud detection? "
      ]
    },
    {
      "cell_type": "markdown",
      "metadata": {
        "id": "l4oq4_75T3KI"
      },
      "source": [
        "What's the class distribution? "
      ]
    },
    {
      "cell_type": "code",
      "execution_count": null,
      "metadata": {
        "colab": {
          "base_uri": "https://localhost:8080/"
        },
        "id": "7p4awfDUT3KI",
        "outputId": "32d1a4be-6d6f-47fb-a965-bb0394cf0f1e"
      },
      "outputs": [
        {
          "output_type": "execute_result",
          "data": {
            "text/plain": [
              "0    0.9983\n",
              "1    0.0017\n",
              "Name: Class, dtype: float64"
            ]
          },
          "metadata": {},
          "execution_count": 13
        }
      ],
      "source": [
        "train_df[\"Class\"].value_counts(normalize=True)"
      ]
    },
    {
      "cell_type": "markdown",
      "metadata": {
        "id": "O_-V7LLPT3KJ"
      },
      "source": [
        "- We have class imbalance. \n",
        "- We have MANY non-fraud transactions and only a handful of fraud transactions. \n",
        "- So in the training set, `most_frequent` strategy is labeling 199,025 (99.83%) instances correctly and only 339 (0.17%) instances incorrectly. \n",
        "- Is this what we want? \n",
        "- The \"fraud\" class is the important class that we want to spot. "
      ]
    },
    {
      "cell_type": "markdown",
      "metadata": {
        "id": "9QORbFPcT3KJ"
      },
      "source": [
        "Let's scale the features and try `LogisticRegression`.   "
      ]
    },
    {
      "cell_type": "code",
      "execution_count": null,
      "metadata": {
        "colab": {
          "base_uri": "https://localhost:8080/"
        },
        "id": "7_e1mnAHT3KJ",
        "outputId": "25633bf0-65da-48dc-e42b-b544fe3877bf"
      },
      "outputs": [
        {
          "output_type": "execute_result",
          "data": {
            "text/plain": [
              "fit_time       3.599944\n",
              "score_time     0.044342\n",
              "test_score     0.999176\n",
              "train_score    0.999235\n",
              "dtype: float64"
            ]
          },
          "metadata": {},
          "execution_count": 14
        }
      ],
      "source": [
        "pipe = make_pipeline(StandardScaler(), LogisticRegression())\n",
        "pd.DataFrame(cross_validate(pipe, X_train, y_train, return_train_score=True)).mean()"
      ]
    },
    {
      "cell_type": "markdown",
      "metadata": {
        "id": "gOI_KYHBT3KJ"
      },
      "source": [
        "- We are getting a slightly better score with logistic regression.  \n",
        "- What score should be considered an acceptable score here? \n",
        "- Are we actually spotting any \"fraud\" transactions? "
      ]
    },
    {
      "cell_type": "markdown",
      "metadata": {
        "id": "xVTgsnKVT3KK"
      },
      "source": [
        "- `.score` by default returns accuracy which is \n",
        "$$\\frac{\\text{correct predictions}}{\\text{total examples}}$$\n",
        "- Is accuracy a good metric here? \n",
        "- Is there anything more informative than accuracy that we can use here? \n",
        "\n",
        "Let's dig a little deeper."
      ]
    },
    {
      "cell_type": "markdown",
      "metadata": {
        "id": "mJdv_UUyT3KK"
      },
      "source": [
        "<br><br><br><br>"
      ]
    },
    {
      "cell_type": "markdown",
      "metadata": {
        "id": "zUZX_xyaT3KK"
      },
      "source": [
        "## Confusion matrix"
      ]
    },
    {
      "cell_type": "markdown",
      "metadata": {
        "id": "nNEN5t9CT3KK"
      },
      "source": [
        "One way to get a better understanding of the errors is by looking at \n",
        "- false positives (type I errors), where the model incorrectly spots examples as fraud\n",
        "- false negatives (type II errors), where it's missing to spot fraud examples "
      ]
    },
    {
      "cell_type": "code",
      "execution_count": null,
      "metadata": {
        "colab": {
          "base_uri": "https://localhost:8080/",
          "height": 465
        },
        "id": "LdCafRwIT3KL",
        "outputId": "06b74948-e193-4c1f-a1c6-af3d4de26011"
      },
      "outputs": [
        {
          "output_type": "display_data",
          "data": {
            "text/plain": [
              "<Figure size 640x480 with 1 Axes>"
            ],
            "image/png": "[encoded data removed]"
          },
          "metadata": {}
        }
      ],
      "source": [
        "from sklearn.metrics import ConfusionMatrixDisplay\n",
        "\n",
        "pipe.fit(X_train, y_train)\n",
        "disp = ConfusionMatrixDisplay.from_estimator(\n",
        "    pipe,\n",
        "    X_valid,\n",
        "    y_valid,\n",
        "    display_labels=[\"Non fraud\", \"fraud\"],\n",
        "    values_format=\"d\",\n",
        "    cmap=plt.cm.Blues,\n",
        "    colorbar=False,\n",
        ");"
      ]
    },
    {
      "cell_type": "code",
      "execution_count": null,
      "metadata": {
        "colab": {
          "base_uri": "https://localhost:8080/",
          "height": 432
        },
        "id": "ENzoA5O7T3KL",
        "outputId": "d79579fb-8f8a-49e8-ba18-0e38d827b5eb"
      },
      "outputs": [
        {
          "output_type": "display_data",
          "data": {
            "text/plain": [
              "<Figure size 2000x600 with 2 Axes>"
            ],
            "image/png": "[encoded data removed]"
          },
          "metadata": {}
        }
      ],
      "source": [
        "from sklearn.metrics import confusion_matrix\n",
        "\n",
        "predictions = pipe.predict(X_valid)\n",
        "TN, FP, FN, TP = confusion_matrix(y_valid, predictions).ravel()\n",
        "plot_confusion_matrix_example(TN, FP, FN, TP)"
      ]
    },
    {
      "cell_type": "markdown",
      "metadata": {
        "id": "8422pdzqT3KL"
      },
      "source": [
        "- Perfect prediction has all values down the diagonal\n",
        "- Off diagonal entries can often tell us about what is being mis-predicted"
      ]
    },
    {
      "cell_type": "markdown",
      "metadata": {
        "id": "UgQ9KIqvT3KM"
      },
      "source": [
        "### What is \"positive\" and \"negative\"?\n",
        "\n",
        "- Two kinds of binary classification problems \n",
        "    - Distinguishing between two classes\n",
        "    - Spotting a class (spot fraud transaction, spot spam, spot disease)\n",
        "- In case of spotting problems, the thing that we are interested in spotting is considered \"positive\". \n",
        "- Above we wanted to spot fraudulent transactions and so they are \"positive\". "
      ]
    },
    {
      "cell_type": "markdown",
      "metadata": {
        "id": "gefLTFzTT3KM"
      },
      "source": [
        "You can get a numpy array of confusion matrix as follows: "
      ]
    },
    {
      "cell_type": "code",
      "execution_count": null,
      "metadata": {
        "colab": {
          "base_uri": "https://localhost:8080/"
        },
        "id": "Xrwj_P0nT3KM",
        "outputId": "5b41675b-741f-433f-8b0b-fc535ad8f126"
      },
      "outputs": [
        {
          "output_type": "stream",
          "name": "stdout",
          "text": [
            "Confusion matrix for fraud data set\n",
            "[[59700     8]\n",
            " [   38    64]]\n"
          ]
        }
      ],
      "source": [
        "from sklearn.metrics import confusion_matrix\n",
        "\n",
        "predictions = pipe.predict(X_valid)\n",
        "TN, FP, FN, TP = confusion_matrix(y_valid, predictions).ravel()\n",
        "print(\"Confusion matrix for fraud data set\")\n",
        "print(disp.confusion_matrix)"
      ]
    },
    {
      "cell_type": "markdown",
      "metadata": {
        "id": "52q3NYCDT3KM"
      },
      "source": [
        "### Confusion matrix with cross-validation "
      ]
    },
    {
      "cell_type": "markdown",
      "metadata": {
        "id": "-Fq-NWT5T3KN"
      },
      "source": [
        "- You can also calculate confusion matrix with cross-validation using the `cross_val_predict` method.  \n",
        "- But then you cannot conveniently use `plot_confusion_matrix`. "
      ]
    },
    {
      "cell_type": "code",
      "execution_count": null,
      "metadata": {
        "colab": {
          "base_uri": "https://localhost:8080/"
        },
        "id": "uKlTNYUDT3KN",
        "outputId": "782503f6-17b9-49e8-a81c-31d6d7b48129"
      },
      "outputs": [
        {
          "output_type": "execute_result",
          "data": {
            "text/plain": [
              "array([[139296,     21],\n",
              "       [    94,    143]])"
            ]
          },
          "metadata": {},
          "execution_count": 18
        }
      ],
      "source": [
        "from sklearn.model_selection import cross_val_predict\n",
        "\n",
        "confusion_matrix(y_train, cross_val_predict(pipe, X_train, y_train))"
      ]
    },
    {
      "cell_type": "markdown",
      "metadata": {
        "id": "clU9H4WwT3KN"
      },
      "source": [
        "<br><br><br><br>"
      ]
    },
    {
      "cell_type": "markdown",
      "metadata": {
        "id": "i-Bk0TOHT3KN"
      },
      "source": [
        "## Precision, recall, f1 score "
      ]
    },
    {
      "cell_type": "markdown",
      "metadata": {
        "id": "B62Hv4fIT3KO"
      },
      "source": [
        "- We have been using `.score` to assess our models, which returns accuracy by default. \n",
        "- Accuracy is misleading when we have class imbalance.\n",
        "- We need other metrics to assess our models."
      ]
    },
    {
      "cell_type": "markdown",
      "metadata": {
        "id": "0J_8nv5KT3KO"
      },
      "source": [
        "- We'll discuss three commonly used metrics which are based on confusion matrix: \n",
        "    - recall\n",
        "    - precision\n",
        "    - f1 score \n",
        "- Note that these metrics will only help us assessing our model.  \n",
        "- Later we'll talk about a few ways to address class imbalance problem. "
      ]
    },
    {
      "cell_type": "code",
      "execution_count": null,
      "metadata": {
        "colab": {
          "base_uri": "https://localhost:8080/"
        },
        "id": "c_cXnTYJT3KO",
        "outputId": "5b64c80b-5ec2-4fc7-d3e6-b21b7d275f28"
      },
      "outputs": [
        {
          "output_type": "stream",
          "name": "stdout",
          "text": [
            "[[59700     8]\n",
            " [   38    64]]\n"
          ]
        }
      ],
      "source": [
        "from sklearn.metrics import confusion_matrix\n",
        "\n",
        "pipe_lr = make_pipeline(StandardScaler(), LogisticRegression())\n",
        "pipe_lr.fit(X_train, y_train)\n",
        "predictions = pipe_lr.predict(X_valid)\n",
        "TN, FP, FN, TP = confusion_matrix(y_valid, predictions).ravel()\n",
        "print(disp.confusion_matrix)"
      ]
    },
    {
      "cell_type": "markdown",
      "metadata": {
        "id": "mxoRbVmNT3KO"
      },
      "source": [
        "### Recall \n",
        "\n",
        "Among all positive examples, how many did you identify?\n",
        "$$ recall = \\frac{TP}{TP+FN} = \\frac{TP}{\\#positives} $$"
      ]
    },
    {
      "cell_type": "code",
      "execution_count": null,
      "metadata": {
        "colab": {
          "base_uri": "https://localhost:8080/",
          "height": 465
        },
        "id": "0CHF4ypZT3KO",
        "outputId": "edd07c56-7435-4b0e-a4d7-69f8ae0888c1"
      },
      "outputs": [
        {
          "output_type": "display_data",
          "data": {
            "text/plain": [
              "<Figure size 640x480 with 2 Axes>"
            ],
            "image/png": "[encoded data removed]"
          },
          "metadata": {}
        }
      ],
      "source": [
        "ConfusionMatrixDisplay.from_estimator(\n",
        "    pipe,\n",
        "    X_valid,\n",
        "    y_valid,\n",
        "    display_labels=[\"Non fraud\", \"fraud\"],\n",
        "    values_format=\"d\",\n",
        "    cmap=plt.cm.Blues,\n",
        ");"
      ]
    },
    {
      "cell_type": "code",
      "execution_count": null,
      "metadata": {
        "colab": {
          "base_uri": "https://localhost:8080/"
        },
        "id": "jBkaTH_ST3KP",
        "outputId": "8d5e6a24-bb10-4c51-ce67-4c51bb7ece54"
      },
      "outputs": [
        {
          "output_type": "stream",
          "name": "stdout",
          "text": [
            "TP = 64.0000, FN = 38.0000\n",
            "Recall: 0.6275\n"
          ]
        }
      ],
      "source": [
        "print(\"TP = %0.4f, FN = %0.4f\" % (TP, FN))\n",
        "recall = TP / (TP + FN)\n",
        "print(\"Recall: %0.4f\" % (recall))"
      ]
    },
    {
      "cell_type": "markdown",
      "metadata": {
        "id": "Bb_C1nhpT3KP"
      },
      "source": [
        "### Precision \n",
        "\n",
        "Among the positive examples you identified, how many were actually positive?\n",
        "\n",
        "$$ precision = \\frac{TP}{TP+FP}$$"
      ]
    },
    {
      "cell_type": "code",
      "execution_count": null,
      "metadata": {
        "colab": {
          "base_uri": "https://localhost:8080/",
          "height": 465
        },
        "id": "TvIwh2FJT3KP",
        "outputId": "32211281-30f8-4b3c-8f1c-04fbc4bd572a"
      },
      "outputs": [
        {
          "output_type": "display_data",
          "data": {
            "text/plain": [
              "<Figure size 640x480 with 2 Axes>"
            ],
            "image/png": "[encoded data removed]"
          },
          "metadata": {}
        }
      ],
      "source": [
        "ConfusionMatrixDisplay.from_estimator(\n",
        "    pipe,\n",
        "    X_valid,\n",
        "    y_valid,\n",
        "    display_labels=[\"Non fraud\", \"fraud\"],\n",
        "    values_format=\"d\",\n",
        "    cmap=plt.cm.Blues,\n",
        ");"
      ]
    },
    {
      "cell_type": "code",
      "execution_count": null,
      "metadata": {
        "colab": {
          "base_uri": "https://localhost:8080/"
        },
        "id": "gvS0t2GPT3KQ",
        "outputId": "60e6d195-74e4-4224-dec4-e079c14fdfdb"
      },
      "outputs": [
        {
          "output_type": "stream",
          "name": "stdout",
          "text": [
            "TP = 64.0000, FP = 8.0000\n",
            "Precision: 0.8889\n"
          ]
        }
      ],
      "source": [
        "print(\"TP = %0.4f, FP = %0.4f\" % (TP, FP))\n",
        "precision = TP / (TP + FP)\n",
        "print(\"Precision: %0.4f\" % (precision))"
      ]
    },
    {
      "cell_type": "markdown",
      "metadata": {
        "id": "lS9rDFQUT3KQ"
      },
      "source": [
        "### F1-score\n",
        "\n",
        "- F1-score combines precision and recall to give one score, which could be used in hyperparameter optimization, for instance. \n",
        "- F1-score is a harmonic mean of precision and recall. \n",
        "\n",
        "\n",
        "$$ f1 = 2 \\times \\frac{ precision \\times recall}{precision + recall}$$\n"
      ]
    },
    {
      "cell_type": "code",
      "execution_count": null,
      "metadata": {
        "colab": {
          "base_uri": "https://localhost:8080/"
        },
        "id": "ttnDh5yvT3KQ",
        "outputId": "e48bd520-7521-40f2-e41e-f38a81a3209e"
      },
      "outputs": [
        {
          "output_type": "stream",
          "name": "stdout",
          "text": [
            "precision: 0.8889\n",
            "recall: 0.6275\n",
            "f1: 0.7356\n"
          ]
        }
      ],
      "source": [
        "print(\"precision: %0.4f\" % (precision))\n",
        "print(\"recall: %0.4f\" % (recall))\n",
        "f1_score = (2 * precision * recall) / (precision + recall)\n",
        "print(\"f1: %0.4f\" % (f1_score))"
      ]
    },
    {
      "cell_type": "markdown",
      "metadata": {
        "id": "23pOXTEDT3KQ"
      },
      "source": [
        "Let's look at all metrics at once on our dataset."
      ]
    },
    {
      "cell_type": "code",
      "execution_count": null,
      "metadata": {
        "colab": {
          "base_uri": "https://localhost:8080/",
          "height": 81
        },
        "id": "tRHTAU2RT3KR",
        "outputId": "7a694e25-d07f-46ad-d279-47392a8d3d14"
      },
      "outputs": [
        {
          "output_type": "execute_result",
          "data": {
            "text/plain": [
              "  calculation  accuracy     error  precision    recall  f1 score\n",
              "0      manual  0.999231  0.000769   0.888889  0.627451  0.735632"
            ],
            "text/html": [
              "\n",
              "  <div id=\"df-94e5b266-3101-40cb-ba44-b52fef586640\">\n",
              "    <div class=\"colab-df-container\">\n",
              "      <div>\n",
              "<style scoped>\n",
              "    .dataframe tbody tr th:only-of-type {\n",
              "        vertical-align: middle;\n",
              "    }\n",
              "\n",
              "    .dataframe tbody tr th {\n",
              "        vertical-align: top;\n",
              "    }\n",
              "\n",
              "    .dataframe thead th {\n",
              "        text-align: right;\n",
              "    }\n",
              "</style>\n",
              "<table border=\"1\" class=\"dataframe\">\n",
              "  <thead>\n",
              "    <tr style=\"text-align: right;\">\n",
              "      <th></th>\n",
              "      <th>calculation</th>\n",
              "      <th>accuracy</th>\n",
              "      <th>error</th>\n",
              "      <th>precision</th>\n",
              "      <th>recall</th>\n",
              "      <th>f1 score</th>\n",
              "    </tr>\n",
              "  </thead>\n",
              "  <tbody>\n",
              "    <tr>\n",
              "      <th>0</th>\n",
              "      <td>manual</td>\n",
              "      <td>0.999231</td>\n",
              "      <td>0.000769</td>\n",
              "      <td>0.888889</td>\n",
              "      <td>0.627451</td>\n",
              "      <td>0.735632</td>\n",
              "    </tr>\n",
              "  </tbody>\n",
              "</table>\n",
              "</div>\n",
              "      <button class=\"colab-df-convert\" onclick=\"convertToInteractive('df-94e5b266-3101-40cb-ba44-b52fef586640')\"\n",
              "              title=\"Convert this dataframe to an interactive table.\"\n",
              "              style=\"display:none;\">\n",
              "        \n",
              "  <svg xmlns=\"http://www.w3.org/2000/svg\" height=\"24px\"viewBox=\"0 0 24 24\"\n",
              "       width=\"24px\">\n",
              "    <path d=\"M0 0h24v24H0V0z\" fill=\"none\"/>\n",
              "    <path d=\"M18.56 5.44l.94 2.06.94-2.06 2.06-.94-2.06-.94-.94-2.06-.94 2.06-2.06.94zm-11 1L8.5 8.5l.94-2.06 2.06-.94-2.06-.94L8.5 2.5l-.94 2.06-2.06.94zm10 10l.94 2.06.94-2.06 2.06-.94-2.06-.94-.94-2.06-.94 2.06-2.06.94z\"/><path d=\"M17.41 7.96l-1.37-1.37c-.4-.4-.92-.59-1.43-.59-.52 0-1.04.2-1.43.59L10.3 9.45l-7.72 7.72c-.78.78-.78 2.05 0 2.83L4 21.41c.39.39.9.59 1.41.59.51 0 1.02-.2 1.41-.59l7.78-7.78 2.81-2.81c.8-.78.8-2.07 0-2.86zM5.41 20L4 18.59l7.72-7.72 1.47 1.35L5.41 20z\"/>\n",
              "  </svg>\n",
              "      </button>\n",
              "      \n",
              "  <style>\n",
              "    .colab-df-container {\n",
              "      display:flex;\n",
              "      flex-wrap:wrap;\n",
              "      gap: 12px;\n",
              "    }\n",
              "\n",
              "    .colab-df-convert {\n",
              "      background-color: #E8F0FE;\n",
              "      border: none;\n",
              "      border-radius: 50%;\n",
              "      cursor: pointer;\n",
              "      display: none;\n",
              "      fill: #1967D2;\n",
              "      height: 32px;\n",
              "      padding: 0 0 0 0;\n",
              "      width: 32px;\n",
              "    }\n",
              "\n",
              "    .colab-df-convert:hover {\n",
              "      background-color: #E2EBFA;\n",
              "      box-shadow: 0px 1px 2px rgba(60, 64, 67, 0.3), 0px 1px 3px 1px rgba(60, 64, 67, 0.15);\n",
              "      fill: #174EA6;\n",
              "    }\n",
              "\n",
              "    [theme=dark] .colab-df-convert {\n",
              "      background-color: #3B4455;\n",
              "      fill: #D2E3FC;\n",
              "    }\n",
              "\n",
              "    [theme=dark] .colab-df-convert:hover {\n",
              "      background-color: #434B5C;\n",
              "      box-shadow: 0px 1px 3px 1px rgba(0, 0, 0, 0.15);\n",
              "      filter: drop-shadow(0px 1px 2px rgba(0, 0, 0, 0.3));\n",
              "      fill: #FFFFFF;\n",
              "    }\n",
              "  </style>\n",
              "\n",
              "      <script>\n",
              "        const buttonEl =\n",
              "          document.querySelector('#df-94e5b266-3101-40cb-ba44-b52fef586640 button.colab-df-convert');\n",
              "        buttonEl.style.display =\n",
              "          google.colab.kernel.accessAllowed ? 'block' : 'none';\n",
              "\n",
              "        async function convertToInteractive(key) {\n",
              "          const element = document.querySelector('#df-94e5b266-3101-40cb-ba44-b52fef586640');\n",
              "          const dataTable =\n",
              "            await google.colab.kernel.invokeFunction('convertToInteractive',\n",
              "                                                     [key], {});\n",
              "          if (!dataTable) return;\n",
              "\n",
              "          const docLinkHtml = 'Like what you see? Visit the ' +\n",
              "            '<a target=\"_blank\" href=https://colab.research.google.com/notebooks/data_table.ipynb>data table notebook</a>'\n",
              "            + ' to learn more about interactive tables.';\n",
              "          element.innerHTML = '';\n",
              "          dataTable['output_type'] = 'display_data';\n",
              "          await google.colab.output.renderOutput(dataTable, element);\n",
              "          const docLink = document.createElement('div');\n",
              "          docLink.innerHTML = docLinkHtml;\n",
              "          element.appendChild(docLink);\n",
              "        }\n",
              "      </script>\n",
              "    </div>\n",
              "  </div>\n",
              "  "
            ]
          },
          "metadata": {},
          "execution_count": 25
        }
      ],
      "source": [
        "## Calculate evaluation metrics by ourselves\n",
        "data = {\n",
        "    \"calculation\": [],\n",
        "    \"accuracy\": [],\n",
        "    \"error\": [],\n",
        "    \"precision\": [],\n",
        "    \"recall\": [],\n",
        "    \"f1 score\": [],\n",
        "}\n",
        "data[\"calculation\"].append(\"manual\")\n",
        "data[\"accuracy\"].append((TP + TN) / (TN + FP + FN + TP))\n",
        "data[\"error\"].append((FP + FN) / (TN + FP + FN + TP))\n",
        "data[\"precision\"].append(precision)  # TP / (TP + FP)\n",
        "data[\"recall\"].append(recall)  # TP / (TP + FN)\n",
        "data[\"f1 score\"].append(f1_score)  # (2 * precision * recall) / (precision + recall)\n",
        "df = pd.DataFrame(data)\n",
        "df"
      ]
    },
    {
      "cell_type": "markdown",
      "metadata": {
        "id": "a3UN7VrST3KR"
      },
      "source": [
        "- `scikit-learn` has functions for [these metrics](https://scikit-learn.org/stable/modules/classes.html#module-sklearn.metrics)."
      ]
    },
    {
      "cell_type": "code",
      "execution_count": null,
      "metadata": {
        "colab": {
          "base_uri": "https://localhost:8080/",
          "height": 143
        },
        "id": "TLge8W4aT3KR",
        "outputId": "44b55b3c-52ee-41f0-cc02-0041887289a2"
      },
      "outputs": [
        {
          "output_type": "execute_result",
          "data": {
            "text/plain": [
              "             accuracy     error  precision    recall  f1 score\n",
              "calculation                                                   \n",
              "manual       0.999231  0.000769   0.888889  0.627451  0.735632\n",
              "sklearn      0.999231  0.000769   0.888889  0.627451  0.735632"
            ],
            "text/html": [
              "\n",
              "  <div id=\"df-3661f07d-3e02-4091-aeff-6f83c6ee3ffc\">\n",
              "    <div class=\"colab-df-container\">\n",
              "      <div>\n",
              "<style scoped>\n",
              "    .dataframe tbody tr th:only-of-type {\n",
              "        vertical-align: middle;\n",
              "    }\n",
              "\n",
              "    .dataframe tbody tr th {\n",
              "        vertical-align: top;\n",
              "    }\n",
              "\n",
              "    .dataframe thead th {\n",
              "        text-align: right;\n",
              "    }\n",
              "</style>\n",
              "<table border=\"1\" class=\"dataframe\">\n",
              "  <thead>\n",
              "    <tr style=\"text-align: right;\">\n",
              "      <th></th>\n",
              "      <th>accuracy</th>\n",
              "      <th>error</th>\n",
              "      <th>precision</th>\n",
              "      <th>recall</th>\n",
              "      <th>f1 score</th>\n",
              "    </tr>\n",
              "    <tr>\n",
              "      <th>calculation</th>\n",
              "      <th></th>\n",
              "      <th></th>\n",
              "      <th></th>\n",
              "      <th></th>\n",
              "      <th></th>\n",
              "    </tr>\n",
              "  </thead>\n",
              "  <tbody>\n",
              "    <tr>\n",
              "      <th>manual</th>\n",
              "      <td>0.999231</td>\n",
              "      <td>0.000769</td>\n",
              "      <td>0.888889</td>\n",
              "      <td>0.627451</td>\n",
              "      <td>0.735632</td>\n",
              "    </tr>\n",
              "    <tr>\n",
              "      <th>sklearn</th>\n",
              "      <td>0.999231</td>\n",
              "      <td>0.000769</td>\n",
              "      <td>0.888889</td>\n",
              "      <td>0.627451</td>\n",
              "      <td>0.735632</td>\n",
              "    </tr>\n",
              "  </tbody>\n",
              "</table>\n",
              "</div>\n",
              "      <button class=\"colab-df-convert\" onclick=\"convertToInteractive('df-3661f07d-3e02-4091-aeff-6f83c6ee3ffc')\"\n",
              "              title=\"Convert this dataframe to an interactive table.\"\n",
              "              style=\"display:none;\">\n",
              "        \n",
              "  <svg xmlns=\"http://www.w3.org/2000/svg\" height=\"24px\"viewBox=\"0 0 24 24\"\n",
              "       width=\"24px\">\n",
              "    <path d=\"M0 0h24v24H0V0z\" fill=\"none\"/>\n",
              "    <path d=\"M18.56 5.44l.94 2.06.94-2.06 2.06-.94-2.06-.94-.94-2.06-.94 2.06-2.06.94zm-11 1L8.5 8.5l.94-2.06 2.06-.94-2.06-.94L8.5 2.5l-.94 2.06-2.06.94zm10 10l.94 2.06.94-2.06 2.06-.94-2.06-.94-.94-2.06-.94 2.06-2.06.94z\"/><path d=\"M17.41 7.96l-1.37-1.37c-.4-.4-.92-.59-1.43-.59-.52 0-1.04.2-1.43.59L10.3 9.45l-7.72 7.72c-.78.78-.78 2.05 0 2.83L4 21.41c.39.39.9.59 1.41.59.51 0 1.02-.2 1.41-.59l7.78-7.78 2.81-2.81c.8-.78.8-2.07 0-2.86zM5.41 20L4 18.59l7.72-7.72 1.47 1.35L5.41 20z\"/>\n",
              "  </svg>\n",
              "      </button>\n",
              "      \n",
              "  <style>\n",
              "    .colab-df-container {\n",
              "      display:flex;\n",
              "      flex-wrap:wrap;\n",
              "      gap: 12px;\n",
              "    }\n",
              "\n",
              "    .colab-df-convert {\n",
              "      background-color: #E8F0FE;\n",
              "      border: none;\n",
              "      border-radius: 50%;\n",
              "      cursor: pointer;\n",
              "      display: none;\n",
              "      fill: #1967D2;\n",
              "      height: 32px;\n",
              "      padding: 0 0 0 0;\n",
              "      width: 32px;\n",
              "    }\n",
              "\n",
              "    .colab-df-convert:hover {\n",
              "      background-color: #E2EBFA;\n",
              "      box-shadow: 0px 1px 2px rgba(60, 64, 67, 0.3), 0px 1px 3px 1px rgba(60, 64, 67, 0.15);\n",
              "      fill: #174EA6;\n",
              "    }\n",
              "\n",
              "    [theme=dark] .colab-df-convert {\n",
              "      background-color: #3B4455;\n",
              "      fill: #D2E3FC;\n",
              "    }\n",
              "\n",
              "    [theme=dark] .colab-df-convert:hover {\n",
              "      background-color: #434B5C;\n",
              "      box-shadow: 0px 1px 3px 1px rgba(0, 0, 0, 0.15);\n",
              "      filter: drop-shadow(0px 1px 2px rgba(0, 0, 0, 0.3));\n",
              "      fill: #FFFFFF;\n",
              "    }\n",
              "  </style>\n",
              "\n",
              "      <script>\n",
              "        const buttonEl =\n",
              "          document.querySelector('#df-3661f07d-3e02-4091-aeff-6f83c6ee3ffc button.colab-df-convert');\n",
              "        buttonEl.style.display =\n",
              "          google.colab.kernel.accessAllowed ? 'block' : 'none';\n",
              "\n",
              "        async function convertToInteractive(key) {\n",
              "          const element = document.querySelector('#df-3661f07d-3e02-4091-aeff-6f83c6ee3ffc');\n",
              "          const dataTable =\n",
              "            await google.colab.kernel.invokeFunction('convertToInteractive',\n",
              "                                                     [key], {});\n",
              "          if (!dataTable) return;\n",
              "\n",
              "          const docLinkHtml = 'Like what you see? Visit the ' +\n",
              "            '<a target=\"_blank\" href=https://colab.research.google.com/notebooks/data_table.ipynb>data table notebook</a>'\n",
              "            + ' to learn more about interactive tables.';\n",
              "          element.innerHTML = '';\n",
              "          dataTable['output_type'] = 'display_data';\n",
              "          await google.colab.output.renderOutput(dataTable, element);\n",
              "          const docLink = document.createElement('div');\n",
              "          docLink.innerHTML = docLinkHtml;\n",
              "          element.appendChild(docLink);\n",
              "        }\n",
              "      </script>\n",
              "    </div>\n",
              "  </div>\n",
              "  "
            ]
          },
          "metadata": {},
          "execution_count": 26
        }
      ],
      "source": [
        "from sklearn.metrics import accuracy_score, f1_score, precision_score, recall_score\n",
        "\n",
        "data[\"accuracy\"].append(accuracy_score(y_valid, pipe_lr.predict(X_valid)))\n",
        "data[\"error\"].append(1 - accuracy_score(y_valid, pipe_lr.predict(X_valid)))\n",
        "data[\"precision\"].append(\n",
        "    precision_score(y_valid, pipe_lr.predict(X_valid), zero_division=1)\n",
        ")\n",
        "data[\"recall\"].append(recall_score(y_valid, pipe_lr.predict(X_valid)))\n",
        "data[\"f1 score\"].append(f1_score(y_valid, pipe_lr.predict(X_valid)))\n",
        "data[\"calculation\"].append(\"sklearn\")\n",
        "df = pd.DataFrame(data)\n",
        "df.set_index([\"calculation\"])"
      ]
    },
    {
      "cell_type": "markdown",
      "metadata": {
        "id": "cvopIL_-T3KS"
      },
      "source": [
        "The scores match. "
      ]
    },
    {
      "cell_type": "markdown",
      "metadata": {
        "id": "A6ZyojDQT3KS"
      },
      "source": [
        "### Classification report "
      ]
    },
    {
      "cell_type": "markdown",
      "metadata": {
        "id": "sXwCe_16T3KS"
      },
      "source": [
        "- There is a convenient function called `classification_report` in `sklearn` which gives this info. "
      ]
    },
    {
      "cell_type": "code",
      "execution_count": null,
      "metadata": {
        "colab": {
          "base_uri": "https://localhost:8080/"
        },
        "id": "YMqlSlRrT3KS",
        "outputId": "b7b11f74-e78a-4e96-e1ce-718d00cc20af"
      },
      "outputs": [
        {
          "output_type": "execute_result",
          "data": {
            "text/plain": [
              "array([0, 1])"
            ]
          },
          "metadata": {},
          "execution_count": 27
        }
      ],
      "source": [
        "pipe_lr.classes_"
      ]
    },
    {
      "cell_type": "code",
      "execution_count": null,
      "metadata": {
        "colab": {
          "base_uri": "https://localhost:8080/"
        },
        "id": "UoX_SNXrT3KT",
        "outputId": "c1dd5460-9a10-4327-b861-7f2fa125cfb0"
      },
      "outputs": [
        {
          "output_type": "stream",
          "name": "stdout",
          "text": [
            "              precision    recall  f1-score   support\n",
            "\n",
            "   non-fraud       1.00      1.00      1.00     59708\n",
            "       fraud       0.89      0.63      0.74       102\n",
            "\n",
            "    accuracy                           1.00     59810\n",
            "   macro avg       0.94      0.81      0.87     59810\n",
            "weighted avg       1.00      1.00      1.00     59810\n",
            "\n"
          ]
        }
      ],
      "source": [
        "from sklearn.metrics import classification_report\n",
        "\n",
        "print(\n",
        "    classification_report(\n",
        "        y_valid, pipe_lr.predict(X_valid), target_names=[\"non-fraud\", \"fraud\"]\n",
        "    )\n",
        ")"
      ]
    },
    {
      "cell_type": "markdown",
      "metadata": {
        "id": "F0bUDm-6T3KT"
      },
      "source": [
        "### Macro average\n",
        "\n",
        "- You give equal importance to all classes and average over all classes.  \n",
        "- For instance, in the example above, recall for non-fraud is 1.0 and fraud is 0.63, and so macro average is 0.81. \n",
        "- More relevant in case of multi-class problems.    "
      ]
    },
    {
      "cell_type": "markdown",
      "metadata": {
        "id": "e3LRRYyIT3KT"
      },
      "source": [
        "### Weighted average\n",
        "\n",
        "- Weighted by the number of samples in each class. \n",
        "- Divide by the total number of samples. \n",
        "\n",
        "Which one is relevant when depends upon whether you think each class should have the same weight or each sample should have the same weight. "
      ]
    },
    {
      "cell_type": "markdown",
      "metadata": {
        "id": "AS4y3iWWT3KU"
      },
      "source": [
        "### Toy example"
      ]
    },
    {
      "cell_type": "code",
      "execution_count": null,
      "metadata": {
        "colab": {
          "base_uri": "https://localhost:8080/"
        },
        "id": "LXD703mdT3KU",
        "outputId": "80f86598-8700-4f39-a20d-e4752b1144a7"
      },
      "outputs": [
        {
          "output_type": "stream",
          "name": "stdout",
          "text": [
            "              precision    recall  f1-score   support\n",
            "\n",
            "     class 0       0.75      1.00      0.86         3\n",
            "     class 1       1.00      0.50      0.67         2\n",
            "\n",
            "    accuracy                           0.80         5\n",
            "   macro avg       0.88      0.75      0.76         5\n",
            "weighted avg       0.85      0.80      0.78         5\n",
            "\n"
          ]
        }
      ],
      "source": [
        "from sklearn.metrics import classification_report\n",
        "y_true = [0, 1, 0, 1, 0]\n",
        "y_pred = [0, 0, 0, 1, 0]\n",
        "target_names = ['class 0', 'class 1']\n",
        "print(classification_report(y_true, y_pred, target_names=target_names))"
      ]
    },
    {
      "cell_type": "markdown",
      "metadata": {
        "id": "FkXYzZcqT3KU"
      },
      "source": [
        "- weighted average is weighted by the proportion of examples in a particular class. So for the toy example above:\n",
        "- weighted_average precision: 3/5 * 0.75 + 2/5 * 1.00 = 0.85\n",
        "- weighted_average recall: 3/5 * 1.00 + 2/5 * 0.5 = 0.80\n",
        "- weighted_average f1-score: 3/5 * 0.86 + 2/5 * 0.67 = 0.78"
      ]
    },
    {
      "cell_type": "markdown",
      "metadata": {
        "id": "K0g8nnZIT3KV"
      },
      "source": [
        "- macro average gives equal weight to both classes. So for the toy example above:\n",
        "- macro average precision: 0.5 * 0.75 + 0.5 * 1.00 =0. 875\n",
        "- macro average recall: 0.5 * 1.00 + 0.5 * 0.5 =0. 75\n",
        "- macro average f1-score: 0.5 * 0.75 + 0.5 * 1.00 =0.765"
      ]
    },
    {
      "cell_type": "markdown",
      "metadata": {
        "id": "zuiJhGU_T3KV"
      },
      "source": [
        "### Interim summary \n",
        "\n",
        "- Accuracy is misleading when you have class imbalance. \n",
        "- A confusion matrix provides a way to break down errors made by our model. \n",
        "- We looked at three metrics based on confusion matrix: \n",
        "    - precision, recall, f1-score. "
      ]
    },
    {
      "cell_type": "markdown",
      "metadata": {
        "id": "s140hfVET3KV"
      },
      "source": [
        "- Note that what you consider \"positive\" (fraud in our case) is important when calculating precision, recall, and f1-score. \n",
        "- If you flip what is considered positive or negative, we'll end up with different TP, FP, TN, FN, and hence different precision, recall, and f1-scores. "
      ]
    },
    {
      "cell_type": "markdown",
      "metadata": {
        "id": "EQAQ_-3rT3KV"
      },
      "source": [
        "### Evalution metrics overview  \n",
        "There is a lot of terminology here. "
      ]
    },
    {
      "cell_type": "markdown",
      "metadata": {
        "id": "Fa5nh7M-T3KV"
      },
      "source": [
        "![](img/evaluation-metrics.png)\n",
        "<!-- <img src='./img/evaluation-metrics.png' width=\"1000\" height=\"1000\" /> -->"
      ]
    },
    {
      "cell_type": "markdown",
      "metadata": {
        "id": "pJK4UCf8T3KW"
      },
      "source": [
        "### Cross validation with different metrics\n",
        "\n",
        "- We can pass different evaluation metrics with `scoring` argument of `cross_validate`."
      ]
    },
    {
      "cell_type": "code",
      "execution_count": null,
      "metadata": {
        "colab": {
          "base_uri": "https://localhost:8080/",
          "height": 206
        },
        "id": "H3BlZKvIT3KW",
        "outputId": "f13e2e68-cb83-4184-f0d0-b4dd81f98e5c"
      },
      "outputs": [
        {
          "output_type": "execute_result",
          "data": {
            "text/plain": [
              "   fit_time  score_time  test_accuracy  train_accuracy   test_f1  train_f1  \\\n",
              "0  2.126238    0.088666       0.999097        0.999360  0.694915  0.782979   \n",
              "1  1.537778    0.076711       0.999223        0.999317  0.739496  0.766595   \n",
              "2  1.399273    0.071327       0.999273        0.999216  0.743363  0.726477   \n",
              "3  1.410640    0.083461       0.999172        0.999254  0.697248  0.742981   \n",
              "4  1.372274    0.074826       0.999147        0.999216  0.696429  0.728850   \n",
              "\n",
              "   test_recall  train_recall  test_precision  train_precision  \n",
              "0     0.602941      0.678967        0.820000         0.924623  \n",
              "1     0.647059      0.660517        0.862745         0.913265  \n",
              "2     0.617647      0.612546        0.933333         0.892473  \n",
              "3     0.558824      0.634686        0.926829         0.895833  \n",
              "4     0.582090      0.617647        0.866667         0.888889  "
            ],
            "text/html": [
              "\n",
              "  <div id=\"df-a6d44a68-fafe-41b5-a266-36ba92233cbe\">\n",
              "    <div class=\"colab-df-container\">\n",
              "      <div>\n",
              "<style scoped>\n",
              "    .dataframe tbody tr th:only-of-type {\n",
              "        vertical-align: middle;\n",
              "    }\n",
              "\n",
              "    .dataframe tbody tr th {\n",
              "        vertical-align: top;\n",
              "    }\n",
              "\n",
              "    .dataframe thead th {\n",
              "        text-align: right;\n",
              "    }\n",
              "</style>\n",
              "<table border=\"1\" class=\"dataframe\">\n",
              "  <thead>\n",
              "    <tr style=\"text-align: right;\">\n",
              "      <th></th>\n",
              "      <th>fit_time</th>\n",
              "      <th>score_time</th>\n",
              "      <th>test_accuracy</th>\n",
              "      <th>train_accuracy</th>\n",
              "      <th>test_f1</th>\n",
              "      <th>train_f1</th>\n",
              "      <th>test_recall</th>\n",
              "      <th>train_recall</th>\n",
              "      <th>test_precision</th>\n",
              "      <th>train_precision</th>\n",
              "    </tr>\n",
              "  </thead>\n",
              "  <tbody>\n",
              "    <tr>\n",
              "      <th>0</th>\n",
              "      <td>2.126238</td>\n",
              "      <td>0.088666</td>\n",
              "      <td>0.999097</td>\n",
              "      <td>0.999360</td>\n",
              "      <td>0.694915</td>\n",
              "      <td>0.782979</td>\n",
              "      <td>0.602941</td>\n",
              "      <td>0.678967</td>\n",
              "      <td>0.820000</td>\n",
              "      <td>0.924623</td>\n",
              "    </tr>\n",
              "    <tr>\n",
              "      <th>1</th>\n",
              "      <td>1.537778</td>\n",
              "      <td>0.076711</td>\n",
              "      <td>0.999223</td>\n",
              "      <td>0.999317</td>\n",
              "      <td>0.739496</td>\n",
              "      <td>0.766595</td>\n",
              "      <td>0.647059</td>\n",
              "      <td>0.660517</td>\n",
              "      <td>0.862745</td>\n",
              "      <td>0.913265</td>\n",
              "    </tr>\n",
              "    <tr>\n",
              "      <th>2</th>\n",
              "      <td>1.399273</td>\n",
              "      <td>0.071327</td>\n",
              "      <td>0.999273</td>\n",
              "      <td>0.999216</td>\n",
              "      <td>0.743363</td>\n",
              "      <td>0.726477</td>\n",
              "      <td>0.617647</td>\n",
              "      <td>0.612546</td>\n",
              "      <td>0.933333</td>\n",
              "      <td>0.892473</td>\n",
              "    </tr>\n",
              "    <tr>\n",
              "      <th>3</th>\n",
              "      <td>1.410640</td>\n",
              "      <td>0.083461</td>\n",
              "      <td>0.999172</td>\n",
              "      <td>0.999254</td>\n",
              "      <td>0.697248</td>\n",
              "      <td>0.742981</td>\n",
              "      <td>0.558824</td>\n",
              "      <td>0.634686</td>\n",
              "      <td>0.926829</td>\n",
              "      <td>0.895833</td>\n",
              "    </tr>\n",
              "    <tr>\n",
              "      <th>4</th>\n",
              "      <td>1.372274</td>\n",
              "      <td>0.074826</td>\n",
              "      <td>0.999147</td>\n",
              "      <td>0.999216</td>\n",
              "      <td>0.696429</td>\n",
              "      <td>0.728850</td>\n",
              "      <td>0.582090</td>\n",
              "      <td>0.617647</td>\n",
              "      <td>0.866667</td>\n",
              "      <td>0.888889</td>\n",
              "    </tr>\n",
              "  </tbody>\n",
              "</table>\n",
              "</div>\n",
              "      <button class=\"colab-df-convert\" onclick=\"convertToInteractive('df-a6d44a68-fafe-41b5-a266-36ba92233cbe')\"\n",
              "              title=\"Convert this dataframe to an interactive table.\"\n",
              "              style=\"display:none;\">\n",
              "        \n",
              "  <svg xmlns=\"http://www.w3.org/2000/svg\" height=\"24px\"viewBox=\"0 0 24 24\"\n",
              "       width=\"24px\">\n",
              "    <path d=\"M0 0h24v24H0V0z\" fill=\"none\"/>\n",
              "    <path d=\"M18.56 5.44l.94 2.06.94-2.06 2.06-.94-2.06-.94-.94-2.06-.94 2.06-2.06.94zm-11 1L8.5 8.5l.94-2.06 2.06-.94-2.06-.94L8.5 2.5l-.94 2.06-2.06.94zm10 10l.94 2.06.94-2.06 2.06-.94-2.06-.94-.94-2.06-.94 2.06-2.06.94z\"/><path d=\"M17.41 7.96l-1.37-1.37c-.4-.4-.92-.59-1.43-.59-.52 0-1.04.2-1.43.59L10.3 9.45l-7.72 7.72c-.78.78-.78 2.05 0 2.83L4 21.41c.39.39.9.59 1.41.59.51 0 1.02-.2 1.41-.59l7.78-7.78 2.81-2.81c.8-.78.8-2.07 0-2.86zM5.41 20L4 18.59l7.72-7.72 1.47 1.35L5.41 20z\"/>\n",
              "  </svg>\n",
              "      </button>\n",
              "      \n",
              "  <style>\n",
              "    .colab-df-container {\n",
              "      display:flex;\n",
              "      flex-wrap:wrap;\n",
              "      gap: 12px;\n",
              "    }\n",
              "\n",
              "    .colab-df-convert {\n",
              "      background-color: #E8F0FE;\n",
              "      border: none;\n",
              "      border-radius: 50%;\n",
              "      cursor: pointer;\n",
              "      display: none;\n",
              "      fill: #1967D2;\n",
              "      height: 32px;\n",
              "      padding: 0 0 0 0;\n",
              "      width: 32px;\n",
              "    }\n",
              "\n",
              "    .colab-df-convert:hover {\n",
              "      background-color: #E2EBFA;\n",
              "      box-shadow: 0px 1px 2px rgba(60, 64, 67, 0.3), 0px 1px 3px 1px rgba(60, 64, 67, 0.15);\n",
              "      fill: #174EA6;\n",
              "    }\n",
              "\n",
              "    [theme=dark] .colab-df-convert {\n",
              "      background-color: #3B4455;\n",
              "      fill: #D2E3FC;\n",
              "    }\n",
              "\n",
              "    [theme=dark] .colab-df-convert:hover {\n",
              "      background-color: #434B5C;\n",
              "      box-shadow: 0px 1px 3px 1px rgba(0, 0, 0, 0.15);\n",
              "      filter: drop-shadow(0px 1px 2px rgba(0, 0, 0, 0.3));\n",
              "      fill: #FFFFFF;\n",
              "    }\n",
              "  </style>\n",
              "\n",
              "      <script>\n",
              "        const buttonEl =\n",
              "          document.querySelector('#df-a6d44a68-fafe-41b5-a266-36ba92233cbe button.colab-df-convert');\n",
              "        buttonEl.style.display =\n",
              "          google.colab.kernel.accessAllowed ? 'block' : 'none';\n",
              "\n",
              "        async function convertToInteractive(key) {\n",
              "          const element = document.querySelector('#df-a6d44a68-fafe-41b5-a266-36ba92233cbe');\n",
              "          const dataTable =\n",
              "            await google.colab.kernel.invokeFunction('convertToInteractive',\n",
              "                                                     [key], {});\n",
              "          if (!dataTable) return;\n",
              "\n",
              "          const docLinkHtml = 'Like what you see? Visit the ' +\n",
              "            '<a target=\"_blank\" href=https://colab.research.google.com/notebooks/data_table.ipynb>data table notebook</a>'\n",
              "            + ' to learn more about interactive tables.';\n",
              "          element.innerHTML = '';\n",
              "          dataTable['output_type'] = 'display_data';\n",
              "          await google.colab.output.renderOutput(dataTable, element);\n",
              "          const docLink = document.createElement('div');\n",
              "          docLink.innerHTML = docLinkHtml;\n",
              "          element.appendChild(docLink);\n",
              "        }\n",
              "      </script>\n",
              "    </div>\n",
              "  </div>\n",
              "  "
            ]
          },
          "metadata": {},
          "execution_count": 30
        }
      ],
      "source": [
        "scoring = [\n",
        "    \"accuracy\",\n",
        "    \"f1\",\n",
        "    \"recall\",\n",
        "    \"precision\",\n",
        "]  # scoring can be a string, a list, or a dictionary\n",
        "pipe = make_pipeline(StandardScaler(), LogisticRegression())\n",
        "scores = cross_validate(\n",
        "    pipe, X_train_big, y_train_big, return_train_score=True, scoring=scoring\n",
        ")\n",
        "pd.DataFrame(scores)"
      ]
    },
    {
      "cell_type": "markdown",
      "metadata": {
        "id": "lf-zzBgzT3KW"
      },
      "source": [
        "- You can also create [your own scoring function](https://scikit-learn.org/stable/modules/generated/sklearn.metrics.make_scorer.html) and pass it to `cross_validate`. "
      ]
    },
    {
      "cell_type": "markdown",
      "metadata": {
        "id": "RpG4tFoyT3KW"
      },
      "source": [
        "<br><br>"
      ]
    },
    {
      "cell_type": "markdown",
      "metadata": {
        "id": "ET-BdZ8IT3KW"
      },
      "source": [
        "## ❓❓ Questions for you"
      ]
    },
    {
      "cell_type": "markdown",
      "metadata": {
        "id": "KFQcJn61T3KX"
      },
      "source": [
        "### (iClicker) Exercise 9.1 \n",
        "\n",
        "**iClicker cloud join link: https://join.iclicker.com/3DP5H**\n",
        "\n",
        "**Select all of the following statements which are TRUE.**\n",
        "\n",
        "- (A) In medical diagnosis, false positives are likely to be more damaging than false negatives (assume \"positive\" means the person has a disease, \"negative\" means they don't).\n",
        "- (B) In spam classification, false positives are more damaging than false negatives (assume \"positive\" means the email is spam, \"negative\" means it's not).\n",
        "- (C) If method A gets a higher accuracy than method B, that means its precision is also higher.\n",
        "- (D) If method A gets a higher accuracy than method B, that means its recall is also higher."
      ]
    },
    {
      "cell_type": "markdown",
      "metadata": {
        "id": "NdVV_Fh4T3KX"
      },
      "source": [
        "<br><br><br><br>"
      ]
    },
    {
      "cell_type": "markdown",
      "metadata": {
        "id": "ATPDVhZST3KX"
      },
      "source": [
        "Method A - higher accuracy but lower precision\n",
        "\n",
        "| Negative | Positive\n",
        "| -------- |:-------------:|\n",
        "| 90      | 5|\n",
        "| 5      | 0|\n",
        "\n",
        "Method B - lower accuracy but higher precision\n",
        "\n",
        "| Negative | Positive\n",
        "| -------- |:-------------:|\n",
        "| 80      | 15|\n",
        "| 0      | 5|\n",
        "\n",
        "\n"
      ]
    },
    {
      "cell_type": "markdown",
      "metadata": {
        "id": "3FtV2UXcT3KX"
      },
      "source": [
        "<br><br><br><br>"
      ]
    },
    {
      "cell_type": "markdown",
      "metadata": {
        "id": "EuXlJYFFT3KY"
      },
      "source": [
        "## Precision-recall curve and ROC curve"
      ]
    },
    {
      "cell_type": "markdown",
      "metadata": {
        "id": "wymNT9aFT3KY"
      },
      "source": [
        "- Confusion matrix provides a detailed break down of the errors made by the model. \n",
        "- But when creating a confusion matrix, we are using \"hard\" predictions. \n",
        "- Most classifiers in `scikit-learn` provide `predict_proba` method (or `decision_function`) which provides degree of certainty about predictions by the classifier. \n",
        "- Can we explore the degree of uncertainty to understand and improve the model performance? "
      ]
    },
    {
      "cell_type": "markdown",
      "metadata": {
        "id": "n2cFLqovT3KY"
      },
      "source": [
        "Let's revisit the classification report on our fraud detection example. "
      ]
    },
    {
      "cell_type": "code",
      "execution_count": null,
      "metadata": {
        "id": "Vytb-m5rT3KY"
      },
      "outputs": [],
      "source": [
        "pipe_lr = make_pipeline(StandardScaler(), LogisticRegression())\n",
        "pipe_lr.fit(X_train, y_train);"
      ]
    },
    {
      "cell_type": "code",
      "execution_count": null,
      "metadata": {
        "colab": {
          "base_uri": "https://localhost:8080/"
        },
        "id": "EDJc8eIlT3KY",
        "outputId": "e9c24784-625b-4f42-fd4f-99b8da4ced30"
      },
      "outputs": [
        {
          "output_type": "stream",
          "name": "stdout",
          "text": [
            "              precision    recall  f1-score   support\n",
            "\n",
            "   non-fraud       1.00      1.00      1.00     59708\n",
            "       fraud       0.89      0.63      0.74       102\n",
            "\n",
            "    accuracy                           1.00     59810\n",
            "   macro avg       0.94      0.81      0.87     59810\n",
            "weighted avg       1.00      1.00      1.00     59810\n",
            "\n"
          ]
        }
      ],
      "source": [
        "y_pred = pipe_lr.predict(X_valid)\n",
        "print(classification_report(y_valid, y_pred, target_names=[\"non-fraud\", \"fraud\"]))"
      ]
    },
    {
      "cell_type": "markdown",
      "metadata": {
        "id": "1IV_L0RgT3KZ"
      },
      "source": [
        "By default, predictions use the threshold of 0.5. If `predict_proba` > 0.5, predict \"fraud\" else predict \"non-fraud\"."
      ]
    },
    {
      "cell_type": "code",
      "execution_count": null,
      "metadata": {
        "colab": {
          "base_uri": "https://localhost:8080/"
        },
        "id": "XCO5oqvRT3KZ",
        "outputId": "8f0cb6a7-d4ab-453b-90b6-84680090c9bf"
      },
      "outputs": [
        {
          "output_type": "stream",
          "name": "stdout",
          "text": [
            "              precision    recall  f1-score   support\n",
            "\n",
            "   non-fraud       1.00      1.00      1.00     59708\n",
            "       fraud       0.89      0.63      0.74       102\n",
            "\n",
            "    accuracy                           1.00     59810\n",
            "   macro avg       0.94      0.81      0.87     59810\n",
            "weighted avg       1.00      1.00      1.00     59810\n",
            "\n"
          ]
        }
      ],
      "source": [
        "y_pred = pipe_lr.predict_proba(X_valid)[:, 1] > 0.50\n",
        "print(classification_report(y_valid, y_pred, target_names=[\"non-fraud\", \"fraud\"]))"
      ]
    },
    {
      "cell_type": "markdown",
      "metadata": {
        "id": "B1GAv0GFT3KZ"
      },
      "source": [
        "- Suppose for your business it is more costly to miss fraudulent transactions and you want to achieve a recall of at least 75% for the \"fraud\" class. \n",
        "- One way to do this is by changing the threshold of `predict_proba`.\n",
        "    - `predict` returns 1 when `predict_proba`'s probabilities are above 0.5 for the \"fraud\" class.\n",
        "\n",
        "**Key idea: what if we threshold the probability at a smaller value so that we identify more examples as \"fraud\" examples?** "
      ]
    },
    {
      "cell_type": "markdown",
      "metadata": {
        "id": "W0Lv473ET3KZ"
      },
      "source": [
        "Let's lower the threshold to 0.1. In other words, predict the examples as \"fraud\" if `predict_proba` > 0.1.  "
      ]
    },
    {
      "cell_type": "code",
      "execution_count": null,
      "metadata": {
        "id": "rvR3DGdrT3Ka"
      },
      "outputs": [],
      "source": [
        "y_pred_lower_threshold = pipe_lr.predict_proba(X_valid)[:, 1] > 0.1"
      ]
    },
    {
      "cell_type": "code",
      "execution_count": null,
      "metadata": {
        "colab": {
          "base_uri": "https://localhost:8080/"
        },
        "id": "ZdWZvOLWT3Ka",
        "outputId": "48fb3bb8-a53b-4785-f230-76085b56143e"
      },
      "outputs": [
        {
          "output_type": "stream",
          "name": "stdout",
          "text": [
            "              precision    recall  f1-score   support\n",
            "\n",
            "           0       1.00      1.00      1.00     59708\n",
            "           1       0.77      0.76      0.77       102\n",
            "\n",
            "    accuracy                           1.00     59810\n",
            "   macro avg       0.89      0.88      0.88     59810\n",
            "weighted avg       1.00      1.00      1.00     59810\n",
            "\n"
          ]
        }
      ],
      "source": [
        "print(classification_report(y_valid, y_pred_lower_threshold))"
      ]
    },
    {
      "cell_type": "markdown",
      "metadata": {
        "id": "Gf5uAS4aT3Ka"
      },
      "source": [
        "### Operating point \n",
        "\n",
        "- Now our recall for \"fraud\" class is >= 0.75. \n",
        "- Setting a requirement on a classifier (e.g., recall of >= 0.75) is called setting the **operating point**. \n",
        "- It's usually driven by business goals and is useful to make performance guarantees to customers. "
      ]
    },
    {
      "cell_type": "markdown",
      "metadata": {
        "id": "46nja3P-T3Ka"
      },
      "source": [
        "### Precision/Recall tradeoff \n",
        "\n",
        "- But there is a trade-off between precision and recall. \n",
        "- If you identify more things as \"fraud\", recall is going to increase but there are likely to be more false positives. "
      ]
    },
    {
      "cell_type": "markdown",
      "metadata": {
        "id": "URknx2ldT3Ka"
      },
      "source": [
        "Let's sweep through different thresholds. "
      ]
    },
    {
      "cell_type": "code",
      "execution_count": null,
      "metadata": {
        "colab": {
          "base_uri": "https://localhost:8080/"
        },
        "id": "dCVgDdZDT3Kb",
        "outputId": "6b54c9dc-7743-45b8-aa89-19b626c3b107"
      },
      "outputs": [
        {
          "output_type": "execute_result",
          "data": {
            "text/plain": [
              "array([0. , 0.1, 0.2, 0.3, 0.4, 0.5, 0.6, 0.7, 0.8, 0.9])"
            ]
          },
          "metadata": {},
          "execution_count": 36
        }
      ],
      "source": [
        "thresholds = np.arange(0.0, 1.0, 0.1)\n",
        "thresholds"
      ]
    },
    {
      "cell_type": "code",
      "execution_count": null,
      "metadata": {
        "id": "8gQn_igbT3Kb"
      },
      "outputs": [],
      "source": [
        "def f(threshold):\n",
        "    preds = pipe_lr.predict_proba(X_valid)[:, 1] > threshold    \n",
        "    print(\"Threshold: \", np.round(threshold,4))\n",
        "    print(\"Precision: \", np.round(precision_score(y_valid, preds),4))\n",
        "    print(\"Recall: \", np.round(recall_score(y_valid, preds), 4))    \n",
        "    print(\"f1 score: \", np.round(f1_score(y_valid, preds), 4))        "
      ]
    },
    {
      "cell_type": "code",
      "execution_count": null,
      "metadata": {
        "tags": [],
        "colab": {
          "base_uri": "https://localhost:8080/",
          "height": 118,
          "referenced_widgets": [
            "d6106f609dcd4451a448e3c0c3c68d3b",
            "1d20b6572f0d42cfa85a5547756259dd",
            "aacf0b080b434eb1a64ac62049647ac0",
            "1f303a420c0c4d139c08acdfd6c3062c",
            "53299646c8f244b28eba0cdc12d56b1a",
            "8d0367ec31b04accb53d2af3b31a023a",
            "375d5f3ea2624c9583e25a7e418a10c7"
          ]
        },
        "id": "OGljmlmkT3Kb",
        "outputId": "576c56af-4c13-4ea0-f0c3-3b512f53cbbd"
      },
      "outputs": [
        {
          "output_type": "display_data",
          "data": {
            "text/plain": [
              "interactive(children=(FloatSlider(value=0.5, description='threshold', max=0.9), Output()), _dom_classes=('widg…"
            ],
            "application/vnd.jupyter.widget-view+json": {
              "version_major": 2,
              "version_minor": 0,
              "model_id": "d6106f609dcd4451a448e3c0c3c68d3b"
            }
          },
          "metadata": {}
        }
      ],
      "source": [
        "import ipywidgets as widgets\n",
        "from ipywidgets import interact, interactive\n",
        "\n",
        "interactive(\n",
        "    f,\n",
        "    threshold=widgets.FloatSlider(min=0, max=0.9, step=0.1, value=0.5),\n",
        ")"
      ]
    },
    {
      "cell_type": "markdown",
      "metadata": {
        "id": "h39rRP-kT3Kb"
      },
      "source": [
        "Let's view P and R for different thresholds as a dataframe. "
      ]
    },
    {
      "cell_type": "code",
      "execution_count": null,
      "metadata": {
        "colab": {
          "base_uri": "https://localhost:8080/",
          "height": 363
        },
        "id": "y3VBpG1fT3Kc",
        "outputId": "9508d476-1638-489c-e5cc-bda4f7878764"
      },
      "outputs": [
        {
          "output_type": "execute_result",
          "data": {
            "text/plain": [
              "   threshold  precision    recall  f1 score\n",
              "0        0.0   0.001705  1.000000  0.003405\n",
              "1        0.1   0.772277  0.764706  0.768473\n",
              "2        0.2   0.793478  0.715686  0.752577\n",
              "3        0.3   0.814815  0.647059  0.721311\n",
              "4        0.4   0.876712  0.627451  0.731429\n",
              "5        0.5   0.888889  0.627451  0.735632\n",
              "6        0.6   0.897059  0.598039  0.717647\n",
              "7        0.7   0.893939  0.578431  0.702381\n",
              "8        0.8   0.903226  0.549020  0.682927\n",
              "9        0.9   0.892857  0.490196  0.632911"
            ],
            "text/html": [
              "\n",
              "  <div id=\"df-c9ca1341-9012-4cda-9419-35b950c28895\">\n",
              "    <div class=\"colab-df-container\">\n",
              "      <div>\n",
              "<style scoped>\n",
              "    .dataframe tbody tr th:only-of-type {\n",
              "        vertical-align: middle;\n",
              "    }\n",
              "\n",
              "    .dataframe tbody tr th {\n",
              "        vertical-align: top;\n",
              "    }\n",
              "\n",
              "    .dataframe thead th {\n",
              "        text-align: right;\n",
              "    }\n",
              "</style>\n",
              "<table border=\"1\" class=\"dataframe\">\n",
              "  <thead>\n",
              "    <tr style=\"text-align: right;\">\n",
              "      <th></th>\n",
              "      <th>threshold</th>\n",
              "      <th>precision</th>\n",
              "      <th>recall</th>\n",
              "      <th>f1 score</th>\n",
              "    </tr>\n",
              "  </thead>\n",
              "  <tbody>\n",
              "    <tr>\n",
              "      <th>0</th>\n",
              "      <td>0.0</td>\n",
              "      <td>0.001705</td>\n",
              "      <td>1.000000</td>\n",
              "      <td>0.003405</td>\n",
              "    </tr>\n",
              "    <tr>\n",
              "      <th>1</th>\n",
              "      <td>0.1</td>\n",
              "      <td>0.772277</td>\n",
              "      <td>0.764706</td>\n",
              "      <td>0.768473</td>\n",
              "    </tr>\n",
              "    <tr>\n",
              "      <th>2</th>\n",
              "      <td>0.2</td>\n",
              "      <td>0.793478</td>\n",
              "      <td>0.715686</td>\n",
              "      <td>0.752577</td>\n",
              "    </tr>\n",
              "    <tr>\n",
              "      <th>3</th>\n",
              "      <td>0.3</td>\n",
              "      <td>0.814815</td>\n",
              "      <td>0.647059</td>\n",
              "      <td>0.721311</td>\n",
              "    </tr>\n",
              "    <tr>\n",
              "      <th>4</th>\n",
              "      <td>0.4</td>\n",
              "      <td>0.876712</td>\n",
              "      <td>0.627451</td>\n",
              "      <td>0.731429</td>\n",
              "    </tr>\n",
              "    <tr>\n",
              "      <th>5</th>\n",
              "      <td>0.5</td>\n",
              "      <td>0.888889</td>\n",
              "      <td>0.627451</td>\n",
              "      <td>0.735632</td>\n",
              "    </tr>\n",
              "    <tr>\n",
              "      <th>6</th>\n",
              "      <td>0.6</td>\n",
              "      <td>0.897059</td>\n",
              "      <td>0.598039</td>\n",
              "      <td>0.717647</td>\n",
              "    </tr>\n",
              "    <tr>\n",
              "      <th>7</th>\n",
              "      <td>0.7</td>\n",
              "      <td>0.893939</td>\n",
              "      <td>0.578431</td>\n",
              "      <td>0.702381</td>\n",
              "    </tr>\n",
              "    <tr>\n",
              "      <th>8</th>\n",
              "      <td>0.8</td>\n",
              "      <td>0.903226</td>\n",
              "      <td>0.549020</td>\n",
              "      <td>0.682927</td>\n",
              "    </tr>\n",
              "    <tr>\n",
              "      <th>9</th>\n",
              "      <td>0.9</td>\n",
              "      <td>0.892857</td>\n",
              "      <td>0.490196</td>\n",
              "      <td>0.632911</td>\n",
              "    </tr>\n",
              "  </tbody>\n",
              "</table>\n",
              "</div>\n",
              "      <button class=\"colab-df-convert\" onclick=\"convertToInteractive('df-c9ca1341-9012-4cda-9419-35b950c28895')\"\n",
              "              title=\"Convert this dataframe to an interactive table.\"\n",
              "              style=\"display:none;\">\n",
              "        \n",
              "  <svg xmlns=\"http://www.w3.org/2000/svg\" height=\"24px\"viewBox=\"0 0 24 24\"\n",
              "       width=\"24px\">\n",
              "    <path d=\"M0 0h24v24H0V0z\" fill=\"none\"/>\n",
              "    <path d=\"M18.56 5.44l.94 2.06.94-2.06 2.06-.94-2.06-.94-.94-2.06-.94 2.06-2.06.94zm-11 1L8.5 8.5l.94-2.06 2.06-.94-2.06-.94L8.5 2.5l-.94 2.06-2.06.94zm10 10l.94 2.06.94-2.06 2.06-.94-2.06-.94-.94-2.06-.94 2.06-2.06.94z\"/><path d=\"M17.41 7.96l-1.37-1.37c-.4-.4-.92-.59-1.43-.59-.52 0-1.04.2-1.43.59L10.3 9.45l-7.72 7.72c-.78.78-.78 2.05 0 2.83L4 21.41c.39.39.9.59 1.41.59.51 0 1.02-.2 1.41-.59l7.78-7.78 2.81-2.81c.8-.78.8-2.07 0-2.86zM5.41 20L4 18.59l7.72-7.72 1.47 1.35L5.41 20z\"/>\n",
              "  </svg>\n",
              "      </button>\n",
              "      \n",
              "  <style>\n",
              "    .colab-df-container {\n",
              "      display:flex;\n",
              "      flex-wrap:wrap;\n",
              "      gap: 12px;\n",
              "    }\n",
              "\n",
              "    .colab-df-convert {\n",
              "      background-color: #E8F0FE;\n",
              "      border: none;\n",
              "      border-radius: 50%;\n",
              "      cursor: pointer;\n",
              "      display: none;\n",
              "      fill: #1967D2;\n",
              "      height: 32px;\n",
              "      padding: 0 0 0 0;\n",
              "      width: 32px;\n",
              "    }\n",
              "\n",
              "    .colab-df-convert:hover {\n",
              "      background-color: #E2EBFA;\n",
              "      box-shadow: 0px 1px 2px rgba(60, 64, 67, 0.3), 0px 1px 3px 1px rgba(60, 64, 67, 0.15);\n",
              "      fill: #174EA6;\n",
              "    }\n",
              "\n",
              "    [theme=dark] .colab-df-convert {\n",
              "      background-color: #3B4455;\n",
              "      fill: #D2E3FC;\n",
              "    }\n",
              "\n",
              "    [theme=dark] .colab-df-convert:hover {\n",
              "      background-color: #434B5C;\n",
              "      box-shadow: 0px 1px 3px 1px rgba(0, 0, 0, 0.15);\n",
              "      filter: drop-shadow(0px 1px 2px rgba(0, 0, 0, 0.3));\n",
              "      fill: #FFFFFF;\n",
              "    }\n",
              "  </style>\n",
              "\n",
              "      <script>\n",
              "        const buttonEl =\n",
              "          document.querySelector('#df-c9ca1341-9012-4cda-9419-35b950c28895 button.colab-df-convert');\n",
              "        buttonEl.style.display =\n",
              "          google.colab.kernel.accessAllowed ? 'block' : 'none';\n",
              "\n",
              "        async function convertToInteractive(key) {\n",
              "          const element = document.querySelector('#df-c9ca1341-9012-4cda-9419-35b950c28895');\n",
              "          const dataTable =\n",
              "            await google.colab.kernel.invokeFunction('convertToInteractive',\n",
              "                                                     [key], {});\n",
              "          if (!dataTable) return;\n",
              "\n",
              "          const docLinkHtml = 'Like what you see? Visit the ' +\n",
              "            '<a target=\"_blank\" href=https://colab.research.google.com/notebooks/data_table.ipynb>data table notebook</a>'\n",
              "            + ' to learn more about interactive tables.';\n",
              "          element.innerHTML = '';\n",
              "          dataTable['output_type'] = 'display_data';\n",
              "          await google.colab.output.renderOutput(dataTable, element);\n",
              "          const docLink = document.createElement('div');\n",
              "          docLink.innerHTML = docLinkHtml;\n",
              "          element.appendChild(docLink);\n",
              "        }\n",
              "      </script>\n",
              "    </div>\n",
              "  </div>\n",
              "  "
            ]
          },
          "metadata": {},
          "execution_count": 40
        }
      ],
      "source": [
        "pr_dict = {\"threshold\": [], \"precision\": [], \"recall\": [], \"f1 score\": []}\n",
        "for threshold in thresholds:\n",
        "    preds = pipe_lr.predict_proba(X_valid)[:, 1] > threshold\n",
        "    pr_dict[\"threshold\"].append(threshold)\n",
        "    pr_dict[\"precision\"].append(precision_score(y_valid, preds))\n",
        "    pr_dict[\"recall\"].append(recall_score(y_valid, preds))\n",
        "    pr_dict[\"f1 score\"].append(f1_score(y_valid, preds))\n",
        "pd.DataFrame(pr_dict)    "
      ]
    },
    {
      "cell_type": "markdown",
      "metadata": {
        "id": "QMW6WDhKT3Kc"
      },
      "source": [
        "### Decreasing the threshold\n",
        "\n",
        "- Decreasing the threshold means a lower bar for predicting fraud. \n",
        "    - You are willing to risk more false positives in exchange of more true positives. \n",
        "    - recall would either stay the same or go up and precision is likely to go down\n",
        "    - occasionally, precision may increase if all the new examples after decreasing the threshold are TPs. "
      ]
    },
    {
      "cell_type": "markdown",
      "metadata": {
        "id": "Bb2qJ2lmT3Kc"
      },
      "source": [
        "### Increasing the threshold\n",
        "\n",
        "- Increasing the threshold means a higher bar for predicting fraud. \n",
        "    - recall would go down or stay the same but precision is likely to go up \n",
        "    - occasionally, precision may go down as the denominator for precision is TP+FP.    "
      ]
    },
    {
      "cell_type": "markdown",
      "metadata": {
        "id": "KeyuuGptT3Kc"
      },
      "source": [
        "### Precision-recall curve\n",
        "\n",
        "Often, when developing a model, it's not always clear what the operating point will be and to understand the the model better, it's informative to look at all possible thresholds and corresponding trade-offs of precision and recall in a plot.  \n"
      ]
    },
    {
      "cell_type": "code",
      "execution_count": null,
      "metadata": {
        "colab": {
          "base_uri": "https://localhost:8080/",
          "height": 465
        },
        "id": "-32_crt4T3Kd",
        "outputId": "445a15ba-c0fd-4864-a0cb-0aed9e875387"
      },
      "outputs": [
        {
          "output_type": "display_data",
          "data": {
            "text/plain": [
              "<Figure size 640x480 with 1 Axes>"
            ],
            "image/png": "[encoded data removed]"
          },
          "metadata": {}
        }
      ],
      "source": [
        "from sklearn.metrics import precision_recall_curve\n",
        "\n",
        "precision, recall, thresholds = precision_recall_curve(\n",
        "    y_valid, pipe_lr.predict_proba(X_valid)[:, 1]\n",
        ")\n",
        "plt.plot(precision, recall, label=\"logistic regression: PR curve\")\n",
        "plt.xlabel(\"Precision\")\n",
        "plt.ylabel(\"Recall\")\n",
        "plt.plot(\n",
        "    precision_score(y_valid, pipe_lr.predict(X_valid)),\n",
        "    recall_score(y_valid, pipe_lr.predict(X_valid)),\n",
        "    \"or\",\n",
        "    markersize=10,\n",
        "    label=\"threshold 0.5\",\n",
        ")\n",
        "plt.legend(loc=\"best\");"
      ]
    },
    {
      "cell_type": "markdown",
      "metadata": {
        "id": "yjRduunFT3Kd"
      },
      "source": [
        "- Each point in the curve corresponds to a possible threshold of the `predict_proba` output. \n",
        "- We can achieve a recall of 0.8 at a precision of 0.4. \n",
        "- The red dot marks the point corresponding to the threshold 0.5.\n",
        "- The top-right would be a perfect classifier (precision = recall = 1)."
      ]
    },
    {
      "cell_type": "markdown",
      "metadata": {
        "id": "3RE9pCKzT3Kd"
      },
      "source": [
        "- The threshold is not shown here, but it's going from 0 (upper-left) to 1 (lower right).\n",
        "- At a threshold of 0 (upper left), we are classifying everything  as \"fraud\".\n",
        "- Raising the threshold increases the precision but at the expense of lowering the recall. \n",
        "- At the extreme right, where the threshold is 1, we get into the situation where all the examples classified as \"fraud\" are actually \"fraud\"; we have no false positives. \n",
        "- Here we have a high precision but lower recall. \n",
        "- Usually the goal is to keep recall high as precision goes up. "
      ]
    },
    {
      "cell_type": "markdown",
      "metadata": {
        "id": "jbyb5lhyT3Kd"
      },
      "source": [
        "### A few comments on PR curve\n",
        "\n",
        "- Different classifiers might work well in different parts of the curve, i.e., at different operating points.   \n",
        "- We can compare PR curves of different classifiers to understand these differences. "
      ]
    },
    {
      "cell_type": "markdown",
      "metadata": {
        "id": "UmQiOzCKT3Ke"
      },
      "source": [
        "### AP score \n",
        "\n",
        "- Often it's useful to have one number summarizing the PR plot (e.g., in hyperparameter optimization)\n",
        "- One way to do this is by computing the area under the PR curve. \n",
        "- This is called **average precision** (AP score)\n",
        "- AP score has a value between 0 (worst) and 1 (best). "
      ]
    },
    {
      "cell_type": "code",
      "execution_count": null,
      "metadata": {
        "colab": {
          "base_uri": "https://localhost:8080/"
        },
        "id": "6lmgRufYT3Ke",
        "outputId": "f1db8e71-b775-4563-d4f4-cc69abe0f2c5"
      },
      "outputs": [
        {
          "output_type": "stream",
          "name": "stdout",
          "text": [
            "Average precision of logistic regression: 0.757\n"
          ]
        }
      ],
      "source": [
        "from sklearn.metrics import average_precision_score\n",
        "\n",
        "ap_lr = average_precision_score(y_valid, pipe_lr.predict_proba(X_valid)[:, 1])\n",
        "print(\"Average precision of logistic regression: {:.3f}\".format(ap_lr))"
      ]
    },
    {
      "cell_type": "markdown",
      "metadata": {
        "id": "3ihNU_vWT3Ke"
      },
      "source": [
        "You can also use the following handy function of `sklearn` to get the PR curve and the corresponding AP score. "
      ]
    },
    {
      "cell_type": "code",
      "execution_count": null,
      "metadata": {
        "colab": {
          "base_uri": "https://localhost:8080/",
          "height": 465
        },
        "id": "FsZZq5jST3Ke",
        "outputId": "d7fc233b-53ae-408d-ebfe-a4d690b2a713"
      },
      "outputs": [
        {
          "output_type": "display_data",
          "data": {
            "text/plain": [
              "<Figure size 640x480 with 1 Axes>"
            ],
            "image/png": "[encoded data removed]"
          },
          "metadata": {}
        }
      ],
      "source": [
        "from sklearn.metrics import PrecisionRecallDisplay\n",
        "\n",
        "PrecisionRecallDisplay.from_estimator(pipe_lr, X_valid, y_valid);"
      ]
    },
    {
      "cell_type": "markdown",
      "metadata": {
        "id": "3at5hndZT3Kf"
      },
      "source": [
        "### AP vs. F1-score\n",
        "\n",
        "It is very important to note this distinction:\n",
        "\n",
        "- F1 score is for a given threshold and measures the quality of `predict`.\n",
        "- AP score is a summary across thresholds and measures the quality of `predict_proba`.\n"
      ]
    },
    {
      "cell_type": "markdown",
      "metadata": {
        "id": "5aOcveaxT3Kf"
      },
      "source": [
        "```{important}\n",
        "Remember to pick the desired threshold based on the results on the validation set and **not** on the test set.\n",
        "```"
      ]
    },
    {
      "cell_type": "markdown",
      "metadata": {
        "id": "n0SHfqEnT3Kf"
      },
      "source": [
        "### A few comments on PR curve\n",
        "\n",
        "- Different classifiers might work well in different parts of the curve, i.e., at different operating points.   \n",
        "- We can compare PR curves of different classifiers to understand these differences. \n",
        "- Let's create PR curves for SVC and Logistic Regression. "
      ]
    },
    {
      "cell_type": "code",
      "execution_count": null,
      "metadata": {
        "colab": {
          "base_uri": "https://localhost:8080/",
          "height": 125
        },
        "id": "t95gCqx6T3Kf",
        "outputId": "fc0baf23-0bfc-495f-94d2-dbaaf783c73e"
      },
      "outputs": [
        {
          "output_type": "execute_result",
          "data": {
            "text/plain": [
              "Pipeline(steps=[('standardscaler', StandardScaler()), ('svc', SVC())])"
            ],
            "text/html": [
              "<style>#sk-container-id-1 {color: black;background-color: white;}#sk-container-id-1 pre{padding: 0;}#sk-container-id-1 div.sk-toggleable {background-color: white;}#sk-container-id-1 label.sk-toggleable__label {cursor: pointer;display: block;width: 100%;margin-bottom: 0;padding: 0.3em;box-sizing: border-box;text-align: center;}#sk-container-id-1 label.sk-toggleable__label-arrow:before {content: \"▸\";float: left;margin-right: 0.25em;color: #696969;}#sk-container-id-1 label.sk-toggleable__label-arrow:hover:before {color: black;}#sk-container-id-1 div.sk-estimator:hover label.sk-toggleable__label-arrow:before {color: black;}#sk-container-id-1 div.sk-toggleable__content {max-height: 0;max-width: 0;overflow: hidden;text-align: left;background-color: #f0f8ff;}#sk-container-id-1 div.sk-toggleable__content pre {margin: 0.2em;color: black;border-radius: 0.25em;background-color: #f0f8ff;}#sk-container-id-1 input.sk-toggleable__control:checked~div.sk-toggleable__content {max-height: 200px;max-width: 100%;overflow: auto;}#sk-container-id-1 input.sk-toggleable__control:checked~label.sk-toggleable__label-arrow:before {content: \"▾\";}#sk-container-id-1 div.sk-estimator input.sk-toggleable__control:checked~label.sk-toggleable__label {background-color: #d4ebff;}#sk-container-id-1 div.sk-label input.sk-toggleable__control:checked~label.sk-toggleable__label {background-color: #d4ebff;}#sk-container-id-1 input.sk-hidden--visually {border: 0;clip: rect(1px 1px 1px 1px);clip: rect(1px, 1px, 1px, 1px);height: 1px;margin: -1px;overflow: hidden;padding: 0;position: absolute;width: 1px;}#sk-container-id-1 div.sk-estimator {font-family: monospace;background-color: #f0f8ff;border: 1px dotted black;border-radius: 0.25em;box-sizing: border-box;margin-bottom: 0.5em;}#sk-container-id-1 div.sk-estimator:hover {background-color: #d4ebff;}#sk-container-id-1 div.sk-parallel-item::after {content: \"\";width: 100%;border-bottom: 1px solid gray;flex-grow: 1;}#sk-container-id-1 div.sk-label:hover label.sk-toggleable__label {background-color: #d4ebff;}#sk-container-id-1 div.sk-serial::before {content: \"\";position: absolute;border-left: 1px solid gray;box-sizing: border-box;top: 0;bottom: 0;left: 50%;z-index: 0;}#sk-container-id-1 div.sk-serial {display: flex;flex-direction: column;align-items: center;background-color: white;padding-right: 0.2em;padding-left: 0.2em;position: relative;}#sk-container-id-1 div.sk-item {position: relative;z-index: 1;}#sk-container-id-1 div.sk-parallel {display: flex;align-items: stretch;justify-content: center;background-color: white;position: relative;}#sk-container-id-1 div.sk-item::before, #sk-container-id-1 div.sk-parallel-item::before {content: \"\";position: absolute;border-left: 1px solid gray;box-sizing: border-box;top: 0;bottom: 0;left: 50%;z-index: -1;}#sk-container-id-1 div.sk-parallel-item {display: flex;flex-direction: column;z-index: 1;position: relative;background-color: white;}#sk-container-id-1 div.sk-parallel-item:first-child::after {align-self: flex-end;width: 50%;}#sk-container-id-1 div.sk-parallel-item:last-child::after {align-self: flex-start;width: 50%;}#sk-container-id-1 div.sk-parallel-item:only-child::after {width: 0;}#sk-container-id-1 div.sk-dashed-wrapped {border: 1px dashed gray;margin: 0 0.4em 0.5em 0.4em;box-sizing: border-box;padding-bottom: 0.4em;background-color: white;}#sk-container-id-1 div.sk-label label {font-family: monospace;font-weight: bold;display: inline-block;line-height: 1.2em;}#sk-container-id-1 div.sk-label-container {text-align: center;}#sk-container-id-1 div.sk-container {/* jupyter's `normalize.less` sets `[hidden] { display: none; }` but bootstrap.min.css set `[hidden] { display: none !important; }` so we also need the `!important` here to be able to override the default hidden behavior on the sphinx rendered scikit-learn.org. See: https://github.com/scikit-learn/scikit-learn/issues/21755 */display: inline-block !important;position: relative;}#sk-container-id-1 div.sk-text-repr-fallback {display: none;}</style><div id=\"sk-container-id-1\" class=\"sk-top-container\"><div class=\"sk-text-repr-fallback\"><pre>Pipeline(steps=[(&#x27;standardscaler&#x27;, StandardScaler()), (&#x27;svc&#x27;, SVC())])</pre><b>In a Jupyter environment, please rerun this cell to show the HTML representation or trust the notebook. <br />On GitHub, the HTML representation is unable to render, please try loading this page with nbviewer.org.</b></div><div class=\"sk-container\" hidden><div class=\"sk-item sk-dashed-wrapped\"><div class=\"sk-label-container\"><div class=\"sk-label sk-toggleable\"><input class=\"sk-toggleable__control sk-hidden--visually\" id=\"sk-estimator-id-1\" type=\"checkbox\" ><label for=\"sk-estimator-id-1\" class=\"sk-toggleable__label sk-toggleable__label-arrow\">Pipeline</label><div class=\"sk-toggleable__content\"><pre>Pipeline(steps=[(&#x27;standardscaler&#x27;, StandardScaler()), (&#x27;svc&#x27;, SVC())])</pre></div></div></div><div class=\"sk-serial\"><div class=\"sk-item\"><div class=\"sk-estimator sk-toggleable\"><input class=\"sk-toggleable__control sk-hidden--visually\" id=\"sk-estimator-id-2\" type=\"checkbox\" ><label for=\"sk-estimator-id-2\" class=\"sk-toggleable__label sk-toggleable__label-arrow\">StandardScaler</label><div class=\"sk-toggleable__content\"><pre>StandardScaler()</pre></div></div></div><div class=\"sk-item\"><div class=\"sk-estimator sk-toggleable\"><input class=\"sk-toggleable__control sk-hidden--visually\" id=\"sk-estimator-id-3\" type=\"checkbox\" ><label for=\"sk-estimator-id-3\" class=\"sk-toggleable__label sk-toggleable__label-arrow\">SVC</label><div class=\"sk-toggleable__content\"><pre>SVC()</pre></div></div></div></div></div></div></div>"
            ]
          },
          "metadata": {},
          "execution_count": 44
        }
      ],
      "source": [
        "pipe_svc = make_pipeline(StandardScaler(), SVC())\n",
        "\n",
        "pipe_svc.fit(X_train, y_train)"
      ]
    },
    {
      "cell_type": "code",
      "execution_count": null,
      "metadata": {
        "colab": {
          "base_uri": "https://localhost:8080/",
          "height": 125
        },
        "id": "00YinjxlT3Kg",
        "outputId": "d648a7fe-3f79-44ca-f7aa-95949ae6f01a"
      },
      "outputs": [
        {
          "output_type": "execute_result",
          "data": {
            "text/plain": [
              "Pipeline(steps=[('standardscaler', StandardScaler()),\n",
              "                ('logisticregression', LogisticRegression(max_iter=1000))])"
            ],
            "text/html": [
              "<style>#sk-container-id-3 {color: black;background-color: white;}#sk-container-id-3 pre{padding: 0;}#sk-container-id-3 div.sk-toggleable {background-color: white;}#sk-container-id-3 label.sk-toggleable__label {cursor: pointer;display: block;width: 100%;margin-bottom: 0;padding: 0.3em;box-sizing: border-box;text-align: center;}#sk-container-id-3 label.sk-toggleable__label-arrow:before {content: \"▸\";float: left;margin-right: 0.25em;color: #696969;}#sk-container-id-3 label.sk-toggleable__label-arrow:hover:before {color: black;}#sk-container-id-3 div.sk-estimator:hover label.sk-toggleable__label-arrow:before {color: black;}#sk-container-id-3 div.sk-toggleable__content {max-height: 0;max-width: 0;overflow: hidden;text-align: left;background-color: #f0f8ff;}#sk-container-id-3 div.sk-toggleable__content pre {margin: 0.2em;color: black;border-radius: 0.25em;background-color: #f0f8ff;}#sk-container-id-3 input.sk-toggleable__control:checked~div.sk-toggleable__content {max-height: 200px;max-width: 100%;overflow: auto;}#sk-container-id-3 input.sk-toggleable__control:checked~label.sk-toggleable__label-arrow:before {content: \"▾\";}#sk-container-id-3 div.sk-estimator input.sk-toggleable__control:checked~label.sk-toggleable__label {background-color: #d4ebff;}#sk-container-id-3 div.sk-label input.sk-toggleable__control:checked~label.sk-toggleable__label {background-color: #d4ebff;}#sk-container-id-3 input.sk-hidden--visually {border: 0;clip: rect(1px 1px 1px 1px);clip: rect(1px, 1px, 1px, 1px);height: 1px;margin: -1px;overflow: hidden;padding: 0;position: absolute;width: 1px;}#sk-container-id-3 div.sk-estimator {font-family: monospace;background-color: #f0f8ff;border: 1px dotted black;border-radius: 0.25em;box-sizing: border-box;margin-bottom: 0.5em;}#sk-container-id-3 div.sk-estimator:hover {background-color: #d4ebff;}#sk-container-id-3 div.sk-parallel-item::after {content: \"\";width: 100%;border-bottom: 1px solid gray;flex-grow: 1;}#sk-container-id-3 div.sk-label:hover label.sk-toggleable__label {background-color: #d4ebff;}#sk-container-id-3 div.sk-serial::before {content: \"\";position: absolute;border-left: 1px solid gray;box-sizing: border-box;top: 0;bottom: 0;left: 50%;z-index: 0;}#sk-container-id-3 div.sk-serial {display: flex;flex-direction: column;align-items: center;background-color: white;padding-right: 0.2em;padding-left: 0.2em;position: relative;}#sk-container-id-3 div.sk-item {position: relative;z-index: 1;}#sk-container-id-3 div.sk-parallel {display: flex;align-items: stretch;justify-content: center;background-color: white;position: relative;}#sk-container-id-3 div.sk-item::before, #sk-container-id-3 div.sk-parallel-item::before {content: \"\";position: absolute;border-left: 1px solid gray;box-sizing: border-box;top: 0;bottom: 0;left: 50%;z-index: -1;}#sk-container-id-3 div.sk-parallel-item {display: flex;flex-direction: column;z-index: 1;position: relative;background-color: white;}#sk-container-id-3 div.sk-parallel-item:first-child::after {align-self: flex-end;width: 50%;}#sk-container-id-3 div.sk-parallel-item:last-child::after {align-self: flex-start;width: 50%;}#sk-container-id-3 div.sk-parallel-item:only-child::after {width: 0;}#sk-container-id-3 div.sk-dashed-wrapped {border: 1px dashed gray;margin: 0 0.4em 0.5em 0.4em;box-sizing: border-box;padding-bottom: 0.4em;background-color: white;}#sk-container-id-3 div.sk-label label {font-family: monospace;font-weight: bold;display: inline-block;line-height: 1.2em;}#sk-container-id-3 div.sk-label-container {text-align: center;}#sk-container-id-3 div.sk-container {/* jupyter's `normalize.less` sets `[hidden] { display: none; }` but bootstrap.min.css set `[hidden] { display: none !important; }` so we also need the `!important` here to be able to override the default hidden behavior on the sphinx rendered scikit-learn.org. See: https://github.com/scikit-learn/scikit-learn/issues/21755 */display: inline-block !important;position: relative;}#sk-container-id-3 div.sk-text-repr-fallback {display: none;}</style><div id=\"sk-container-id-3\" class=\"sk-top-container\"><div class=\"sk-text-repr-fallback\"><pre>Pipeline(steps=[(&#x27;standardscaler&#x27;, StandardScaler()),\n",
              "                (&#x27;logisticregression&#x27;, LogisticRegression(max_iter=1000))])</pre><b>In a Jupyter environment, please rerun this cell to show the HTML representation or trust the notebook. <br />On GitHub, the HTML representation is unable to render, please try loading this page with nbviewer.org.</b></div><div class=\"sk-container\" hidden><div class=\"sk-item sk-dashed-wrapped\"><div class=\"sk-label-container\"><div class=\"sk-label sk-toggleable\"><input class=\"sk-toggleable__control sk-hidden--visually\" id=\"sk-estimator-id-7\" type=\"checkbox\" ><label for=\"sk-estimator-id-7\" class=\"sk-toggleable__label sk-toggleable__label-arrow\">Pipeline</label><div class=\"sk-toggleable__content\"><pre>Pipeline(steps=[(&#x27;standardscaler&#x27;, StandardScaler()),\n",
              "                (&#x27;logisticregression&#x27;, LogisticRegression(max_iter=1000))])</pre></div></div></div><div class=\"sk-serial\"><div class=\"sk-item\"><div class=\"sk-estimator sk-toggleable\"><input class=\"sk-toggleable__control sk-hidden--visually\" id=\"sk-estimator-id-8\" type=\"checkbox\" ><label for=\"sk-estimator-id-8\" class=\"sk-toggleable__label sk-toggleable__label-arrow\">StandardScaler</label><div class=\"sk-toggleable__content\"><pre>StandardScaler()</pre></div></div></div><div class=\"sk-item\"><div class=\"sk-estimator sk-toggleable\"><input class=\"sk-toggleable__control sk-hidden--visually\" id=\"sk-estimator-id-9\" type=\"checkbox\" ><label for=\"sk-estimator-id-9\" class=\"sk-toggleable__label sk-toggleable__label-arrow\">LogisticRegression</label><div class=\"sk-toggleable__content\"><pre>LogisticRegression(max_iter=1000)</pre></div></div></div></div></div></div></div>"
            ]
          },
          "metadata": {},
          "execution_count": 46
        }
      ],
      "source": [
        "pipe_lr = make_pipeline(StandardScaler(), LogisticRegression(max_iter=1000))\n",
        "pipe_lr.fit(X_train, y_train)"
      ]
    },
    {
      "cell_type": "markdown",
      "metadata": {
        "id": "7wmlzMnLT3Kg"
      },
      "source": [
        "How to get precision and recall for different thresholds? \n",
        "- Use the function `precision_recall_curve`"
      ]
    },
    {
      "cell_type": "code",
      "execution_count": null,
      "metadata": {
        "id": "lJYGdlSlT3Kg"
      },
      "outputs": [],
      "source": [
        "precision_lr, recall_lr, thresholds_lr = precision_recall_curve(\n",
        "    y_valid, pipe_lr.predict_proba(X_valid)[:, 1]\n",
        ")"
      ]
    },
    {
      "cell_type": "markdown",
      "metadata": {
        "id": "AWQk4cKuT3Kg"
      },
      "source": [
        "How many thresholds? \n",
        "- It uses `n_thresholds` where `n_thresholds` is the number of unique `predict_proba` scores in our dataset. "
      ]
    },
    {
      "cell_type": "code",
      "execution_count": null,
      "metadata": {
        "colab": {
          "base_uri": "https://localhost:8080/"
        },
        "id": "8jgi-CuHT3Kh",
        "outputId": "57a11af4-0122-468a-9444-fcefc6d13dc1"
      },
      "outputs": [
        {
          "output_type": "execute_result",
          "data": {
            "text/plain": [
              "59049"
            ]
          },
          "metadata": {},
          "execution_count": 48
        }
      ],
      "source": [
        "len(np.unique(pipe_lr.predict_proba(X_valid)[:, 1]))"
      ]
    },
    {
      "cell_type": "markdown",
      "metadata": {
        "id": "W5wOnUXzT3Kh"
      },
      "source": [
        "- For each threshold, precision and recall is calculated.  \n",
        "- The last precision and recall values are 1. and 0. respectively and do not have a corresponding threshold. "
      ]
    },
    {
      "cell_type": "code",
      "execution_count": null,
      "metadata": {
        "colab": {
          "base_uri": "https://localhost:8080/"
        },
        "id": "kvP34LllT3Kh",
        "outputId": "0fef681a-d2c4-4829-9b4e-40fd32fd1921"
      },
      "outputs": [
        {
          "output_type": "execute_result",
          "data": {
            "text/plain": [
              "((59049,), (59050,), (59050,))"
            ]
          },
          "metadata": {},
          "execution_count": 49
        }
      ],
      "source": [
        "thresholds_lr.shape, precision_lr.shape, recall_lr.shape"
      ]
    },
    {
      "cell_type": "code",
      "execution_count": null,
      "metadata": {
        "id": "7WNlsCejT3Kh"
      },
      "outputs": [],
      "source": [
        "precision_lr, recall_lr, thresholds_lr = precision_recall_curve(\n",
        "    y_valid, pipe_lr.predict_proba(X_valid)[:, 1]\n",
        ")\n",
        "precision_svc, recall_svc, thresholds_svc = precision_recall_curve(\n",
        "    y_valid, pipe_svc.decision_function(X_valid)\n",
        ")"
      ]
    },
    {
      "cell_type": "markdown",
      "metadata": {
        "id": "dmJuJpL6T3Ki"
      },
      "source": [
        "For logistic regression, what's the index of the threshold that is closest to the default threshold of 0.5? \n",
        "- We are subtracting 0.5 from the thresholds so that \n",
        "    - the numbers close to 0 become -0.5\n",
        "    - the numbers close to 1 become 0.5    \n",
        "    - the numbers close to 0.5 become 0\n",
        "- After this transformation, we are interested in the threshold index where the number is close to 0. So we take  absolute values and argmin.       "
      ]
    },
    {
      "cell_type": "code",
      "execution_count": null,
      "metadata": {
        "id": "LZKZeg8MT3Ki"
      },
      "outputs": [],
      "source": [
        "close_default_lr = np.argmin(np.abs(thresholds_lr - 0.5))"
      ]
    },
    {
      "cell_type": "markdown",
      "metadata": {
        "id": "PkJNf6GcT3Ki"
      },
      "source": [
        "SVC doesn't have `predict_proba`. Instead it has something called `decision_function`. The index of the threshold that is closest to 0 of decision function is the default threshold in SVC. "
      ]
    },
    {
      "cell_type": "code",
      "execution_count": null,
      "metadata": {
        "id": "91AZfhJ8T3Ki"
      },
      "outputs": [],
      "source": [
        "close_zero_svm = np.argmin(np.abs(thresholds_svc))"
      ]
    },
    {
      "cell_type": "code",
      "execution_count": null,
      "metadata": {
        "colab": {
          "base_uri": "https://localhost:8080/",
          "height": 465
        },
        "id": "jaRP07B6T3Ki",
        "outputId": "1f36ea63-a6ec-4893-9efa-34461821d967"
      },
      "outputs": [
        {
          "output_type": "display_data",
          "data": {
            "text/plain": [
              "<Figure size 640x480 with 1 Axes>"
            ],
            "image/png": "[encoded data removed]"
          },
          "metadata": {}
        }
      ],
      "source": [
        "plt.plot(precision_svc, recall_svc, label=\"svc\")\n",
        "plt.plot(precision_lr, recall_lr, label=\"logistic regression\")\n",
        "plt.plot(\n",
        "    precision_svc[close_zero_svm],\n",
        "    recall_svc[close_zero_svm],\n",
        "    \"o\",\n",
        "    markersize=10,\n",
        "    label=\"default threshold svc\",\n",
        "    c=\"b\",\n",
        ")\n",
        "plt.plot(\n",
        "    precision_lr[close_default_lr],\n",
        "    recall_lr[close_default_lr],\n",
        "    \"*\",\n",
        "    markersize=10,\n",
        "    label=\"default threshold logistic regression\",\n",
        "    c=\"r\",\n",
        ")\n",
        "\n",
        "plt.xlabel(\"Precision\")\n",
        "plt.ylabel(\"Recall\")\n",
        "plt.legend(loc=\"best\");"
      ]
    },
    {
      "cell_type": "code",
      "execution_count": null,
      "metadata": {
        "id": "eLjgrF9kT3Kj"
      },
      "outputs": [],
      "source": [
        "svc_preds = pipe_svc.predict(X_valid)\n",
        "lr_preds = pipe_lr.predict(X_valid)"
      ]
    },
    {
      "cell_type": "code",
      "execution_count": null,
      "metadata": {
        "colab": {
          "base_uri": "https://localhost:8080/"
        },
        "id": "jdPuMq6yT3Kj",
        "outputId": "d77b7f89-3220-4212-c5e5-a7506a64739c"
      },
      "outputs": [
        {
          "output_type": "stream",
          "name": "stdout",
          "text": [
            "f1_score of logistic regression: 0.736\n",
            "f1_score of svc: 0.726\n"
          ]
        }
      ],
      "source": [
        "print(\"f1_score of logistic regression: {:.3f}\".format(f1_score(y_valid, lr_preds)))\n",
        "print(\"f1_score of svc: {:.3f}\".format(f1_score(y_valid, svc_preds)))"
      ]
    },
    {
      "cell_type": "code",
      "execution_count": null,
      "metadata": {
        "id": "2OdXUG6mT3Kj"
      },
      "outputs": [],
      "source": [
        "ap_lr = average_precision_score(y_valid, pipe_lr.predict_proba(X_valid)[:, 1])\n",
        "ap_svc = average_precision_score(y_valid, pipe_svc.decision_function(X_valid))"
      ]
    },
    {
      "cell_type": "code",
      "execution_count": null,
      "metadata": {
        "colab": {
          "base_uri": "https://localhost:8080/"
        },
        "id": "ELYvimyMT3Kj",
        "outputId": "63247442-d77e-40c3-e586-8af357fe340e"
      },
      "outputs": [
        {
          "output_type": "stream",
          "name": "stdout",
          "text": [
            "Average precision of logistic regression: 0.757\n",
            "Average precision of SVC: 0.790\n"
          ]
        }
      ],
      "source": [
        "print(\"Average precision of logistic regression: {:.3f}\".format(ap_lr))\n",
        "print(\"Average precision of SVC: {:.3f}\".format(ap_svc))"
      ]
    },
    {
      "cell_type": "markdown",
      "metadata": {
        "id": "jHMxTAfiT3Kk"
      },
      "source": [
        "- Comparing the precision-recall curves provide us a detail insight compared to f1 score.\n",
        "- For example, F1 scores for SVC and logistic regressions are pretty similar. In fact, f1 score of logistic regression is a tiny bit better. \n",
        "- But when we look at the PR curve, we see that SVC is doing better than logistic regression for most of the other thresholds. "
      ]
    },
    {
      "cell_type": "markdown",
      "metadata": {
        "id": "VuRRtr4jT3Kk"
      },
      "source": [
        "<br><br>"
      ]
    },
    {
      "cell_type": "markdown",
      "metadata": {
        "id": "Ifu1sfm5T3Kk"
      },
      "source": [
        "### Receiver Operating Characteristic (ROC) curve \n",
        "\n",
        "- Another commonly used tool to analyze the behavior of classifiers at different thresholds.  \n",
        "- Similar to PR curve, it considers all possible thresholds for a given classifier given by `predict_proba` but instead of precision and recall it plots false positive rate (FPR) and true positive rate (TPR or recall).\n",
        "$$ TPR = \\frac{TP}{TP + FN}, FPR  = \\frac{FP}{FP + TN}$$\n"
      ]
    },
    {
      "cell_type": "code",
      "execution_count": null,
      "metadata": {
        "colab": {
          "base_uri": "https://localhost:8080/",
          "height": 465
        },
        "id": "jtGYoakGT3Kl",
        "outputId": "23925359-9a8a-43e6-c7f3-d77137e90aa4"
      },
      "outputs": [
        {
          "output_type": "display_data",
          "data": {
            "text/plain": [
              "<Figure size 640x480 with 1 Axes>"
            ],
            "image/png": "[encoded data removed]"
          },
          "metadata": {}
        }
      ],
      "source": [
        "from sklearn.metrics import roc_curve\n",
        "\n",
        "fpr, tpr, thresholds = roc_curve(y_valid, pipe_lr.predict_proba(X_valid)[:, 1])\n",
        "plt.plot(fpr, tpr, label=\"ROC Curve\")\n",
        "plt.xlabel(\"FPR\")\n",
        "plt.ylabel(\"TPR (recall)\")\n",
        "\n",
        "default_threshold = np.argmin(np.abs(thresholds - 0.5))\n",
        "\n",
        "plt.plot(\n",
        "    fpr[default_threshold],\n",
        "    tpr[default_threshold],\n",
        "    \"or\",\n",
        "    markersize=10,\n",
        "    label=\"threshold 0.5\",\n",
        ")\n",
        "plt.legend(loc=\"best\");"
      ]
    },
    {
      "cell_type": "markdown",
      "metadata": {
        "id": "VrafNkCsT3Kl"
      },
      "source": [
        "- The ideal curve is close to the top left\n",
        "    - Ideally, you want a classifier with high recall while keeping low false positive rate.  \n",
        "- The red dot corresponds to the threshold of 0.5, which is used by predict.\n",
        "- We see that compared to the default threshold, we can achieve a better recall of around 0.8 without increasing FPR. "
      ]
    },
    {
      "cell_type": "markdown",
      "metadata": {
        "id": "wQV6i33fT3Km"
      },
      "source": [
        "Let's compare ROC curve of different classifiers. "
      ]
    },
    {
      "cell_type": "code",
      "execution_count": null,
      "metadata": {
        "id": "tiOsbJqjT3Km"
      },
      "outputs": [],
      "source": [
        "fpr_lr, tpr_lr, thresholds_lr = roc_curve(y_valid, pipe_lr.predict_proba(X_valid)[:, 1])\n",
        "\n",
        "fpr_svc, tpr_svc, thresholds_svc = roc_curve(\n",
        "    y_valid, pipe_svc.decision_function(X_valid)\n",
        ")"
      ]
    },
    {
      "cell_type": "code",
      "execution_count": null,
      "metadata": {
        "id": "FsMMCJUlT3Km"
      },
      "outputs": [],
      "source": [
        "close_default_lr = np.argmin(np.abs(thresholds_lr - 0.5))\n",
        "close_zero_svm = np.argmin(np.abs(thresholds_svc))"
      ]
    },
    {
      "cell_type": "code",
      "execution_count": null,
      "metadata": {
        "colab": {
          "base_uri": "https://localhost:8080/",
          "height": 465
        },
        "id": "xsM2Hkt4T3Kn",
        "outputId": "3b3e0099-8d6b-49de-86ed-4a4a909c6417"
      },
      "outputs": [
        {
          "output_type": "display_data",
          "data": {
            "text/plain": [
              "<Figure size 640x480 with 1 Axes>"
            ],
            "image/png": "[encoded data removed]"
          },
          "metadata": {}
        }
      ],
      "source": [
        "plt.plot(fpr_svc, tpr_svc, label=\"svc\")\n",
        "plt.plot(fpr_lr, tpr_lr, label=\"logistic regression\")\n",
        "plt.plot(\n",
        "    fpr_svc[close_zero_svm],\n",
        "    tpr_svc[close_zero_svm],\n",
        "    \"o\",\n",
        "    markersize=10,\n",
        "    label=\"default threshold svc\",\n",
        "    c=\"b\",\n",
        ")\n",
        "plt.plot(\n",
        "    fpr_lr[close_default_lr],\n",
        "    tpr_lr[close_default_lr],\n",
        "    \"*\",\n",
        "    markersize=10,\n",
        "    label=\"default threshold logistic regression\",\n",
        "    c=\"r\",\n",
        ")\n",
        "\n",
        "plt.xlabel(\"False positive rate\")\n",
        "plt.ylabel(\"True positive rate (Recall)\")\n",
        "plt.legend(loc=\"best\");"
      ]
    },
    {
      "cell_type": "markdown",
      "metadata": {
        "id": "ZqKxNWH0T3Kn"
      },
      "source": [
        "### Area under the curve (AUC)\n",
        "\n",
        "- AUC provides a single meaningful number for the model performance. "
      ]
    },
    {
      "cell_type": "code",
      "execution_count": null,
      "metadata": {
        "colab": {
          "base_uri": "https://localhost:8080/"
        },
        "id": "wZHO3uawT3Ko",
        "outputId": "a774bd03-d725-48e8-d948-427754ddab2f"
      },
      "outputs": [
        {
          "output_type": "stream",
          "name": "stdout",
          "text": [
            "AUC for LR: 0.970\n",
            "AUC for SVC: 0.938\n"
          ]
        }
      ],
      "source": [
        "from sklearn.metrics import roc_auc_score\n",
        "\n",
        "roc_lr = roc_auc_score(y_valid, pipe_lr.predict_proba(X_valid)[:, 1])\n",
        "roc_svc = roc_auc_score(y_valid, pipe_svc.decision_function(X_valid))\n",
        "print(\"AUC for LR: {:.3f}\".format(roc_lr))\n",
        "print(\"AUC for SVC: {:.3f}\".format(roc_svc))\n"
      ]
    },
    {
      "cell_type": "markdown",
      "metadata": {
        "id": "eIL-Mf5HT3Ko"
      },
      "source": [
        "- AUC of 0.5 means random chance. \n",
        "- AUC can be interpreted as evaluating the **ranking** of positive examples.\n",
        "- What's the probability that a randomly picked positive point has a higher score according to the classifier than a randomly picked point from the negative class. \n",
        "- AUC of 1.0 means all positive points have a higher score than all negative points. "
      ]
    },
    {
      "cell_type": "markdown",
      "metadata": {
        "id": "ojiNzpA3T3Ko"
      },
      "source": [
        "```{important}\n",
        "For classification problems with imbalanced classes, using AP score or AUC is often much more meaningful than using accuracy. \n",
        "```"
      ]
    },
    {
      "cell_type": "markdown",
      "metadata": {
        "id": "-BhqxS4YT3Kp"
      },
      "source": [
        "Similar to `PrecisionRecallCurveDisplay`, there is a `RocCurveDisplay` function in sklearn. "
      ]
    },
    {
      "cell_type": "code",
      "execution_count": null,
      "metadata": {
        "colab": {
          "base_uri": "https://localhost:8080/",
          "height": 465
        },
        "id": "AmgEKesOT3Kp",
        "outputId": "cd801443-aec7-4fe0-a3ae-ca56333c436c"
      },
      "outputs": [
        {
          "output_type": "display_data",
          "data": {
            "text/plain": [
              "<Figure size 640x480 with 1 Axes>"
            ],
            "image/png": "[encoded data removed]"
          },
          "metadata": {}
        }
      ],
      "source": [
        "from sklearn.metrics import RocCurveDisplay\n",
        "\n",
        "RocCurveDisplay.from_estimator(pipe_lr, X_valid, y_valid);"
      ]
    },
    {
      "cell_type": "markdown",
      "metadata": {
        "id": "SJg7fXNDT3Kq"
      },
      "source": [
        "### Let's look at all the scores at once"
      ]
    },
    {
      "cell_type": "code",
      "execution_count": null,
      "metadata": {
        "colab": {
          "base_uri": "https://localhost:8080/"
        },
        "id": "aSBUwocYT3Kq",
        "outputId": "96aa6fc2-5d64-48e4-c85e-bb5bb818ae33"
      },
      "outputs": [
        {
          "output_type": "execute_result",
          "data": {
            "text/plain": [
              "fit_time                  1.476360\n",
              "score_time                0.118091\n",
              "test_accuracy             0.999182\n",
              "test_f1                   0.714290\n",
              "test_recall               0.601712\n",
              "test_precision            0.881915\n",
              "test_roc_auc              0.967228\n",
              "test_average_precision    0.744074\n",
              "dtype: float64"
            ]
          },
          "metadata": {},
          "execution_count": 64
        }
      ],
      "source": [
        "scoring = [\"accuracy\", \"f1\", \"recall\", \"precision\", \"roc_auc\", \"average_precision\"]\n",
        "pipe = make_pipeline(StandardScaler(), LogisticRegression())\n",
        "scores = cross_validate(pipe, X_train_big, y_train_big, scoring=scoring)\n",
        "pd.DataFrame(scores).mean()"
      ]
    },
    {
      "cell_type": "markdown",
      "metadata": {
        "id": "aaqM-ySrT3Kr"
      },
      "source": [
        "```{seealso}\n",
        "Check out [these visualization](https://github.com/dariyasydykova/open_projects/tree/master/ROC_animation) on ROC and AUC.  \n",
        "```"
      ]
    },
    {
      "cell_type": "markdown",
      "metadata": {
        "id": "4ssS1xhJT3Kr"
      },
      "source": [
        "<br><br><br><br>"
      ]
    },
    {
      "cell_type": "markdown",
      "metadata": {
        "id": "LRTwsoylT3Kr"
      },
      "source": [
        "## Dealing with class imbalance"
      ]
    },
    {
      "cell_type": "markdown",
      "metadata": {
        "id": "9gVr2DvxT3Ks"
      },
      "source": [
        "### Class imbalance in training sets\n",
        "\n",
        "- This typically refers to having many more examples of one class than another in one's training set.\n",
        "- Real world data is often imbalanced. \n",
        "    - Our Credit Card Fraud dataset is imbalanced.\n",
        "    - Ad clicking data is usually drastically imbalanced. (Only around ~0.01% ads are clicked.)\n",
        "    - Spam classification datasets are also usually imbalanced."
      ]
    },
    {
      "cell_type": "markdown",
      "metadata": {
        "id": "s9ErwvXPT3Ks"
      },
      "source": [
        "### Addressing class imbalance\n",
        "A very important question to ask yourself: \"Why do I have a class imbalance?\"\n",
        "\n",
        "- Is it because one class is much more rare than the other?\n",
        "    - If it's just because one is more rare than the other, you need to ask whether you care about one type of error more than the other.    \n",
        "- Is it because of my data collection methods?\n",
        "    - If it's the data collection, then that means _your test and training data come from different distributions_!\n",
        "  \n",
        "In some cases, it may be fine to just ignore the class imbalance."
      ]
    },
    {
      "cell_type": "markdown",
      "metadata": {
        "id": "9-FuARFkT3Ks"
      },
      "source": [
        "### Which type of error is more important? \n",
        "\n",
        "- False positives (FPs) and false negatives (FNs) have quite different real-world consequences. \n",
        "- In PR curve and ROC curve, we saw how changing the prediction threshold can change FPs and FNs. \n",
        "- We can then pick the threshold that's appropriate for our problem. \n",
        "- Example: if we want high recall, we may use a lower threshold (e.g., a threshold of 0.1). We'll then catch more fraudulent transactions. "
      ]
    },
    {
      "cell_type": "code",
      "execution_count": null,
      "metadata": {
        "colab": {
          "base_uri": "https://localhost:8080/"
        },
        "id": "IN9eNQ5mT3Ks",
        "outputId": "75eb7afc-fc84-4233-cfd7-53aab43e4b2e"
      },
      "outputs": [
        {
          "output_type": "stream",
          "name": "stdout",
          "text": [
            "              precision    recall  f1-score   support\n",
            "\n",
            "   non-fraud       1.00      1.00      1.00     59708\n",
            "       fraud       0.89      0.63      0.74       102\n",
            "\n",
            "    accuracy                           1.00     59810\n",
            "   macro avg       0.94      0.81      0.87     59810\n",
            "weighted avg       1.00      1.00      1.00     59810\n",
            "\n"
          ]
        }
      ],
      "source": [
        "pipe_lr = make_pipeline(StandardScaler(), LogisticRegression())\n",
        "pipe_lr.fit(X_train, y_train)\n",
        "y_pred = pipe_lr.predict(X_valid)\n",
        "print(classification_report(y_valid, y_pred, target_names=[\"non-fraud\", \"fraud\"]))"
      ]
    },
    {
      "cell_type": "code",
      "execution_count": null,
      "metadata": {
        "colab": {
          "base_uri": "https://localhost:8080/"
        },
        "id": "F2POGRPrT3Ks",
        "outputId": "a3383083-9b8d-4203-b68d-13f85e3b7d61"
      },
      "outputs": [
        {
          "output_type": "stream",
          "name": "stdout",
          "text": [
            "              precision    recall  f1-score   support\n",
            "\n",
            "   non-fraud       1.00      1.00      1.00     59708\n",
            "       fraud       0.77      0.76      0.77       102\n",
            "\n",
            "    accuracy                           1.00     59810\n",
            "   macro avg       0.89      0.88      0.88     59810\n",
            "weighted avg       1.00      1.00      1.00     59810\n",
            "\n"
          ]
        }
      ],
      "source": [
        "y_pred = pipe_lr.predict_proba(X_valid)[:, 1] > 0.10\n",
        "print(classification_report(y_valid, y_pred, target_names=[\"non-fraud\", \"fraud\"]))"
      ]
    },
    {
      "cell_type": "markdown",
      "metadata": {
        "id": "vSCFSrfVT3Kt"
      },
      "source": [
        "### Handling imbalance\n",
        "\n",
        "Can we change the model itself rather than changing the threshold so that it takes into account the errors that are important to us?\n",
        "\n",
        "There are two common approaches for this: \n",
        "- **Changing the data (optional)** (not covered in this course)\n",
        "   - Undersampling\n",
        "   - Oversampling \n",
        "       - Random oversampling\n",
        "       - SMOTE \n",
        "- **Changing the training procedure** \n",
        "    - `class_weight`"
      ]
    },
    {
      "cell_type": "markdown",
      "metadata": {
        "id": "MMKy6-dvT3Kt"
      },
      "source": [
        "### Changing the training procedure \n",
        "\n",
        "- All `sklearn` classifiers have a parameter called `class_weight`.\n",
        "- This allows you to specify that one class is more important than another.\n",
        "- For example, maybe a false negative is 10x more problematic than a false positive. "
      ]
    },
    {
      "cell_type": "markdown",
      "metadata": {
        "id": "g8BRbLiuT3Kt"
      },
      "source": [
        "### Example: `class_weight` parameter of `sklearn LogisticRegression` \n",
        "> class sklearn.linear_model.LogisticRegression(penalty='l2', dual=False, tol=0.0001, C=1.0, fit_intercept=True, intercept_scaling=1, **class_weight=None**, random_state=None, solver='lbfgs', max_iter=100, multi_class='auto', verbose=0, warm_start=False, n_jobs=None, l1_ratio=None)\n",
        "\n",
        "> class_weight: dict or 'balanced', default=None\n",
        "\n",
        "> Weights associated with classes in the form {class_label: weight}. If not given, all classes are supposed to have weight one. "
      ]
    },
    {
      "cell_type": "code",
      "execution_count": null,
      "metadata": {
        "colab": {
          "base_uri": "https://localhost:8080/",
          "height": 709
        },
        "id": "AYy96eR6T3Kt",
        "outputId": "0b766271-426a-4026-eea2-431bd1525396"
      },
      "outputs": [
        {
          "output_type": "stream",
          "name": "stderr",
          "text": [
            "/usr/local/lib/python3.10/dist-packages/IPython/core/display.py:724: UserWarning: Consider using IPython.display.IFrame instead\n",
            "  warnings.warn(\"Consider using IPython.display.IFrame instead\")\n"
          ]
        },
        {
          "output_type": "execute_result",
          "data": {
            "text/plain": [
              "<IPython.core.display.HTML object>"
            ],
            "text/html": [
              "<iframe src=https://scikit-learn.org/stable/modules/generated/sklearn.linear_model.LogisticRegression.html width=1000 height=650></iframe>"
            ]
          },
          "metadata": {},
          "execution_count": 67
        }
      ],
      "source": [
        "url = \"https://scikit-learn.org/stable/modules/generated/sklearn.linear_model.LogisticRegression.html\"\n",
        "HTML(\"<iframe src=%s width=1000 height=650></iframe>\" % url)"
      ]
    },
    {
      "cell_type": "code",
      "execution_count": null,
      "metadata": {
        "colab": {
          "base_uri": "https://localhost:8080/",
          "height": 465
        },
        "id": "CvfMssN1T3Ku",
        "outputId": "d7b25a3e-eda5-4a1e-807c-0b5773f260a1"
      },
      "outputs": [
        {
          "output_type": "display_data",
          "data": {
            "text/plain": [
              "<Figure size 640x480 with 2 Axes>"
            ],
            "image/png": "[encoded data removed]"
          },
          "metadata": {}
        }
      ],
      "source": [
        "ConfusionMatrixDisplay.from_estimator(\n",
        "    pipe_lr,\n",
        "    X_valid,\n",
        "    y_valid,\n",
        "    display_labels=[\"Non fraud\", \"fraud\"],\n",
        "    values_format=\"d\",\n",
        "    cmap=plt.cm.Blues,\n",
        ");"
      ]
    },
    {
      "cell_type": "code",
      "execution_count": null,
      "metadata": {
        "colab": {
          "base_uri": "https://localhost:8080/"
        },
        "id": "WnH34sq2T3Kv",
        "outputId": "6d63dc23-923c-44cd-8fd4-40f288ed6cfe"
      },
      "outputs": [
        {
          "output_type": "execute_result",
          "data": {
            "text/plain": [
              "array([0, 1])"
            ]
          },
          "metadata": {},
          "execution_count": 69
        }
      ],
      "source": [
        "pipe_lr.named_steps[\"logisticregression\"].classes_"
      ]
    },
    {
      "cell_type": "markdown",
      "metadata": {
        "id": "_D58E166T3Kv"
      },
      "source": [
        "Let's set \"fraud\" class a weight of 10."
      ]
    },
    {
      "cell_type": "code",
      "execution_count": null,
      "metadata": {
        "colab": {
          "base_uri": "https://localhost:8080/",
          "height": 465
        },
        "id": "eoNyDBW3T3Kv",
        "outputId": "3c19c91a-fab3-4d73-8bae-e8b4522362a2"
      },
      "outputs": [
        {
          "output_type": "display_data",
          "data": {
            "text/plain": [
              "<Figure size 640x480 with 2 Axes>"
            ],
            "image/png": "[encoded data removed]"
          },
          "metadata": {}
        }
      ],
      "source": [
        "pipe_lr_weight = make_pipeline(\n",
        "    StandardScaler(), LogisticRegression(max_iter=500, class_weight={0:1, 1: 10})\n",
        ")\n",
        "pipe_lr_weight.fit(X_train, y_train)\n",
        "ConfusionMatrixDisplay.from_estimator(\n",
        "    pipe_lr_weight,\n",
        "    X_valid,\n",
        "    y_valid,\n",
        "    display_labels=[\"Non fraud\", \"fraud\"],\n",
        "    values_format=\"d\",\n",
        "    cmap=plt.cm.Blues,\n",
        ");"
      ]
    },
    {
      "cell_type": "markdown",
      "metadata": {
        "id": "wuGHVoodT3Kv"
      },
      "source": [
        "- Notice we've reduced false negatives and predicted more Fraud this time.\n",
        "- This was equivalent to saying give 10x more \"importance\" to fraud class. \n",
        "- Note that as a consequence we are also increasing false positives.    "
      ]
    },
    {
      "cell_type": "markdown",
      "metadata": {
        "id": "EXrk_2K6T3Kw"
      },
      "source": [
        "### `class_weight=\"balanced\"`\n",
        "- A useful setting is `class_weight=\"balanced\"`.\n",
        "- This sets the weights so that the classes are \"equal\".\n",
        "\n",
        "> class_weight: dict, ‘balanced’ or None\n",
        "If ‘balanced’, class weights will be given by n_samples / (n_classes * np.bincount(y)). If a dictionary is given, keys are classes and values are corresponding class weights. If None is given, the class weights will be uniform.\n",
        "\n",
        "> sklearn.utils.class_weight.compute_class_weight(class_weight, classes, y)"
      ]
    },
    {
      "cell_type": "code",
      "execution_count": null,
      "metadata": {
        "colab": {
          "base_uri": "https://localhost:8080/",
          "height": 465
        },
        "id": "1WnmxG72T3Kw",
        "outputId": "52069413-f13a-4815-f31a-987f93d692fa"
      },
      "outputs": [
        {
          "output_type": "display_data",
          "data": {
            "text/plain": [
              "<Figure size 640x480 with 2 Axes>"
            ],
            "image/png": "[encoded data removed]"
          },
          "metadata": {}
        }
      ],
      "source": [
        "pipe_lr_balanced = make_pipeline(\n",
        "    StandardScaler(), LogisticRegression(max_iter=500, class_weight=\"balanced\")\n",
        ")\n",
        "pipe_lr_balanced.fit(X_train, y_train)\n",
        "ConfusionMatrixDisplay.from_estimator(\n",
        "    pipe_lr_balanced,\n",
        "    X_valid,\n",
        "    y_valid,\n",
        "    display_labels=[\"Non fraud\", \"fraud\"],\n",
        "    values_format=\"d\",\n",
        "    cmap=plt.cm.Blues,\n",
        ");"
      ]
    },
    {
      "cell_type": "markdown",
      "metadata": {
        "id": "j-8wWi4JT3Kw"
      },
      "source": [
        "We have reduced false negatives but we have many more false positives now ..."
      ]
    },
    {
      "cell_type": "markdown",
      "metadata": {
        "id": "gl6YYRVyT3Kw"
      },
      "source": [
        "### Are we doing better with `class_weight=\"balanced\"`?"
      ]
    },
    {
      "cell_type": "code",
      "execution_count": null,
      "metadata": {
        "id": "s1qpY0ltT3Kx"
      },
      "outputs": [],
      "source": [
        "comp_dict = {}\n",
        "pipe_lr = make_pipeline(StandardScaler(), LogisticRegression(max_iter=500))\n",
        "scoring = [\"accuracy\", \"f1\", \"recall\", \"precision\", \"roc_auc\", \"average_precision\"]\n",
        "orig_scores = cross_validate(pipe_lr, X_train_big, y_train_big, scoring=scoring)"
      ]
    },
    {
      "cell_type": "code",
      "execution_count": null,
      "metadata": {
        "id": "xW6S9NIeT3Kx"
      },
      "outputs": [],
      "source": [
        "pipe_lr_balanced = make_pipeline(\n",
        "    StandardScaler(), LogisticRegression(max_iter=500, class_weight=\"balanced\")\n",
        ")\n",
        "scoring = [\"accuracy\", \"f1\", \"recall\", \"precision\", \"roc_auc\", \"average_precision\"]\n",
        "bal_scores = cross_validate(pipe_lr_balanced, X_train_big, y_train_big, scoring=scoring)\n",
        "comp_dict = {\n",
        "    \"Original\": pd.DataFrame(orig_scores).mean().tolist(),\n",
        "    \"class_weight='balanced'\": pd.DataFrame(bal_scores).mean().tolist(),\n",
        "}"
      ]
    },
    {
      "cell_type": "code",
      "execution_count": null,
      "metadata": {
        "colab": {
          "base_uri": "https://localhost:8080/",
          "height": 300
        },
        "id": "yGmry3bjT3Kx",
        "outputId": "b1285811-d578-498d-9b5c-ee2b6a14bb26"
      },
      "outputs": [
        {
          "output_type": "execute_result",
          "data": {
            "text/plain": [
              "                        Original  class_weight='balanced'\n",
              "fit_time                1.712494                 1.614796\n",
              "score_time              0.126759                 0.180660\n",
              "test_accuracy           0.999182                 0.973210\n",
              "test_f1                 0.714290                 0.101817\n",
              "test_recall             0.601712                 0.891001\n",
              "test_precision          0.881915                 0.054009\n",
              "test_roc_auc            0.967228                 0.970505\n",
              "test_average_precision  0.744074                 0.730368"
            ],
            "text/html": [
              "\n",
              "  <div id=\"df-449858a3-8f70-4652-a1ff-fb5cdfc3ff2e\">\n",
              "    <div class=\"colab-df-container\">\n",
              "      <div>\n",
              "<style scoped>\n",
              "    .dataframe tbody tr th:only-of-type {\n",
              "        vertical-align: middle;\n",
              "    }\n",
              "\n",
              "    .dataframe tbody tr th {\n",
              "        vertical-align: top;\n",
              "    }\n",
              "\n",
              "    .dataframe thead th {\n",
              "        text-align: right;\n",
              "    }\n",
              "</style>\n",
              "<table border=\"1\" class=\"dataframe\">\n",
              "  <thead>\n",
              "    <tr style=\"text-align: right;\">\n",
              "      <th></th>\n",
              "      <th>Original</th>\n",
              "      <th>class_weight='balanced'</th>\n",
              "    </tr>\n",
              "  </thead>\n",
              "  <tbody>\n",
              "    <tr>\n",
              "      <th>fit_time</th>\n",
              "      <td>1.712494</td>\n",
              "      <td>1.614796</td>\n",
              "    </tr>\n",
              "    <tr>\n",
              "      <th>score_time</th>\n",
              "      <td>0.126759</td>\n",
              "      <td>0.180660</td>\n",
              "    </tr>\n",
              "    <tr>\n",
              "      <th>test_accuracy</th>\n",
              "      <td>0.999182</td>\n",
              "      <td>0.973210</td>\n",
              "    </tr>\n",
              "    <tr>\n",
              "      <th>test_f1</th>\n",
              "      <td>0.714290</td>\n",
              "      <td>0.101817</td>\n",
              "    </tr>\n",
              "    <tr>\n",
              "      <th>test_recall</th>\n",
              "      <td>0.601712</td>\n",
              "      <td>0.891001</td>\n",
              "    </tr>\n",
              "    <tr>\n",
              "      <th>test_precision</th>\n",
              "      <td>0.881915</td>\n",
              "      <td>0.054009</td>\n",
              "    </tr>\n",
              "    <tr>\n",
              "      <th>test_roc_auc</th>\n",
              "      <td>0.967228</td>\n",
              "      <td>0.970505</td>\n",
              "    </tr>\n",
              "    <tr>\n",
              "      <th>test_average_precision</th>\n",
              "      <td>0.744074</td>\n",
              "      <td>0.730368</td>\n",
              "    </tr>\n",
              "  </tbody>\n",
              "</table>\n",
              "</div>\n",
              "      <button class=\"colab-df-convert\" onclick=\"convertToInteractive('df-449858a3-8f70-4652-a1ff-fb5cdfc3ff2e')\"\n",
              "              title=\"Convert this dataframe to an interactive table.\"\n",
              "              style=\"display:none;\">\n",
              "        \n",
              "  <svg xmlns=\"http://www.w3.org/2000/svg\" height=\"24px\"viewBox=\"0 0 24 24\"\n",
              "       width=\"24px\">\n",
              "    <path d=\"M0 0h24v24H0V0z\" fill=\"none\"/>\n",
              "    <path d=\"M18.56 5.44l.94 2.06.94-2.06 2.06-.94-2.06-.94-.94-2.06-.94 2.06-2.06.94zm-11 1L8.5 8.5l.94-2.06 2.06-.94-2.06-.94L8.5 2.5l-.94 2.06-2.06.94zm10 10l.94 2.06.94-2.06 2.06-.94-2.06-.94-.94-2.06-.94 2.06-2.06.94z\"/><path d=\"M17.41 7.96l-1.37-1.37c-.4-.4-.92-.59-1.43-.59-.52 0-1.04.2-1.43.59L10.3 9.45l-7.72 7.72c-.78.78-.78 2.05 0 2.83L4 21.41c.39.39.9.59 1.41.59.51 0 1.02-.2 1.41-.59l7.78-7.78 2.81-2.81c.8-.78.8-2.07 0-2.86zM5.41 20L4 18.59l7.72-7.72 1.47 1.35L5.41 20z\"/>\n",
              "  </svg>\n",
              "      </button>\n",
              "      \n",
              "  <style>\n",
              "    .colab-df-container {\n",
              "      display:flex;\n",
              "      flex-wrap:wrap;\n",
              "      gap: 12px;\n",
              "    }\n",
              "\n",
              "    .colab-df-convert {\n",
              "      background-color: #E8F0FE;\n",
              "      border: none;\n",
              "      border-radius: 50%;\n",
              "      cursor: pointer;\n",
              "      display: none;\n",
              "      fill: #1967D2;\n",
              "      height: 32px;\n",
              "      padding: 0 0 0 0;\n",
              "      width: 32px;\n",
              "    }\n",
              "\n",
              "    .colab-df-convert:hover {\n",
              "      background-color: #E2EBFA;\n",
              "      box-shadow: 0px 1px 2px rgba(60, 64, 67, 0.3), 0px 1px 3px 1px rgba(60, 64, 67, 0.15);\n",
              "      fill: #174EA6;\n",
              "    }\n",
              "\n",
              "    [theme=dark] .colab-df-convert {\n",
              "      background-color: #3B4455;\n",
              "      fill: #D2E3FC;\n",
              "    }\n",
              "\n",
              "    [theme=dark] .colab-df-convert:hover {\n",
              "      background-color: #434B5C;\n",
              "      box-shadow: 0px 1px 3px 1px rgba(0, 0, 0, 0.15);\n",
              "      filter: drop-shadow(0px 1px 2px rgba(0, 0, 0, 0.3));\n",
              "      fill: #FFFFFF;\n",
              "    }\n",
              "  </style>\n",
              "\n",
              "      <script>\n",
              "        const buttonEl =\n",
              "          document.querySelector('#df-449858a3-8f70-4652-a1ff-fb5cdfc3ff2e button.colab-df-convert');\n",
              "        buttonEl.style.display =\n",
              "          google.colab.kernel.accessAllowed ? 'block' : 'none';\n",
              "\n",
              "        async function convertToInteractive(key) {\n",
              "          const element = document.querySelector('#df-449858a3-8f70-4652-a1ff-fb5cdfc3ff2e');\n",
              "          const dataTable =\n",
              "            await google.colab.kernel.invokeFunction('convertToInteractive',\n",
              "                                                     [key], {});\n",
              "          if (!dataTable) return;\n",
              "\n",
              "          const docLinkHtml = 'Like what you see? Visit the ' +\n",
              "            '<a target=\"_blank\" href=https://colab.research.google.com/notebooks/data_table.ipynb>data table notebook</a>'\n",
              "            + ' to learn more about interactive tables.';\n",
              "          element.innerHTML = '';\n",
              "          dataTable['output_type'] = 'display_data';\n",
              "          await google.colab.output.renderOutput(dataTable, element);\n",
              "          const docLink = document.createElement('div');\n",
              "          docLink.innerHTML = docLinkHtml;\n",
              "          element.appendChild(docLink);\n",
              "        }\n",
              "      </script>\n",
              "    </div>\n",
              "  </div>\n",
              "  "
            ]
          },
          "metadata": {},
          "execution_count": 74
        }
      ],
      "source": [
        "pd.DataFrame(comp_dict, index=bal_scores.keys())"
      ]
    },
    {
      "cell_type": "markdown",
      "metadata": {
        "id": "LSH3cGfFT3Kx"
      },
      "source": [
        "- Recall is much better but precision has dropped a lot; we have many false positives. \n",
        "- You could also optimize `class_weight` using hyperparameter optimization for your specific problem. "
      ]
    },
    {
      "cell_type": "markdown",
      "metadata": {
        "id": "zhkfYSVOT3Kx"
      },
      "source": [
        "- Changing the class weight will **generally reduce accuracy**.\n",
        "- The original model was trying to maximize accuracy.\n",
        "- Now you're telling it to do something different.\n",
        "- But that can be fine, accuracy isn't the only metric that matters."
      ]
    },
    {
      "cell_type": "markdown",
      "metadata": {
        "id": "e9qz299bT3Ky"
      },
      "source": [
        "### Stratified Splits\n",
        "\n",
        "- A similar idea of \"balancing\" classes can be applied to data splits.\n",
        "- We have the same option in `train_test_split` with the `stratify` argument. \n",
        "- By default it splits the data so that if we have 10% negative examples in total, then each split will have 10% negative examples."
      ]
    },
    {
      "cell_type": "markdown",
      "metadata": {
        "id": "2AEfYj3QT3Ky"
      },
      "source": [
        "- If you are carrying out cross validation using `cross_validate`, by default it uses [`StratifiedKFold`](https://scikit-learn.org/stable/modules/generated/sklearn.model_selection.StratifiedKFold.html). From the documentation: \n",
        "\n",
        "> This cross-validation object is a variation of KFold that returns stratified folds. The folds are made by preserving the percentage of samples for each class.\n",
        "\n",
        "- In other words, if we have 10% negative examples in total, then each fold will have 10% negative examples."
      ]
    },
    {
      "cell_type": "markdown",
      "metadata": {
        "id": "ktttY7WLT3Ky"
      },
      "source": [
        "### Is stratifying a good idea? \n",
        "\n",
        "  - Well, it's no longer a random sample, which is probably theoretically bad, but not that big of a deal.\n",
        "  - If you have many examples, it shouldn't matter as much.\n",
        "  - It can be especially useful in multi-class, say if you have one class with very few cases.\n",
        "  - In general, these are difficult questions."
      ]
    },
    {
      "cell_type": "markdown",
      "metadata": {
        "id": "sB8t2LMpT3Ky"
      },
      "source": [
        "<br><br><br><br>"
      ]
    },
    {
      "cell_type": "markdown",
      "metadata": {
        "id": "kY7xn_WYT3Ky"
      },
      "source": [
        "## What did we learn today? \n",
        "\n",
        "- A number of possible ways to evaluate machine learning models \n",
        "    - Choose the evaluation metric that makes most sense in your context or which is most common in your discipline  \n",
        "- Two kinds of binary classification problems \n",
        "    - Distinguishing between two classes (e.g., dogs vs. cats)\n",
        "    - Spotting a class (e.g., spot fraud transaction, spot spam)"
      ]
    },
    {
      "cell_type": "markdown",
      "metadata": {
        "id": "1gyPteTBT3Ky"
      },
      "source": [
        "- Precision, recall, f1-score are useful when dealing with spotting problems. \n",
        "- The thing that we are interested in spotting is considered \"positive\".   \n",
        "- Do you need to deal with class imbalance in the given problem? \n",
        "- Methods to deal with class imbalance \n",
        "    - Changing the training procedure \n",
        "        - `class_weight`"
      ]
    },
    {
      "cell_type": "markdown",
      "metadata": {
        "id": "FkQH2DxcT3Kz"
      },
      "source": [
        "### Relevant papers and resources \n",
        "\n",
        "- [The Relationship Between Precision-Recall and ROC Curves](https://www.biostat.wisc.edu/~page/rocpr.pdf)\n",
        "- [Article claiming that PR curve are better than ROC for imbalanced datasets](https://journals.plos.org/plosone/article?id=10.1371/journal.pone.0118432)\n",
        "- [Precision-Recall-Gain Curves: PR Analysis Done Right](https://papers.nips.cc/paper/2015/file/33e8075e9970de0cfea955afd4644bb2-Paper.pdf)\n",
        "- [ROC animation](https://github.com/dariyasydykova/open_projects/tree/master/ROC_animation)\n",
        "- [Generalization in Adaptive Data Analysis and Holdout Reuse](https://arxiv.org/pdf/1506.02629.pdf)"
      ]
    },
    {
      "cell_type": "markdown",
      "metadata": {
        "id": "pTbKIiCRT3Kz"
      },
      "source": [
        "![](img/eva-seeyou.png)"
      ]
    }
  ],
  "metadata": {
    "celltoolbar": "Slideshow",
    "kernelspec": {
      "display_name": "Python 3",
      "language": "python",
      "name": "python3"
    },
    "language_info": {
      "codemirror_mode": {
        "name": "ipython",
        "version": 3
      },
      "file_extension": ".py",
      "mimetype": "text/x-python",
      "name": "python",
      "nbconvert_exporter": "python",
      "pygments_lexer": "ipython3",
      "version": "3.10.11"
    },
    "colab": {
      "provenance": [],
      "include_colab_link": true
    },
    "widgets": {
      "application/vnd.jupyter.widget-state+json": {
        "d6106f609dcd4451a448e3c0c3c68d3b": {
          "model_module": "@jupyter-widgets/controls",
          "model_name": "VBoxModel",
          "model_module_version": "1.5.0",
          "state": {
            "_dom_classes": [
              "widget-interact"
            ],
            "_model_module": "@jupyter-widgets/controls",
            "_model_module_version": "1.5.0",
            "_model_name": "VBoxModel",
            "_view_count": null,
            "_view_module": "@jupyter-widgets/controls",
            "_view_module_version": "1.5.0",
            "_view_name": "VBoxView",
            "box_style": "",
            "children": [
              "IPY_MODEL_1d20b6572f0d42cfa85a5547756259dd",
              "IPY_MODEL_aacf0b080b434eb1a64ac62049647ac0"
            ],
            "layout": "IPY_MODEL_1f303a420c0c4d139c08acdfd6c3062c"
          }
        },
        "1d20b6572f0d42cfa85a5547756259dd": {
          "model_module": "@jupyter-widgets/controls",
          "model_name": "FloatSliderModel",
          "model_module_version": "1.5.0",
          "state": {
            "_dom_classes": [],
            "_model_module": "@jupyter-widgets/controls",
            "_model_module_version": "1.5.0",
            "_model_name": "FloatSliderModel",
            "_view_count": null,
            "_view_module": "@jupyter-widgets/controls",
            "_view_module_version": "1.5.0",
            "_view_name": "FloatSliderView",
            "continuous_update": true,
            "description": "threshold",
            "description_tooltip": null,
            "disabled": false,
            "layout": "IPY_MODEL_53299646c8f244b28eba0cdc12d56b1a",
            "max": 0.9,
            "min": 0,
            "orientation": "horizontal",
            "readout": true,
            "readout_format": ".2f",
            "step": 0.1,
            "style": "IPY_MODEL_8d0367ec31b04accb53d2af3b31a023a",
            "value": 0.5
          }
        },
        "aacf0b080b434eb1a64ac62049647ac0": {
          "model_module": "@jupyter-widgets/output",
          "model_name": "OutputModel",
          "model_module_version": "1.0.0",
          "state": {
            "_dom_classes": [],
            "_model_module": "@jupyter-widgets/output",
            "_model_module_version": "1.0.0",
            "_model_name": "OutputModel",
            "_view_count": null,
            "_view_module": "@jupyter-widgets/output",
            "_view_module_version": "1.0.0",
            "_view_name": "OutputView",
            "layout": "IPY_MODEL_375d5f3ea2624c9583e25a7e418a10c7",
            "msg_id": "",
            "outputs": [
              {
                "output_type": "stream",
                "name": "stdout",
                "text": [
                  "Threshold:  0.5\n",
                  "Precision:  0.8889\n",
                  "Recall:  0.6275\n",
                  "f1 score:  0.7356\n"
                ]
              }
            ]
          }
        },
        "1f303a420c0c4d139c08acdfd6c3062c": {
          "model_module": "@jupyter-widgets/base",
          "model_name": "LayoutModel",
          "model_module_version": "1.2.0",
          "state": {
            "_model_module": "@jupyter-widgets/base",
            "_model_module_version": "1.2.0",
            "_model_name": "LayoutModel",
            "_view_count": null,
            "_view_module": "@jupyter-widgets/base",
            "_view_module_version": "1.2.0",
            "_view_name": "LayoutView",
            "align_content": null,
            "align_items": null,
            "align_self": null,
            "border": null,
            "bottom": null,
            "display": null,
            "flex": null,
            "flex_flow": null,
            "grid_area": null,
            "grid_auto_columns": null,
            "grid_auto_flow": null,
            "grid_auto_rows": null,
            "grid_column": null,
            "grid_gap": null,
            "grid_row": null,
            "grid_template_areas": null,
            "grid_template_columns": null,
            "grid_template_rows": null,
            "height": null,
            "justify_content": null,
            "justify_items": null,
            "left": null,
            "margin": null,
            "max_height": null,
            "max_width": null,
            "min_height": null,
            "min_width": null,
            "object_fit": null,
            "object_position": null,
            "order": null,
            "overflow": null,
            "overflow_x": null,
            "overflow_y": null,
            "padding": null,
            "right": null,
            "top": null,
            "visibility": null,
            "width": null
          }
        },
        "53299646c8f244b28eba0cdc12d56b1a": {
          "model_module": "@jupyter-widgets/base",
          "model_name": "LayoutModel",
          "model_module_version": "1.2.0",
          "state": {
            "_model_module": "@jupyter-widgets/base",
            "_model_module_version": "1.2.0",
            "_model_name": "LayoutModel",
            "_view_count": null,
            "_view_module": "@jupyter-widgets/base",
            "_view_module_version": "1.2.0",
            "_view_name": "LayoutView",
            "align_content": null,
            "align_items": null,
            "align_self": null,
            "border": null,
            "bottom": null,
            "display": null,
            "flex": null,
            "flex_flow": null,
            "grid_area": null,
            "grid_auto_columns": null,
            "grid_auto_flow": null,
            "grid_auto_rows": null,
            "grid_column": null,
            "grid_gap": null,
            "grid_row": null,
            "grid_template_areas": null,
            "grid_template_columns": null,
            "grid_template_rows": null,
            "height": null,
            "justify_content": null,
            "justify_items": null,
            "left": null,
            "margin": null,
            "max_height": null,
            "max_width": null,
            "min_height": null,
            "min_width": null,
            "object_fit": null,
            "object_position": null,
            "order": null,
            "overflow": null,
            "overflow_x": null,
            "overflow_y": null,
            "padding": null,
            "right": null,
            "top": null,
            "visibility": null,
            "width": null
          }
        },
        "8d0367ec31b04accb53d2af3b31a023a": {
          "model_module": "@jupyter-widgets/controls",
          "model_name": "SliderStyleModel",
          "model_module_version": "1.5.0",
          "state": {
            "_model_module": "@jupyter-widgets/controls",
            "_model_module_version": "1.5.0",
            "_model_name": "SliderStyleModel",
            "_view_count": null,
            "_view_module": "@jupyter-widgets/base",
            "_view_module_version": "1.2.0",
            "_view_name": "StyleView",
            "description_width": "",
            "handle_color": null
          }
        },
        "375d5f3ea2624c9583e25a7e418a10c7": {
          "model_module": "@jupyter-widgets/base",
          "model_name": "LayoutModel",
          "model_module_version": "1.2.0",
          "state": {
            "_model_module": "@jupyter-widgets/base",
            "_model_module_version": "1.2.0",
            "_model_name": "LayoutModel",
            "_view_count": null,
            "_view_module": "@jupyter-widgets/base",
            "_view_module_version": "1.2.0",
            "_view_name": "LayoutView",
            "align_content": null,
            "align_items": null,
            "align_self": null,
            "border": null,
            "bottom": null,
            "display": null,
            "flex": null,
            "flex_flow": null,
            "grid_area": null,
            "grid_auto_columns": null,
            "grid_auto_flow": null,
            "grid_auto_rows": null,
            "grid_column": null,
            "grid_gap": null,
            "grid_row": null,
            "grid_template_areas": null,
            "grid_template_columns": null,
            "grid_template_rows": null,
            "height": null,
            "justify_content": null,
            "justify_items": null,
            "left": null,
            "margin": null,
            "max_height": null,
            "max_width": null,
            "min_height": null,
            "min_width": null,
            "object_fit": null,
            "object_position": null,
            "order": null,
            "overflow": null,
            "overflow_x": null,
            "overflow_y": null,
            "padding": null,
            "right": null,
            "top": null,
            "visibility": null,
            "width": null
          }
        }
      }
    }
  },
  "nbformat": 4,
  "nbformat_minor": 0
}