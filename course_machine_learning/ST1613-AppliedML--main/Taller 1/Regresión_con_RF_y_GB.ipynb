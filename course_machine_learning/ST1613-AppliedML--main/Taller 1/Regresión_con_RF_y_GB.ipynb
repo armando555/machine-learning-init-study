{
  "cells": [
    {
      "cell_type": "markdown",
      "metadata": {
        "id": "view-in-github",
        "colab_type": "text"
      },
      "source": [
        "<a href=\"https://colab.research.google.com/github/jdmartinev/ST1613-AppliedML-/blob/main/Taller%201/Regresi%C3%B3n_con_RF_y_GB.ipynb\" target=\"_parent\"><img src=\"https://colab.research.google.com/assets/colab-badge.svg\" alt=\"Open In Colab\"/></a>"
      ]
    },
    {
      "cell_type": "markdown",
      "metadata": {
        "id": "wEkt4QfS1jcl"
      },
      "source": [
        "# Taller 1: Regresión con Random Forest y Gradient Boosting\n"
      ]
    },
    {
      "cell_type": "markdown",
      "metadata": {
        "id": "y2QlBcV01jcm"
      },
      "source": [
        "En este taller se aplicará ensambes de árboles de decisión tipo random forest y gradient boosting a un conjunto de datos de jugadores del video juego FIFA 19. Los datos utilizados son un subconjunto modificado de [este set de datos](https://www.kaggle.com/karangadiya/fifa19) y se encuentran en el archivo `FIFA 19 players.csv`. La tarea a realizar consiste en predecir el salario (wage) de los jugadores."
      ]
    },
    {
      "cell_type": "code",
      "execution_count": 3,
      "metadata": {
        "ExecuteTime": {
          "end_time": "2021-09-18T02:41:58.990442Z",
          "start_time": "2021-09-18T02:41:58.975440Z"
        },
        "id": "TFC4jqoJ1jco"
      },
      "outputs": [],
      "source": [
        "import pandas as pd\n",
        "import numpy as np\n",
        "\n",
        "from sklearn.model_selection import train_test_split, RandomizedSearchCV, GridSearchCV\n",
        "from sklearn.metrics import mean_absolute_error\n",
        "from sklearn.ensemble import RandomForestRegressor, GradientBoostingRegressor\n",
        "from sklearn.decomposition import PCA\n",
        "from sklearn.compose import ColumnTransformer\n",
        "\n",
        "from matplotlib import pyplot as plt\n",
        "\n",
        "from sklearn.preprocessing import (\n",
        "    MinMaxScaler,\n",
        "    OneHotEncoder,\n",
        "    OrdinalEncoder,\n",
        "    #BinaryEncoder,\n",
        "    StandardScaler,\n",
        "    PolynomialFeatures,\n",
        "    FunctionTransformer,\n",
        ")"
      ]
    },
    {
      "cell_type": "code",
      "source": [
        "#Obtenemos los datos\n",
        "!wget --no-check-certificate 'https://docs.google.com/uc?export=download&id=1YkEYndYcq8Lhtx6KnGFBjUGguaP6wVwE' -O players.csv"
      ],
      "metadata": {
        "colab": {
          "base_uri": "https://localhost:8080/"
        },
        "id": "meiED8R11xLQ",
        "outputId": "d6d5e66f-1d15-4d0c-f413-398218bf37d0"
      },
      "execution_count": null,
      "outputs": [
        {
          "output_type": "stream",
          "name": "stdout",
          "text": [
            "--2023-04-27 22:31:51--  https://docs.google.com/uc?export=download&id=1YkEYndYcq8Lhtx6KnGFBjUGguaP6wVwE\n",
            "Resolving docs.google.com (docs.google.com)... 142.250.31.101, 142.250.31.139, 142.250.31.102, ...\n",
            "Connecting to docs.google.com (docs.google.com)|142.250.31.101|:443... connected.\n",
            "HTTP request sent, awaiting response... 303 See Other\n",
            "Location: https://doc-0s-6c-docs.googleusercontent.com/docs/securesc/ha0ro937gcuc7l7deffksulhg5h7mbp1/ka1ah67sqe47fs8vnj2br0fq7magvkg9/1682634675000/15315348669826032119/*/1YkEYndYcq8Lhtx6KnGFBjUGguaP6wVwE?e=download&uuid=e19cc4f6-7180-4752-a4fc-ee31296ba1c3 [following]\n",
            "Warning: wildcards not supported in HTTP.\n",
            "--2023-04-27 22:31:52--  https://doc-0s-6c-docs.googleusercontent.com/docs/securesc/ha0ro937gcuc7l7deffksulhg5h7mbp1/ka1ah67sqe47fs8vnj2br0fq7magvkg9/1682634675000/15315348669826032119/*/1YkEYndYcq8Lhtx6KnGFBjUGguaP6wVwE?e=download&uuid=e19cc4f6-7180-4752-a4fc-ee31296ba1c3\n",
            "Resolving doc-0s-6c-docs.googleusercontent.com (doc-0s-6c-docs.googleusercontent.com)... 142.251.163.132, 2607:f8b0:4004:c1b::84\n",
            "Connecting to doc-0s-6c-docs.googleusercontent.com (doc-0s-6c-docs.googleusercontent.com)|142.251.163.132|:443... connected.\n",
            "HTTP request sent, awaiting response... 200 OK\n",
            "Length: 5036558 (4.8M) [text/csv]\n",
            "Saving to: ‘players.csv’\n",
            "\n",
            "players.csv         100%[===================>]   4.80M  --.-KB/s    in 0.03s   \n",
            "\n",
            "2023-04-27 22:31:52 (169 MB/s) - ‘players.csv’ saved [5036558/5036558]\n",
            "\n"
          ]
        }
      ]
    },
    {
      "cell_type": "code",
      "execution_count": null,
      "metadata": {
        "ExecuteTime": {
          "end_time": "2021-09-18T02:27:33.239121Z",
          "start_time": "2021-09-18T02:27:33.232123Z"
        },
        "id": "97GuokBs1jcq"
      },
      "outputs": [],
      "source": [
        "# Definamos el \"random_state\" para que los resultados sean reproducibles:\n",
        "random_state=42"
      ]
    },
    {
      "cell_type": "code",
      "execution_count": null,
      "metadata": {
        "ExecuteTime": {
          "end_time": "2021-09-18T02:27:33.408121Z",
          "start_time": "2021-09-18T02:27:33.399121Z"
        },
        "id": "mMRZaAUp1jcr"
      },
      "outputs": [],
      "source": [
        "# Cambiemos la fuente de las gráficas de matplotlib:\n",
        "plt.rc('font', family='serif', size=12)"
      ]
    },
    {
      "cell_type": "markdown",
      "metadata": {
        "id": "QC9nUq7L1jcs"
      },
      "source": [
        "## Preprocesamiento de datos"
      ]
    },
    {
      "cell_type": "code",
      "execution_count": null,
      "metadata": {
        "ExecuteTime": {
          "end_time": "2021-09-18T02:17:59.339541Z",
          "start_time": "2021-09-18T02:17:59.223499Z"
        },
        "colab": {
          "base_uri": "https://localhost:8080/",
          "height": 540
        },
        "id": "N28ACIzy1jct",
        "outputId": "e5038858-9c22-46a2-ebc0-1b10e91beafb"
      },
      "outputs": [
        {
          "output_type": "execute_result",
          "data": {
            "text/plain": [
              "                     Name  Age  Overall    Wage Preferred Foot  \\\n",
              "0                L. Messi   31       94  565000           Left   \n",
              "1       Cristiano Ronaldo   33       94  405000          Right   \n",
              "2               Neymar Jr   26       92  290000          Right   \n",
              "3            K. De Bruyne   27       91  355000          Right   \n",
              "4               E. Hazard   27       91  340000          Right   \n",
              "...                   ...  ...      ...     ...            ...   \n",
              "15921        J. Lundstram   19       47    1000          Right   \n",
              "15922  N. Christoffersson   19       47    1000          Right   \n",
              "15923           B. Worman   16       47    1000          Right   \n",
              "15924      D. Walker-Rice   17       47    1000          Right   \n",
              "15925           G. Nugent   16       46    1000          Right   \n",
              "\n",
              "       International Reputation  Weak Foot  Skill Moves    LS    ST  ...  \\\n",
              "0                           5.0        4.0          4.0  90.0  90.0  ...   \n",
              "1                           5.0        4.0          5.0  94.0  94.0  ...   \n",
              "2                           5.0        5.0          5.0  87.0  87.0  ...   \n",
              "3                           4.0        5.0          4.0  85.0  85.0  ...   \n",
              "4                           4.0        4.0          4.0  86.0  86.0  ...   \n",
              "...                         ...        ...          ...   ...   ...  ...   \n",
              "15921                       1.0        2.0          2.0  44.0  44.0  ...   \n",
              "15922                       1.0        2.0          2.0  47.0  47.0  ...   \n",
              "15923                       1.0        3.0          2.0  47.0  47.0  ...   \n",
              "15924                       1.0        3.0          2.0  49.0  49.0  ...   \n",
              "15925                       1.0        3.0          2.0  45.0  45.0  ...   \n",
              "\n",
              "       LongShots  Aggression  Interceptions  Positioning  Vision  Penalties  \\\n",
              "0           94.0        48.0           22.0         94.0    94.0       75.0   \n",
              "1           93.0        63.0           29.0         95.0    82.0       85.0   \n",
              "2           82.0        56.0           36.0         89.0    87.0       81.0   \n",
              "3           91.0        76.0           61.0         87.0    94.0       79.0   \n",
              "4           80.0        54.0           41.0         87.0    89.0       86.0   \n",
              "...          ...         ...            ...          ...     ...        ...   \n",
              "15921       38.0        46.0           46.0         39.0    52.0       43.0   \n",
              "15922       42.0        47.0           16.0         46.0    33.0       43.0   \n",
              "15923       45.0        32.0           15.0         48.0    43.0       55.0   \n",
              "15924       34.0        33.0           22.0         44.0    47.0       50.0   \n",
              "15925       32.0        56.0           42.0         34.0    49.0       33.0   \n",
              "\n",
              "       Composure  Marking  StandingTackle  SlidingTackle  \n",
              "0           96.0     33.0            28.0           26.0  \n",
              "1           95.0     28.0            31.0           23.0  \n",
              "2           94.0     27.0            24.0           33.0  \n",
              "3           88.0     68.0            58.0           51.0  \n",
              "4           91.0     34.0            27.0           22.0  \n",
              "...          ...      ...             ...            ...  \n",
              "15921       45.0     40.0            48.0           47.0  \n",
              "15922       42.0     22.0            15.0           19.0  \n",
              "15923       41.0     32.0            13.0           11.0  \n",
              "15924       46.0     20.0            25.0           27.0  \n",
              "15925       43.0     40.0            43.0           50.0  \n",
              "\n",
              "[15926 rows x 63 columns]"
            ],
            "text/html": [
              "\n",
              "  <div id=\"df-2cf740e1-922f-4e5a-aa7f-0c5707b86d1a\">\n",
              "    <div class=\"colab-df-container\">\n",
              "      <div>\n",
              "<style scoped>\n",
              "    .dataframe tbody tr th:only-of-type {\n",
              "        vertical-align: middle;\n",
              "    }\n",
              "\n",
              "    .dataframe tbody tr th {\n",
              "        vertical-align: top;\n",
              "    }\n",
              "\n",
              "    .dataframe thead th {\n",
              "        text-align: right;\n",
              "    }\n",
              "</style>\n",
              "<table border=\"1\" class=\"dataframe\">\n",
              "  <thead>\n",
              "    <tr style=\"text-align: right;\">\n",
              "      <th></th>\n",
              "      <th>Name</th>\n",
              "      <th>Age</th>\n",
              "      <th>Overall</th>\n",
              "      <th>Wage</th>\n",
              "      <th>Preferred Foot</th>\n",
              "      <th>International Reputation</th>\n",
              "      <th>Weak Foot</th>\n",
              "      <th>Skill Moves</th>\n",
              "      <th>LS</th>\n",
              "      <th>ST</th>\n",
              "      <th>...</th>\n",
              "      <th>LongShots</th>\n",
              "      <th>Aggression</th>\n",
              "      <th>Interceptions</th>\n",
              "      <th>Positioning</th>\n",
              "      <th>Vision</th>\n",
              "      <th>Penalties</th>\n",
              "      <th>Composure</th>\n",
              "      <th>Marking</th>\n",
              "      <th>StandingTackle</th>\n",
              "      <th>SlidingTackle</th>\n",
              "    </tr>\n",
              "  </thead>\n",
              "  <tbody>\n",
              "    <tr>\n",
              "      <th>0</th>\n",
              "      <td>L. Messi</td>\n",
              "      <td>31</td>\n",
              "      <td>94</td>\n",
              "      <td>565000</td>\n",
              "      <td>Left</td>\n",
              "      <td>5.0</td>\n",
              "      <td>4.0</td>\n",
              "      <td>4.0</td>\n",
              "      <td>90.0</td>\n",
              "      <td>90.0</td>\n",
              "      <td>...</td>\n",
              "      <td>94.0</td>\n",
              "      <td>48.0</td>\n",
              "      <td>22.0</td>\n",
              "      <td>94.0</td>\n",
              "      <td>94.0</td>\n",
              "      <td>75.0</td>\n",
              "      <td>96.0</td>\n",
              "      <td>33.0</td>\n",
              "      <td>28.0</td>\n",
              "      <td>26.0</td>\n",
              "    </tr>\n",
              "    <tr>\n",
              "      <th>1</th>\n",
              "      <td>Cristiano Ronaldo</td>\n",
              "      <td>33</td>\n",
              "      <td>94</td>\n",
              "      <td>405000</td>\n",
              "      <td>Right</td>\n",
              "      <td>5.0</td>\n",
              "      <td>4.0</td>\n",
              "      <td>5.0</td>\n",
              "      <td>94.0</td>\n",
              "      <td>94.0</td>\n",
              "      <td>...</td>\n",
              "      <td>93.0</td>\n",
              "      <td>63.0</td>\n",
              "      <td>29.0</td>\n",
              "      <td>95.0</td>\n",
              "      <td>82.0</td>\n",
              "      <td>85.0</td>\n",
              "      <td>95.0</td>\n",
              "      <td>28.0</td>\n",
              "      <td>31.0</td>\n",
              "      <td>23.0</td>\n",
              "    </tr>\n",
              "    <tr>\n",
              "      <th>2</th>\n",
              "      <td>Neymar Jr</td>\n",
              "      <td>26</td>\n",
              "      <td>92</td>\n",
              "      <td>290000</td>\n",
              "      <td>Right</td>\n",
              "      <td>5.0</td>\n",
              "      <td>5.0</td>\n",
              "      <td>5.0</td>\n",
              "      <td>87.0</td>\n",
              "      <td>87.0</td>\n",
              "      <td>...</td>\n",
              "      <td>82.0</td>\n",
              "      <td>56.0</td>\n",
              "      <td>36.0</td>\n",
              "      <td>89.0</td>\n",
              "      <td>87.0</td>\n",
              "      <td>81.0</td>\n",
              "      <td>94.0</td>\n",
              "      <td>27.0</td>\n",
              "      <td>24.0</td>\n",
              "      <td>33.0</td>\n",
              "    </tr>\n",
              "    <tr>\n",
              "      <th>3</th>\n",
              "      <td>K. De Bruyne</td>\n",
              "      <td>27</td>\n",
              "      <td>91</td>\n",
              "      <td>355000</td>\n",
              "      <td>Right</td>\n",
              "      <td>4.0</td>\n",
              "      <td>5.0</td>\n",
              "      <td>4.0</td>\n",
              "      <td>85.0</td>\n",
              "      <td>85.0</td>\n",
              "      <td>...</td>\n",
              "      <td>91.0</td>\n",
              "      <td>76.0</td>\n",
              "      <td>61.0</td>\n",
              "      <td>87.0</td>\n",
              "      <td>94.0</td>\n",
              "      <td>79.0</td>\n",
              "      <td>88.0</td>\n",
              "      <td>68.0</td>\n",
              "      <td>58.0</td>\n",
              "      <td>51.0</td>\n",
              "    </tr>\n",
              "    <tr>\n",
              "      <th>4</th>\n",
              "      <td>E. Hazard</td>\n",
              "      <td>27</td>\n",
              "      <td>91</td>\n",
              "      <td>340000</td>\n",
              "      <td>Right</td>\n",
              "      <td>4.0</td>\n",
              "      <td>4.0</td>\n",
              "      <td>4.0</td>\n",
              "      <td>86.0</td>\n",
              "      <td>86.0</td>\n",
              "      <td>...</td>\n",
              "      <td>80.0</td>\n",
              "      <td>54.0</td>\n",
              "      <td>41.0</td>\n",
              "      <td>87.0</td>\n",
              "      <td>89.0</td>\n",
              "      <td>86.0</td>\n",
              "      <td>91.0</td>\n",
              "      <td>34.0</td>\n",
              "      <td>27.0</td>\n",
              "      <td>22.0</td>\n",
              "    </tr>\n",
              "    <tr>\n",
              "      <th>...</th>\n",
              "      <td>...</td>\n",
              "      <td>...</td>\n",
              "      <td>...</td>\n",
              "      <td>...</td>\n",
              "      <td>...</td>\n",
              "      <td>...</td>\n",
              "      <td>...</td>\n",
              "      <td>...</td>\n",
              "      <td>...</td>\n",
              "      <td>...</td>\n",
              "      <td>...</td>\n",
              "      <td>...</td>\n",
              "      <td>...</td>\n",
              "      <td>...</td>\n",
              "      <td>...</td>\n",
              "      <td>...</td>\n",
              "      <td>...</td>\n",
              "      <td>...</td>\n",
              "      <td>...</td>\n",
              "      <td>...</td>\n",
              "      <td>...</td>\n",
              "    </tr>\n",
              "    <tr>\n",
              "      <th>15921</th>\n",
              "      <td>J. Lundstram</td>\n",
              "      <td>19</td>\n",
              "      <td>47</td>\n",
              "      <td>1000</td>\n",
              "      <td>Right</td>\n",
              "      <td>1.0</td>\n",
              "      <td>2.0</td>\n",
              "      <td>2.0</td>\n",
              "      <td>44.0</td>\n",
              "      <td>44.0</td>\n",
              "      <td>...</td>\n",
              "      <td>38.0</td>\n",
              "      <td>46.0</td>\n",
              "      <td>46.0</td>\n",
              "      <td>39.0</td>\n",
              "      <td>52.0</td>\n",
              "      <td>43.0</td>\n",
              "      <td>45.0</td>\n",
              "      <td>40.0</td>\n",
              "      <td>48.0</td>\n",
              "      <td>47.0</td>\n",
              "    </tr>\n",
              "    <tr>\n",
              "      <th>15922</th>\n",
              "      <td>N. Christoffersson</td>\n",
              "      <td>19</td>\n",
              "      <td>47</td>\n",
              "      <td>1000</td>\n",
              "      <td>Right</td>\n",
              "      <td>1.0</td>\n",
              "      <td>2.0</td>\n",
              "      <td>2.0</td>\n",
              "      <td>47.0</td>\n",
              "      <td>47.0</td>\n",
              "      <td>...</td>\n",
              "      <td>42.0</td>\n",
              "      <td>47.0</td>\n",
              "      <td>16.0</td>\n",
              "      <td>46.0</td>\n",
              "      <td>33.0</td>\n",
              "      <td>43.0</td>\n",
              "      <td>42.0</td>\n",
              "      <td>22.0</td>\n",
              "      <td>15.0</td>\n",
              "      <td>19.0</td>\n",
              "    </tr>\n",
              "    <tr>\n",
              "      <th>15923</th>\n",
              "      <td>B. Worman</td>\n",
              "      <td>16</td>\n",
              "      <td>47</td>\n",
              "      <td>1000</td>\n",
              "      <td>Right</td>\n",
              "      <td>1.0</td>\n",
              "      <td>3.0</td>\n",
              "      <td>2.0</td>\n",
              "      <td>47.0</td>\n",
              "      <td>47.0</td>\n",
              "      <td>...</td>\n",
              "      <td>45.0</td>\n",
              "      <td>32.0</td>\n",
              "      <td>15.0</td>\n",
              "      <td>48.0</td>\n",
              "      <td>43.0</td>\n",
              "      <td>55.0</td>\n",
              "      <td>41.0</td>\n",
              "      <td>32.0</td>\n",
              "      <td>13.0</td>\n",
              "      <td>11.0</td>\n",
              "    </tr>\n",
              "    <tr>\n",
              "      <th>15924</th>\n",
              "      <td>D. Walker-Rice</td>\n",
              "      <td>17</td>\n",
              "      <td>47</td>\n",
              "      <td>1000</td>\n",
              "      <td>Right</td>\n",
              "      <td>1.0</td>\n",
              "      <td>3.0</td>\n",
              "      <td>2.0</td>\n",
              "      <td>49.0</td>\n",
              "      <td>49.0</td>\n",
              "      <td>...</td>\n",
              "      <td>34.0</td>\n",
              "      <td>33.0</td>\n",
              "      <td>22.0</td>\n",
              "      <td>44.0</td>\n",
              "      <td>47.0</td>\n",
              "      <td>50.0</td>\n",
              "      <td>46.0</td>\n",
              "      <td>20.0</td>\n",
              "      <td>25.0</td>\n",
              "      <td>27.0</td>\n",
              "    </tr>\n",
              "    <tr>\n",
              "      <th>15925</th>\n",
              "      <td>G. Nugent</td>\n",
              "      <td>16</td>\n",
              "      <td>46</td>\n",
              "      <td>1000</td>\n",
              "      <td>Right</td>\n",
              "      <td>1.0</td>\n",
              "      <td>3.0</td>\n",
              "      <td>2.0</td>\n",
              "      <td>45.0</td>\n",
              "      <td>45.0</td>\n",
              "      <td>...</td>\n",
              "      <td>32.0</td>\n",
              "      <td>56.0</td>\n",
              "      <td>42.0</td>\n",
              "      <td>34.0</td>\n",
              "      <td>49.0</td>\n",
              "      <td>33.0</td>\n",
              "      <td>43.0</td>\n",
              "      <td>40.0</td>\n",
              "      <td>43.0</td>\n",
              "      <td>50.0</td>\n",
              "    </tr>\n",
              "  </tbody>\n",
              "</table>\n",
              "<p>15926 rows × 63 columns</p>\n",
              "</div>\n",
              "      <button class=\"colab-df-convert\" onclick=\"convertToInteractive('df-2cf740e1-922f-4e5a-aa7f-0c5707b86d1a')\"\n",
              "              title=\"Convert this dataframe to an interactive table.\"\n",
              "              style=\"display:none;\">\n",
              "        \n",
              "  <svg xmlns=\"http://www.w3.org/2000/svg\" height=\"24px\"viewBox=\"0 0 24 24\"\n",
              "       width=\"24px\">\n",
              "    <path d=\"M0 0h24v24H0V0z\" fill=\"none\"/>\n",
              "    <path d=\"M18.56 5.44l.94 2.06.94-2.06 2.06-.94-2.06-.94-.94-2.06-.94 2.06-2.06.94zm-11 1L8.5 8.5l.94-2.06 2.06-.94-2.06-.94L8.5 2.5l-.94 2.06-2.06.94zm10 10l.94 2.06.94-2.06 2.06-.94-2.06-.94-.94-2.06-.94 2.06-2.06.94z\"/><path d=\"M17.41 7.96l-1.37-1.37c-.4-.4-.92-.59-1.43-.59-.52 0-1.04.2-1.43.59L10.3 9.45l-7.72 7.72c-.78.78-.78 2.05 0 2.83L4 21.41c.39.39.9.59 1.41.59.51 0 1.02-.2 1.41-.59l7.78-7.78 2.81-2.81c.8-.78.8-2.07 0-2.86zM5.41 20L4 18.59l7.72-7.72 1.47 1.35L5.41 20z\"/>\n",
              "  </svg>\n",
              "      </button>\n",
              "      \n",
              "  <style>\n",
              "    .colab-df-container {\n",
              "      display:flex;\n",
              "      flex-wrap:wrap;\n",
              "      gap: 12px;\n",
              "    }\n",
              "\n",
              "    .colab-df-convert {\n",
              "      background-color: #E8F0FE;\n",
              "      border: none;\n",
              "      border-radius: 50%;\n",
              "      cursor: pointer;\n",
              "      display: none;\n",
              "      fill: #1967D2;\n",
              "      height: 32px;\n",
              "      padding: 0 0 0 0;\n",
              "      width: 32px;\n",
              "    }\n",
              "\n",
              "    .colab-df-convert:hover {\n",
              "      background-color: #E2EBFA;\n",
              "      box-shadow: 0px 1px 2px rgba(60, 64, 67, 0.3), 0px 1px 3px 1px rgba(60, 64, 67, 0.15);\n",
              "      fill: #174EA6;\n",
              "    }\n",
              "\n",
              "    [theme=dark] .colab-df-convert {\n",
              "      background-color: #3B4455;\n",
              "      fill: #D2E3FC;\n",
              "    }\n",
              "\n",
              "    [theme=dark] .colab-df-convert:hover {\n",
              "      background-color: #434B5C;\n",
              "      box-shadow: 0px 1px 3px 1px rgba(0, 0, 0, 0.15);\n",
              "      filter: drop-shadow(0px 1px 2px rgba(0, 0, 0, 0.3));\n",
              "      fill: #FFFFFF;\n",
              "    }\n",
              "  </style>\n",
              "\n",
              "      <script>\n",
              "        const buttonEl =\n",
              "          document.querySelector('#df-2cf740e1-922f-4e5a-aa7f-0c5707b86d1a button.colab-df-convert');\n",
              "        buttonEl.style.display =\n",
              "          google.colab.kernel.accessAllowed ? 'block' : 'none';\n",
              "\n",
              "        async function convertToInteractive(key) {\n",
              "          const element = document.querySelector('#df-2cf740e1-922f-4e5a-aa7f-0c5707b86d1a');\n",
              "          const dataTable =\n",
              "            await google.colab.kernel.invokeFunction('convertToInteractive',\n",
              "                                                     [key], {});\n",
              "          if (!dataTable) return;\n",
              "\n",
              "          const docLinkHtml = 'Like what you see? Visit the ' +\n",
              "            '<a target=\"_blank\" href=https://colab.research.google.com/notebooks/data_table.ipynb>data table notebook</a>'\n",
              "            + ' to learn more about interactive tables.';\n",
              "          element.innerHTML = '';\n",
              "          dataTable['output_type'] = 'display_data';\n",
              "          await google.colab.output.renderOutput(dataTable, element);\n",
              "          const docLink = document.createElement('div');\n",
              "          docLink.innerHTML = docLinkHtml;\n",
              "          element.appendChild(docLink);\n",
              "        }\n",
              "      </script>\n",
              "    </div>\n",
              "  </div>\n",
              "  "
            ]
          },
          "metadata": {},
          "execution_count": 5
        }
      ],
      "source": [
        "# Carguemos los datos:\n",
        "data = pd.read_csv('players.csv')\n",
        "data"
      ]
    },
    {
      "cell_type": "code",
      "execution_count": null,
      "metadata": {
        "ExecuteTime": {
          "end_time": "2021-09-18T02:19:01.470616Z",
          "start_time": "2021-09-18T02:19:01.329619Z"
        },
        "id": "7niShVo61jct"
      },
      "outputs": [],
      "source": [
        "# Veamos la descripción del dataset:\n",
        "### CÓDIGO AQUÍ ###\n"
      ]
    },
    {
      "cell_type": "code",
      "source": [
        "#Veamos la distribución de las columnas\n",
        "### CÓDIGO AQUÍ ###"
      ],
      "metadata": {
        "id": "c443TTgd2dMf"
      },
      "execution_count": null,
      "outputs": []
    },
    {
      "cell_type": "code",
      "execution_count": null,
      "metadata": {
        "ExecuteTime": {
          "end_time": "2021-09-18T02:20:30.809890Z",
          "start_time": "2021-09-18T02:20:30.800892Z"
        },
        "colab": {
          "base_uri": "https://localhost:8080/"
        },
        "id": "mXzW10Ll1jcu",
        "outputId": "63c3e87a-4af1-451a-cc8c-0a785bf157fe"
      },
      "outputs": [
        {
          "output_type": "execute_result",
          "data": {
            "text/plain": [
              "Right    11969\n",
              "Left      3957\n",
              "Name: Preferred Foot, dtype: int64"
            ]
          },
          "metadata": {},
          "execution_count": 7
        }
      ],
      "source": [
        "# Obtengamos la distribución de valores de la variable `Preferred Foot`:\n",
        "# tip: pandas function value_counts()\n",
        "### CÓDIGO AQUÍ ###\n"
      ]
    },
    {
      "cell_type": "code",
      "execution_count": null,
      "metadata": {
        "ExecuteTime": {
          "end_time": "2021-09-18T02:23:05.619098Z",
          "start_time": "2021-09-18T02:23:05.582096Z"
        },
        "id": "C29qrRGm1jcu"
      },
      "outputs": [],
      "source": [
        "# Dado que esta columna es categorica, debemos incluir en el Pipeline su transformación. Utilizaremos \n",
        "# codificación binaria\n",
        "#tip: scikit-learn BinaryEncoder -> Igual funcionamiento a OrdinalEncoder\n",
        "\n"
      ]
    },
    {
      "cell_type": "markdown",
      "metadata": {
        "id": "gY8naq0L1jcv"
      },
      "source": [
        "## Regresión"
      ]
    },
    {
      "cell_type": "markdown",
      "metadata": {
        "ExecuteTime": {
          "end_time": "2021-03-11T04:51:55.093741Z",
          "start_time": "2021-03-11T04:51:55.091740Z"
        },
        "id": "6DpUR5sT1jcw"
      },
      "source": [
        "**Nota:** Dejaremos la coulmna `Name` en el datafrme para poder identificar a los jugadores, pero **la debemos excluir** al definir las variables `X_train`, `y_train`, `X_val`, `y_val`, `X_test`, and `y_test`."
      ]
    },
    {
      "cell_type": "code",
      "execution_count": null,
      "metadata": {
        "ExecuteTime": {
          "end_time": "2021-09-18T03:12:15.355010Z",
          "start_time": "2021-09-18T03:12:15.335012Z"
        },
        "id": "lwUBO0Mu1jcw"
      },
      "outputs": [],
      "source": [
        "# Separemos los datos en conjuntos de entrenamiento (80 %) y prueba (20 %):\n",
        "### CÓDIGO AQUÍ ###"
      ]
    },
    {
      "cell_type": "code",
      "source": [
        "#Definimos las transformaciones\n",
        "cat_cols = X_train.select_dtypes(include=object).columns\n",
        "num_cols = X_train.select_dtypes(include=np.number).columns\n",
        "\n",
        "categorical_transformer = ### CÓDICO AQUÍ### \n",
        "numerical_transformer = 'passthrough'\n",
        "\n",
        "preprocessor = ### CÓDIGO AQUÍ ###\n",
        "\n",
        "#Definimos nuestro regresor\n",
        "rf_base = RandomForestRegressor(random_state=random_state)\n",
        "gb_base = GradientBoostingRegressor(random_state=random_state)\n",
        "\n",
        "#Definimos los pipelines\n",
        "pipeline_rf = ### CÓDIGO AQUÍ ###\n",
        "pipeline_gb = ### CÓDIGO AQUÍ ### \n",
        "\n",
        "# Definamos la malla de parámetros sobre la que haremos la búsqueda:\n",
        "param_grid = ### CÓDIGO AQUÍ ###\n",
        "\n",
        "# Definamos nuestros modelo mediante GridSearchCV:\n",
        "rf = GridSearchCV(pipeline_rf, cv=3, param_grid=param_grid)\n",
        "gb = GridSearchCV(pipeline_gb, cv=3, param_grid=param_grid)"
      ],
      "metadata": {
        "id": "rYY2fNdH4JRY"
      },
      "execution_count": null,
      "outputs": []
    },
    {
      "cell_type": "code",
      "source": [
        "%%time\n",
        "# Entrenemos el random forest:\n",
        "rf.fit(X_train, y_train)\n",
        "# Entrenemos el gradient boosting:\n",
        "gb.fit(X_train, y_train)"
      ],
      "metadata": {
        "id": "m9RqB8WK5DNi"
      },
      "execution_count": null,
      "outputs": []
    },
    {
      "cell_type": "code",
      "execution_count": null,
      "metadata": {
        "ExecuteTime": {
          "end_time": "2021-09-18T03:54:08.785030Z",
          "start_time": "2021-09-18T03:54:08.773030Z"
        },
        "id": "21PznuEd1jcw"
      },
      "outputs": [],
      "source": [
        "print(rf.best_params_)\n",
        "print(gb.best_params_)"
      ]
    },
    {
      "cell_type": "code",
      "source": [
        "# Obtengamos el R^2 y el MAE de entrenamiento para cada modelo:\n",
        "print(\"Train set\")\n",
        "for model in (rf, gb):\n",
        "    print(f\"Model: {'Random Forest' if model == rf else 'Gradient Boosting'}\")\n",
        "    print(f'R^2: {model.score(X_train, y_train)}')\n",
        "    print(f'MAE: {mean_absolute_error(y_train, model.predict(X_train))}')\n",
        "    print('\\n')\n",
        "\n",
        "print(\"Test set\")\n",
        "for model in (rf, gb):\n",
        "    print(f\"Model: {'Random Forest' if model == rf else 'Gradient Boosting'}\")\n",
        "    print(f'R^2: {model.score(X_test, y_test)}')\n",
        "    print(f'MAE: {mean_absolute_error(y_test, model.predict(X_test))}')\n",
        "    print('\\n')"
      ],
      "metadata": {
        "id": "JUWh_1e25LtF"
      },
      "execution_count": null,
      "outputs": []
    },
    {
      "cell_type": "code",
      "source": [
        "# Veamos los datos junto con las predicciones:\n",
        "pd.concat([\n",
        "    data.drop(columns='Wage').reset_index(drop=True),\n",
        "    data['Wage'].reset_index(drop=True),\n",
        "    pd.DataFrame({'rf_predicted_wage': rf.predict(data.drop(columns=['Name', 'Wage']))}),\n",
        "    pd.DataFrame({'gb_predicted_wage': gb.predict(data.drop(columns=['Name', 'Wage']))})\n",
        "], axis=1)"
      ],
      "metadata": {
        "id": "p6rkh78DMfgv"
      },
      "execution_count": null,
      "outputs": []
    },
    {
      "cell_type": "code",
      "source": [],
      "metadata": {
        "id": "AzVWdj40Motx"
      },
      "execution_count": null,
      "outputs": []
    },
    {
      "cell_type": "markdown",
      "source": [
        "Explicabilidad"
      ],
      "metadata": {
        "id": "7Vrh4cwD5cs4"
      }
    },
    {
      "cell_type": "code",
      "source": [
        "!pip install shap"
      ],
      "metadata": {
        "id": "iRcehFQV5cDP"
      },
      "execution_count": null,
      "outputs": []
    },
    {
      "cell_type": "code",
      "source": [
        "import shap\n",
        "from IPython.display import HTML"
      ],
      "metadata": {
        "id": "o7CPOrhT5gz3"
      },
      "execution_count": null,
      "outputs": []
    },
    {
      "cell_type": "code",
      "source": [
        "# Entrenamos nuestro pipeline con los mejores parámetros encontrados en la validación cruzada\n",
        "pipeline_gb.set_params(**gb.best_params_)\n",
        "pipeline_gb.fit(X_train, y_train)"
      ],
      "metadata": {
        "id": "XQU-Fhns5jQ7"
      },
      "execution_count": null,
      "outputs": []
    },
    {
      "cell_type": "code",
      "source": [
        "# Aplicamos el preproceso a los datos\n",
        "X_train_preprocessed = ### CÓDIGO AQUÍ ###\n",
        "X_test_preprocessed = ### CÓDIGO AQUÍ ###"
      ],
      "metadata": {
        "id": "Mxtp14VH5pP4"
      },
      "execution_count": null,
      "outputs": []
    },
    {
      "cell_type": "code",
      "source": [
        "# Entrenemos nuestro modelo de explicabilidad\n",
        "gb_explainer = ### CÓDIGO AQUÍ ###\n",
        "train_gb_shap_values = ### CÓDIGO AQUÍ ###"
      ],
      "metadata": {
        "id": "b6w7FkHcL4so"
      },
      "execution_count": null,
      "outputs": []
    },
    {
      "cell_type": "code",
      "source": [
        "# Summary plot\n",
        "### CÓDIGO AQUÍ ###"
      ],
      "metadata": {
        "id": "ktwm7XzTMzv8"
      },
      "execution_count": null,
      "outputs": []
    },
    {
      "cell_type": "code",
      "source": [
        "# Grafiquemos los valores SHAP para un ejemplo del conjunto de test\n",
        "### CÓDIGO AQUÍ ###"
      ],
      "metadata": {
        "id": "zyGO-nBQM_DG"
      },
      "execution_count": null,
      "outputs": []
    },
    {
      "cell_type": "code",
      "source": [
        "# Grafiquemos la dependencia de los valores SHAP con la variable \"Age\""
      ],
      "metadata": {
        "id": "9OSkWrMiNMKl"
      },
      "execution_count": null,
      "outputs": []
    }
  ],
  "metadata": {
    "kernelspec": {
      "display_name": "Python [conda env:robo]",
      "language": "python",
      "name": "conda-env-robo-py"
    },
    "language_info": {
      "codemirror_mode": {
        "name": "ipython",
        "version": 3
      },
      "file_extension": ".py",
      "mimetype": "text/x-python",
      "name": "python",
      "nbconvert_exporter": "python",
      "pygments_lexer": "ipython3",
      "version": "3.8.10"
    },
    "varInspector": {
      "cols": {
        "lenName": 16,
        "lenType": 16,
        "lenVar": 40
      },
      "kernels_config": {
        "python": {
          "delete_cmd_postfix": "",
          "delete_cmd_prefix": "del ",
          "library": "var_list.py",
          "varRefreshCmd": "print(var_dic_list())"
        },
        "r": {
          "delete_cmd_postfix": ") ",
          "delete_cmd_prefix": "rm(",
          "library": "var_list.r",
          "varRefreshCmd": "cat(var_dic_list()) "
        }
      },
      "types_to_exclude": [
        "module",
        "function",
        "builtin_function_or_method",
        "instance",
        "_Feature"
      ],
      "window_display": false
    },
    "colab": {
      "provenance": [],
      "include_colab_link": true
    }
  },
  "nbformat": 4,
  "nbformat_minor": 0
}