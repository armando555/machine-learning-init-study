{
  "nbformat": 4,
  "nbformat_minor": 0,
  "metadata": {
    "colab": {
      "provenance": [],
      "authorship_tag": "ABX9TyN9wPS8pgYmjKtntRmpElwR",
      "include_colab_link": true
    },
    "kernelspec": {
      "name": "python3",
      "display_name": "Python 3"
    },
    "language_info": {
      "name": "python"
    }
  },
  "cells": [
    {
      "cell_type": "markdown",
      "metadata": {
        "id": "view-in-github",
        "colab_type": "text"
      },
      "source": [
        "<a href=\"https://colab.research.google.com/github/jdmartinev/ST1613-AppliedML-/blob/main/Semana02/Preprocesamiento_de_datos_b.ipynb\" target=\"_parent\"><img src=\"https://colab.research.google.com/assets/colab-badge.svg\" alt=\"Open In Colab\"/></a>"
      ]
    },
    {
      "cell_type": "markdown",
      "source": [
        "# **Semana 2 - Preprocesamiento de datos**\n",
        "\n",
        "## **Objetivos de aprendizaje**\n",
        "\n",
        "- Reconocer el impacto de la calidad y cantidad de datos en los algoritmos de ML\n",
        "- Explicar un proceso típico de recolección y transformación de datos en el flujo de trabajo de ML\n",
        "- Identificar cuando implementar transformaciones de características como imputación, escalamiento, one-hot-encoding"
      ],
      "metadata": {
        "id": "XWseYLyCtOsE"
      }
    },
    {
      "cell_type": "markdown",
      "source": [
        "## **Ejemplo 2: Predicción del precio de casas en California**\n",
        "\n",
        "En este ejemplo usaremos $k-$NN para predecir el precio de una casa en California.\n",
        "\n",
        "Intuición: \n",
        "\n",
        "- Encuentre las casas similares a la casa que queremos vender. \n",
        "- Asignar el precio de esta casa como el promedio de los precios de las casas cercanas\n",
        "\n",
        "![Spotify recommendation](https://drive.google.com/uc?id=1rrxAdHfn60FutVb86mTlc-v6sskODA8_)\n",
        "\n",
        "\n"
      ],
      "metadata": {
        "id": "zR1UwTMwuo2z"
      }
    },
    {
      "cell_type": "markdown",
      "source": [
        "## **Descarga de datos (opción 1)**\n",
        "\n",
        "Lo primero que hará será descargar los datos con los que va a trabajar:\n",
        "\n",
        "- Tabla de datos de clientes (archivo csv).\n",
        "\n",
        "Este archivo quedará en la ruta _/content/data.csv asociada con el sistema operativo del servidor en el que se está ejecutando google colab."
      ],
      "metadata": {
        "id": "fAsfat9Lwt7u"
      }
    },
    {
      "cell_type": "code",
      "source": [
        "!wget --no-check-certificate 'https://docs.google.com/uc?export=download&id=1woWEpcwkCYSdRSTfSTT2j17JinrTMJOu' -O housing.csv"
      ],
      "metadata": {
        "colab": {
          "base_uri": "https://localhost:8080/"
        },
        "id": "dvaESH8bw1xE",
        "outputId": "5e756502-2d5a-413e-badb-565dcc2ca38b"
      },
      "execution_count": 147,
      "outputs": [
        {
          "output_type": "stream",
          "name": "stdout",
          "text": [
            "--2023-04-11 22:35:07--  https://docs.google.com/uc?export=download&id=1woWEpcwkCYSdRSTfSTT2j17JinrTMJOu\n",
            "Resolving docs.google.com (docs.google.com)... 173.194.215.138, 173.194.215.101, 173.194.215.102, ...\n",
            "Connecting to docs.google.com (docs.google.com)|173.194.215.138|:443... connected.\n",
            "HTTP request sent, awaiting response... 303 See Other\n",
            "Location: https://doc-10-6c-docs.googleusercontent.com/docs/securesc/ha0ro937gcuc7l7deffksulhg5h7mbp1/2adjjgs5ago418hf5jrciphmr2ghnm80/1681252500000/15315348669826032119/*/1woWEpcwkCYSdRSTfSTT2j17JinrTMJOu?e=download&uuid=e4038dea-450f-45af-9adc-1092ee4f5d68 [following]\n",
            "Warning: wildcards not supported in HTTP.\n",
            "--2023-04-11 22:35:07--  https://doc-10-6c-docs.googleusercontent.com/docs/securesc/ha0ro937gcuc7l7deffksulhg5h7mbp1/2adjjgs5ago418hf5jrciphmr2ghnm80/1681252500000/15315348669826032119/*/1woWEpcwkCYSdRSTfSTT2j17JinrTMJOu?e=download&uuid=e4038dea-450f-45af-9adc-1092ee4f5d68\n",
            "Resolving doc-10-6c-docs.googleusercontent.com (doc-10-6c-docs.googleusercontent.com)... 173.194.218.132, 2607:f8b0:400c:c14::84\n",
            "Connecting to doc-10-6c-docs.googleusercontent.com (doc-10-6c-docs.googleusercontent.com)|173.194.218.132|:443... connected.\n",
            "HTTP request sent, awaiting response... 200 OK\n",
            "Length: 1423529 (1.4M) [text/csv]\n",
            "Saving to: ‘housing.csv’\n",
            "\n",
            "housing.csv         100%[===================>]   1.36M  --.-KB/s    in 0.02s   \n",
            "\n",
            "2023-04-11 22:35:07 (83.9 MB/s) - ‘housing.csv’ saved [1423529/1423529]\n",
            "\n"
          ]
        }
      ]
    },
    {
      "cell_type": "markdown",
      "source": [
        "## **Descarga de datos (opción 2)**\n",
        "\n",
        "Vincular google colab con google drive\n",
        "\n",
        "https://www.youtube.com/watch?v=6UnCrulz-fE\n",
        "\n"
      ],
      "metadata": {
        "id": "3jEPjI2JxQkn"
      }
    },
    {
      "cell_type": "markdown",
      "source": [
        "## **Importar librerías necesarias**"
      ],
      "metadata": {
        "id": "dezqH47XyxXp"
      }
    },
    {
      "cell_type": "code",
      "source": [
        "import sys\n",
        "import time\n",
        "\n",
        "import matplotlib.pyplot as plt\n",
        "import seaborn as sns\n",
        "\n",
        "%matplotlib inline\n",
        "import numpy as np\n",
        "import pandas as pd\n",
        "from IPython.display import HTML\n",
        "\n",
        "sys.path.append(\"code/.\")\n",
        "\n",
        "#import mglearn\n",
        "from IPython.display import display\n",
        "#from plotting_functions import *\n",
        "\n",
        "\n",
        "# Preprocessing and pipeline\n",
        "from sklearn.impute import SimpleImputer\n",
        "\n",
        "# train test split and cross validation\n",
        "from sklearn.neighbors import KNeighborsClassifier, KNeighborsRegressor\n",
        "from sklearn.pipeline import Pipeline\n",
        "from sklearn.preprocessing import (\n",
        "    MinMaxScaler,\n",
        "    OneHotEncoder,\n",
        "    OrdinalEncoder,\n",
        "    StandardScaler,\n",
        ")\n",
        "\n",
        "\n",
        "pd.set_option(\"display.max_colwidth\", 200)"
      ],
      "metadata": {
        "id": "TjdstBiByoH9"
      },
      "execution_count": 149,
      "outputs": []
    },
    {
      "cell_type": "markdown",
      "source": [
        "## **Técnicas comunes de pre-procesamiento**\n",
        "\n",
        "Algunas transformaciones de características comúnmente realizadas incluyen:\n",
        "\n",
        "- Imputación: abordar valores faltantes\n",
        "- Escalado: escalar características numéricas\n",
        "- Codificación one-hot: abordar variables categóricas\n",
        "\n",
        "¡Podemos tener una lección para cada una de ellas! En esta lección nuestro objetivo es familiarizarnos con ellas para que podamos usarlas para construir frameworks de aprendizaje automático."
      ],
      "metadata": {
        "id": "FK23F-k6yEq4"
      }
    },
    {
      "cell_type": "code",
      "source": [
        "# Cargar los datos\n",
        "housing_df = pd.read_csv(\"housing.csv\")\n",
        "housing_df.head()"
      ],
      "metadata": {
        "colab": {
          "base_uri": "https://localhost:8080/",
          "height": 206
        },
        "id": "fECV1u8TyDHn",
        "outputId": "1c1934c5-0962-4114-f0f9-9b3f501240d1"
      },
      "execution_count": 150,
      "outputs": [
        {
          "output_type": "execute_result",
          "data": {
            "text/plain": [
              "   longitude  latitude  housing_median_age  total_rooms  total_bedrooms  \\\n",
              "0    -122.23     37.88                41.0        880.0           129.0   \n",
              "1    -122.22     37.86                21.0       7099.0          1106.0   \n",
              "2    -122.24     37.85                52.0       1467.0           190.0   \n",
              "3    -122.25     37.85                52.0       1274.0           235.0   \n",
              "4    -122.25     37.85                52.0       1627.0           280.0   \n",
              "\n",
              "   population  households  median_income  median_house_value ocean_proximity  \n",
              "0       322.0       126.0         8.3252            452600.0        NEAR BAY  \n",
              "1      2401.0      1138.0         8.3014            358500.0        NEAR BAY  \n",
              "2       496.0       177.0         7.2574            352100.0        NEAR BAY  \n",
              "3       558.0       219.0         5.6431            341300.0        NEAR BAY  \n",
              "4       565.0       259.0         3.8462            342200.0        NEAR BAY  "
            ],
            "text/html": [
              "\n",
              "  <div id=\"df-ce54b676-4adf-4e25-b9da-d04cc7f43648\">\n",
              "    <div class=\"colab-df-container\">\n",
              "      <div>\n",
              "<style scoped>\n",
              "    .dataframe tbody tr th:only-of-type {\n",
              "        vertical-align: middle;\n",
              "    }\n",
              "\n",
              "    .dataframe tbody tr th {\n",
              "        vertical-align: top;\n",
              "    }\n",
              "\n",
              "    .dataframe thead th {\n",
              "        text-align: right;\n",
              "    }\n",
              "</style>\n",
              "<table border=\"1\" class=\"dataframe\">\n",
              "  <thead>\n",
              "    <tr style=\"text-align: right;\">\n",
              "      <th></th>\n",
              "      <th>longitude</th>\n",
              "      <th>latitude</th>\n",
              "      <th>housing_median_age</th>\n",
              "      <th>total_rooms</th>\n",
              "      <th>total_bedrooms</th>\n",
              "      <th>population</th>\n",
              "      <th>households</th>\n",
              "      <th>median_income</th>\n",
              "      <th>median_house_value</th>\n",
              "      <th>ocean_proximity</th>\n",
              "    </tr>\n",
              "  </thead>\n",
              "  <tbody>\n",
              "    <tr>\n",
              "      <th>0</th>\n",
              "      <td>-122.23</td>\n",
              "      <td>37.88</td>\n",
              "      <td>41.0</td>\n",
              "      <td>880.0</td>\n",
              "      <td>129.0</td>\n",
              "      <td>322.0</td>\n",
              "      <td>126.0</td>\n",
              "      <td>8.3252</td>\n",
              "      <td>452600.0</td>\n",
              "      <td>NEAR BAY</td>\n",
              "    </tr>\n",
              "    <tr>\n",
              "      <th>1</th>\n",
              "      <td>-122.22</td>\n",
              "      <td>37.86</td>\n",
              "      <td>21.0</td>\n",
              "      <td>7099.0</td>\n",
              "      <td>1106.0</td>\n",
              "      <td>2401.0</td>\n",
              "      <td>1138.0</td>\n",
              "      <td>8.3014</td>\n",
              "      <td>358500.0</td>\n",
              "      <td>NEAR BAY</td>\n",
              "    </tr>\n",
              "    <tr>\n",
              "      <th>2</th>\n",
              "      <td>-122.24</td>\n",
              "      <td>37.85</td>\n",
              "      <td>52.0</td>\n",
              "      <td>1467.0</td>\n",
              "      <td>190.0</td>\n",
              "      <td>496.0</td>\n",
              "      <td>177.0</td>\n",
              "      <td>7.2574</td>\n",
              "      <td>352100.0</td>\n",
              "      <td>NEAR BAY</td>\n",
              "    </tr>\n",
              "    <tr>\n",
              "      <th>3</th>\n",
              "      <td>-122.25</td>\n",
              "      <td>37.85</td>\n",
              "      <td>52.0</td>\n",
              "      <td>1274.0</td>\n",
              "      <td>235.0</td>\n",
              "      <td>558.0</td>\n",
              "      <td>219.0</td>\n",
              "      <td>5.6431</td>\n",
              "      <td>341300.0</td>\n",
              "      <td>NEAR BAY</td>\n",
              "    </tr>\n",
              "    <tr>\n",
              "      <th>4</th>\n",
              "      <td>-122.25</td>\n",
              "      <td>37.85</td>\n",
              "      <td>52.0</td>\n",
              "      <td>1627.0</td>\n",
              "      <td>280.0</td>\n",
              "      <td>565.0</td>\n",
              "      <td>259.0</td>\n",
              "      <td>3.8462</td>\n",
              "      <td>342200.0</td>\n",
              "      <td>NEAR BAY</td>\n",
              "    </tr>\n",
              "  </tbody>\n",
              "</table>\n",
              "</div>\n",
              "      <button class=\"colab-df-convert\" onclick=\"convertToInteractive('df-ce54b676-4adf-4e25-b9da-d04cc7f43648')\"\n",
              "              title=\"Convert this dataframe to an interactive table.\"\n",
              "              style=\"display:none;\">\n",
              "        \n",
              "  <svg xmlns=\"http://www.w3.org/2000/svg\" height=\"24px\"viewBox=\"0 0 24 24\"\n",
              "       width=\"24px\">\n",
              "    <path d=\"M0 0h24v24H0V0z\" fill=\"none\"/>\n",
              "    <path d=\"M18.56 5.44l.94 2.06.94-2.06 2.06-.94-2.06-.94-.94-2.06-.94 2.06-2.06.94zm-11 1L8.5 8.5l.94-2.06 2.06-.94-2.06-.94L8.5 2.5l-.94 2.06-2.06.94zm10 10l.94 2.06.94-2.06 2.06-.94-2.06-.94-.94-2.06-.94 2.06-2.06.94z\"/><path d=\"M17.41 7.96l-1.37-1.37c-.4-.4-.92-.59-1.43-.59-.52 0-1.04.2-1.43.59L10.3 9.45l-7.72 7.72c-.78.78-.78 2.05 0 2.83L4 21.41c.39.39.9.59 1.41.59.51 0 1.02-.2 1.41-.59l7.78-7.78 2.81-2.81c.8-.78.8-2.07 0-2.86zM5.41 20L4 18.59l7.72-7.72 1.47 1.35L5.41 20z\"/>\n",
              "  </svg>\n",
              "      </button>\n",
              "      \n",
              "  <style>\n",
              "    .colab-df-container {\n",
              "      display:flex;\n",
              "      flex-wrap:wrap;\n",
              "      gap: 12px;\n",
              "    }\n",
              "\n",
              "    .colab-df-convert {\n",
              "      background-color: #E8F0FE;\n",
              "      border: none;\n",
              "      border-radius: 50%;\n",
              "      cursor: pointer;\n",
              "      display: none;\n",
              "      fill: #1967D2;\n",
              "      height: 32px;\n",
              "      padding: 0 0 0 0;\n",
              "      width: 32px;\n",
              "    }\n",
              "\n",
              "    .colab-df-convert:hover {\n",
              "      background-color: #E2EBFA;\n",
              "      box-shadow: 0px 1px 2px rgba(60, 64, 67, 0.3), 0px 1px 3px 1px rgba(60, 64, 67, 0.15);\n",
              "      fill: #174EA6;\n",
              "    }\n",
              "\n",
              "    [theme=dark] .colab-df-convert {\n",
              "      background-color: #3B4455;\n",
              "      fill: #D2E3FC;\n",
              "    }\n",
              "\n",
              "    [theme=dark] .colab-df-convert:hover {\n",
              "      background-color: #434B5C;\n",
              "      box-shadow: 0px 1px 3px 1px rgba(0, 0, 0, 0.15);\n",
              "      filter: drop-shadow(0px 1px 2px rgba(0, 0, 0, 0.3));\n",
              "      fill: #FFFFFF;\n",
              "    }\n",
              "  </style>\n",
              "\n",
              "      <script>\n",
              "        const buttonEl =\n",
              "          document.querySelector('#df-ce54b676-4adf-4e25-b9da-d04cc7f43648 button.colab-df-convert');\n",
              "        buttonEl.style.display =\n",
              "          google.colab.kernel.accessAllowed ? 'block' : 'none';\n",
              "\n",
              "        async function convertToInteractive(key) {\n",
              "          const element = document.querySelector('#df-ce54b676-4adf-4e25-b9da-d04cc7f43648');\n",
              "          const dataTable =\n",
              "            await google.colab.kernel.invokeFunction('convertToInteractive',\n",
              "                                                     [key], {});\n",
              "          if (!dataTable) return;\n",
              "\n",
              "          const docLinkHtml = 'Like what you see? Visit the ' +\n",
              "            '<a target=\"_blank\" href=https://colab.research.google.com/notebooks/data_table.ipynb>data table notebook</a>'\n",
              "            + ' to learn more about interactive tables.';\n",
              "          element.innerHTML = '';\n",
              "          dataTable['output_type'] = 'display_data';\n",
              "          await google.colab.output.renderOutput(dataTable, element);\n",
              "          const docLink = document.createElement('div');\n",
              "          docLink.innerHTML = docLinkHtml;\n",
              "          element.appendChild(docLink);\n",
              "        }\n",
              "      </script>\n",
              "    </div>\n",
              "  </div>\n",
              "  "
            ]
          },
          "metadata": {},
          "execution_count": 150
        }
      ]
    },
    {
      "cell_type": "markdown",
      "source": [
        "## **Descripción de las columnas**\n",
        "\n",
        "`longitude`: A measure of how far west a house is; a higher value is farther west\n",
        "\n",
        "`latitude`: A measure of how far north a house is; a higher value is farther north\n",
        "\n",
        "`housingMedianAge`: Median age of a house within a block; a lower number is a newer building\n",
        "\n",
        "`totalRooms`: Total number of rooms within a block\n",
        "\n",
        "`totalBedrooms`: Total number of bedrooms within a block\n",
        "\n",
        "`population`: Total number of people residing within a block\n",
        "\n",
        "`households`: Total number of households, a group of people residing within a home unit, for a block\n",
        "\n",
        "`medianIncome`: Median income for households within a block of houses (measured in tens of thousands of US Dollars)\n",
        "\n",
        "`medianHouseValue`: Median house value for households within a block (measured in US Dollars)\n",
        "\n",
        "`oceanProximity`: Location of the house w.r.t ocean/sea"
      ],
      "metadata": {
        "id": "5ADNJBwjUyW8"
      }
    },
    {
      "cell_type": "markdown",
      "source": [
        "## **Particiones de entrenamiento, validación y prueba** "
      ],
      "metadata": {
        "id": "LqoRK6GdpjGm"
      }
    },
    {
      "cell_type": "code",
      "source": [
        "train_df, test_df = train_test_split(housing_df, test_size=0.20, random_state=123)\n",
        "train_df, val_df = train_test_split(train_df, test_size = 0.20, random_state=123)\n"
      ],
      "metadata": {
        "id": "OSZjihZRzl3e"
      },
      "execution_count": 151,
      "outputs": []
    },
    {
      "cell_type": "markdown",
      "source": [
        "## **Creación de nuevas variables**\n",
        "\n",
        "Vamos a agregar algunas características al dataset que puedan ayudar a predecir la columna objetivo: `median_house_value`\n",
        "\n",
        "\n",
        "\n"
      ],
      "metadata": {
        "id": "0ZvVWE0Tpp2l"
      }
    },
    {
      "cell_type": "code",
      "source": [
        "train_df = train_df.assign(\n",
        "    rooms_per_household=train_df[\"total_rooms\"] / train_df[\"households\"]\n",
        ")\n",
        "\n",
        "val_df = val_df.assign(\n",
        "    rooms_per_household=val_df[\"total_rooms\"] / val_df[\"households\"]\n",
        ")\n",
        "\n",
        "test_df = test_df.assign(\n",
        "    rooms_per_household=test_df[\"total_rooms\"] / test_df[\"households\"]\n",
        ")\n",
        "\n",
        "train_df = train_df.assign(\n",
        "    bedrooms_per_household=train_df[\"total_bedrooms\"] / train_df[\"households\"]\n",
        ")\n",
        "\n",
        "val_df = val_df.assign(\n",
        "    bedrooms_per_household=val_df[\"total_bedrooms\"] / val_df[\"households\"]\n",
        ")\n",
        "\n",
        "test_df = test_df.assign(\n",
        "    bedrooms_per_household=test_df[\"total_bedrooms\"] / test_df[\"households\"]\n",
        ")\n",
        "\n",
        "train_df = train_df.assign(\n",
        "    population_per_household=train_df[\"population\"] / train_df[\"households\"]\n",
        ")\n",
        "\n",
        "val_df = val_df.assign(\n",
        "    population_per_household=val_df[\"population\"] / val_df[\"households\"]\n",
        ")\n",
        "\n",
        "test_df = test_df.assign(\n",
        "    population_per_household=test_df[\"population\"] / test_df[\"households\"]\n",
        ")"
      ],
      "metadata": {
        "id": "WklSlbF0qA8h"
      },
      "execution_count": 152,
      "outputs": []
    },
    {
      "cell_type": "markdown",
      "source": [
        "¿Qué pasa si agregamos estas características antes de hacer la partición en entrenamiento, validación y prueba?"
      ],
      "metadata": {
        "id": "fiA8KstNrAJX"
      }
    },
    {
      "cell_type": "code",
      "source": [
        "train_df.head()"
      ],
      "metadata": {
        "colab": {
          "base_uri": "https://localhost:8080/",
          "height": 270
        },
        "id": "Ko9_mU0Cph1e",
        "outputId": "5524ffc8-ab3e-4a03-b765-fe5e4ee883b8"
      },
      "execution_count": 153,
      "outputs": [
        {
          "output_type": "execute_result",
          "data": {
            "text/plain": [
              "       longitude  latitude  housing_median_age  total_rooms  total_bedrooms  \\\n",
              "17854    -121.89     37.46                 5.0       1519.0           186.0   \n",
              "10905    -117.86     33.76                15.0        851.0           297.0   \n",
              "12881    -121.34     38.68                28.0       3379.0           552.0   \n",
              "12280    -116.99     33.92                26.0        503.0            69.0   \n",
              "13104    -121.32     38.41                17.0       4401.0           655.0   \n",
              "\n",
              "       population  households  median_income  median_house_value  \\\n",
              "17854       705.0       186.0        10.3798            500001.0   \n",
              "10905      1326.0       254.0         2.8289            117500.0   \n",
              "12881      1543.0       556.0         4.2743            124000.0   \n",
              "12280       293.0        59.0         3.7083            147500.0   \n",
              "13104      1970.0       639.0         5.8239            247500.0   \n",
              "\n",
              "      ocean_proximity  rooms_per_household  bedrooms_per_household  \\\n",
              "17854       <1H OCEAN             8.166667                1.000000   \n",
              "10905       <1H OCEAN             3.350394                1.169291   \n",
              "12881          INLAND             6.077338                0.992806   \n",
              "12280          INLAND             8.525424                1.169492   \n",
              "13104          INLAND             6.887324                1.025039   \n",
              "\n",
              "       population_per_household  \n",
              "17854                  3.790323  \n",
              "10905                  5.220472  \n",
              "12881                  2.775180  \n",
              "12280                  4.966102  \n",
              "13104                  3.082942  "
            ],
            "text/html": [
              "\n",
              "  <div id=\"df-98211cf0-11f1-4c34-8d63-367874a38145\">\n",
              "    <div class=\"colab-df-container\">\n",
              "      <div>\n",
              "<style scoped>\n",
              "    .dataframe tbody tr th:only-of-type {\n",
              "        vertical-align: middle;\n",
              "    }\n",
              "\n",
              "    .dataframe tbody tr th {\n",
              "        vertical-align: top;\n",
              "    }\n",
              "\n",
              "    .dataframe thead th {\n",
              "        text-align: right;\n",
              "    }\n",
              "</style>\n",
              "<table border=\"1\" class=\"dataframe\">\n",
              "  <thead>\n",
              "    <tr style=\"text-align: right;\">\n",
              "      <th></th>\n",
              "      <th>longitude</th>\n",
              "      <th>latitude</th>\n",
              "      <th>housing_median_age</th>\n",
              "      <th>total_rooms</th>\n",
              "      <th>total_bedrooms</th>\n",
              "      <th>population</th>\n",
              "      <th>households</th>\n",
              "      <th>median_income</th>\n",
              "      <th>median_house_value</th>\n",
              "      <th>ocean_proximity</th>\n",
              "      <th>rooms_per_household</th>\n",
              "      <th>bedrooms_per_household</th>\n",
              "      <th>population_per_household</th>\n",
              "    </tr>\n",
              "  </thead>\n",
              "  <tbody>\n",
              "    <tr>\n",
              "      <th>17854</th>\n",
              "      <td>-121.89</td>\n",
              "      <td>37.46</td>\n",
              "      <td>5.0</td>\n",
              "      <td>1519.0</td>\n",
              "      <td>186.0</td>\n",
              "      <td>705.0</td>\n",
              "      <td>186.0</td>\n",
              "      <td>10.3798</td>\n",
              "      <td>500001.0</td>\n",
              "      <td>&lt;1H OCEAN</td>\n",
              "      <td>8.166667</td>\n",
              "      <td>1.000000</td>\n",
              "      <td>3.790323</td>\n",
              "    </tr>\n",
              "    <tr>\n",
              "      <th>10905</th>\n",
              "      <td>-117.86</td>\n",
              "      <td>33.76</td>\n",
              "      <td>15.0</td>\n",
              "      <td>851.0</td>\n",
              "      <td>297.0</td>\n",
              "      <td>1326.0</td>\n",
              "      <td>254.0</td>\n",
              "      <td>2.8289</td>\n",
              "      <td>117500.0</td>\n",
              "      <td>&lt;1H OCEAN</td>\n",
              "      <td>3.350394</td>\n",
              "      <td>1.169291</td>\n",
              "      <td>5.220472</td>\n",
              "    </tr>\n",
              "    <tr>\n",
              "      <th>12881</th>\n",
              "      <td>-121.34</td>\n",
              "      <td>38.68</td>\n",
              "      <td>28.0</td>\n",
              "      <td>3379.0</td>\n",
              "      <td>552.0</td>\n",
              "      <td>1543.0</td>\n",
              "      <td>556.0</td>\n",
              "      <td>4.2743</td>\n",
              "      <td>124000.0</td>\n",
              "      <td>INLAND</td>\n",
              "      <td>6.077338</td>\n",
              "      <td>0.992806</td>\n",
              "      <td>2.775180</td>\n",
              "    </tr>\n",
              "    <tr>\n",
              "      <th>12280</th>\n",
              "      <td>-116.99</td>\n",
              "      <td>33.92</td>\n",
              "      <td>26.0</td>\n",
              "      <td>503.0</td>\n",
              "      <td>69.0</td>\n",
              "      <td>293.0</td>\n",
              "      <td>59.0</td>\n",
              "      <td>3.7083</td>\n",
              "      <td>147500.0</td>\n",
              "      <td>INLAND</td>\n",
              "      <td>8.525424</td>\n",
              "      <td>1.169492</td>\n",
              "      <td>4.966102</td>\n",
              "    </tr>\n",
              "    <tr>\n",
              "      <th>13104</th>\n",
              "      <td>-121.32</td>\n",
              "      <td>38.41</td>\n",
              "      <td>17.0</td>\n",
              "      <td>4401.0</td>\n",
              "      <td>655.0</td>\n",
              "      <td>1970.0</td>\n",
              "      <td>639.0</td>\n",
              "      <td>5.8239</td>\n",
              "      <td>247500.0</td>\n",
              "      <td>INLAND</td>\n",
              "      <td>6.887324</td>\n",
              "      <td>1.025039</td>\n",
              "      <td>3.082942</td>\n",
              "    </tr>\n",
              "  </tbody>\n",
              "</table>\n",
              "</div>\n",
              "      <button class=\"colab-df-convert\" onclick=\"convertToInteractive('df-98211cf0-11f1-4c34-8d63-367874a38145')\"\n",
              "              title=\"Convert this dataframe to an interactive table.\"\n",
              "              style=\"display:none;\">\n",
              "        \n",
              "  <svg xmlns=\"http://www.w3.org/2000/svg\" height=\"24px\"viewBox=\"0 0 24 24\"\n",
              "       width=\"24px\">\n",
              "    <path d=\"M0 0h24v24H0V0z\" fill=\"none\"/>\n",
              "    <path d=\"M18.56 5.44l.94 2.06.94-2.06 2.06-.94-2.06-.94-.94-2.06-.94 2.06-2.06.94zm-11 1L8.5 8.5l.94-2.06 2.06-.94-2.06-.94L8.5 2.5l-.94 2.06-2.06.94zm10 10l.94 2.06.94-2.06 2.06-.94-2.06-.94-.94-2.06-.94 2.06-2.06.94z\"/><path d=\"M17.41 7.96l-1.37-1.37c-.4-.4-.92-.59-1.43-.59-.52 0-1.04.2-1.43.59L10.3 9.45l-7.72 7.72c-.78.78-.78 2.05 0 2.83L4 21.41c.39.39.9.59 1.41.59.51 0 1.02-.2 1.41-.59l7.78-7.78 2.81-2.81c.8-.78.8-2.07 0-2.86zM5.41 20L4 18.59l7.72-7.72 1.47 1.35L5.41 20z\"/>\n",
              "  </svg>\n",
              "      </button>\n",
              "      \n",
              "  <style>\n",
              "    .colab-df-container {\n",
              "      display:flex;\n",
              "      flex-wrap:wrap;\n",
              "      gap: 12px;\n",
              "    }\n",
              "\n",
              "    .colab-df-convert {\n",
              "      background-color: #E8F0FE;\n",
              "      border: none;\n",
              "      border-radius: 50%;\n",
              "      cursor: pointer;\n",
              "      display: none;\n",
              "      fill: #1967D2;\n",
              "      height: 32px;\n",
              "      padding: 0 0 0 0;\n",
              "      width: 32px;\n",
              "    }\n",
              "\n",
              "    .colab-df-convert:hover {\n",
              "      background-color: #E2EBFA;\n",
              "      box-shadow: 0px 1px 2px rgba(60, 64, 67, 0.3), 0px 1px 3px 1px rgba(60, 64, 67, 0.15);\n",
              "      fill: #174EA6;\n",
              "    }\n",
              "\n",
              "    [theme=dark] .colab-df-convert {\n",
              "      background-color: #3B4455;\n",
              "      fill: #D2E3FC;\n",
              "    }\n",
              "\n",
              "    [theme=dark] .colab-df-convert:hover {\n",
              "      background-color: #434B5C;\n",
              "      box-shadow: 0px 1px 3px 1px rgba(0, 0, 0, 0.15);\n",
              "      filter: drop-shadow(0px 1px 2px rgba(0, 0, 0, 0.3));\n",
              "      fill: #FFFFFF;\n",
              "    }\n",
              "  </style>\n",
              "\n",
              "      <script>\n",
              "        const buttonEl =\n",
              "          document.querySelector('#df-98211cf0-11f1-4c34-8d63-367874a38145 button.colab-df-convert');\n",
              "        buttonEl.style.display =\n",
              "          google.colab.kernel.accessAllowed ? 'block' : 'none';\n",
              "\n",
              "        async function convertToInteractive(key) {\n",
              "          const element = document.querySelector('#df-98211cf0-11f1-4c34-8d63-367874a38145');\n",
              "          const dataTable =\n",
              "            await google.colab.kernel.invokeFunction('convertToInteractive',\n",
              "                                                     [key], {});\n",
              "          if (!dataTable) return;\n",
              "\n",
              "          const docLinkHtml = 'Like what you see? Visit the ' +\n",
              "            '<a target=\"_blank\" href=https://colab.research.google.com/notebooks/data_table.ipynb>data table notebook</a>'\n",
              "            + ' to learn more about interactive tables.';\n",
              "          element.innerHTML = '';\n",
              "          dataTable['output_type'] = 'display_data';\n",
              "          await google.colab.output.renderOutput(dataTable, element);\n",
              "          const docLink = document.createElement('div');\n",
              "          docLink.innerHTML = docLinkHtml;\n",
              "          element.appendChild(docLink);\n",
              "        }\n",
              "      </script>\n",
              "    </div>\n",
              "  </div>\n",
              "  "
            ]
          },
          "metadata": {},
          "execution_count": 153
        }
      ]
    },
    {
      "cell_type": "markdown",
      "source": [
        "## ¿Cuándo se pueden hacer procedimientos o transformaciones antes de hacer las particiones?\n",
        "\n",
        "- Aquí habría estado bien agregar nuevas características antes de dividir porque no estamos usando información global en los datos, sino que solo estamos mirando una fila a la vez.\n",
        "\n",
        "- Pero para estar seguros y evitar romper accidentalmente la regla de oro, es mejor hacerlo después de la división.\n",
        "\n",
        "- Pregunta: ¿Deberíamos eliminar las columnas total_rooms, total_bedrooms y population?\n",
        "        \n",
        "- Probablemente sí. Pero los mantendré en esta lección. Podrías experimentar eliminándolos y examinar si los resultados cambian."
      ],
      "metadata": {
        "id": "LgOPfImrsDUD"
      }
    },
    {
      "cell_type": "code",
      "source": [
        "#train_df = train_df.drop(columns = ['population', 'total_rooms', 'total_bedrooms'])\n",
        "#val_df = val_df.drop(columns = ['population', 'total_rooms', 'total_bedrooms'])\n",
        "#test_df =  test_df.drop(columns = ['population', 'total_rooms', 'total_bedrooms'])"
      ],
      "metadata": {
        "id": "upYlpsP-sc5b"
      },
      "execution_count": 9,
      "outputs": []
    },
    {
      "cell_type": "markdown",
      "source": [
        "## **Análisis exploratorio de datos (Exploratory Data Analysis - EDA)**\n",
        "\n",
        "el objetivo principal del Análisis Exploratorio de Datos es comprender mejor los datos y extraer información valiosa de ellos a través de técnicas visuales y estadísticas. El EDA es importante para explorar datos nuevos o desconocidos, detectar patrones, identificar problemas de calidad de datos y mejorar la calidad de los resultados del análisis. En resumen, el EDA busca obtener una comprensión completa de los datos a través de una exploración sistemática y rigurosa."
      ],
      "metadata": {
        "id": "iHs83POgxkmS"
      }
    },
    {
      "cell_type": "markdown",
      "source": [
        "1. Revisar la escala de las caracteríticas\n",
        "\n"
      ],
      "metadata": {
        "id": "Kmkfp6zpyGKa"
      }
    },
    {
      "cell_type": "code",
      "source": [
        "train_df.head()"
      ],
      "metadata": {
        "colab": {
          "base_uri": "https://localhost:8080/",
          "height": 270
        },
        "id": "B5eDs-NuyTch",
        "outputId": "1c4d2952-ecda-4e30-bfa5-790ad70eeae2"
      },
      "execution_count": 154,
      "outputs": [
        {
          "output_type": "execute_result",
          "data": {
            "text/plain": [
              "       longitude  latitude  housing_median_age  total_rooms  total_bedrooms  \\\n",
              "17854    -121.89     37.46                 5.0       1519.0           186.0   \n",
              "10905    -117.86     33.76                15.0        851.0           297.0   \n",
              "12881    -121.34     38.68                28.0       3379.0           552.0   \n",
              "12280    -116.99     33.92                26.0        503.0            69.0   \n",
              "13104    -121.32     38.41                17.0       4401.0           655.0   \n",
              "\n",
              "       population  households  median_income  median_house_value  \\\n",
              "17854       705.0       186.0        10.3798            500001.0   \n",
              "10905      1326.0       254.0         2.8289            117500.0   \n",
              "12881      1543.0       556.0         4.2743            124000.0   \n",
              "12280       293.0        59.0         3.7083            147500.0   \n",
              "13104      1970.0       639.0         5.8239            247500.0   \n",
              "\n",
              "      ocean_proximity  rooms_per_household  bedrooms_per_household  \\\n",
              "17854       <1H OCEAN             8.166667                1.000000   \n",
              "10905       <1H OCEAN             3.350394                1.169291   \n",
              "12881          INLAND             6.077338                0.992806   \n",
              "12280          INLAND             8.525424                1.169492   \n",
              "13104          INLAND             6.887324                1.025039   \n",
              "\n",
              "       population_per_household  \n",
              "17854                  3.790323  \n",
              "10905                  5.220472  \n",
              "12881                  2.775180  \n",
              "12280                  4.966102  \n",
              "13104                  3.082942  "
            ],
            "text/html": [
              "\n",
              "  <div id=\"df-893cb284-3585-4995-a18f-bba7daac6d6b\">\n",
              "    <div class=\"colab-df-container\">\n",
              "      <div>\n",
              "<style scoped>\n",
              "    .dataframe tbody tr th:only-of-type {\n",
              "        vertical-align: middle;\n",
              "    }\n",
              "\n",
              "    .dataframe tbody tr th {\n",
              "        vertical-align: top;\n",
              "    }\n",
              "\n",
              "    .dataframe thead th {\n",
              "        text-align: right;\n",
              "    }\n",
              "</style>\n",
              "<table border=\"1\" class=\"dataframe\">\n",
              "  <thead>\n",
              "    <tr style=\"text-align: right;\">\n",
              "      <th></th>\n",
              "      <th>longitude</th>\n",
              "      <th>latitude</th>\n",
              "      <th>housing_median_age</th>\n",
              "      <th>total_rooms</th>\n",
              "      <th>total_bedrooms</th>\n",
              "      <th>population</th>\n",
              "      <th>households</th>\n",
              "      <th>median_income</th>\n",
              "      <th>median_house_value</th>\n",
              "      <th>ocean_proximity</th>\n",
              "      <th>rooms_per_household</th>\n",
              "      <th>bedrooms_per_household</th>\n",
              "      <th>population_per_household</th>\n",
              "    </tr>\n",
              "  </thead>\n",
              "  <tbody>\n",
              "    <tr>\n",
              "      <th>17854</th>\n",
              "      <td>-121.89</td>\n",
              "      <td>37.46</td>\n",
              "      <td>5.0</td>\n",
              "      <td>1519.0</td>\n",
              "      <td>186.0</td>\n",
              "      <td>705.0</td>\n",
              "      <td>186.0</td>\n",
              "      <td>10.3798</td>\n",
              "      <td>500001.0</td>\n",
              "      <td>&lt;1H OCEAN</td>\n",
              "      <td>8.166667</td>\n",
              "      <td>1.000000</td>\n",
              "      <td>3.790323</td>\n",
              "    </tr>\n",
              "    <tr>\n",
              "      <th>10905</th>\n",
              "      <td>-117.86</td>\n",
              "      <td>33.76</td>\n",
              "      <td>15.0</td>\n",
              "      <td>851.0</td>\n",
              "      <td>297.0</td>\n",
              "      <td>1326.0</td>\n",
              "      <td>254.0</td>\n",
              "      <td>2.8289</td>\n",
              "      <td>117500.0</td>\n",
              "      <td>&lt;1H OCEAN</td>\n",
              "      <td>3.350394</td>\n",
              "      <td>1.169291</td>\n",
              "      <td>5.220472</td>\n",
              "    </tr>\n",
              "    <tr>\n",
              "      <th>12881</th>\n",
              "      <td>-121.34</td>\n",
              "      <td>38.68</td>\n",
              "      <td>28.0</td>\n",
              "      <td>3379.0</td>\n",
              "      <td>552.0</td>\n",
              "      <td>1543.0</td>\n",
              "      <td>556.0</td>\n",
              "      <td>4.2743</td>\n",
              "      <td>124000.0</td>\n",
              "      <td>INLAND</td>\n",
              "      <td>6.077338</td>\n",
              "      <td>0.992806</td>\n",
              "      <td>2.775180</td>\n",
              "    </tr>\n",
              "    <tr>\n",
              "      <th>12280</th>\n",
              "      <td>-116.99</td>\n",
              "      <td>33.92</td>\n",
              "      <td>26.0</td>\n",
              "      <td>503.0</td>\n",
              "      <td>69.0</td>\n",
              "      <td>293.0</td>\n",
              "      <td>59.0</td>\n",
              "      <td>3.7083</td>\n",
              "      <td>147500.0</td>\n",
              "      <td>INLAND</td>\n",
              "      <td>8.525424</td>\n",
              "      <td>1.169492</td>\n",
              "      <td>4.966102</td>\n",
              "    </tr>\n",
              "    <tr>\n",
              "      <th>13104</th>\n",
              "      <td>-121.32</td>\n",
              "      <td>38.41</td>\n",
              "      <td>17.0</td>\n",
              "      <td>4401.0</td>\n",
              "      <td>655.0</td>\n",
              "      <td>1970.0</td>\n",
              "      <td>639.0</td>\n",
              "      <td>5.8239</td>\n",
              "      <td>247500.0</td>\n",
              "      <td>INLAND</td>\n",
              "      <td>6.887324</td>\n",
              "      <td>1.025039</td>\n",
              "      <td>3.082942</td>\n",
              "    </tr>\n",
              "  </tbody>\n",
              "</table>\n",
              "</div>\n",
              "      <button class=\"colab-df-convert\" onclick=\"convertToInteractive('df-893cb284-3585-4995-a18f-bba7daac6d6b')\"\n",
              "              title=\"Convert this dataframe to an interactive table.\"\n",
              "              style=\"display:none;\">\n",
              "        \n",
              "  <svg xmlns=\"http://www.w3.org/2000/svg\" height=\"24px\"viewBox=\"0 0 24 24\"\n",
              "       width=\"24px\">\n",
              "    <path d=\"M0 0h24v24H0V0z\" fill=\"none\"/>\n",
              "    <path d=\"M18.56 5.44l.94 2.06.94-2.06 2.06-.94-2.06-.94-.94-2.06-.94 2.06-2.06.94zm-11 1L8.5 8.5l.94-2.06 2.06-.94-2.06-.94L8.5 2.5l-.94 2.06-2.06.94zm10 10l.94 2.06.94-2.06 2.06-.94-2.06-.94-.94-2.06-.94 2.06-2.06.94z\"/><path d=\"M17.41 7.96l-1.37-1.37c-.4-.4-.92-.59-1.43-.59-.52 0-1.04.2-1.43.59L10.3 9.45l-7.72 7.72c-.78.78-.78 2.05 0 2.83L4 21.41c.39.39.9.59 1.41.59.51 0 1.02-.2 1.41-.59l7.78-7.78 2.81-2.81c.8-.78.8-2.07 0-2.86zM5.41 20L4 18.59l7.72-7.72 1.47 1.35L5.41 20z\"/>\n",
              "  </svg>\n",
              "      </button>\n",
              "      \n",
              "  <style>\n",
              "    .colab-df-container {\n",
              "      display:flex;\n",
              "      flex-wrap:wrap;\n",
              "      gap: 12px;\n",
              "    }\n",
              "\n",
              "    .colab-df-convert {\n",
              "      background-color: #E8F0FE;\n",
              "      border: none;\n",
              "      border-radius: 50%;\n",
              "      cursor: pointer;\n",
              "      display: none;\n",
              "      fill: #1967D2;\n",
              "      height: 32px;\n",
              "      padding: 0 0 0 0;\n",
              "      width: 32px;\n",
              "    }\n",
              "\n",
              "    .colab-df-convert:hover {\n",
              "      background-color: #E2EBFA;\n",
              "      box-shadow: 0px 1px 2px rgba(60, 64, 67, 0.3), 0px 1px 3px 1px rgba(60, 64, 67, 0.15);\n",
              "      fill: #174EA6;\n",
              "    }\n",
              "\n",
              "    [theme=dark] .colab-df-convert {\n",
              "      background-color: #3B4455;\n",
              "      fill: #D2E3FC;\n",
              "    }\n",
              "\n",
              "    [theme=dark] .colab-df-convert:hover {\n",
              "      background-color: #434B5C;\n",
              "      box-shadow: 0px 1px 3px 1px rgba(0, 0, 0, 0.15);\n",
              "      filter: drop-shadow(0px 1px 2px rgba(0, 0, 0, 0.3));\n",
              "      fill: #FFFFFF;\n",
              "    }\n",
              "  </style>\n",
              "\n",
              "      <script>\n",
              "        const buttonEl =\n",
              "          document.querySelector('#df-893cb284-3585-4995-a18f-bba7daac6d6b button.colab-df-convert');\n",
              "        buttonEl.style.display =\n",
              "          google.colab.kernel.accessAllowed ? 'block' : 'none';\n",
              "\n",
              "        async function convertToInteractive(key) {\n",
              "          const element = document.querySelector('#df-893cb284-3585-4995-a18f-bba7daac6d6b');\n",
              "          const dataTable =\n",
              "            await google.colab.kernel.invokeFunction('convertToInteractive',\n",
              "                                                     [key], {});\n",
              "          if (!dataTable) return;\n",
              "\n",
              "          const docLinkHtml = 'Like what you see? Visit the ' +\n",
              "            '<a target=\"_blank\" href=https://colab.research.google.com/notebooks/data_table.ipynb>data table notebook</a>'\n",
              "            + ' to learn more about interactive tables.';\n",
              "          element.innerHTML = '';\n",
              "          dataTable['output_type'] = 'display_data';\n",
              "          await google.colab.output.renderOutput(dataTable, element);\n",
              "          const docLink = document.createElement('div');\n",
              "          docLink.innerHTML = docLinkHtml;\n",
              "          element.appendChild(docLink);\n",
              "        }\n",
              "      </script>\n",
              "    </div>\n",
              "  </div>\n",
              "  "
            ]
          },
          "metadata": {},
          "execution_count": 154
        }
      ]
    },
    {
      "cell_type": "markdown",
      "source": [
        "2. Revisar qué tipo de variables tenemos"
      ],
      "metadata": {
        "id": "nGQGyWMoyZbR"
      }
    },
    {
      "cell_type": "code",
      "source": [
        "train_df.info()"
      ],
      "metadata": {
        "colab": {
          "base_uri": "https://localhost:8080/"
        },
        "id": "z1z3-W7PyLA9",
        "outputId": "c2b3db56-4f11-4ac9-c12d-d2bd3a9112d9"
      },
      "execution_count": 155,
      "outputs": [
        {
          "output_type": "stream",
          "name": "stdout",
          "text": [
            "<class 'pandas.core.frame.DataFrame'>\n",
            "Int64Index: 13209 entries, 17854 to 18303\n",
            "Data columns (total 13 columns):\n",
            " #   Column                    Non-Null Count  Dtype  \n",
            "---  ------                    --------------  -----  \n",
            " 0   longitude                 13209 non-null  float64\n",
            " 1   latitude                  13209 non-null  float64\n",
            " 2   housing_median_age        13209 non-null  float64\n",
            " 3   total_rooms               13209 non-null  float64\n",
            " 4   total_bedrooms            13074 non-null  float64\n",
            " 5   population                13209 non-null  float64\n",
            " 6   households                13209 non-null  float64\n",
            " 7   median_income             13209 non-null  float64\n",
            " 8   median_house_value        13209 non-null  float64\n",
            " 9   ocean_proximity           13209 non-null  object \n",
            " 10  rooms_per_household       13209 non-null  float64\n",
            " 11  bedrooms_per_household    13074 non-null  float64\n",
            " 12  population_per_household  13209 non-null  float64\n",
            "dtypes: float64(12), object(1)\n",
            "memory usage: 1.4+ MB\n"
          ]
        }
      ]
    },
    {
      "cell_type": "markdown",
      "source": [
        "Tenemos una variable categórica y todas las otras son variables numéricas. Además podemos ver que la variable `total_bedrooms` tiene algunos valores nulos. Esto afectó el cálculo de nuestra variable `bedrooms_per_household`"
      ],
      "metadata": {
        "id": "tIf29saDyh8Y"
      }
    },
    {
      "cell_type": "code",
      "source": [
        "housing_df[\"total_bedrooms\"].isnull().sum()"
      ],
      "metadata": {
        "colab": {
          "base_uri": "https://localhost:8080/"
        },
        "id": "8zS09z9nynD3",
        "outputId": "ffc9c2b8-ae86-464c-f2f2-58116c08a3bc"
      },
      "execution_count": 156,
      "outputs": [
        {
          "output_type": "execute_result",
          "data": {
            "text/plain": [
              "207"
            ]
          },
          "metadata": {},
          "execution_count": 156
        }
      ]
    },
    {
      "cell_type": "markdown",
      "source": [
        "¿Qué podemos hacer con estos datos faltantes?"
      ],
      "metadata": {
        "id": "zB8-E93ZyrUN"
      }
    },
    {
      "cell_type": "markdown",
      "source": [
        "3. Estadísticas de cada una de las variables"
      ],
      "metadata": {
        "id": "G0_gZMt4x9Sn"
      }
    },
    {
      "cell_type": "code",
      "source": [
        "train_df.describe()"
      ],
      "metadata": {
        "colab": {
          "base_uri": "https://localhost:8080/",
          "height": 364
        },
        "id": "5atpcelGx7An",
        "outputId": "497535c1-d62a-4aa0-d411-365417f2c182"
      },
      "execution_count": 157,
      "outputs": [
        {
          "output_type": "execute_result",
          "data": {
            "text/plain": [
              "          longitude      latitude  housing_median_age   total_rooms  \\\n",
              "count  13209.000000  13209.000000        13209.000000  13209.000000   \n",
              "mean    -119.569365     35.628628           28.595352   2654.158528   \n",
              "std        2.001771      2.136972           12.568914   2166.088754   \n",
              "min     -124.350000     32.540000            1.000000      2.000000   \n",
              "25%     -121.800000     33.930000           18.000000   1459.000000   \n",
              "50%     -118.490000     34.250000           29.000000   2143.000000   \n",
              "75%     -118.010000     37.710000           37.000000   3166.000000   \n",
              "max     -114.310000     41.950000           52.000000  30450.000000   \n",
              "\n",
              "       total_bedrooms    population    households  median_income  \\\n",
              "count    13074.000000  13209.000000  13209.000000   13209.000000   \n",
              "mean       542.056601   1436.301537    503.736998       3.875573   \n",
              "std        422.296636   1101.209993    383.013042       1.915422   \n",
              "min          1.000000      5.000000      1.000000       0.499900   \n",
              "25%        298.000000    791.000000    281.000000       2.562500   \n",
              "50%        438.000000   1174.000000    413.000000       3.531300   \n",
              "75%        651.000000   1742.000000    608.000000       4.750000   \n",
              "max       5419.000000  15037.000000   4930.000000      15.000100   \n",
              "\n",
              "       median_house_value  rooms_per_household  bedrooms_per_household  \\\n",
              "count        13209.000000         13209.000000            13074.000000   \n",
              "mean        207337.779469             5.417153                1.094952   \n",
              "std         116003.604608             2.349999                0.425765   \n",
              "min          14999.000000             0.888889                0.333333   \n",
              "25%         119300.000000             4.431907                1.006369   \n",
              "50%         180400.000000             5.221884                1.049180   \n",
              "75%         265600.000000             6.051808                1.099188   \n",
              "max         500001.000000           141.909091               25.636364   \n",
              "\n",
              "       population_per_household  \n",
              "count              13209.000000  \n",
              "mean                   3.050996  \n",
              "std                   11.013213  \n",
              "min                    0.970588  \n",
              "25%                    2.428380  \n",
              "50%                    2.816514  \n",
              "75%                    3.280000  \n",
              "max                 1243.333333  "
            ],
            "text/html": [
              "\n",
              "  <div id=\"df-9b17d743-05bd-4c1e-af6e-7e18aa616896\">\n",
              "    <div class=\"colab-df-container\">\n",
              "      <div>\n",
              "<style scoped>\n",
              "    .dataframe tbody tr th:only-of-type {\n",
              "        vertical-align: middle;\n",
              "    }\n",
              "\n",
              "    .dataframe tbody tr th {\n",
              "        vertical-align: top;\n",
              "    }\n",
              "\n",
              "    .dataframe thead th {\n",
              "        text-align: right;\n",
              "    }\n",
              "</style>\n",
              "<table border=\"1\" class=\"dataframe\">\n",
              "  <thead>\n",
              "    <tr style=\"text-align: right;\">\n",
              "      <th></th>\n",
              "      <th>longitude</th>\n",
              "      <th>latitude</th>\n",
              "      <th>housing_median_age</th>\n",
              "      <th>total_rooms</th>\n",
              "      <th>total_bedrooms</th>\n",
              "      <th>population</th>\n",
              "      <th>households</th>\n",
              "      <th>median_income</th>\n",
              "      <th>median_house_value</th>\n",
              "      <th>rooms_per_household</th>\n",
              "      <th>bedrooms_per_household</th>\n",
              "      <th>population_per_household</th>\n",
              "    </tr>\n",
              "  </thead>\n",
              "  <tbody>\n",
              "    <tr>\n",
              "      <th>count</th>\n",
              "      <td>13209.000000</td>\n",
              "      <td>13209.000000</td>\n",
              "      <td>13209.000000</td>\n",
              "      <td>13209.000000</td>\n",
              "      <td>13074.000000</td>\n",
              "      <td>13209.000000</td>\n",
              "      <td>13209.000000</td>\n",
              "      <td>13209.000000</td>\n",
              "      <td>13209.000000</td>\n",
              "      <td>13209.000000</td>\n",
              "      <td>13074.000000</td>\n",
              "      <td>13209.000000</td>\n",
              "    </tr>\n",
              "    <tr>\n",
              "      <th>mean</th>\n",
              "      <td>-119.569365</td>\n",
              "      <td>35.628628</td>\n",
              "      <td>28.595352</td>\n",
              "      <td>2654.158528</td>\n",
              "      <td>542.056601</td>\n",
              "      <td>1436.301537</td>\n",
              "      <td>503.736998</td>\n",
              "      <td>3.875573</td>\n",
              "      <td>207337.779469</td>\n",
              "      <td>5.417153</td>\n",
              "      <td>1.094952</td>\n",
              "      <td>3.050996</td>\n",
              "    </tr>\n",
              "    <tr>\n",
              "      <th>std</th>\n",
              "      <td>2.001771</td>\n",
              "      <td>2.136972</td>\n",
              "      <td>12.568914</td>\n",
              "      <td>2166.088754</td>\n",
              "      <td>422.296636</td>\n",
              "      <td>1101.209993</td>\n",
              "      <td>383.013042</td>\n",
              "      <td>1.915422</td>\n",
              "      <td>116003.604608</td>\n",
              "      <td>2.349999</td>\n",
              "      <td>0.425765</td>\n",
              "      <td>11.013213</td>\n",
              "    </tr>\n",
              "    <tr>\n",
              "      <th>min</th>\n",
              "      <td>-124.350000</td>\n",
              "      <td>32.540000</td>\n",
              "      <td>1.000000</td>\n",
              "      <td>2.000000</td>\n",
              "      <td>1.000000</td>\n",
              "      <td>5.000000</td>\n",
              "      <td>1.000000</td>\n",
              "      <td>0.499900</td>\n",
              "      <td>14999.000000</td>\n",
              "      <td>0.888889</td>\n",
              "      <td>0.333333</td>\n",
              "      <td>0.970588</td>\n",
              "    </tr>\n",
              "    <tr>\n",
              "      <th>25%</th>\n",
              "      <td>-121.800000</td>\n",
              "      <td>33.930000</td>\n",
              "      <td>18.000000</td>\n",
              "      <td>1459.000000</td>\n",
              "      <td>298.000000</td>\n",
              "      <td>791.000000</td>\n",
              "      <td>281.000000</td>\n",
              "      <td>2.562500</td>\n",
              "      <td>119300.000000</td>\n",
              "      <td>4.431907</td>\n",
              "      <td>1.006369</td>\n",
              "      <td>2.428380</td>\n",
              "    </tr>\n",
              "    <tr>\n",
              "      <th>50%</th>\n",
              "      <td>-118.490000</td>\n",
              "      <td>34.250000</td>\n",
              "      <td>29.000000</td>\n",
              "      <td>2143.000000</td>\n",
              "      <td>438.000000</td>\n",
              "      <td>1174.000000</td>\n",
              "      <td>413.000000</td>\n",
              "      <td>3.531300</td>\n",
              "      <td>180400.000000</td>\n",
              "      <td>5.221884</td>\n",
              "      <td>1.049180</td>\n",
              "      <td>2.816514</td>\n",
              "    </tr>\n",
              "    <tr>\n",
              "      <th>75%</th>\n",
              "      <td>-118.010000</td>\n",
              "      <td>37.710000</td>\n",
              "      <td>37.000000</td>\n",
              "      <td>3166.000000</td>\n",
              "      <td>651.000000</td>\n",
              "      <td>1742.000000</td>\n",
              "      <td>608.000000</td>\n",
              "      <td>4.750000</td>\n",
              "      <td>265600.000000</td>\n",
              "      <td>6.051808</td>\n",
              "      <td>1.099188</td>\n",
              "      <td>3.280000</td>\n",
              "    </tr>\n",
              "    <tr>\n",
              "      <th>max</th>\n",
              "      <td>-114.310000</td>\n",
              "      <td>41.950000</td>\n",
              "      <td>52.000000</td>\n",
              "      <td>30450.000000</td>\n",
              "      <td>5419.000000</td>\n",
              "      <td>15037.000000</td>\n",
              "      <td>4930.000000</td>\n",
              "      <td>15.000100</td>\n",
              "      <td>500001.000000</td>\n",
              "      <td>141.909091</td>\n",
              "      <td>25.636364</td>\n",
              "      <td>1243.333333</td>\n",
              "    </tr>\n",
              "  </tbody>\n",
              "</table>\n",
              "</div>\n",
              "      <button class=\"colab-df-convert\" onclick=\"convertToInteractive('df-9b17d743-05bd-4c1e-af6e-7e18aa616896')\"\n",
              "              title=\"Convert this dataframe to an interactive table.\"\n",
              "              style=\"display:none;\">\n",
              "        \n",
              "  <svg xmlns=\"http://www.w3.org/2000/svg\" height=\"24px\"viewBox=\"0 0 24 24\"\n",
              "       width=\"24px\">\n",
              "    <path d=\"M0 0h24v24H0V0z\" fill=\"none\"/>\n",
              "    <path d=\"M18.56 5.44l.94 2.06.94-2.06 2.06-.94-2.06-.94-.94-2.06-.94 2.06-2.06.94zm-11 1L8.5 8.5l.94-2.06 2.06-.94-2.06-.94L8.5 2.5l-.94 2.06-2.06.94zm10 10l.94 2.06.94-2.06 2.06-.94-2.06-.94-.94-2.06-.94 2.06-2.06.94z\"/><path d=\"M17.41 7.96l-1.37-1.37c-.4-.4-.92-.59-1.43-.59-.52 0-1.04.2-1.43.59L10.3 9.45l-7.72 7.72c-.78.78-.78 2.05 0 2.83L4 21.41c.39.39.9.59 1.41.59.51 0 1.02-.2 1.41-.59l7.78-7.78 2.81-2.81c.8-.78.8-2.07 0-2.86zM5.41 20L4 18.59l7.72-7.72 1.47 1.35L5.41 20z\"/>\n",
              "  </svg>\n",
              "      </button>\n",
              "      \n",
              "  <style>\n",
              "    .colab-df-container {\n",
              "      display:flex;\n",
              "      flex-wrap:wrap;\n",
              "      gap: 12px;\n",
              "    }\n",
              "\n",
              "    .colab-df-convert {\n",
              "      background-color: #E8F0FE;\n",
              "      border: none;\n",
              "      border-radius: 50%;\n",
              "      cursor: pointer;\n",
              "      display: none;\n",
              "      fill: #1967D2;\n",
              "      height: 32px;\n",
              "      padding: 0 0 0 0;\n",
              "      width: 32px;\n",
              "    }\n",
              "\n",
              "    .colab-df-convert:hover {\n",
              "      background-color: #E2EBFA;\n",
              "      box-shadow: 0px 1px 2px rgba(60, 64, 67, 0.3), 0px 1px 3px 1px rgba(60, 64, 67, 0.15);\n",
              "      fill: #174EA6;\n",
              "    }\n",
              "\n",
              "    [theme=dark] .colab-df-convert {\n",
              "      background-color: #3B4455;\n",
              "      fill: #D2E3FC;\n",
              "    }\n",
              "\n",
              "    [theme=dark] .colab-df-convert:hover {\n",
              "      background-color: #434B5C;\n",
              "      box-shadow: 0px 1px 3px 1px rgba(0, 0, 0, 0.15);\n",
              "      filter: drop-shadow(0px 1px 2px rgba(0, 0, 0, 0.3));\n",
              "      fill: #FFFFFF;\n",
              "    }\n",
              "  </style>\n",
              "\n",
              "      <script>\n",
              "        const buttonEl =\n",
              "          document.querySelector('#df-9b17d743-05bd-4c1e-af6e-7e18aa616896 button.colab-df-convert');\n",
              "        buttonEl.style.display =\n",
              "          google.colab.kernel.accessAllowed ? 'block' : 'none';\n",
              "\n",
              "        async function convertToInteractive(key) {\n",
              "          const element = document.querySelector('#df-9b17d743-05bd-4c1e-af6e-7e18aa616896');\n",
              "          const dataTable =\n",
              "            await google.colab.kernel.invokeFunction('convertToInteractive',\n",
              "                                                     [key], {});\n",
              "          if (!dataTable) return;\n",
              "\n",
              "          const docLinkHtml = 'Like what you see? Visit the ' +\n",
              "            '<a target=\"_blank\" href=https://colab.research.google.com/notebooks/data_table.ipynb>data table notebook</a>'\n",
              "            + ' to learn more about interactive tables.';\n",
              "          element.innerHTML = '';\n",
              "          dataTable['output_type'] = 'display_data';\n",
              "          await google.colab.output.renderOutput(dataTable, element);\n",
              "          const docLink = document.createElement('div');\n",
              "          docLink.innerHTML = docLinkHtml;\n",
              "          element.appendChild(docLink);\n",
              "        }\n",
              "      </script>\n",
              "    </div>\n",
              "  </div>\n",
              "  "
            ]
          },
          "metadata": {},
          "execution_count": 157
        }
      ]
    },
    {
      "cell_type": "markdown",
      "source": [
        "4. Graficar la distribución de cada una de las variables"
      ],
      "metadata": {
        "id": "OY0EZZnhy3O7"
      }
    },
    {
      "cell_type": "code",
      "source": [
        "train_df.hist(bins=50, figsize=(20, 15));"
      ],
      "metadata": {
        "colab": {
          "base_uri": "https://localhost:8080/",
          "height": 966
        },
        "id": "V7UyPyEwy01-",
        "outputId": "a239cf6e-1c74-43b5-9ce6-1bc1a0580f3d"
      },
      "execution_count": 158,
      "outputs": [
        {
          "output_type": "display_data",
          "data": {
            "text/plain": [
              "<Figure size 2000x1500 with 12 Axes>"
            ],
            "image/png": "[encoded data removed]"
          },
          "metadata": {}
        }
      ]
    },
    {
      "cell_type": "code",
      "source": [
        "train_df.plot(\n",
        "    kind=\"scatter\",\n",
        "    x=\"longitude\",\n",
        "    y=\"latitude\",\n",
        "    alpha=0.4,\n",
        "    s=train_df[\"population_per_household\"],\n",
        "    figsize=(10, 7),\n",
        "    c=\"median_house_value\",\n",
        "    cmap=plt.get_cmap(\"jet\"),\n",
        "    colorbar=True,\n",
        "    sharex=False,\n",
        ");"
      ],
      "metadata": {
        "colab": {
          "base_uri": "https://localhost:8080/",
          "height": 624
        },
        "id": "rgOAHOm6zQID",
        "outputId": "3a0ca2ab-8aa9-4f64-82a4-d189e83dd5a6"
      },
      "execution_count": 159,
      "outputs": [
        {
          "output_type": "display_data",
          "data": {
            "text/plain": [
              "<Figure size 1000x700 with 2 Axes>"
            ],
            "image/png": "[encoded data removed]"
          },
          "metadata": {}
        }
      ]
    },
    {
      "cell_type": "markdown",
      "source": [
        "## **¿Qué transformaciones debemos aplicar a los datos?**\n",
        "\n",
        "Esto es lo que podemos ver del EDA:\n",
        "\n",
        "- Algunos valores faltantes en la columna `total_bedrooms`\n",
        "- Las escalas de las columnas son bastante diferentes\n",
        "- Tenemos una variable categórica `ocean_proximity`\n",
        "\n",
        "Primero vamos a trabajar con las variables numéricas que no tienen valores nulos. Después incluiremos de nuevo la variable categórica.\n"
      ],
      "metadata": {
        "id": "8Em6VUv1zZVc"
      }
    },
    {
      "cell_type": "code",
      "source": [
        "X_train = train_df.drop(columns=[\"median_house_value\", \"ocean_proximity\", \"total_bedrooms\", \"bedrooms_per_household\"])\n",
        "y_train = train_df[\"median_house_value\"]\n",
        "\n",
        "X_val = val_df.drop(columns=[\"median_house_value\", \"ocean_proximity\", \"total_bedrooms\", \"bedrooms_per_household\"])\n",
        "y_val = val_df[\"median_house_value\"]\n",
        "\n",
        "X_test = test_df.drop(columns=[\"median_house_value\", \"ocean_proximity\", \"total_bedrooms\", \"bedrooms_per_household\"])\n",
        "y_test = test_df[\"median_house_value\"]"
      ],
      "metadata": {
        "id": "ozVZMu5Ez9bn"
      },
      "execution_count": 160,
      "outputs": []
    },
    {
      "cell_type": "markdown",
      "source": [
        "Vamos a entrenar nuestra regresión con $k-$NN con los datos sin preprocesamiento"
      ],
      "metadata": {
        "id": "ZPzS4BDw0NGX"
      }
    },
    {
      "cell_type": "code",
      "source": [
        "# Crear un clasificador KNN con diferentes números de vecinos\n",
        "n_neighbors = [1,3,5,7,9,11,13,15]\n",
        "det_coef = []\n",
        "\n",
        "for k in n_neighbors:\n",
        "  clf = Pipeline(steps=[(\"regressor\", KNeighborsRegressor(n_neighbors=k))])\n",
        "\n",
        "  # Entrenar el clasificador con los datos de entrenamiento\n",
        "  clf.fit(X_train, y_train)\n",
        "\n",
        "  # Evaluar el rendimiento del clasificador en los datos de validación\n",
        "  det_coef.append(clf.score(X_val, y_val))"
      ],
      "metadata": {
        "id": "BsKdziBq0Yjl"
      },
      "execution_count": 161,
      "outputs": []
    },
    {
      "cell_type": "code",
      "source": [
        "gfg = sns.barplot(x = n_neighbors,y = det_coef)\n",
        "gfg.set(xlabel =\"Number of neighbors\", ylabel = \"Determination Coefficient (%)\", title ='k-NN Regression')"
      ],
      "metadata": {
        "colab": {
          "base_uri": "https://localhost:8080/",
          "height": 525
        },
        "id": "TDeyalQ82IEt",
        "outputId": "3f3efb99-d592-49fd-9183-a3aca9657c9d"
      },
      "execution_count": 162,
      "outputs": [
        {
          "output_type": "execute_result",
          "data": {
            "text/plain": [
              "[Text(0.5, 0, 'Number of neighbors'),\n",
              " Text(0, 0.5, 'Determination Coefficient (%)'),\n",
              " Text(0.5, 1.0, 'k-NN Regression')]"
            ]
          },
          "metadata": {},
          "execution_count": 162
        },
        {
          "output_type": "display_data",
          "data": {
            "text/plain": [
              "<Figure size 640x480 with 1 Axes>"
            ],
            "image/png": "[encoded data removed]"
          },
          "metadata": {}
        }
      ]
    },
    {
      "cell_type": "code",
      "source": [
        "#Re-entrenar el modelo con los datos de entrenamiento y validación para el valor de k óptimo\n",
        "k_opt = n_neighbors[np.argmax(det_coef)]\n",
        "print(f\"El número óptimo de vecinos es {k_opt}\")\n",
        "X_train_test = np.vstack([X_train,X_val])\n",
        "y_train_test = np.hstack([y_train,y_val])\n",
        "\n",
        "# Entrenar el regresor con los datos de entrenamiento\n",
        "clf = Pipeline(steps=[(\"regressor\", KNeighborsRegressor(n_neighbors=k_opt))])\n",
        "clf.fit(X_train_test, y_train_test)\n",
        "#Validar el rendimiento del clasificador con los datos de prueba\n",
        "det_coef = clf.score(X_test, y_test)\n",
        "\n",
        "print(f\"El coeficiente de determinación en el conjunto de test es {det_coef:0.2f}\")"
      ],
      "metadata": {
        "colab": {
          "base_uri": "https://localhost:8080/"
        },
        "id": "-2zaiDG-2WLb",
        "outputId": "a6a3957e-e08d-4622-b7f6-07f30e9b9729"
      },
      "execution_count": 163,
      "outputs": [
        {
          "output_type": "stream",
          "name": "stdout",
          "text": [
            "El número óptimo de vecinos es 15\n",
            "El coeficiente de determinación en el conjunto de test es 0.25\n"
          ]
        },
        {
          "output_type": "stream",
          "name": "stderr",
          "text": [
            "/usr/local/lib/python3.9/dist-packages/sklearn/base.py:432: UserWarning: X has feature names, but KNeighborsRegressor was fitted without feature names\n",
            "  warnings.warn(\n"
          ]
        }
      ]
    },
    {
      "cell_type": "markdown",
      "source": [
        "## **Imputación de datos**\n",
        "\n",
        "La imputación de datos se utiliza para abordar valores faltantes en un conjunto de datos. Reemplaza los valores faltantes con valores estimados para permitir un análisis más completo y reducir el impacto de los valores faltantes en los resultados del análisis. La elección de la técnica de imputación depende del tipo de datos y la cantidad de valores faltantes, y en algunos casos puede ser necesario eliminar filas o columnas con valores faltantes."
      ],
      "metadata": {
        "id": "XgFY9bEe27yx"
      }
    },
    {
      "cell_type": "markdown",
      "source": [
        "¿Qué pasa si intentamos hacer la regresión sin tener en cuenta los valores nulos o faltantes?\n"
      ],
      "metadata": {
        "id": "WtmAwSun3Usb"
      }
    },
    {
      "cell_type": "code",
      "source": [
        "X_train = train_df.drop(columns=[\"median_house_value\", \"ocean_proximity\"])\n",
        "y_train = train_df[\"median_house_value\"]\n",
        "\n",
        "X_val = val_df.drop(columns=[\"median_house_value\", \"ocean_proximity\"])\n",
        "y_val = val_df[\"median_house_value\"]\n",
        "\n",
        "X_test = test_df.drop(columns=[\"median_house_value\", \"ocean_proximity\"])\n",
        "y_test = test_df[\"median_house_value\"]"
      ],
      "metadata": {
        "id": "7nXhDBVs3eie"
      },
      "execution_count": 164,
      "outputs": []
    },
    {
      "cell_type": "code",
      "source": [
        "# Crear un clasificador KNN con diferentes números de vecinos\n",
        "n_neighbors = [1,3,5,7,9,11,13,15]\n",
        "det_coef = []\n",
        "\n",
        "for k in n_neighbors:\n",
        "  clf = Pipeline(steps=[(\"regressor\", KNeighborsRegressor(n_neighbors=k))])\n",
        "\n",
        "  # Entrenar el clasificador con los datos de entrenamiento\n",
        "  clf.fit(X_train, y_train)\n",
        "\n",
        "  # Evaluar el rendimiento del clasificador en los datos de validación\n",
        "  det_coef.append(clf.score(X_val, y_val))"
      ],
      "metadata": {
        "colab": {
          "base_uri": "https://localhost:8080/",
          "height": 476
        },
        "id": "eMXYIznw3m1A",
        "outputId": "7692e432-d258-406c-ec15-b9ce706587a4"
      },
      "execution_count": 165,
      "outputs": [
        {
          "output_type": "error",
          "ename": "ValueError",
          "evalue": "ignored",
          "traceback": [
            "\u001b[0;31m---------------------------------------------------------------------------\u001b[0m",
            "\u001b[0;31mValueError\u001b[0m                                Traceback (most recent call last)",
            "\u001b[0;32m<ipython-input-165-add83bba95df>\u001b[0m in \u001b[0;36m<cell line: 5>\u001b[0;34m()\u001b[0m\n\u001b[1;32m      7\u001b[0m \u001b[0;34m\u001b[0m\u001b[0m\n\u001b[1;32m      8\u001b[0m   \u001b[0;31m# Entrenar el clasificador con los datos de entrenamiento\u001b[0m\u001b[0;34m\u001b[0m\u001b[0;34m\u001b[0m\u001b[0m\n\u001b[0;32m----> 9\u001b[0;31m   \u001b[0mclf\u001b[0m\u001b[0;34m.\u001b[0m\u001b[0mfit\u001b[0m\u001b[0;34m(\u001b[0m\u001b[0mX_train\u001b[0m\u001b[0;34m,\u001b[0m \u001b[0my_train\u001b[0m\u001b[0;34m)\u001b[0m\u001b[0;34m\u001b[0m\u001b[0;34m\u001b[0m\u001b[0m\n\u001b[0m\u001b[1;32m     10\u001b[0m \u001b[0;34m\u001b[0m\u001b[0m\n\u001b[1;32m     11\u001b[0m   \u001b[0;31m# Evaluar el rendimiento del clasificador en los datos de validación\u001b[0m\u001b[0;34m\u001b[0m\u001b[0;34m\u001b[0m\u001b[0m\n",
            "\u001b[0;32m/usr/local/lib/python3.9/dist-packages/sklearn/pipeline.py\u001b[0m in \u001b[0;36mfit\u001b[0;34m(self, X, y, **fit_params)\u001b[0m\n\u001b[1;32m    403\u001b[0m             \u001b[0;32mif\u001b[0m \u001b[0mself\u001b[0m\u001b[0;34m.\u001b[0m\u001b[0m_final_estimator\u001b[0m \u001b[0;34m!=\u001b[0m \u001b[0;34m\"passthrough\"\u001b[0m\u001b[0;34m:\u001b[0m\u001b[0;34m\u001b[0m\u001b[0;34m\u001b[0m\u001b[0m\n\u001b[1;32m    404\u001b[0m                 \u001b[0mfit_params_last_step\u001b[0m \u001b[0;34m=\u001b[0m \u001b[0mfit_params_steps\u001b[0m\u001b[0;34m[\u001b[0m\u001b[0mself\u001b[0m\u001b[0;34m.\u001b[0m\u001b[0msteps\u001b[0m\u001b[0;34m[\u001b[0m\u001b[0;34m-\u001b[0m\u001b[0;36m1\u001b[0m\u001b[0;34m]\u001b[0m\u001b[0;34m[\u001b[0m\u001b[0;36m0\u001b[0m\u001b[0;34m]\u001b[0m\u001b[0;34m]\u001b[0m\u001b[0;34m\u001b[0m\u001b[0;34m\u001b[0m\u001b[0m\n\u001b[0;32m--> 405\u001b[0;31m                 \u001b[0mself\u001b[0m\u001b[0;34m.\u001b[0m\u001b[0m_final_estimator\u001b[0m\u001b[0;34m.\u001b[0m\u001b[0mfit\u001b[0m\u001b[0;34m(\u001b[0m\u001b[0mXt\u001b[0m\u001b[0;34m,\u001b[0m \u001b[0my\u001b[0m\u001b[0;34m,\u001b[0m \u001b[0;34m**\u001b[0m\u001b[0mfit_params_last_step\u001b[0m\u001b[0;34m)\u001b[0m\u001b[0;34m\u001b[0m\u001b[0;34m\u001b[0m\u001b[0m\n\u001b[0m\u001b[1;32m    406\u001b[0m \u001b[0;34m\u001b[0m\u001b[0m\n\u001b[1;32m    407\u001b[0m         \u001b[0;32mreturn\u001b[0m \u001b[0mself\u001b[0m\u001b[0;34m\u001b[0m\u001b[0;34m\u001b[0m\u001b[0m\n",
            "\u001b[0;32m/usr/local/lib/python3.9/dist-packages/sklearn/neighbors/_regression.py\u001b[0m in \u001b[0;36mfit\u001b[0;34m(self, X, y)\u001b[0m\n\u001b[1;32m    215\u001b[0m         \u001b[0mself\u001b[0m\u001b[0;34m.\u001b[0m\u001b[0m_validate_params\u001b[0m\u001b[0;34m(\u001b[0m\u001b[0;34m)\u001b[0m\u001b[0;34m\u001b[0m\u001b[0;34m\u001b[0m\u001b[0m\n\u001b[1;32m    216\u001b[0m \u001b[0;34m\u001b[0m\u001b[0m\n\u001b[0;32m--> 217\u001b[0;31m         \u001b[0;32mreturn\u001b[0m \u001b[0mself\u001b[0m\u001b[0;34m.\u001b[0m\u001b[0m_fit\u001b[0m\u001b[0;34m(\u001b[0m\u001b[0mX\u001b[0m\u001b[0;34m,\u001b[0m \u001b[0my\u001b[0m\u001b[0;34m)\u001b[0m\u001b[0;34m\u001b[0m\u001b[0;34m\u001b[0m\u001b[0m\n\u001b[0m\u001b[1;32m    218\u001b[0m \u001b[0;34m\u001b[0m\u001b[0m\n\u001b[1;32m    219\u001b[0m     \u001b[0;32mdef\u001b[0m \u001b[0mpredict\u001b[0m\u001b[0;34m(\u001b[0m\u001b[0mself\u001b[0m\u001b[0;34m,\u001b[0m \u001b[0mX\u001b[0m\u001b[0;34m)\u001b[0m\u001b[0;34m:\u001b[0m\u001b[0;34m\u001b[0m\u001b[0;34m\u001b[0m\u001b[0m\n",
            "\u001b[0;32m/usr/local/lib/python3.9/dist-packages/sklearn/neighbors/_base.py\u001b[0m in \u001b[0;36m_fit\u001b[0;34m(self, X, y)\u001b[0m\n\u001b[1;32m    452\u001b[0m         \u001b[0;32mif\u001b[0m \u001b[0mself\u001b[0m\u001b[0;34m.\u001b[0m\u001b[0m_get_tags\u001b[0m\u001b[0;34m(\u001b[0m\u001b[0;34m)\u001b[0m\u001b[0;34m[\u001b[0m\u001b[0;34m\"requires_y\"\u001b[0m\u001b[0;34m]\u001b[0m\u001b[0;34m:\u001b[0m\u001b[0;34m\u001b[0m\u001b[0;34m\u001b[0m\u001b[0m\n\u001b[1;32m    453\u001b[0m             \u001b[0;32mif\u001b[0m \u001b[0;32mnot\u001b[0m \u001b[0misinstance\u001b[0m\u001b[0;34m(\u001b[0m\u001b[0mX\u001b[0m\u001b[0;34m,\u001b[0m \u001b[0;34m(\u001b[0m\u001b[0mKDTree\u001b[0m\u001b[0;34m,\u001b[0m \u001b[0mBallTree\u001b[0m\u001b[0;34m,\u001b[0m \u001b[0mNeighborsBase\u001b[0m\u001b[0;34m)\u001b[0m\u001b[0;34m)\u001b[0m\u001b[0;34m:\u001b[0m\u001b[0;34m\u001b[0m\u001b[0;34m\u001b[0m\u001b[0m\n\u001b[0;32m--> 454\u001b[0;31m                 X, y = self._validate_data(\n\u001b[0m\u001b[1;32m    455\u001b[0m                     \u001b[0mX\u001b[0m\u001b[0;34m,\u001b[0m \u001b[0my\u001b[0m\u001b[0;34m,\u001b[0m \u001b[0maccept_sparse\u001b[0m\u001b[0;34m=\u001b[0m\u001b[0;34m\"csr\"\u001b[0m\u001b[0;34m,\u001b[0m \u001b[0mmulti_output\u001b[0m\u001b[0;34m=\u001b[0m\u001b[0;32mTrue\u001b[0m\u001b[0;34m,\u001b[0m \u001b[0morder\u001b[0m\u001b[0;34m=\u001b[0m\u001b[0;34m\"C\"\u001b[0m\u001b[0;34m\u001b[0m\u001b[0;34m\u001b[0m\u001b[0m\n\u001b[1;32m    456\u001b[0m                 )\n",
            "\u001b[0;32m/usr/local/lib/python3.9/dist-packages/sklearn/base.py\u001b[0m in \u001b[0;36m_validate_data\u001b[0;34m(self, X, y, reset, validate_separately, **check_params)\u001b[0m\n\u001b[1;32m    582\u001b[0m                 \u001b[0my\u001b[0m \u001b[0;34m=\u001b[0m \u001b[0mcheck_array\u001b[0m\u001b[0;34m(\u001b[0m\u001b[0my\u001b[0m\u001b[0;34m,\u001b[0m \u001b[0minput_name\u001b[0m\u001b[0;34m=\u001b[0m\u001b[0;34m\"y\"\u001b[0m\u001b[0;34m,\u001b[0m \u001b[0;34m**\u001b[0m\u001b[0mcheck_y_params\u001b[0m\u001b[0;34m)\u001b[0m\u001b[0;34m\u001b[0m\u001b[0;34m\u001b[0m\u001b[0m\n\u001b[1;32m    583\u001b[0m             \u001b[0;32melse\u001b[0m\u001b[0;34m:\u001b[0m\u001b[0;34m\u001b[0m\u001b[0;34m\u001b[0m\u001b[0m\n\u001b[0;32m--> 584\u001b[0;31m                 \u001b[0mX\u001b[0m\u001b[0;34m,\u001b[0m \u001b[0my\u001b[0m \u001b[0;34m=\u001b[0m \u001b[0mcheck_X_y\u001b[0m\u001b[0;34m(\u001b[0m\u001b[0mX\u001b[0m\u001b[0;34m,\u001b[0m \u001b[0my\u001b[0m\u001b[0;34m,\u001b[0m \u001b[0;34m**\u001b[0m\u001b[0mcheck_params\u001b[0m\u001b[0;34m)\u001b[0m\u001b[0;34m\u001b[0m\u001b[0;34m\u001b[0m\u001b[0m\n\u001b[0m\u001b[1;32m    585\u001b[0m             \u001b[0mout\u001b[0m \u001b[0;34m=\u001b[0m \u001b[0mX\u001b[0m\u001b[0;34m,\u001b[0m \u001b[0my\u001b[0m\u001b[0;34m\u001b[0m\u001b[0;34m\u001b[0m\u001b[0m\n\u001b[1;32m    586\u001b[0m \u001b[0;34m\u001b[0m\u001b[0m\n",
            "\u001b[0;32m/usr/local/lib/python3.9/dist-packages/sklearn/utils/validation.py\u001b[0m in \u001b[0;36mcheck_X_y\u001b[0;34m(X, y, accept_sparse, accept_large_sparse, dtype, order, copy, force_all_finite, ensure_2d, allow_nd, multi_output, ensure_min_samples, ensure_min_features, y_numeric, estimator)\u001b[0m\n\u001b[1;32m   1104\u001b[0m         )\n\u001b[1;32m   1105\u001b[0m \u001b[0;34m\u001b[0m\u001b[0m\n\u001b[0;32m-> 1106\u001b[0;31m     X = check_array(\n\u001b[0m\u001b[1;32m   1107\u001b[0m         \u001b[0mX\u001b[0m\u001b[0;34m,\u001b[0m\u001b[0;34m\u001b[0m\u001b[0;34m\u001b[0m\u001b[0m\n\u001b[1;32m   1108\u001b[0m         \u001b[0maccept_sparse\u001b[0m\u001b[0;34m=\u001b[0m\u001b[0maccept_sparse\u001b[0m\u001b[0;34m,\u001b[0m\u001b[0;34m\u001b[0m\u001b[0;34m\u001b[0m\u001b[0m\n",
            "\u001b[0;32m/usr/local/lib/python3.9/dist-packages/sklearn/utils/validation.py\u001b[0m in \u001b[0;36mcheck_array\u001b[0;34m(array, accept_sparse, accept_large_sparse, dtype, order, copy, force_all_finite, ensure_2d, allow_nd, ensure_min_samples, ensure_min_features, estimator, input_name)\u001b[0m\n\u001b[1;32m    919\u001b[0m \u001b[0;34m\u001b[0m\u001b[0m\n\u001b[1;32m    920\u001b[0m         \u001b[0;32mif\u001b[0m \u001b[0mforce_all_finite\u001b[0m\u001b[0;34m:\u001b[0m\u001b[0;34m\u001b[0m\u001b[0;34m\u001b[0m\u001b[0m\n\u001b[0;32m--> 921\u001b[0;31m             _assert_all_finite(\n\u001b[0m\u001b[1;32m    922\u001b[0m                 \u001b[0marray\u001b[0m\u001b[0;34m,\u001b[0m\u001b[0;34m\u001b[0m\u001b[0;34m\u001b[0m\u001b[0m\n\u001b[1;32m    923\u001b[0m                 \u001b[0minput_name\u001b[0m\u001b[0;34m=\u001b[0m\u001b[0minput_name\u001b[0m\u001b[0;34m,\u001b[0m\u001b[0;34m\u001b[0m\u001b[0;34m\u001b[0m\u001b[0m\n",
            "\u001b[0;32m/usr/local/lib/python3.9/dist-packages/sklearn/utils/validation.py\u001b[0m in \u001b[0;36m_assert_all_finite\u001b[0;34m(X, allow_nan, msg_dtype, estimator_name, input_name)\u001b[0m\n\u001b[1;32m    159\u001b[0m                 \u001b[0;34m\"#estimators-that-handle-nan-values\"\u001b[0m\u001b[0;34m\u001b[0m\u001b[0;34m\u001b[0m\u001b[0m\n\u001b[1;32m    160\u001b[0m             )\n\u001b[0;32m--> 161\u001b[0;31m         \u001b[0;32mraise\u001b[0m \u001b[0mValueError\u001b[0m\u001b[0;34m(\u001b[0m\u001b[0mmsg_err\u001b[0m\u001b[0;34m)\u001b[0m\u001b[0;34m\u001b[0m\u001b[0;34m\u001b[0m\u001b[0m\n\u001b[0m\u001b[1;32m    162\u001b[0m \u001b[0;34m\u001b[0m\u001b[0m\n\u001b[1;32m    163\u001b[0m \u001b[0;34m\u001b[0m\u001b[0m\n",
            "\u001b[0;31mValueError\u001b[0m: Input X contains NaN.\nKNeighborsRegressor does not accept missing values encoded as NaN natively. For supervised learning, you might want to consider sklearn.ensemble.HistGradientBoostingClassifier and Regressor which accept missing values encoded as NaNs natively. Alternatively, it is possible to preprocess the data, for instance by using an imputer transformer in a pipeline or drop samples with missing values. See https://scikit-learn.org/stable/modules/impute.html You can find a list of all estimators that handle NaN values at the following page: https://scikit-learn.org/stable/modules/impute.html#estimators-that-handle-nan-values"
          ]
        }
      ]
    },
    {
      "cell_type": "markdown",
      "source": [
        "## ¿Cuál es el problema?\n",
        "\n",
        "`ValueError: Input X contains NaN.`\n",
        "\n",
        "- El regresor no puede manejar valores faltantes (NaN).\n",
        "- ¿Cuáles son las posibles formas de abordar el problema?\n",
        "  - ¿Eliminar las filas?\n",
        "  - ¿Reemplazarlas con algunos valores razonables?\n",
        "\n",
        "Para abordar los valores faltantes (NaN) en los datos y hacerlos compatibles con el clasificador, hay varias opciones. Una opción es eliminar las filas con valores faltantes si los datos faltantes no representan una cantidad significativa de los datos totales. Otra opción es reemplazar los valores faltantes con algún valor razonable, como la media o la mediana de la columna correspondiente, o un valor constante.\n",
        "\n",
        "La elección de la opción depende del conjunto de datos y de la cantidad de valores faltantes. En general, es importante considerar cuidadosamente las implicaciones de cada opción y determinar la mejor opción para el análisis en cuestión."
      ],
      "metadata": {
        "id": "QHBam0ed3pBy"
      }
    },
    {
      "cell_type": "markdown",
      "source": [
        "- `SimpleImputer` es un transformador en `sklearn` que ayuda a resolver este problema. Por ejemplo:\n",
        "\n",
        "  - Puede *imputar* valores faltantes en columnas categóricas con el valor más frecuente.\n",
        "  - Puede *imputar* valores faltantes en numéricas con la `media` o `mediana` de la columna."
      ],
      "metadata": {
        "id": "wC8Gwox04RLq"
      }
    },
    {
      "cell_type": "code",
      "source": [
        "X_train.sort_values(\"bedrooms_per_household\")"
      ],
      "metadata": {
        "colab": {
          "base_uri": "https://localhost:8080/",
          "height": 487
        },
        "id": "wCItISyZ42JY",
        "outputId": "30fc5ba5-a451-4ed4-b82f-591518cedc85"
      },
      "execution_count": 166,
      "outputs": [
        {
          "output_type": "execute_result",
          "data": {
            "text/plain": [
              "       longitude  latitude  housing_median_age  total_rooms  total_bedrooms  \\\n",
              "20248    -119.23     34.25                28.0         26.0             3.0   \n",
              "12649    -121.47     38.51                52.0         20.0             4.0   \n",
              "8219     -118.21     33.79                33.0         32.0            18.0   \n",
              "12138    -117.22     33.87                16.0         56.0             7.0   \n",
              "1419     -122.05     37.97                16.0         60.0            10.0   \n",
              "...          ...       ...                 ...          ...             ...   \n",
              "13311    -117.61     34.08                12.0       4427.0             NaN   \n",
              "19060    -122.41     38.16                37.0       1549.0             NaN   \n",
              "19833    -119.38     36.53                38.0       1281.0             NaN   \n",
              "4043     -118.50     34.17                37.0        880.0             NaN   \n",
              "7547     -118.20     33.92                45.0       1283.0             NaN   \n",
              "\n",
              "       population  households  median_income  rooms_per_household  \\\n",
              "20248        29.0         9.0         8.0000             2.888889   \n",
              "12649        74.0         9.0         3.6250             2.222222   \n",
              "8219         96.0        36.0         4.5938             0.888889   \n",
              "12138        39.0        14.0         2.6250             4.000000   \n",
              "1419         65.0        19.0         6.1359             3.157895   \n",
              "...           ...         ...            ...                  ...   \n",
              "13311      2400.0       843.0         4.7147             5.251483   \n",
              "19060       863.0       275.0         2.7457             5.632727   \n",
              "19833      1423.0       293.0         1.9602             4.372014   \n",
              "4043        369.0       155.0         4.1429             5.677419   \n",
              "7547       1025.0       248.0         3.2798             5.173387   \n",
              "\n",
              "       bedrooms_per_household  population_per_household  \n",
              "20248                0.333333                  3.222222  \n",
              "12649                0.444444                  8.222222  \n",
              "8219                 0.500000                  2.666667  \n",
              "12138                0.500000                  2.785714  \n",
              "1419                 0.526316                  3.421053  \n",
              "...                       ...                       ...  \n",
              "13311                     NaN                  2.846975  \n",
              "19060                     NaN                  3.138182  \n",
              "19833                     NaN                  4.856655  \n",
              "4043                      NaN                  2.380645  \n",
              "7547                      NaN                  4.133065  \n",
              "\n",
              "[13209 rows x 11 columns]"
            ],
            "text/html": [
              "\n",
              "  <div id=\"df-9841a555-fff2-4b99-aa6d-c3bebbf21ae0\">\n",
              "    <div class=\"colab-df-container\">\n",
              "      <div>\n",
              "<style scoped>\n",
              "    .dataframe tbody tr th:only-of-type {\n",
              "        vertical-align: middle;\n",
              "    }\n",
              "\n",
              "    .dataframe tbody tr th {\n",
              "        vertical-align: top;\n",
              "    }\n",
              "\n",
              "    .dataframe thead th {\n",
              "        text-align: right;\n",
              "    }\n",
              "</style>\n",
              "<table border=\"1\" class=\"dataframe\">\n",
              "  <thead>\n",
              "    <tr style=\"text-align: right;\">\n",
              "      <th></th>\n",
              "      <th>longitude</th>\n",
              "      <th>latitude</th>\n",
              "      <th>housing_median_age</th>\n",
              "      <th>total_rooms</th>\n",
              "      <th>total_bedrooms</th>\n",
              "      <th>population</th>\n",
              "      <th>households</th>\n",
              "      <th>median_income</th>\n",
              "      <th>rooms_per_household</th>\n",
              "      <th>bedrooms_per_household</th>\n",
              "      <th>population_per_household</th>\n",
              "    </tr>\n",
              "  </thead>\n",
              "  <tbody>\n",
              "    <tr>\n",
              "      <th>20248</th>\n",
              "      <td>-119.23</td>\n",
              "      <td>34.25</td>\n",
              "      <td>28.0</td>\n",
              "      <td>26.0</td>\n",
              "      <td>3.0</td>\n",
              "      <td>29.0</td>\n",
              "      <td>9.0</td>\n",
              "      <td>8.0000</td>\n",
              "      <td>2.888889</td>\n",
              "      <td>0.333333</td>\n",
              "      <td>3.222222</td>\n",
              "    </tr>\n",
              "    <tr>\n",
              "      <th>12649</th>\n",
              "      <td>-121.47</td>\n",
              "      <td>38.51</td>\n",
              "      <td>52.0</td>\n",
              "      <td>20.0</td>\n",
              "      <td>4.0</td>\n",
              "      <td>74.0</td>\n",
              "      <td>9.0</td>\n",
              "      <td>3.6250</td>\n",
              "      <td>2.222222</td>\n",
              "      <td>0.444444</td>\n",
              "      <td>8.222222</td>\n",
              "    </tr>\n",
              "    <tr>\n",
              "      <th>8219</th>\n",
              "      <td>-118.21</td>\n",
              "      <td>33.79</td>\n",
              "      <td>33.0</td>\n",
              "      <td>32.0</td>\n",
              "      <td>18.0</td>\n",
              "      <td>96.0</td>\n",
              "      <td>36.0</td>\n",
              "      <td>4.5938</td>\n",
              "      <td>0.888889</td>\n",
              "      <td>0.500000</td>\n",
              "      <td>2.666667</td>\n",
              "    </tr>\n",
              "    <tr>\n",
              "      <th>12138</th>\n",
              "      <td>-117.22</td>\n",
              "      <td>33.87</td>\n",
              "      <td>16.0</td>\n",
              "      <td>56.0</td>\n",
              "      <td>7.0</td>\n",
              "      <td>39.0</td>\n",
              "      <td>14.0</td>\n",
              "      <td>2.6250</td>\n",
              "      <td>4.000000</td>\n",
              "      <td>0.500000</td>\n",
              "      <td>2.785714</td>\n",
              "    </tr>\n",
              "    <tr>\n",
              "      <th>1419</th>\n",
              "      <td>-122.05</td>\n",
              "      <td>37.97</td>\n",
              "      <td>16.0</td>\n",
              "      <td>60.0</td>\n",
              "      <td>10.0</td>\n",
              "      <td>65.0</td>\n",
              "      <td>19.0</td>\n",
              "      <td>6.1359</td>\n",
              "      <td>3.157895</td>\n",
              "      <td>0.526316</td>\n",
              "      <td>3.421053</td>\n",
              "    </tr>\n",
              "    <tr>\n",
              "      <th>...</th>\n",
              "      <td>...</td>\n",
              "      <td>...</td>\n",
              "      <td>...</td>\n",
              "      <td>...</td>\n",
              "      <td>...</td>\n",
              "      <td>...</td>\n",
              "      <td>...</td>\n",
              "      <td>...</td>\n",
              "      <td>...</td>\n",
              "      <td>...</td>\n",
              "      <td>...</td>\n",
              "    </tr>\n",
              "    <tr>\n",
              "      <th>13311</th>\n",
              "      <td>-117.61</td>\n",
              "      <td>34.08</td>\n",
              "      <td>12.0</td>\n",
              "      <td>4427.0</td>\n",
              "      <td>NaN</td>\n",
              "      <td>2400.0</td>\n",
              "      <td>843.0</td>\n",
              "      <td>4.7147</td>\n",
              "      <td>5.251483</td>\n",
              "      <td>NaN</td>\n",
              "      <td>2.846975</td>\n",
              "    </tr>\n",
              "    <tr>\n",
              "      <th>19060</th>\n",
              "      <td>-122.41</td>\n",
              "      <td>38.16</td>\n",
              "      <td>37.0</td>\n",
              "      <td>1549.0</td>\n",
              "      <td>NaN</td>\n",
              "      <td>863.0</td>\n",
              "      <td>275.0</td>\n",
              "      <td>2.7457</td>\n",
              "      <td>5.632727</td>\n",
              "      <td>NaN</td>\n",
              "      <td>3.138182</td>\n",
              "    </tr>\n",
              "    <tr>\n",
              "      <th>19833</th>\n",
              "      <td>-119.38</td>\n",
              "      <td>36.53</td>\n",
              "      <td>38.0</td>\n",
              "      <td>1281.0</td>\n",
              "      <td>NaN</td>\n",
              "      <td>1423.0</td>\n",
              "      <td>293.0</td>\n",
              "      <td>1.9602</td>\n",
              "      <td>4.372014</td>\n",
              "      <td>NaN</td>\n",
              "      <td>4.856655</td>\n",
              "    </tr>\n",
              "    <tr>\n",
              "      <th>4043</th>\n",
              "      <td>-118.50</td>\n",
              "      <td>34.17</td>\n",
              "      <td>37.0</td>\n",
              "      <td>880.0</td>\n",
              "      <td>NaN</td>\n",
              "      <td>369.0</td>\n",
              "      <td>155.0</td>\n",
              "      <td>4.1429</td>\n",
              "      <td>5.677419</td>\n",
              "      <td>NaN</td>\n",
              "      <td>2.380645</td>\n",
              "    </tr>\n",
              "    <tr>\n",
              "      <th>7547</th>\n",
              "      <td>-118.20</td>\n",
              "      <td>33.92</td>\n",
              "      <td>45.0</td>\n",
              "      <td>1283.0</td>\n",
              "      <td>NaN</td>\n",
              "      <td>1025.0</td>\n",
              "      <td>248.0</td>\n",
              "      <td>3.2798</td>\n",
              "      <td>5.173387</td>\n",
              "      <td>NaN</td>\n",
              "      <td>4.133065</td>\n",
              "    </tr>\n",
              "  </tbody>\n",
              "</table>\n",
              "<p>13209 rows × 11 columns</p>\n",
              "</div>\n",
              "      <button class=\"colab-df-convert\" onclick=\"convertToInteractive('df-9841a555-fff2-4b99-aa6d-c3bebbf21ae0')\"\n",
              "              title=\"Convert this dataframe to an interactive table.\"\n",
              "              style=\"display:none;\">\n",
              "        \n",
              "  <svg xmlns=\"http://www.w3.org/2000/svg\" height=\"24px\"viewBox=\"0 0 24 24\"\n",
              "       width=\"24px\">\n",
              "    <path d=\"M0 0h24v24H0V0z\" fill=\"none\"/>\n",
              "    <path d=\"M18.56 5.44l.94 2.06.94-2.06 2.06-.94-2.06-.94-.94-2.06-.94 2.06-2.06.94zm-11 1L8.5 8.5l.94-2.06 2.06-.94-2.06-.94L8.5 2.5l-.94 2.06-2.06.94zm10 10l.94 2.06.94-2.06 2.06-.94-2.06-.94-.94-2.06-.94 2.06-2.06.94z\"/><path d=\"M17.41 7.96l-1.37-1.37c-.4-.4-.92-.59-1.43-.59-.52 0-1.04.2-1.43.59L10.3 9.45l-7.72 7.72c-.78.78-.78 2.05 0 2.83L4 21.41c.39.39.9.59 1.41.59.51 0 1.02-.2 1.41-.59l7.78-7.78 2.81-2.81c.8-.78.8-2.07 0-2.86zM5.41 20L4 18.59l7.72-7.72 1.47 1.35L5.41 20z\"/>\n",
              "  </svg>\n",
              "      </button>\n",
              "      \n",
              "  <style>\n",
              "    .colab-df-container {\n",
              "      display:flex;\n",
              "      flex-wrap:wrap;\n",
              "      gap: 12px;\n",
              "    }\n",
              "\n",
              "    .colab-df-convert {\n",
              "      background-color: #E8F0FE;\n",
              "      border: none;\n",
              "      border-radius: 50%;\n",
              "      cursor: pointer;\n",
              "      display: none;\n",
              "      fill: #1967D2;\n",
              "      height: 32px;\n",
              "      padding: 0 0 0 0;\n",
              "      width: 32px;\n",
              "    }\n",
              "\n",
              "    .colab-df-convert:hover {\n",
              "      background-color: #E2EBFA;\n",
              "      box-shadow: 0px 1px 2px rgba(60, 64, 67, 0.3), 0px 1px 3px 1px rgba(60, 64, 67, 0.15);\n",
              "      fill: #174EA6;\n",
              "    }\n",
              "\n",
              "    [theme=dark] .colab-df-convert {\n",
              "      background-color: #3B4455;\n",
              "      fill: #D2E3FC;\n",
              "    }\n",
              "\n",
              "    [theme=dark] .colab-df-convert:hover {\n",
              "      background-color: #434B5C;\n",
              "      box-shadow: 0px 1px 3px 1px rgba(0, 0, 0, 0.15);\n",
              "      filter: drop-shadow(0px 1px 2px rgba(0, 0, 0, 0.3));\n",
              "      fill: #FFFFFF;\n",
              "    }\n",
              "  </style>\n",
              "\n",
              "      <script>\n",
              "        const buttonEl =\n",
              "          document.querySelector('#df-9841a555-fff2-4b99-aa6d-c3bebbf21ae0 button.colab-df-convert');\n",
              "        buttonEl.style.display =\n",
              "          google.colab.kernel.accessAllowed ? 'block' : 'none';\n",
              "\n",
              "        async function convertToInteractive(key) {\n",
              "          const element = document.querySelector('#df-9841a555-fff2-4b99-aa6d-c3bebbf21ae0');\n",
              "          const dataTable =\n",
              "            await google.colab.kernel.invokeFunction('convertToInteractive',\n",
              "                                                     [key], {});\n",
              "          if (!dataTable) return;\n",
              "\n",
              "          const docLinkHtml = 'Like what you see? Visit the ' +\n",
              "            '<a target=\"_blank\" href=https://colab.research.google.com/notebooks/data_table.ipynb>data table notebook</a>'\n",
              "            + ' to learn more about interactive tables.';\n",
              "          element.innerHTML = '';\n",
              "          dataTable['output_type'] = 'display_data';\n",
              "          await google.colab.output.renderOutput(dataTable, element);\n",
              "          const docLink = document.createElement('div');\n",
              "          docLink.innerHTML = docLinkHtml;\n",
              "          element.appendChild(docLink);\n",
              "        }\n",
              "      </script>\n",
              "    </div>\n",
              "  </div>\n",
              "  "
            ]
          },
          "metadata": {},
          "execution_count": 166
        }
      ]
    },
    {
      "cell_type": "code",
      "source": [
        "imputer = SimpleImputer(strategy=\"median\")\n",
        "imputer.fit(X_train)\n",
        "X_train_imp = imputer.transform(X_train)\n",
        "X_val_imp = imputer.transform(X_val)\n",
        "X_test_imp = imputer.transform(X_test)"
      ],
      "metadata": {
        "id": "wvaoEbGU5BgH"
      },
      "execution_count": 167,
      "outputs": []
    },
    {
      "cell_type": "markdown",
      "source": [
        "- Revisemos si los valores `NaN` se reemplazaron\n",
        "- Note que `imputer.transform` devuelve un arreglo de `numpy` y no un `dataframe`"
      ],
      "metadata": {
        "id": "k5LgYzhg5MiO"
      }
    },
    {
      "cell_type": "code",
      "source": [
        "pd.DataFrame(X_train_imp, columns=X_train.columns, index=X_train.index).info()"
      ],
      "metadata": {
        "colab": {
          "base_uri": "https://localhost:8080/"
        },
        "id": "QWLBALO-5oIV",
        "outputId": "edbdc4d3-5518-4efb-83fc-fbe6e70e1db7"
      },
      "execution_count": 168,
      "outputs": [
        {
          "output_type": "stream",
          "name": "stdout",
          "text": [
            "<class 'pandas.core.frame.DataFrame'>\n",
            "Int64Index: 13209 entries, 17854 to 18303\n",
            "Data columns (total 11 columns):\n",
            " #   Column                    Non-Null Count  Dtype  \n",
            "---  ------                    --------------  -----  \n",
            " 0   longitude                 13209 non-null  float64\n",
            " 1   latitude                  13209 non-null  float64\n",
            " 2   housing_median_age        13209 non-null  float64\n",
            " 3   total_rooms               13209 non-null  float64\n",
            " 4   total_bedrooms            13209 non-null  float64\n",
            " 5   population                13209 non-null  float64\n",
            " 6   households                13209 non-null  float64\n",
            " 7   median_income             13209 non-null  float64\n",
            " 8   rooms_per_household       13209 non-null  float64\n",
            " 9   bedrooms_per_household    13209 non-null  float64\n",
            " 10  population_per_household  13209 non-null  float64\n",
            "dtypes: float64(11)\n",
            "memory usage: 1.2 MB\n"
          ]
        }
      ]
    },
    {
      "cell_type": "markdown",
      "source": [
        "Entrenemos el regresor incluyendo estas características"
      ],
      "metadata": {
        "id": "D5CT10CX6Tzc"
      }
    },
    {
      "cell_type": "code",
      "source": [
        "# Crear un clasificador KNN con diferentes números de vecinos\n",
        "n_neighbors = [1,3,5,7,9,11,13,15]\n",
        "det_coef = []\n",
        "\n",
        "for k in n_neighbors:\n",
        "  clf = Pipeline(steps=[(\"regressor\", KNeighborsRegressor(n_neighbors=k))])\n",
        "\n",
        "  # Entrenar el clasificador con los datos de entrenamiento\n",
        "  clf.fit(X_train_imp, y_train)\n",
        "\n",
        "  # Evaluar el rendimiento del clasificador en los datos de validación\n",
        "  det_coef.append(clf.score(X_val_imp, y_val))"
      ],
      "metadata": {
        "id": "W2yKJKYA6TS8"
      },
      "execution_count": 169,
      "outputs": []
    },
    {
      "cell_type": "code",
      "source": [
        "gfg = sns.barplot(x = n_neighbors,y = det_coef)\n",
        "gfg.set(xlabel =\"Number of neighbors\", ylabel = \"Determination Coefficient (%)\", title ='k-NN Regression')"
      ],
      "metadata": {
        "colab": {
          "base_uri": "https://localhost:8080/",
          "height": 525
        },
        "id": "jC_kfxEY6iFd",
        "outputId": "ba3ffe04-20cc-4d8d-ec5f-5c43c0ab5a0b"
      },
      "execution_count": 170,
      "outputs": [
        {
          "output_type": "execute_result",
          "data": {
            "text/plain": [
              "[Text(0.5, 0, 'Number of neighbors'),\n",
              " Text(0, 0.5, 'Determination Coefficient (%)'),\n",
              " Text(0.5, 1.0, 'k-NN Regression')]"
            ]
          },
          "metadata": {},
          "execution_count": 170
        },
        {
          "output_type": "display_data",
          "data": {
            "text/plain": [
              "<Figure size 640x480 with 1 Axes>"
            ],
            "image/png": "[encoded data removed]"
          },
          "metadata": {}
        }
      ]
    },
    {
      "cell_type": "code",
      "source": [
        "#Re-entrenar el modelo con los datos de entrenamiento y validación para el valor de k óptimo\n",
        "k_opt = n_neighbors[np.argmax(det_coef)]\n",
        "print(f\"El número óptimo de vecinos es {k_opt}\")\n",
        "X_train_test_imp = np.vstack([X_train_imp,X_val_imp])\n",
        "y_train_test = np.hstack([y_train,y_val])\n",
        "\n",
        "# Entrenar el regresor con los datos de entrenamiento\n",
        "clf = Pipeline(steps=[(\"regressor\", KNeighborsRegressor(n_neighbors=k_opt))])\n",
        "clf.fit(X_train_test_imp, y_train_test)\n",
        "#Validar el rendimiento del clasificador con los datos de prueba\n",
        "det_coef = clf.score(X_test_imp, y_test)\n",
        "\n",
        "print(f\"El coeficiente de determinación en el conjunto de test es {det_coef:0.2f}\")"
      ],
      "metadata": {
        "colab": {
          "base_uri": "https://localhost:8080/"
        },
        "id": "zpWAZfR-6ovW",
        "outputId": "a66f0988-1ece-45a2-ef8d-45b92f38befc"
      },
      "execution_count": 171,
      "outputs": [
        {
          "output_type": "stream",
          "name": "stdout",
          "text": [
            "El número óptimo de vecinos es 13\n",
            "El coeficiente de determinación en el conjunto de test es 0.30\n"
          ]
        }
      ]
    },
    {
      "cell_type": "markdown",
      "source": [
        "¿Qué porcentaje de datos faltantes se puede imputar?\n",
        "\n",
        "Chat-gpt: No hay una respuesta única a esta pregunta, ya que depende del tipo de datos y de la cantidad de valores faltantes en el conjunto de datos. En general, se recomienda tener cuidado al imputar valores faltantes y no imputar más del 5-10% de los datos totales. Si hay una gran cantidad de valores faltantes, la imputación puede no ser adecuada y es posible que deba considerar eliminar filas o columnas con valores faltantes o usar técnicas de modelado que puedan manejar valores faltantes de manera efectiva.\n",
        "\n",
        "También es importante tener en cuenta que la imputación puede introducir sesgos en los datos y afectar los resultados del análisis. Por lo tanto, es importante evaluar cuidadosamente la calidad de los datos imputados y considerar si la imputación es necesaria y apropiada para el análisis en cuestión."
      ],
      "metadata": {
        "id": "SuJ9eS8h7Ekl"
      }
    },
    {
      "cell_type": "markdown",
      "source": [
        "## **Escalamiento**\n",
        "\n",
        "- Este problema afecta a un número considerable de algoritmos de ML.\n",
        "- Hay diferentes formas de afrentar este problema, vamos a considerar las más utilizadas\n",
        "\n",
        "| Técnica | ¿Qué hace? | Cómo actualiza $X$ | Implementación en sklearn | \n",
        "|---------|------------|-----------------------|----------------|\n",
        "| Estandarización | Convierte la media de cada columna a $0$, y la s.d. to $1$   | `X -= np.mean(X,axis=0)`<br>`X /=  np.std(X,axis=0)` | [`StandardScaler()`](https://scikit-learn.org/stable/modules/generated/sklearn.preprocessing.StandardScaler.html#sklearn.preprocessing.StandardScaler) |\n",
        "| MinMax | Deja el valor mínimo en 0 y el valor máximo en 1 | `X -= np.min(X,axis=0)`<br>`X /=  np.max(X,axis=0)` | [`MinMaxScaler()`](https://scikit-learn.org/stable/modules/generated/sklearn.preprocessing.MinMaxScaler.html) |"
      ],
      "metadata": {
        "id": "09RBRzNw7sLb"
      }
    },
    {
      "cell_type": "markdown",
      "source": [
        "Hay muchos artículos donde se discute este tema a fondo; puede consultar [en este link](http://www.dataminingblog.com/standardization-vs-normalization/) y [en este link](https://medium.com/@rrfd/standardize-or-normalize-examples-in-python-e3f174b65dfc).\n",
        "\n",
        "![Scaling](https://drive.google.com/uc?id=1K7ihL7Fgv30r3xuJyZxnVe7tunqpG7Dv)"
      ],
      "metadata": {
        "id": "b9eiiFAG88kv"
      }
    },
    {
      "cell_type": "code",
      "source": [
        "from sklearn.preprocessing import MinMaxScaler, StandardScaler"
      ],
      "metadata": {
        "id": "cPT02m5T-hbc"
      },
      "execution_count": 172,
      "outputs": []
    },
    {
      "cell_type": "code",
      "source": [
        "X_train = train_df.drop(columns=[\"median_house_value\", \"ocean_proximity\"])\n",
        "y_train = train_df[\"median_house_value\"]\n",
        "\n",
        "X_val = val_df.drop(columns=[\"median_house_value\", \"ocean_proximity\"])\n",
        "y_val = val_df[\"median_house_value\"]\n",
        "\n",
        "X_test = test_df.drop(columns=[\"median_house_value\", \"ocean_proximity\"])\n",
        "y_test = test_df[\"median_house_value\"]"
      ],
      "metadata": {
        "id": "6OupGM5R-thA"
      },
      "execution_count": 173,
      "outputs": []
    },
    {
      "cell_type": "code",
      "source": [
        "imputer = SimpleImputer(strategy=\"median\")\n",
        "imputer.fit(X_train)\n",
        "X_train_imp = imputer.transform(X_train)\n",
        "X_val_imp = imputer.transform(X_val)\n",
        "X_test_imp = imputer.transform(X_test)"
      ],
      "metadata": {
        "id": "JJDo3lHo-x4d"
      },
      "execution_count": 174,
      "outputs": []
    },
    {
      "cell_type": "code",
      "source": [
        "scaler = StandardScaler()\n",
        "X_train_imp_scaled = scaler.fit_transform(X_train_imp)\n",
        "X_val_imp_scaled = scaler.transform(X_val_imp)\n",
        "X_test_imp_scaled = scaler.transform(X_test_imp)\n",
        "pd.DataFrame(X_train_imp_scaled, columns=X_train.columns)"
      ],
      "metadata": {
        "colab": {
          "base_uri": "https://localhost:8080/",
          "height": 487
        },
        "id": "D9zwG47Y-ky3",
        "outputId": "d3ae7d7c-6a32-4b31-d1f2-2e73a4081e5c"
      },
      "execution_count": 175,
      "outputs": [
        {
          "output_type": "execute_result",
          "data": {
            "text/plain": [
              "       longitude  latitude  housing_median_age  total_rooms  total_bedrooms  \\\n",
              "0      -1.159335  0.857026           -1.877350    -0.524079       -0.844724   \n",
              "1       0.853958 -0.874461           -1.081706    -0.832481       -0.580594   \n",
              "2      -0.884568  1.427949           -0.047369     0.334644        0.026191   \n",
              "3       1.288590 -0.799586           -0.206498    -0.993145       -1.123132   \n",
              "4      -0.874576  1.301598           -0.922577     0.806480        0.271285   \n",
              "...          ...       ...                 ...          ...             ...   \n",
              "13204   0.569200 -0.743430            1.862176    -0.402657       -0.554419   \n",
              "13205  -1.334187  1.016136            1.464354    -0.280774        0.111855   \n",
              "13206   1.228641 -1.347111           -0.683884    -0.455750       -0.171311   \n",
              "13207   0.604170 -0.832344            0.589146    -0.583636       -0.740024   \n",
              "13208  -1.279233  0.838308            0.589146     0.613037        1.199310   \n",
              "\n",
              "       population  households  median_income  rooms_per_household  \\\n",
              "0       -0.664114   -0.829604       3.395843             1.170051   \n",
              "1       -0.100168   -0.652057      -0.546466            -0.879506   \n",
              "2        0.096896    0.136457       0.208175             0.280941   \n",
              "3       -1.038262   -1.161198      -0.087333             1.322719   \n",
              "4        0.484666    0.353168       1.017217             0.625629   \n",
              "...           ...         ...            ...                  ...   \n",
              "13204   -0.636870   -0.513676       0.741289             0.164860   \n",
              "13205   -0.202786    0.131235      -0.650729            -0.733651   \n",
              "13206   -0.131044   -0.153361      -0.932609            -0.711128   \n",
              "13207   -0.684093   -0.743441       0.529944             0.395708   \n",
              "13208    0.739849    1.282676      -0.177081            -0.602212   \n",
              "\n",
              "       bedrooms_per_household  population_per_household  \n",
              "0                   -0.223054                  0.067133  \n",
              "1                    0.176602                  0.196996  \n",
              "2                   -0.240038                 -0.025045  \n",
              "3                    0.177075                  0.173898  \n",
              "4                   -0.163943                  0.002901  \n",
              "...                       ...                       ...  \n",
              "13204               -0.215365                 -0.059645  \n",
              "13205               -0.078170                 -0.078224  \n",
              "13206               -0.095732                 -0.013405  \n",
              "13207               -0.104477                  0.006150  \n",
              "13208               -0.104423                 -0.071615  \n",
              "\n",
              "[13209 rows x 11 columns]"
            ],
            "text/html": [
              "\n",
              "  <div id=\"df-7453f0be-1ded-4af3-a0fa-d9b40640e866\">\n",
              "    <div class=\"colab-df-container\">\n",
              "      <div>\n",
              "<style scoped>\n",
              "    .dataframe tbody tr th:only-of-type {\n",
              "        vertical-align: middle;\n",
              "    }\n",
              "\n",
              "    .dataframe tbody tr th {\n",
              "        vertical-align: top;\n",
              "    }\n",
              "\n",
              "    .dataframe thead th {\n",
              "        text-align: right;\n",
              "    }\n",
              "</style>\n",
              "<table border=\"1\" class=\"dataframe\">\n",
              "  <thead>\n",
              "    <tr style=\"text-align: right;\">\n",
              "      <th></th>\n",
              "      <th>longitude</th>\n",
              "      <th>latitude</th>\n",
              "      <th>housing_median_age</th>\n",
              "      <th>total_rooms</th>\n",
              "      <th>total_bedrooms</th>\n",
              "      <th>population</th>\n",
              "      <th>households</th>\n",
              "      <th>median_income</th>\n",
              "      <th>rooms_per_household</th>\n",
              "      <th>bedrooms_per_household</th>\n",
              "      <th>population_per_household</th>\n",
              "    </tr>\n",
              "  </thead>\n",
              "  <tbody>\n",
              "    <tr>\n",
              "      <th>0</th>\n",
              "      <td>-1.159335</td>\n",
              "      <td>0.857026</td>\n",
              "      <td>-1.877350</td>\n",
              "      <td>-0.524079</td>\n",
              "      <td>-0.844724</td>\n",
              "      <td>-0.664114</td>\n",
              "      <td>-0.829604</td>\n",
              "      <td>3.395843</td>\n",
              "      <td>1.170051</td>\n",
              "      <td>-0.223054</td>\n",
              "      <td>0.067133</td>\n",
              "    </tr>\n",
              "    <tr>\n",
              "      <th>1</th>\n",
              "      <td>0.853958</td>\n",
              "      <td>-0.874461</td>\n",
              "      <td>-1.081706</td>\n",
              "      <td>-0.832481</td>\n",
              "      <td>-0.580594</td>\n",
              "      <td>-0.100168</td>\n",
              "      <td>-0.652057</td>\n",
              "      <td>-0.546466</td>\n",
              "      <td>-0.879506</td>\n",
              "      <td>0.176602</td>\n",
              "      <td>0.196996</td>\n",
              "    </tr>\n",
              "    <tr>\n",
              "      <th>2</th>\n",
              "      <td>-0.884568</td>\n",
              "      <td>1.427949</td>\n",
              "      <td>-0.047369</td>\n",
              "      <td>0.334644</td>\n",
              "      <td>0.026191</td>\n",
              "      <td>0.096896</td>\n",
              "      <td>0.136457</td>\n",
              "      <td>0.208175</td>\n",
              "      <td>0.280941</td>\n",
              "      <td>-0.240038</td>\n",
              "      <td>-0.025045</td>\n",
              "    </tr>\n",
              "    <tr>\n",
              "      <th>3</th>\n",
              "      <td>1.288590</td>\n",
              "      <td>-0.799586</td>\n",
              "      <td>-0.206498</td>\n",
              "      <td>-0.993145</td>\n",
              "      <td>-1.123132</td>\n",
              "      <td>-1.038262</td>\n",
              "      <td>-1.161198</td>\n",
              "      <td>-0.087333</td>\n",
              "      <td>1.322719</td>\n",
              "      <td>0.177075</td>\n",
              "      <td>0.173898</td>\n",
              "    </tr>\n",
              "    <tr>\n",
              "      <th>4</th>\n",
              "      <td>-0.874576</td>\n",
              "      <td>1.301598</td>\n",
              "      <td>-0.922577</td>\n",
              "      <td>0.806480</td>\n",
              "      <td>0.271285</td>\n",
              "      <td>0.484666</td>\n",
              "      <td>0.353168</td>\n",
              "      <td>1.017217</td>\n",
              "      <td>0.625629</td>\n",
              "      <td>-0.163943</td>\n",
              "      <td>0.002901</td>\n",
              "    </tr>\n",
              "    <tr>\n",
              "      <th>...</th>\n",
              "      <td>...</td>\n",
              "      <td>...</td>\n",
              "      <td>...</td>\n",
              "      <td>...</td>\n",
              "      <td>...</td>\n",
              "      <td>...</td>\n",
              "      <td>...</td>\n",
              "      <td>...</td>\n",
              "      <td>...</td>\n",
              "      <td>...</td>\n",
              "      <td>...</td>\n",
              "    </tr>\n",
              "    <tr>\n",
              "      <th>13204</th>\n",
              "      <td>0.569200</td>\n",
              "      <td>-0.743430</td>\n",
              "      <td>1.862176</td>\n",
              "      <td>-0.402657</td>\n",
              "      <td>-0.554419</td>\n",
              "      <td>-0.636870</td>\n",
              "      <td>-0.513676</td>\n",
              "      <td>0.741289</td>\n",
              "      <td>0.164860</td>\n",
              "      <td>-0.215365</td>\n",
              "      <td>-0.059645</td>\n",
              "    </tr>\n",
              "    <tr>\n",
              "      <th>13205</th>\n",
              "      <td>-1.334187</td>\n",
              "      <td>1.016136</td>\n",
              "      <td>1.464354</td>\n",
              "      <td>-0.280774</td>\n",
              "      <td>0.111855</td>\n",
              "      <td>-0.202786</td>\n",
              "      <td>0.131235</td>\n",
              "      <td>-0.650729</td>\n",
              "      <td>-0.733651</td>\n",
              "      <td>-0.078170</td>\n",
              "      <td>-0.078224</td>\n",
              "    </tr>\n",
              "    <tr>\n",
              "      <th>13206</th>\n",
              "      <td>1.228641</td>\n",
              "      <td>-1.347111</td>\n",
              "      <td>-0.683884</td>\n",
              "      <td>-0.455750</td>\n",
              "      <td>-0.171311</td>\n",
              "      <td>-0.131044</td>\n",
              "      <td>-0.153361</td>\n",
              "      <td>-0.932609</td>\n",
              "      <td>-0.711128</td>\n",
              "      <td>-0.095732</td>\n",
              "      <td>-0.013405</td>\n",
              "    </tr>\n",
              "    <tr>\n",
              "      <th>13207</th>\n",
              "      <td>0.604170</td>\n",
              "      <td>-0.832344</td>\n",
              "      <td>0.589146</td>\n",
              "      <td>-0.583636</td>\n",
              "      <td>-0.740024</td>\n",
              "      <td>-0.684093</td>\n",
              "      <td>-0.743441</td>\n",
              "      <td>0.529944</td>\n",
              "      <td>0.395708</td>\n",
              "      <td>-0.104477</td>\n",
              "      <td>0.006150</td>\n",
              "    </tr>\n",
              "    <tr>\n",
              "      <th>13208</th>\n",
              "      <td>-1.279233</td>\n",
              "      <td>0.838308</td>\n",
              "      <td>0.589146</td>\n",
              "      <td>0.613037</td>\n",
              "      <td>1.199310</td>\n",
              "      <td>0.739849</td>\n",
              "      <td>1.282676</td>\n",
              "      <td>-0.177081</td>\n",
              "      <td>-0.602212</td>\n",
              "      <td>-0.104423</td>\n",
              "      <td>-0.071615</td>\n",
              "    </tr>\n",
              "  </tbody>\n",
              "</table>\n",
              "<p>13209 rows × 11 columns</p>\n",
              "</div>\n",
              "      <button class=\"colab-df-convert\" onclick=\"convertToInteractive('df-7453f0be-1ded-4af3-a0fa-d9b40640e866')\"\n",
              "              title=\"Convert this dataframe to an interactive table.\"\n",
              "              style=\"display:none;\">\n",
              "        \n",
              "  <svg xmlns=\"http://www.w3.org/2000/svg\" height=\"24px\"viewBox=\"0 0 24 24\"\n",
              "       width=\"24px\">\n",
              "    <path d=\"M0 0h24v24H0V0z\" fill=\"none\"/>\n",
              "    <path d=\"M18.56 5.44l.94 2.06.94-2.06 2.06-.94-2.06-.94-.94-2.06-.94 2.06-2.06.94zm-11 1L8.5 8.5l.94-2.06 2.06-.94-2.06-.94L8.5 2.5l-.94 2.06-2.06.94zm10 10l.94 2.06.94-2.06 2.06-.94-2.06-.94-.94-2.06-.94 2.06-2.06.94z\"/><path d=\"M17.41 7.96l-1.37-1.37c-.4-.4-.92-.59-1.43-.59-.52 0-1.04.2-1.43.59L10.3 9.45l-7.72 7.72c-.78.78-.78 2.05 0 2.83L4 21.41c.39.39.9.59 1.41.59.51 0 1.02-.2 1.41-.59l7.78-7.78 2.81-2.81c.8-.78.8-2.07 0-2.86zM5.41 20L4 18.59l7.72-7.72 1.47 1.35L5.41 20z\"/>\n",
              "  </svg>\n",
              "      </button>\n",
              "      \n",
              "  <style>\n",
              "    .colab-df-container {\n",
              "      display:flex;\n",
              "      flex-wrap:wrap;\n",
              "      gap: 12px;\n",
              "    }\n",
              "\n",
              "    .colab-df-convert {\n",
              "      background-color: #E8F0FE;\n",
              "      border: none;\n",
              "      border-radius: 50%;\n",
              "      cursor: pointer;\n",
              "      display: none;\n",
              "      fill: #1967D2;\n",
              "      height: 32px;\n",
              "      padding: 0 0 0 0;\n",
              "      width: 32px;\n",
              "    }\n",
              "\n",
              "    .colab-df-convert:hover {\n",
              "      background-color: #E2EBFA;\n",
              "      box-shadow: 0px 1px 2px rgba(60, 64, 67, 0.3), 0px 1px 3px 1px rgba(60, 64, 67, 0.15);\n",
              "      fill: #174EA6;\n",
              "    }\n",
              "\n",
              "    [theme=dark] .colab-df-convert {\n",
              "      background-color: #3B4455;\n",
              "      fill: #D2E3FC;\n",
              "    }\n",
              "\n",
              "    [theme=dark] .colab-df-convert:hover {\n",
              "      background-color: #434B5C;\n",
              "      box-shadow: 0px 1px 3px 1px rgba(0, 0, 0, 0.15);\n",
              "      filter: drop-shadow(0px 1px 2px rgba(0, 0, 0, 0.3));\n",
              "      fill: #FFFFFF;\n",
              "    }\n",
              "  </style>\n",
              "\n",
              "      <script>\n",
              "        const buttonEl =\n",
              "          document.querySelector('#df-7453f0be-1ded-4af3-a0fa-d9b40640e866 button.colab-df-convert');\n",
              "        buttonEl.style.display =\n",
              "          google.colab.kernel.accessAllowed ? 'block' : 'none';\n",
              "\n",
              "        async function convertToInteractive(key) {\n",
              "          const element = document.querySelector('#df-7453f0be-1ded-4af3-a0fa-d9b40640e866');\n",
              "          const dataTable =\n",
              "            await google.colab.kernel.invokeFunction('convertToInteractive',\n",
              "                                                     [key], {});\n",
              "          if (!dataTable) return;\n",
              "\n",
              "          const docLinkHtml = 'Like what you see? Visit the ' +\n",
              "            '<a target=\"_blank\" href=https://colab.research.google.com/notebooks/data_table.ipynb>data table notebook</a>'\n",
              "            + ' to learn more about interactive tables.';\n",
              "          element.innerHTML = '';\n",
              "          dataTable['output_type'] = 'display_data';\n",
              "          await google.colab.output.renderOutput(dataTable, element);\n",
              "          const docLink = document.createElement('div');\n",
              "          docLink.innerHTML = docLinkHtml;\n",
              "          element.appendChild(docLink);\n",
              "        }\n",
              "      </script>\n",
              "    </div>\n",
              "  </div>\n",
              "  "
            ]
          },
          "metadata": {},
          "execution_count": 175
        }
      ]
    },
    {
      "cell_type": "code",
      "source": [
        "# Crear un clasificador KNN con diferentes números de vecinos\n",
        "n_neighbors = [1,3,5,7,9,11,13,15]\n",
        "det_coef = []\n",
        "\n",
        "for k in n_neighbors:\n",
        "  clf = Pipeline(steps=[(\"regressor\", KNeighborsRegressor(n_neighbors=k))])\n",
        "\n",
        "  # Entrenar el clasificador con los datos de entrenamiento\n",
        "  clf.fit(X_train_imp_scaled, y_train)\n",
        "\n",
        "  # Evaluar el rendimiento del clasificador en los datos de validación\n",
        "  det_coef.append(clf.score(X_val_imp_scaled, y_val))"
      ],
      "metadata": {
        "id": "LD32beHZ_JzB"
      },
      "execution_count": 176,
      "outputs": []
    },
    {
      "cell_type": "code",
      "source": [
        "#Re-entrenar el modelo con los datos de entrenamiento y validación para el valor de k óptimo\n",
        "k_opt = n_neighbors[np.argmax(det_coef)]\n",
        "print(f\"El número óptimo de vecinos es {k_opt}\")\n",
        "X_train_test_imp_scaled = np.vstack([X_train_imp_scaled,X_val_imp_scaled])\n",
        "y_train_test = np.hstack([y_train,y_val])\n",
        "\n",
        "# Entrenar el regresor con los datos de entrenamiento\n",
        "clf = Pipeline(steps=[(\"regressor\", KNeighborsRegressor(n_neighbors=k_opt))])\n",
        "clf.fit(X_train_test_imp_scaled, y_train_test)\n",
        "#Validar el rendimiento del clasificador con los datos de prueba\n",
        "det_coef = clf.score(X_test_imp_scaled, y_test)\n",
        "\n",
        "print(f\"El coeficiente de determinación en el conjunto de test es {det_coef:0.2f}\")"
      ],
      "metadata": {
        "colab": {
          "base_uri": "https://localhost:8080/"
        },
        "id": "biUOmvqx_YaQ",
        "outputId": "fd430ff0-1379-46e3-89e4-4c2151509218"
      },
      "execution_count": 177,
      "outputs": [
        {
          "output_type": "stream",
          "name": "stdout",
          "text": [
            "El número óptimo de vecinos es 13\n",
            "El coeficiente de determinación en el conjunto de test es 0.73\n"
          ]
        }
      ]
    },
    {
      "cell_type": "markdown",
      "source": [
        "## **Vamos a utilizar `Pipelines` para simplificar el proceso**\n",
        "\n",
        "Los `pipelines` permiten hacer este proceso de una forma más elegante y organizada "
      ],
      "metadata": {
        "id": "6YGhTcw_C3KN"
      }
    },
    {
      "cell_type": "code",
      "source": [
        "X_train = train_df.drop(columns=[\"median_house_value\", \"ocean_proximity\"])\n",
        "y_train = train_df[\"median_house_value\"]\n",
        "\n",
        "X_val = val_df.drop(columns=[\"median_house_value\", \"ocean_proximity\"])\n",
        "y_val = val_df[\"median_house_value\"]\n",
        "\n",
        "X_test = test_df.drop(columns=[\"median_house_value\", \"ocean_proximity\"])\n",
        "y_test = test_df[\"median_house_value\"]"
      ],
      "metadata": {
        "id": "0HXRrTwoDLnQ"
      },
      "execution_count": 178,
      "outputs": []
    },
    {
      "cell_type": "markdown",
      "source": [
        "```\n",
        "pipe = Pipeline(\n",
        "    steps=[\n",
        "        (\"imputer\", SimpleImputer(strategy=\"median\")),\n",
        "        (\"scaler\", StandardScaler()),\n",
        "        (\"regressor\", KNeighborsRegressor()),\n",
        "    ]\n",
        ")\n",
        "```\n",
        "\n",
        "- Sintaxis: Pasamos una lista de pasos\n",
        "- El último paso debe ser un modelo de **clasificación/regresión**\n",
        "- Los pasos anteriores deben ser **transformaciones**"
      ],
      "metadata": {
        "id": "UdL_aVD5Dfmj"
      }
    },
    {
      "cell_type": "code",
      "source": [
        "pipe = Pipeline(\n",
        "    steps=[\n",
        "        (\"imputer\", SimpleImputer(strategy=\"median\")),\n",
        "        (\"scaler\", StandardScaler()),\n",
        "        (\"regressor\", KNeighborsRegressor()),\n",
        "    ]\n",
        ")"
      ],
      "metadata": {
        "id": "ExXmJhFbDRG8"
      },
      "execution_count": 179,
      "outputs": []
    },
    {
      "cell_type": "code",
      "source": [
        "pipe.fit(X_train, y_train)"
      ],
      "metadata": {
        "colab": {
          "base_uri": "https://localhost:8080/",
          "height": 159
        },
        "id": "leWtC1NoD41G",
        "outputId": "13d42e01-ad27-4a68-f9fd-35e16978a45c"
      },
      "execution_count": 180,
      "outputs": [
        {
          "output_type": "execute_result",
          "data": {
            "text/plain": [
              "Pipeline(steps=[('imputer', SimpleImputer(strategy='median')),\n",
              "                ('scaler', StandardScaler()),\n",
              "                ('regressor', KNeighborsRegressor())])"
            ],
            "text/html": [
              "<style>#sk-container-id-8 {color: black;background-color: white;}#sk-container-id-8 pre{padding: 0;}#sk-container-id-8 div.sk-toggleable {background-color: white;}#sk-container-id-8 label.sk-toggleable__label {cursor: pointer;display: block;width: 100%;margin-bottom: 0;padding: 0.3em;box-sizing: border-box;text-align: center;}#sk-container-id-8 label.sk-toggleable__label-arrow:before {content: \"▸\";float: left;margin-right: 0.25em;color: #696969;}#sk-container-id-8 label.sk-toggleable__label-arrow:hover:before {color: black;}#sk-container-id-8 div.sk-estimator:hover label.sk-toggleable__label-arrow:before {color: black;}#sk-container-id-8 div.sk-toggleable__content {max-height: 0;max-width: 0;overflow: hidden;text-align: left;background-color: #f0f8ff;}#sk-container-id-8 div.sk-toggleable__content pre {margin: 0.2em;color: black;border-radius: 0.25em;background-color: #f0f8ff;}#sk-container-id-8 input.sk-toggleable__control:checked~div.sk-toggleable__content {max-height: 200px;max-width: 100%;overflow: auto;}#sk-container-id-8 input.sk-toggleable__control:checked~label.sk-toggleable__label-arrow:before {content: \"▾\";}#sk-container-id-8 div.sk-estimator input.sk-toggleable__control:checked~label.sk-toggleable__label {background-color: #d4ebff;}#sk-container-id-8 div.sk-label input.sk-toggleable__control:checked~label.sk-toggleable__label {background-color: #d4ebff;}#sk-container-id-8 input.sk-hidden--visually {border: 0;clip: rect(1px 1px 1px 1px);clip: rect(1px, 1px, 1px, 1px);height: 1px;margin: -1px;overflow: hidden;padding: 0;position: absolute;width: 1px;}#sk-container-id-8 div.sk-estimator {font-family: monospace;background-color: #f0f8ff;border: 1px dotted black;border-radius: 0.25em;box-sizing: border-box;margin-bottom: 0.5em;}#sk-container-id-8 div.sk-estimator:hover {background-color: #d4ebff;}#sk-container-id-8 div.sk-parallel-item::after {content: \"\";width: 100%;border-bottom: 1px solid gray;flex-grow: 1;}#sk-container-id-8 div.sk-label:hover label.sk-toggleable__label {background-color: #d4ebff;}#sk-container-id-8 div.sk-serial::before {content: \"\";position: absolute;border-left: 1px solid gray;box-sizing: border-box;top: 0;bottom: 0;left: 50%;z-index: 0;}#sk-container-id-8 div.sk-serial {display: flex;flex-direction: column;align-items: center;background-color: white;padding-right: 0.2em;padding-left: 0.2em;position: relative;}#sk-container-id-8 div.sk-item {position: relative;z-index: 1;}#sk-container-id-8 div.sk-parallel {display: flex;align-items: stretch;justify-content: center;background-color: white;position: relative;}#sk-container-id-8 div.sk-item::before, #sk-container-id-8 div.sk-parallel-item::before {content: \"\";position: absolute;border-left: 1px solid gray;box-sizing: border-box;top: 0;bottom: 0;left: 50%;z-index: -1;}#sk-container-id-8 div.sk-parallel-item {display: flex;flex-direction: column;z-index: 1;position: relative;background-color: white;}#sk-container-id-8 div.sk-parallel-item:first-child::after {align-self: flex-end;width: 50%;}#sk-container-id-8 div.sk-parallel-item:last-child::after {align-self: flex-start;width: 50%;}#sk-container-id-8 div.sk-parallel-item:only-child::after {width: 0;}#sk-container-id-8 div.sk-dashed-wrapped {border: 1px dashed gray;margin: 0 0.4em 0.5em 0.4em;box-sizing: border-box;padding-bottom: 0.4em;background-color: white;}#sk-container-id-8 div.sk-label label {font-family: monospace;font-weight: bold;display: inline-block;line-height: 1.2em;}#sk-container-id-8 div.sk-label-container {text-align: center;}#sk-container-id-8 div.sk-container {/* jupyter's `normalize.less` sets `[hidden] { display: none; }` but bootstrap.min.css set `[hidden] { display: none !important; }` so we also need the `!important` here to be able to override the default hidden behavior on the sphinx rendered scikit-learn.org. See: https://github.com/scikit-learn/scikit-learn/issues/21755 */display: inline-block !important;position: relative;}#sk-container-id-8 div.sk-text-repr-fallback {display: none;}</style><div id=\"sk-container-id-8\" class=\"sk-top-container\"><div class=\"sk-text-repr-fallback\"><pre>Pipeline(steps=[(&#x27;imputer&#x27;, SimpleImputer(strategy=&#x27;median&#x27;)),\n",
              "                (&#x27;scaler&#x27;, StandardScaler()),\n",
              "                (&#x27;regressor&#x27;, KNeighborsRegressor())])</pre><b>In a Jupyter environment, please rerun this cell to show the HTML representation or trust the notebook. <br />On GitHub, the HTML representation is unable to render, please try loading this page with nbviewer.org.</b></div><div class=\"sk-container\" hidden><div class=\"sk-item sk-dashed-wrapped\"><div class=\"sk-label-container\"><div class=\"sk-label sk-toggleable\"><input class=\"sk-toggleable__control sk-hidden--visually\" id=\"sk-estimator-id-28\" type=\"checkbox\" ><label for=\"sk-estimator-id-28\" class=\"sk-toggleable__label sk-toggleable__label-arrow\">Pipeline</label><div class=\"sk-toggleable__content\"><pre>Pipeline(steps=[(&#x27;imputer&#x27;, SimpleImputer(strategy=&#x27;median&#x27;)),\n",
              "                (&#x27;scaler&#x27;, StandardScaler()),\n",
              "                (&#x27;regressor&#x27;, KNeighborsRegressor())])</pre></div></div></div><div class=\"sk-serial\"><div class=\"sk-item\"><div class=\"sk-estimator sk-toggleable\"><input class=\"sk-toggleable__control sk-hidden--visually\" id=\"sk-estimator-id-29\" type=\"checkbox\" ><label for=\"sk-estimator-id-29\" class=\"sk-toggleable__label sk-toggleable__label-arrow\">SimpleImputer</label><div class=\"sk-toggleable__content\"><pre>SimpleImputer(strategy=&#x27;median&#x27;)</pre></div></div></div><div class=\"sk-item\"><div class=\"sk-estimator sk-toggleable\"><input class=\"sk-toggleable__control sk-hidden--visually\" id=\"sk-estimator-id-30\" type=\"checkbox\" ><label for=\"sk-estimator-id-30\" class=\"sk-toggleable__label sk-toggleable__label-arrow\">StandardScaler</label><div class=\"sk-toggleable__content\"><pre>StandardScaler()</pre></div></div></div><div class=\"sk-item\"><div class=\"sk-estimator sk-toggleable\"><input class=\"sk-toggleable__control sk-hidden--visually\" id=\"sk-estimator-id-31\" type=\"checkbox\" ><label for=\"sk-estimator-id-31\" class=\"sk-toggleable__label sk-toggleable__label-arrow\">KNeighborsRegressor</label><div class=\"sk-toggleable__content\"><pre>KNeighborsRegressor()</pre></div></div></div></div></div></div></div>"
            ]
          },
          "metadata": {},
          "execution_count": 180
        }
      ]
    },
    {
      "cell_type": "markdown",
      "source": [
        "- Note que estamos pasando `X_train` y **no** la versión imputada o escalada.\n",
        "\n",
        "- Cuando llamamos el método `fit` en el pipeline, este ejecuta los siguientes pasos:\n",
        "\n",
        "  - Ajusta `SimpleImputer` en `X_train`\n",
        "  - Transforma `X_train` usando el `SimpleImputer` ajustado para crear `X_train_imp`\n",
        "  - Ajusta `StandardScaler` en `X_train_imp`\n",
        "  - Transforma `X_train_imp` usando el `StandardScaler` ajustado para crear `X_train_imp_scaled`\n",
        "  - Ajusta el modelo de regresión `KNeighborsRegressor` en `X_train_imp_scaled`\n",
        "\n",
        "![Scaling](https://drive.google.com/uc?id=1Ne1b8pelUy0BaeLOjWl3DN7vc-rKEhBs)\n",
        "\n",
        "\n",
        "\n",
        " "
      ],
      "metadata": {
        "id": "vCscyxVBD7z0"
      }
    },
    {
      "cell_type": "code",
      "source": [
        "# Crear un clasificador KNN con diferentes números de vecinos\n",
        "n_neighbors = [1,3,5,7,9,11,13,15]\n",
        "det_coef = []\n",
        "\n",
        "for k in n_neighbors:\n",
        "  clf = Pipeline(\n",
        "    steps=[\n",
        "        (\"imputer\", SimpleImputer(strategy=\"median\")),\n",
        "        (\"scaler\", StandardScaler()),\n",
        "        (\"regressor\", KNeighborsRegressor(k)),\n",
        "    ])\n",
        "  # Entrenar el clasificador con los datos de entrenamiento\n",
        "  clf.fit(X_train, y_train)\n",
        "\n",
        "  # Evaluar el rendimiento del clasificador en los datos de validación\n",
        "  det_coef.append(clf.score(X_val, y_val))"
      ],
      "metadata": {
        "id": "m9Z9a_ikGIZ5"
      },
      "execution_count": 181,
      "outputs": []
    },
    {
      "cell_type": "code",
      "source": [
        "#Re-entrenar el modelo con los datos de entrenamiento y validación para el valor de k óptimo\n",
        "k_opt = n_neighbors[np.argmax(det_coef)]\n",
        "print(f\"El número óptimo de vecinos es {k_opt}\")\n",
        "X_train_test = np.vstack([X_train,X_val])\n",
        "y_train_test = np.hstack([y_train,y_val])\n",
        "\n",
        "# Entrenar el regresor con los datos de entrenamiento\n",
        "clf = Pipeline(\n",
        "  steps=[\n",
        "        (\"imputer\", SimpleImputer(strategy=\"median\")),\n",
        "        (\"scaler\", StandardScaler()),\n",
        "        (\"regressor\", KNeighborsRegressor(k_opt)),\n",
        "      ])\n",
        "clf.fit(X_train_test, y_train_test)\n",
        "#Validar el rendimiento del clasificador con los datos de prueba\n",
        "det_coef = clf.score(X_test, y_test)\n",
        "\n",
        "print(f\"El coeficiente de determinación en el conjunto de test es {det_coef:0.2f}\")"
      ],
      "metadata": {
        "colab": {
          "base_uri": "https://localhost:8080/"
        },
        "id": "VuK7ZtckGZEY",
        "outputId": "ee3c36b8-af6c-492c-f95d-568394b84bbf"
      },
      "execution_count": 182,
      "outputs": [
        {
          "output_type": "stream",
          "name": "stdout",
          "text": [
            "El número óptimo de vecinos es 13\n"
          ]
        },
        {
          "output_type": "stream",
          "name": "stderr",
          "text": [
            "/usr/local/lib/python3.9/dist-packages/sklearn/base.py:432: UserWarning: X has feature names, but SimpleImputer was fitted without feature names\n",
            "  warnings.warn(\n"
          ]
        },
        {
          "output_type": "stream",
          "name": "stdout",
          "text": [
            "El coeficiente de determinación en el conjunto de test es 0.73\n"
          ]
        }
      ]
    },
    {
      "cell_type": "markdown",
      "source": [
        "## **Variables categóricas**\n",
        "\n",
        "- Recuerde que no estamos utilizando la variable categórica `ocean_proximity` del `dataframe`. Sin embargo, esta característica podría ayudarnos a mejorar la estimación del precio de las casas.\n",
        "\n",
        "- Creemos de nuevo `X_train`, `X_val` y `X_test` conservando esta variable"
      ],
      "metadata": {
        "id": "U4ikWb7ZHTrX"
      }
    },
    {
      "cell_type": "code",
      "source": [
        "X_train = train_df.drop(columns=[\"median_house_value\"])\n",
        "y_train = train_df[\"median_house_value\"]\n",
        "\n",
        "X_val = val_df.drop(columns=[\"median_house_value\"])\n",
        "y_val = val_df[\"median_house_value\"]\n",
        "\n",
        "X_test = test_df.drop(columns=[\"median_house_value\"])\n",
        "y_test = test_df[\"median_house_value\"]"
      ],
      "metadata": {
        "id": "JTeig7xvH1u2"
      },
      "execution_count": 183,
      "outputs": []
    },
    {
      "cell_type": "markdown",
      "source": [
        "Intenemos construir un `KNeighborRegressor` en estos datos usando nuestro `pipeline`"
      ],
      "metadata": {
        "id": "3KrrMB2yIEMD"
      }
    },
    {
      "cell_type": "code",
      "source": [
        "pipe = Pipeline(\n",
        "    steps=[\n",
        "        (\"imputer\", SimpleImputer(strategy=\"median\")),\n",
        "        (\"scaler\", StandardScaler()),\n",
        "        (\"regressor\", KNeighborsRegressor()),\n",
        "    ]\n",
        ")"
      ],
      "metadata": {
        "id": "EgYbUNr4IDrU"
      },
      "execution_count": 184,
      "outputs": []
    },
    {
      "cell_type": "code",
      "source": [
        "pipe.fit(X_train, y_train)"
      ],
      "metadata": {
        "colab": {
          "base_uri": "https://localhost:8080/",
          "height": 334
        },
        "id": "q5hJix2-ITGm",
        "outputId": "6fa738c6-c465-4ea1-edb1-d4c004a394bc"
      },
      "execution_count": 185,
      "outputs": [
        {
          "output_type": "error",
          "ename": "ValueError",
          "evalue": "ignored",
          "traceback": [
            "\u001b[0;31m---------------------------------------------------------------------------\u001b[0m",
            "\u001b[0;31mValueError\u001b[0m                                Traceback (most recent call last)",
            "\u001b[0;32m<ipython-input-185-62f05099a2d9>\u001b[0m in \u001b[0;36m<cell line: 1>\u001b[0;34m()\u001b[0m\n\u001b[0;32m----> 1\u001b[0;31m \u001b[0mpipe\u001b[0m\u001b[0;34m.\u001b[0m\u001b[0mfit\u001b[0m\u001b[0;34m(\u001b[0m\u001b[0mX_train\u001b[0m\u001b[0;34m,\u001b[0m \u001b[0my_train\u001b[0m\u001b[0;34m)\u001b[0m\u001b[0;34m\u001b[0m\u001b[0;34m\u001b[0m\u001b[0m\n\u001b[0m",
            "\u001b[0;32m/usr/local/lib/python3.9/dist-packages/sklearn/pipeline.py\u001b[0m in \u001b[0;36mfit\u001b[0;34m(self, X, y, **fit_params)\u001b[0m\n\u001b[1;32m    399\u001b[0m         \"\"\"\n\u001b[1;32m    400\u001b[0m         \u001b[0mfit_params_steps\u001b[0m \u001b[0;34m=\u001b[0m \u001b[0mself\u001b[0m\u001b[0;34m.\u001b[0m\u001b[0m_check_fit_params\u001b[0m\u001b[0;34m(\u001b[0m\u001b[0;34m**\u001b[0m\u001b[0mfit_params\u001b[0m\u001b[0;34m)\u001b[0m\u001b[0;34m\u001b[0m\u001b[0;34m\u001b[0m\u001b[0m\n\u001b[0;32m--> 401\u001b[0;31m         \u001b[0mXt\u001b[0m \u001b[0;34m=\u001b[0m \u001b[0mself\u001b[0m\u001b[0;34m.\u001b[0m\u001b[0m_fit\u001b[0m\u001b[0;34m(\u001b[0m\u001b[0mX\u001b[0m\u001b[0;34m,\u001b[0m \u001b[0my\u001b[0m\u001b[0;34m,\u001b[0m \u001b[0;34m**\u001b[0m\u001b[0mfit_params_steps\u001b[0m\u001b[0;34m)\u001b[0m\u001b[0;34m\u001b[0m\u001b[0;34m\u001b[0m\u001b[0m\n\u001b[0m\u001b[1;32m    402\u001b[0m         \u001b[0;32mwith\u001b[0m \u001b[0m_print_elapsed_time\u001b[0m\u001b[0;34m(\u001b[0m\u001b[0;34m\"Pipeline\"\u001b[0m\u001b[0;34m,\u001b[0m \u001b[0mself\u001b[0m\u001b[0;34m.\u001b[0m\u001b[0m_log_message\u001b[0m\u001b[0;34m(\u001b[0m\u001b[0mlen\u001b[0m\u001b[0;34m(\u001b[0m\u001b[0mself\u001b[0m\u001b[0;34m.\u001b[0m\u001b[0msteps\u001b[0m\u001b[0;34m)\u001b[0m \u001b[0;34m-\u001b[0m \u001b[0;36m1\u001b[0m\u001b[0;34m)\u001b[0m\u001b[0;34m)\u001b[0m\u001b[0;34m:\u001b[0m\u001b[0;34m\u001b[0m\u001b[0;34m\u001b[0m\u001b[0m\n\u001b[1;32m    403\u001b[0m             \u001b[0;32mif\u001b[0m \u001b[0mself\u001b[0m\u001b[0;34m.\u001b[0m\u001b[0m_final_estimator\u001b[0m \u001b[0;34m!=\u001b[0m \u001b[0;34m\"passthrough\"\u001b[0m\u001b[0;34m:\u001b[0m\u001b[0;34m\u001b[0m\u001b[0;34m\u001b[0m\u001b[0m\n",
            "\u001b[0;32m/usr/local/lib/python3.9/dist-packages/sklearn/pipeline.py\u001b[0m in \u001b[0;36m_fit\u001b[0;34m(self, X, y, **fit_params_steps)\u001b[0m\n\u001b[1;32m    357\u001b[0m                 \u001b[0mcloned_transformer\u001b[0m \u001b[0;34m=\u001b[0m \u001b[0mclone\u001b[0m\u001b[0;34m(\u001b[0m\u001b[0mtransformer\u001b[0m\u001b[0;34m)\u001b[0m\u001b[0;34m\u001b[0m\u001b[0;34m\u001b[0m\u001b[0m\n\u001b[1;32m    358\u001b[0m             \u001b[0;31m# Fit or load from cache the current transformer\u001b[0m\u001b[0;34m\u001b[0m\u001b[0;34m\u001b[0m\u001b[0m\n\u001b[0;32m--> 359\u001b[0;31m             X, fitted_transformer = fit_transform_one_cached(\n\u001b[0m\u001b[1;32m    360\u001b[0m                 \u001b[0mcloned_transformer\u001b[0m\u001b[0;34m,\u001b[0m\u001b[0;34m\u001b[0m\u001b[0;34m\u001b[0m\u001b[0m\n\u001b[1;32m    361\u001b[0m                 \u001b[0mX\u001b[0m\u001b[0;34m,\u001b[0m\u001b[0;34m\u001b[0m\u001b[0;34m\u001b[0m\u001b[0m\n",
            "\u001b[0;32m/usr/local/lib/python3.9/dist-packages/joblib/memory.py\u001b[0m in \u001b[0;36m__call__\u001b[0;34m(self, *args, **kwargs)\u001b[0m\n\u001b[1;32m    347\u001b[0m \u001b[0;34m\u001b[0m\u001b[0m\n\u001b[1;32m    348\u001b[0m     \u001b[0;32mdef\u001b[0m \u001b[0m__call__\u001b[0m\u001b[0;34m(\u001b[0m\u001b[0mself\u001b[0m\u001b[0;34m,\u001b[0m \u001b[0;34m*\u001b[0m\u001b[0margs\u001b[0m\u001b[0;34m,\u001b[0m \u001b[0;34m**\u001b[0m\u001b[0mkwargs\u001b[0m\u001b[0;34m)\u001b[0m\u001b[0;34m:\u001b[0m\u001b[0;34m\u001b[0m\u001b[0;34m\u001b[0m\u001b[0m\n\u001b[0;32m--> 349\u001b[0;31m         \u001b[0;32mreturn\u001b[0m \u001b[0mself\u001b[0m\u001b[0;34m.\u001b[0m\u001b[0mfunc\u001b[0m\u001b[0;34m(\u001b[0m\u001b[0;34m*\u001b[0m\u001b[0margs\u001b[0m\u001b[0;34m,\u001b[0m \u001b[0;34m**\u001b[0m\u001b[0mkwargs\u001b[0m\u001b[0;34m)\u001b[0m\u001b[0;34m\u001b[0m\u001b[0;34m\u001b[0m\u001b[0m\n\u001b[0m\u001b[1;32m    350\u001b[0m \u001b[0;34m\u001b[0m\u001b[0m\n\u001b[1;32m    351\u001b[0m     \u001b[0;32mdef\u001b[0m \u001b[0mcall_and_shelve\u001b[0m\u001b[0;34m(\u001b[0m\u001b[0mself\u001b[0m\u001b[0;34m,\u001b[0m \u001b[0;34m*\u001b[0m\u001b[0margs\u001b[0m\u001b[0;34m,\u001b[0m \u001b[0;34m**\u001b[0m\u001b[0mkwargs\u001b[0m\u001b[0;34m)\u001b[0m\u001b[0;34m:\u001b[0m\u001b[0;34m\u001b[0m\u001b[0;34m\u001b[0m\u001b[0m\n",
            "\u001b[0;32m/usr/local/lib/python3.9/dist-packages/sklearn/pipeline.py\u001b[0m in \u001b[0;36m_fit_transform_one\u001b[0;34m(transformer, X, y, weight, message_clsname, message, **fit_params)\u001b[0m\n\u001b[1;32m    891\u001b[0m     \u001b[0;32mwith\u001b[0m \u001b[0m_print_elapsed_time\u001b[0m\u001b[0;34m(\u001b[0m\u001b[0mmessage_clsname\u001b[0m\u001b[0;34m,\u001b[0m \u001b[0mmessage\u001b[0m\u001b[0;34m)\u001b[0m\u001b[0;34m:\u001b[0m\u001b[0;34m\u001b[0m\u001b[0;34m\u001b[0m\u001b[0m\n\u001b[1;32m    892\u001b[0m         \u001b[0;32mif\u001b[0m \u001b[0mhasattr\u001b[0m\u001b[0;34m(\u001b[0m\u001b[0mtransformer\u001b[0m\u001b[0;34m,\u001b[0m \u001b[0;34m\"fit_transform\"\u001b[0m\u001b[0;34m)\u001b[0m\u001b[0;34m:\u001b[0m\u001b[0;34m\u001b[0m\u001b[0;34m\u001b[0m\u001b[0m\n\u001b[0;32m--> 893\u001b[0;31m             \u001b[0mres\u001b[0m \u001b[0;34m=\u001b[0m \u001b[0mtransformer\u001b[0m\u001b[0;34m.\u001b[0m\u001b[0mfit_transform\u001b[0m\u001b[0;34m(\u001b[0m\u001b[0mX\u001b[0m\u001b[0;34m,\u001b[0m \u001b[0my\u001b[0m\u001b[0;34m,\u001b[0m \u001b[0;34m**\u001b[0m\u001b[0mfit_params\u001b[0m\u001b[0;34m)\u001b[0m\u001b[0;34m\u001b[0m\u001b[0;34m\u001b[0m\u001b[0m\n\u001b[0m\u001b[1;32m    894\u001b[0m         \u001b[0;32melse\u001b[0m\u001b[0;34m:\u001b[0m\u001b[0;34m\u001b[0m\u001b[0;34m\u001b[0m\u001b[0m\n\u001b[1;32m    895\u001b[0m             \u001b[0mres\u001b[0m \u001b[0;34m=\u001b[0m \u001b[0mtransformer\u001b[0m\u001b[0;34m.\u001b[0m\u001b[0mfit\u001b[0m\u001b[0;34m(\u001b[0m\u001b[0mX\u001b[0m\u001b[0;34m,\u001b[0m \u001b[0my\u001b[0m\u001b[0;34m,\u001b[0m \u001b[0;34m**\u001b[0m\u001b[0mfit_params\u001b[0m\u001b[0;34m)\u001b[0m\u001b[0;34m.\u001b[0m\u001b[0mtransform\u001b[0m\u001b[0;34m(\u001b[0m\u001b[0mX\u001b[0m\u001b[0;34m)\u001b[0m\u001b[0;34m\u001b[0m\u001b[0;34m\u001b[0m\u001b[0m\n",
            "\u001b[0;32m/usr/local/lib/python3.9/dist-packages/sklearn/utils/_set_output.py\u001b[0m in \u001b[0;36mwrapped\u001b[0;34m(self, X, *args, **kwargs)\u001b[0m\n\u001b[1;32m    138\u001b[0m     \u001b[0;34m@\u001b[0m\u001b[0mwraps\u001b[0m\u001b[0;34m(\u001b[0m\u001b[0mf\u001b[0m\u001b[0;34m)\u001b[0m\u001b[0;34m\u001b[0m\u001b[0;34m\u001b[0m\u001b[0m\n\u001b[1;32m    139\u001b[0m     \u001b[0;32mdef\u001b[0m \u001b[0mwrapped\u001b[0m\u001b[0;34m(\u001b[0m\u001b[0mself\u001b[0m\u001b[0;34m,\u001b[0m \u001b[0mX\u001b[0m\u001b[0;34m,\u001b[0m \u001b[0;34m*\u001b[0m\u001b[0margs\u001b[0m\u001b[0;34m,\u001b[0m \u001b[0;34m**\u001b[0m\u001b[0mkwargs\u001b[0m\u001b[0;34m)\u001b[0m\u001b[0;34m:\u001b[0m\u001b[0;34m\u001b[0m\u001b[0;34m\u001b[0m\u001b[0m\n\u001b[0;32m--> 140\u001b[0;31m         \u001b[0mdata_to_wrap\u001b[0m \u001b[0;34m=\u001b[0m \u001b[0mf\u001b[0m\u001b[0;34m(\u001b[0m\u001b[0mself\u001b[0m\u001b[0;34m,\u001b[0m \u001b[0mX\u001b[0m\u001b[0;34m,\u001b[0m \u001b[0;34m*\u001b[0m\u001b[0margs\u001b[0m\u001b[0;34m,\u001b[0m \u001b[0;34m**\u001b[0m\u001b[0mkwargs\u001b[0m\u001b[0;34m)\u001b[0m\u001b[0;34m\u001b[0m\u001b[0;34m\u001b[0m\u001b[0m\n\u001b[0m\u001b[1;32m    141\u001b[0m         \u001b[0;32mif\u001b[0m \u001b[0misinstance\u001b[0m\u001b[0;34m(\u001b[0m\u001b[0mdata_to_wrap\u001b[0m\u001b[0;34m,\u001b[0m \u001b[0mtuple\u001b[0m\u001b[0;34m)\u001b[0m\u001b[0;34m:\u001b[0m\u001b[0;34m\u001b[0m\u001b[0;34m\u001b[0m\u001b[0m\n\u001b[1;32m    142\u001b[0m             \u001b[0;31m# only wrap the first output for cross decomposition\u001b[0m\u001b[0;34m\u001b[0m\u001b[0;34m\u001b[0m\u001b[0m\n",
            "\u001b[0;32m/usr/local/lib/python3.9/dist-packages/sklearn/base.py\u001b[0m in \u001b[0;36mfit_transform\u001b[0;34m(self, X, y, **fit_params)\u001b[0m\n\u001b[1;32m    879\u001b[0m         \u001b[0;32melse\u001b[0m\u001b[0;34m:\u001b[0m\u001b[0;34m\u001b[0m\u001b[0;34m\u001b[0m\u001b[0m\n\u001b[1;32m    880\u001b[0m             \u001b[0;31m# fit method of arity 2 (supervised transformation)\u001b[0m\u001b[0;34m\u001b[0m\u001b[0;34m\u001b[0m\u001b[0m\n\u001b[0;32m--> 881\u001b[0;31m             \u001b[0;32mreturn\u001b[0m \u001b[0mself\u001b[0m\u001b[0;34m.\u001b[0m\u001b[0mfit\u001b[0m\u001b[0;34m(\u001b[0m\u001b[0mX\u001b[0m\u001b[0;34m,\u001b[0m \u001b[0my\u001b[0m\u001b[0;34m,\u001b[0m \u001b[0;34m**\u001b[0m\u001b[0mfit_params\u001b[0m\u001b[0;34m)\u001b[0m\u001b[0;34m.\u001b[0m\u001b[0mtransform\u001b[0m\u001b[0;34m(\u001b[0m\u001b[0mX\u001b[0m\u001b[0;34m)\u001b[0m\u001b[0;34m\u001b[0m\u001b[0;34m\u001b[0m\u001b[0m\n\u001b[0m\u001b[1;32m    882\u001b[0m \u001b[0;34m\u001b[0m\u001b[0m\n\u001b[1;32m    883\u001b[0m \u001b[0;34m\u001b[0m\u001b[0m\n",
            "\u001b[0;32m/usr/local/lib/python3.9/dist-packages/sklearn/impute/_base.py\u001b[0m in \u001b[0;36mfit\u001b[0;34m(self, X, y)\u001b[0m\n\u001b[1;32m    388\u001b[0m             )\n\u001b[1;32m    389\u001b[0m \u001b[0;34m\u001b[0m\u001b[0m\n\u001b[0;32m--> 390\u001b[0;31m         \u001b[0mX\u001b[0m \u001b[0;34m=\u001b[0m \u001b[0mself\u001b[0m\u001b[0;34m.\u001b[0m\u001b[0m_validate_input\u001b[0m\u001b[0;34m(\u001b[0m\u001b[0mX\u001b[0m\u001b[0;34m,\u001b[0m \u001b[0min_fit\u001b[0m\u001b[0;34m=\u001b[0m\u001b[0;32mTrue\u001b[0m\u001b[0;34m)\u001b[0m\u001b[0;34m\u001b[0m\u001b[0;34m\u001b[0m\u001b[0m\n\u001b[0m\u001b[1;32m    391\u001b[0m \u001b[0;34m\u001b[0m\u001b[0m\n\u001b[1;32m    392\u001b[0m         \u001b[0;31m# default fill_value is 0 for numerical input and \"missing_value\"\u001b[0m\u001b[0;34m\u001b[0m\u001b[0;34m\u001b[0m\u001b[0m\n",
            "\u001b[0;32m/usr/local/lib/python3.9/dist-packages/sklearn/impute/_base.py\u001b[0m in \u001b[0;36m_validate_input\u001b[0;34m(self, X, in_fit)\u001b[0m\n\u001b[1;32m    340\u001b[0m                     )\n\u001b[1;32m    341\u001b[0m                 )\n\u001b[0;32m--> 342\u001b[0;31m                 \u001b[0;32mraise\u001b[0m \u001b[0mnew_ve\u001b[0m \u001b[0;32mfrom\u001b[0m \u001b[0;32mNone\u001b[0m\u001b[0;34m\u001b[0m\u001b[0;34m\u001b[0m\u001b[0m\n\u001b[0m\u001b[1;32m    343\u001b[0m             \u001b[0;32melse\u001b[0m\u001b[0;34m:\u001b[0m\u001b[0;34m\u001b[0m\u001b[0;34m\u001b[0m\u001b[0m\n\u001b[1;32m    344\u001b[0m                 \u001b[0;32mraise\u001b[0m \u001b[0mve\u001b[0m\u001b[0;34m\u001b[0m\u001b[0;34m\u001b[0m\u001b[0m\n",
            "\u001b[0;31mValueError\u001b[0m: Cannot use median strategy with non-numeric data:\ncould not convert string to float: '<1H OCEAN'"
          ]
        }
      ]
    },
    {
      "cell_type": "markdown",
      "source": [
        "- Esto falla porque tenemos datos no-numéricos\n",
        "- ¿Cómo calcularíamos distancias cuando tenemos datos no-numéricos?"
      ],
      "metadata": {
        "id": "STU7tq71IVM9"
      }
    },
    {
      "cell_type": "markdown",
      "source": [
        "## ¿Podemos usar estos datos en nuestro modelo?\n",
        "\n",
        "- En `scikit-learn`, la mayoría de los algoritmos requieren entradas numéricas.\n",
        "- En teoría, los árboles de decisión podrían trabajar con variables categóricas, sin embargo, la implementación en `scikit-learn` no soporta este tipo de datos."
      ],
      "metadata": {
        "id": "ZcNjH5CMIg60"
      }
    },
    {
      "cell_type": "markdown",
      "source": [
        "## ¿Qué opciones tenemos?\n",
        "\n",
        "- Eliminar la columna (no recomendado)\n",
        "  - Si sabes que la columna no es relevante para predecir la variable objetivo, se puede eliminar.\n",
        "- Podemos transformar las variables categóricas en variables numéricas de forma que se puedan utilizar en el modelo.\n",
        " - `OrdinalEncoding:` Asigna un entero a cada una de las categorías que puede tomar la variable (recomendado ocasionalmente por ejemplo en árboles de decisión). \n",
        " - `OneHotEncoding:` Crea tantas nuevas variables como categorías en la variable a transformar (recomendado en la mayoría de los casos). Si tenemos $c$ categorías en nuestra columna, creamos $c$ nuevas columnas binarias para representar estas categorías.  \n",
        "\n",
        "| Índice | Color   |\n",
        "|--------|---------|\n",
        "| 0      | Rojo    |\n",
        "| 1      | Azul    |\n",
        "| 2      | Verde   |\n",
        "| 3      | Azul    |\n",
        "| 4      | Rojo    |\n",
        "| 5      | Verde   |\n",
        "\n",
        "Después de aplicar el `OrdinalEncoding` a la variable categórica `Color`, la tabla resultante se vería así:\n",
        "\n",
        "| Índice | Color_ordinal |\n",
        "|--------|---------------|\n",
        "| 0      | 1             |\n",
        "| 1      | 2             |\n",
        "| 2      | 3             |\n",
        "| 3      | 2             |\n",
        "| 4      | 1             |\n",
        "| 5      | 3             |\n",
        "\n",
        "Después de aplicar el `OneHotEncoding` a la variable categórica `Color`, la tabla resultante se vería así:\n",
        "\n",
        "| Índice | Color_Rojo | Color_Azul | Color_Verde |\n",
        "|--------|------------|------------|-------------|\n",
        "| 0      | 1          | 0          | 0           |\n",
        "| 1      | 0          | 1          | 0           |\n",
        "| 2      | 0          | 0          | 1           |\n",
        "| 3      | 0          | 1          | 0           |\n",
        "| 4      | 1          | 0          | 0           |\n",
        "| 5      | 0          | 0          | 1           |"
      ],
      "metadata": {
        "id": "L9eeJJBQI7yo"
      }
    },
    {
      "cell_type": "markdown",
      "source": [
        "Vamos a aplicar `OneHotEncoding` a nuestros datos"
      ],
      "metadata": {
        "id": "cu_R-EBaLjf4"
      }
    },
    {
      "cell_type": "code",
      "source": [
        "ohe = OneHotEncoder(sparse_output=False, dtype=\"int\")\n",
        "ohe.fit(X_train[[\"ocean_proximity\"]])\n",
        "X_imp_ohe_train = ohe.transform(X_train[[\"ocean_proximity\"]])"
      ],
      "metadata": {
        "id": "rp0pK3X4LiyX"
      },
      "execution_count": 186,
      "outputs": []
    },
    {
      "cell_type": "markdown",
      "source": [
        "Podemos mirar las nuevas características creadas usando el atributo `categories_`"
      ],
      "metadata": {
        "id": "o-9ArVOkMcPs"
      }
    },
    {
      "cell_type": "code",
      "source": [
        "ohe.categories_"
      ],
      "metadata": {
        "colab": {
          "base_uri": "https://localhost:8080/"
        },
        "id": "IMh8yqQ_MkuE",
        "outputId": "e9ce2487-9438-4cec-fae2-49ee8845c940"
      },
      "execution_count": 187,
      "outputs": [
        {
          "output_type": "execute_result",
          "data": {
            "text/plain": [
              "[array(['<1H OCEAN', 'INLAND', 'ISLAND', 'NEAR BAY', 'NEAR OCEAN'],\n",
              "       dtype=object)]"
            ]
          },
          "metadata": {},
          "execution_count": 187
        }
      ]
    },
    {
      "cell_type": "code",
      "source": [
        "transformed_ohe = pd.DataFrame(\n",
        "    data=X_imp_ohe_train,\n",
        "    columns=ohe.get_feature_names_out([\"ocean_proximity\"]),\n",
        "    index=X_train.index,\n",
        ")\n",
        "transformed_ohe"
      ],
      "metadata": {
        "colab": {
          "base_uri": "https://localhost:8080/",
          "height": 423
        },
        "id": "BrhSZV9CMvWY",
        "outputId": "07e0d815-d835-4d17-faf7-1ee7a9a02253"
      },
      "execution_count": 188,
      "outputs": [
        {
          "output_type": "execute_result",
          "data": {
            "text/plain": [
              "       ocean_proximity_<1H OCEAN  ocean_proximity_INLAND  \\\n",
              "17854                          1                       0   \n",
              "10905                          1                       0   \n",
              "12881                          0                       1   \n",
              "12280                          0                       1   \n",
              "13104                          0                       1   \n",
              "...                          ...                     ...   \n",
              "5344                           1                       0   \n",
              "177                            0                       0   \n",
              "14108                          0                       0   \n",
              "8711                           1                       0   \n",
              "18303                          0                       0   \n",
              "\n",
              "       ocean_proximity_ISLAND  ocean_proximity_NEAR BAY  \\\n",
              "17854                       0                         0   \n",
              "10905                       0                         0   \n",
              "12881                       0                         0   \n",
              "12280                       0                         0   \n",
              "13104                       0                         0   \n",
              "...                       ...                       ...   \n",
              "5344                        0                         0   \n",
              "177                         0                         1   \n",
              "14108                       0                         0   \n",
              "8711                        0                         0   \n",
              "18303                       0                         1   \n",
              "\n",
              "       ocean_proximity_NEAR OCEAN  \n",
              "17854                           0  \n",
              "10905                           0  \n",
              "12881                           0  \n",
              "12280                           0  \n",
              "13104                           0  \n",
              "...                           ...  \n",
              "5344                            0  \n",
              "177                             0  \n",
              "14108                           1  \n",
              "8711                            0  \n",
              "18303                           0  \n",
              "\n",
              "[13209 rows x 5 columns]"
            ],
            "text/html": [
              "\n",
              "  <div id=\"df-cbd8bdc6-a05d-47f5-aa47-374f0080fc9b\">\n",
              "    <div class=\"colab-df-container\">\n",
              "      <div>\n",
              "<style scoped>\n",
              "    .dataframe tbody tr th:only-of-type {\n",
              "        vertical-align: middle;\n",
              "    }\n",
              "\n",
              "    .dataframe tbody tr th {\n",
              "        vertical-align: top;\n",
              "    }\n",
              "\n",
              "    .dataframe thead th {\n",
              "        text-align: right;\n",
              "    }\n",
              "</style>\n",
              "<table border=\"1\" class=\"dataframe\">\n",
              "  <thead>\n",
              "    <tr style=\"text-align: right;\">\n",
              "      <th></th>\n",
              "      <th>ocean_proximity_&lt;1H OCEAN</th>\n",
              "      <th>ocean_proximity_INLAND</th>\n",
              "      <th>ocean_proximity_ISLAND</th>\n",
              "      <th>ocean_proximity_NEAR BAY</th>\n",
              "      <th>ocean_proximity_NEAR OCEAN</th>\n",
              "    </tr>\n",
              "  </thead>\n",
              "  <tbody>\n",
              "    <tr>\n",
              "      <th>17854</th>\n",
              "      <td>1</td>\n",
              "      <td>0</td>\n",
              "      <td>0</td>\n",
              "      <td>0</td>\n",
              "      <td>0</td>\n",
              "    </tr>\n",
              "    <tr>\n",
              "      <th>10905</th>\n",
              "      <td>1</td>\n",
              "      <td>0</td>\n",
              "      <td>0</td>\n",
              "      <td>0</td>\n",
              "      <td>0</td>\n",
              "    </tr>\n",
              "    <tr>\n",
              "      <th>12881</th>\n",
              "      <td>0</td>\n",
              "      <td>1</td>\n",
              "      <td>0</td>\n",
              "      <td>0</td>\n",
              "      <td>0</td>\n",
              "    </tr>\n",
              "    <tr>\n",
              "      <th>12280</th>\n",
              "      <td>0</td>\n",
              "      <td>1</td>\n",
              "      <td>0</td>\n",
              "      <td>0</td>\n",
              "      <td>0</td>\n",
              "    </tr>\n",
              "    <tr>\n",
              "      <th>13104</th>\n",
              "      <td>0</td>\n",
              "      <td>1</td>\n",
              "      <td>0</td>\n",
              "      <td>0</td>\n",
              "      <td>0</td>\n",
              "    </tr>\n",
              "    <tr>\n",
              "      <th>...</th>\n",
              "      <td>...</td>\n",
              "      <td>...</td>\n",
              "      <td>...</td>\n",
              "      <td>...</td>\n",
              "      <td>...</td>\n",
              "    </tr>\n",
              "    <tr>\n",
              "      <th>5344</th>\n",
              "      <td>1</td>\n",
              "      <td>0</td>\n",
              "      <td>0</td>\n",
              "      <td>0</td>\n",
              "      <td>0</td>\n",
              "    </tr>\n",
              "    <tr>\n",
              "      <th>177</th>\n",
              "      <td>0</td>\n",
              "      <td>0</td>\n",
              "      <td>0</td>\n",
              "      <td>1</td>\n",
              "      <td>0</td>\n",
              "    </tr>\n",
              "    <tr>\n",
              "      <th>14108</th>\n",
              "      <td>0</td>\n",
              "      <td>0</td>\n",
              "      <td>0</td>\n",
              "      <td>0</td>\n",
              "      <td>1</td>\n",
              "    </tr>\n",
              "    <tr>\n",
              "      <th>8711</th>\n",
              "      <td>1</td>\n",
              "      <td>0</td>\n",
              "      <td>0</td>\n",
              "      <td>0</td>\n",
              "      <td>0</td>\n",
              "    </tr>\n",
              "    <tr>\n",
              "      <th>18303</th>\n",
              "      <td>0</td>\n",
              "      <td>0</td>\n",
              "      <td>0</td>\n",
              "      <td>1</td>\n",
              "      <td>0</td>\n",
              "    </tr>\n",
              "  </tbody>\n",
              "</table>\n",
              "<p>13209 rows × 5 columns</p>\n",
              "</div>\n",
              "      <button class=\"colab-df-convert\" onclick=\"convertToInteractive('df-cbd8bdc6-a05d-47f5-aa47-374f0080fc9b')\"\n",
              "              title=\"Convert this dataframe to an interactive table.\"\n",
              "              style=\"display:none;\">\n",
              "        \n",
              "  <svg xmlns=\"http://www.w3.org/2000/svg\" height=\"24px\"viewBox=\"0 0 24 24\"\n",
              "       width=\"24px\">\n",
              "    <path d=\"M0 0h24v24H0V0z\" fill=\"none\"/>\n",
              "    <path d=\"M18.56 5.44l.94 2.06.94-2.06 2.06-.94-2.06-.94-.94-2.06-.94 2.06-2.06.94zm-11 1L8.5 8.5l.94-2.06 2.06-.94-2.06-.94L8.5 2.5l-.94 2.06-2.06.94zm10 10l.94 2.06.94-2.06 2.06-.94-2.06-.94-.94-2.06-.94 2.06-2.06.94z\"/><path d=\"M17.41 7.96l-1.37-1.37c-.4-.4-.92-.59-1.43-.59-.52 0-1.04.2-1.43.59L10.3 9.45l-7.72 7.72c-.78.78-.78 2.05 0 2.83L4 21.41c.39.39.9.59 1.41.59.51 0 1.02-.2 1.41-.59l7.78-7.78 2.81-2.81c.8-.78.8-2.07 0-2.86zM5.41 20L4 18.59l7.72-7.72 1.47 1.35L5.41 20z\"/>\n",
              "  </svg>\n",
              "      </button>\n",
              "      \n",
              "  <style>\n",
              "    .colab-df-container {\n",
              "      display:flex;\n",
              "      flex-wrap:wrap;\n",
              "      gap: 12px;\n",
              "    }\n",
              "\n",
              "    .colab-df-convert {\n",
              "      background-color: #E8F0FE;\n",
              "      border: none;\n",
              "      border-radius: 50%;\n",
              "      cursor: pointer;\n",
              "      display: none;\n",
              "      fill: #1967D2;\n",
              "      height: 32px;\n",
              "      padding: 0 0 0 0;\n",
              "      width: 32px;\n",
              "    }\n",
              "\n",
              "    .colab-df-convert:hover {\n",
              "      background-color: #E2EBFA;\n",
              "      box-shadow: 0px 1px 2px rgba(60, 64, 67, 0.3), 0px 1px 3px 1px rgba(60, 64, 67, 0.15);\n",
              "      fill: #174EA6;\n",
              "    }\n",
              "\n",
              "    [theme=dark] .colab-df-convert {\n",
              "      background-color: #3B4455;\n",
              "      fill: #D2E3FC;\n",
              "    }\n",
              "\n",
              "    [theme=dark] .colab-df-convert:hover {\n",
              "      background-color: #434B5C;\n",
              "      box-shadow: 0px 1px 3px 1px rgba(0, 0, 0, 0.15);\n",
              "      filter: drop-shadow(0px 1px 2px rgba(0, 0, 0, 0.3));\n",
              "      fill: #FFFFFF;\n",
              "    }\n",
              "  </style>\n",
              "\n",
              "      <script>\n",
              "        const buttonEl =\n",
              "          document.querySelector('#df-cbd8bdc6-a05d-47f5-aa47-374f0080fc9b button.colab-df-convert');\n",
              "        buttonEl.style.display =\n",
              "          google.colab.kernel.accessAllowed ? 'block' : 'none';\n",
              "\n",
              "        async function convertToInteractive(key) {\n",
              "          const element = document.querySelector('#df-cbd8bdc6-a05d-47f5-aa47-374f0080fc9b');\n",
              "          const dataTable =\n",
              "            await google.colab.kernel.invokeFunction('convertToInteractive',\n",
              "                                                     [key], {});\n",
              "          if (!dataTable) return;\n",
              "\n",
              "          const docLinkHtml = 'Like what you see? Visit the ' +\n",
              "            '<a target=\"_blank\" href=https://colab.research.google.com/notebooks/data_table.ipynb>data table notebook</a>'\n",
              "            + ' to learn more about interactive tables.';\n",
              "          element.innerHTML = '';\n",
              "          dataTable['output_type'] = 'display_data';\n",
              "          await google.colab.output.renderOutput(dataTable, element);\n",
              "          const docLink = document.createElement('div');\n",
              "          docLink.innerHTML = docLinkHtml;\n",
              "          element.appendChild(docLink);\n",
              "        }\n",
              "      </script>\n",
              "    </div>\n",
              "  </div>\n",
              "  "
            ]
          },
          "metadata": {},
          "execution_count": 188
        }
      ]
    },
    {
      "cell_type": "markdown",
      "source": [
        "Las variables generadas con `OneHotEncoding` se conocen comunmente como **dummy variables**. A menudo se utiliza el método [`get_dummies`](https://pandas.pydata.org/docs/reference/api/pandas.get_dummies.html) de pandas para convertir las variables categóricas en variabes **dummy**. Sin embargo, usar el transformador `OneHotEncoder` de `scikit-learn` tiene la ventaja de hacer el procedimiento fácil de tratar en particiones de entrenamiento, validación y prueba de una forma consistente."
      ],
      "metadata": {
        "id": "d0gv8qnXNA4h"
      }
    },
    {
      "cell_type": "markdown",
      "source": [
        "## **`ColumnTransformers` de `scikit-learn`**\n",
        "\n",
        "- En la mayoría de aplicaciones tenemos variables categóricas, continuas, binarias uy/o ordinales.\n",
        "\n",
        "- Cuando queremos desarrollar `pipelines` de aprendizaje de máquina en bases de datos reales, a menudo, queremos aplicar diferentes transformaciones a diferentes columnas.\n",
        "\n",
        "- Para este ejemplo deberíamos aplicar:\n",
        "\n",
        " - Imputación, escalamiento en las variabes numéricas.\n",
        " - One-hot-encoding en la variable categórica"
      ],
      "metadata": {
        "id": "slI-cUZ_OLar"
      }
    },
    {
      "cell_type": "code",
      "source": [
        "X_train = train_df.drop(columns=[\"median_house_value\"])\n",
        "y_train = train_df[\"median_house_value\"]\n",
        "\n",
        "X_val = val_df.drop(columns=[\"median_house_value\"])\n",
        "y_val = val_df[\"median_house_value\"]\n",
        "\n",
        "X_test = test_df.drop(columns=[\"median_house_value\"])\n",
        "y_test = test_df[\"median_house_value\"]"
      ],
      "metadata": {
        "id": "VcS5K1jGQ8hu"
      },
      "execution_count": 189,
      "outputs": []
    },
    {
      "cell_type": "markdown",
      "source": [
        "Vamos a encontrar las variables numéricas y categóricas en nuestros datos"
      ],
      "metadata": {
        "id": "Fgufae17PkKq"
      }
    },
    {
      "cell_type": "code",
      "source": [
        "cat_cols = X_train.select_dtypes(include=object).columns\n",
        "num_cols = X_train.select_dtypes(include=np.number).columns"
      ],
      "metadata": {
        "id": "MI6YAOSePi6R"
      },
      "execution_count": 190,
      "outputs": []
    },
    {
      "cell_type": "markdown",
      "source": [
        "Ahora vamos a crear un `ColumnTransformer`"
      ],
      "metadata": {
        "id": "yiec4VqoQOIr"
      }
    },
    {
      "cell_type": "code",
      "source": [
        "from sklearn.compose import ColumnTransformer"
      ],
      "metadata": {
        "id": "8tE5rpF2QFmi"
      },
      "execution_count": 192,
      "outputs": []
    },
    {
      "cell_type": "code",
      "source": [
        "numeric_transformer = Pipeline(\n",
        "    steps=[(\"imputer\", SimpleImputer(strategy=\"median\")),(\"scaler\", StandardScaler())]\n",
        ")\n",
        "\n",
        "categorical_transformer = Pipeline(\n",
        "    steps=[(\"encoder\", OneHotEncoder(handle_unknown=\"ignore\"))]\n",
        ")\n",
        "\n",
        "preprocessor = ColumnTransformer(\n",
        "    transformers=[\n",
        "        (\"num\", numeric_transformer, num_cols),\n",
        "        (\"cat\", categorical_transformer, cat_cols),\n",
        "    ]\n",
        ")"
      ],
      "metadata": {
        "id": "030reRcMQVFu"
      },
      "execution_count": 193,
      "outputs": []
    },
    {
      "cell_type": "code",
      "source": [
        "transformed = preprocessor.fit_transform(X_train)"
      ],
      "metadata": {
        "id": "hf_bSEZsREkS"
      },
      "execution_count": 194,
      "outputs": []
    },
    {
      "cell_type": "code",
      "source": [
        "preprocessor"
      ],
      "metadata": {
        "colab": {
          "base_uri": "https://localhost:8080/",
          "height": 151
        },
        "id": "ICeNLHcHVCAM",
        "outputId": "77b030ec-ae66-44f8-df65-608bca8e0684"
      },
      "execution_count": 195,
      "outputs": [
        {
          "output_type": "execute_result",
          "data": {
            "text/plain": [
              "ColumnTransformer(transformers=[('num',\n",
              "                                 Pipeline(steps=[('imputer',\n",
              "                                                  SimpleImputer(strategy='median')),\n",
              "                                                 ('scaler', StandardScaler())]),\n",
              "                                 Index(['longitude', 'latitude', 'housing_median_age', 'total_rooms',\n",
              "       'total_bedrooms', 'population', 'households', 'median_income',\n",
              "       'rooms_per_household', 'bedrooms_per_household',\n",
              "       'population_per_household'],\n",
              "      dtype='object')),\n",
              "                                ('cat',\n",
              "                                 Pipeline(steps=[('encoder',\n",
              "                                                  OneHotEncoder(handle_unknown='ignore'))]),\n",
              "                                 Index(['ocean_proximity'], dtype='object'))])"
            ],
            "text/html": [
              "<style>#sk-container-id-9 {color: black;background-color: white;}#sk-container-id-9 pre{padding: 0;}#sk-container-id-9 div.sk-toggleable {background-color: white;}#sk-container-id-9 label.sk-toggleable__label {cursor: pointer;display: block;width: 100%;margin-bottom: 0;padding: 0.3em;box-sizing: border-box;text-align: center;}#sk-container-id-9 label.sk-toggleable__label-arrow:before {content: \"▸\";float: left;margin-right: 0.25em;color: #696969;}#sk-container-id-9 label.sk-toggleable__label-arrow:hover:before {color: black;}#sk-container-id-9 div.sk-estimator:hover label.sk-toggleable__label-arrow:before {color: black;}#sk-container-id-9 div.sk-toggleable__content {max-height: 0;max-width: 0;overflow: hidden;text-align: left;background-color: #f0f8ff;}#sk-container-id-9 div.sk-toggleable__content pre {margin: 0.2em;color: black;border-radius: 0.25em;background-color: #f0f8ff;}#sk-container-id-9 input.sk-toggleable__control:checked~div.sk-toggleable__content {max-height: 200px;max-width: 100%;overflow: auto;}#sk-container-id-9 input.sk-toggleable__control:checked~label.sk-toggleable__label-arrow:before {content: \"▾\";}#sk-container-id-9 div.sk-estimator input.sk-toggleable__control:checked~label.sk-toggleable__label {background-color: #d4ebff;}#sk-container-id-9 div.sk-label input.sk-toggleable__control:checked~label.sk-toggleable__label {background-color: #d4ebff;}#sk-container-id-9 input.sk-hidden--visually {border: 0;clip: rect(1px 1px 1px 1px);clip: rect(1px, 1px, 1px, 1px);height: 1px;margin: -1px;overflow: hidden;padding: 0;position: absolute;width: 1px;}#sk-container-id-9 div.sk-estimator {font-family: monospace;background-color: #f0f8ff;border: 1px dotted black;border-radius: 0.25em;box-sizing: border-box;margin-bottom: 0.5em;}#sk-container-id-9 div.sk-estimator:hover {background-color: #d4ebff;}#sk-container-id-9 div.sk-parallel-item::after {content: \"\";width: 100%;border-bottom: 1px solid gray;flex-grow: 1;}#sk-container-id-9 div.sk-label:hover label.sk-toggleable__label {background-color: #d4ebff;}#sk-container-id-9 div.sk-serial::before {content: \"\";position: absolute;border-left: 1px solid gray;box-sizing: border-box;top: 0;bottom: 0;left: 50%;z-index: 0;}#sk-container-id-9 div.sk-serial {display: flex;flex-direction: column;align-items: center;background-color: white;padding-right: 0.2em;padding-left: 0.2em;position: relative;}#sk-container-id-9 div.sk-item {position: relative;z-index: 1;}#sk-container-id-9 div.sk-parallel {display: flex;align-items: stretch;justify-content: center;background-color: white;position: relative;}#sk-container-id-9 div.sk-item::before, #sk-container-id-9 div.sk-parallel-item::before {content: \"\";position: absolute;border-left: 1px solid gray;box-sizing: border-box;top: 0;bottom: 0;left: 50%;z-index: -1;}#sk-container-id-9 div.sk-parallel-item {display: flex;flex-direction: column;z-index: 1;position: relative;background-color: white;}#sk-container-id-9 div.sk-parallel-item:first-child::after {align-self: flex-end;width: 50%;}#sk-container-id-9 div.sk-parallel-item:last-child::after {align-self: flex-start;width: 50%;}#sk-container-id-9 div.sk-parallel-item:only-child::after {width: 0;}#sk-container-id-9 div.sk-dashed-wrapped {border: 1px dashed gray;margin: 0 0.4em 0.5em 0.4em;box-sizing: border-box;padding-bottom: 0.4em;background-color: white;}#sk-container-id-9 div.sk-label label {font-family: monospace;font-weight: bold;display: inline-block;line-height: 1.2em;}#sk-container-id-9 div.sk-label-container {text-align: center;}#sk-container-id-9 div.sk-container {/* jupyter's `normalize.less` sets `[hidden] { display: none; }` but bootstrap.min.css set `[hidden] { display: none !important; }` so we also need the `!important` here to be able to override the default hidden behavior on the sphinx rendered scikit-learn.org. See: https://github.com/scikit-learn/scikit-learn/issues/21755 */display: inline-block !important;position: relative;}#sk-container-id-9 div.sk-text-repr-fallback {display: none;}</style><div id=\"sk-container-id-9\" class=\"sk-top-container\"><div class=\"sk-text-repr-fallback\"><pre>ColumnTransformer(transformers=[(&#x27;num&#x27;,\n",
              "                                 Pipeline(steps=[(&#x27;imputer&#x27;,\n",
              "                                                  SimpleImputer(strategy=&#x27;median&#x27;)),\n",
              "                                                 (&#x27;scaler&#x27;, StandardScaler())]),\n",
              "                                 Index([&#x27;longitude&#x27;, &#x27;latitude&#x27;, &#x27;housing_median_age&#x27;, &#x27;total_rooms&#x27;,\n",
              "       &#x27;total_bedrooms&#x27;, &#x27;population&#x27;, &#x27;households&#x27;, &#x27;median_income&#x27;,\n",
              "       &#x27;rooms_per_household&#x27;, &#x27;bedrooms_per_household&#x27;,\n",
              "       &#x27;population_per_household&#x27;],\n",
              "      dtype=&#x27;object&#x27;)),\n",
              "                                (&#x27;cat&#x27;,\n",
              "                                 Pipeline(steps=[(&#x27;encoder&#x27;,\n",
              "                                                  OneHotEncoder(handle_unknown=&#x27;ignore&#x27;))]),\n",
              "                                 Index([&#x27;ocean_proximity&#x27;], dtype=&#x27;object&#x27;))])</pre><b>In a Jupyter environment, please rerun this cell to show the HTML representation or trust the notebook. <br />On GitHub, the HTML representation is unable to render, please try loading this page with nbviewer.org.</b></div><div class=\"sk-container\" hidden><div class=\"sk-item sk-dashed-wrapped\"><div class=\"sk-label-container\"><div class=\"sk-label sk-toggleable\"><input class=\"sk-toggleable__control sk-hidden--visually\" id=\"sk-estimator-id-32\" type=\"checkbox\" ><label for=\"sk-estimator-id-32\" class=\"sk-toggleable__label sk-toggleable__label-arrow\">ColumnTransformer</label><div class=\"sk-toggleable__content\"><pre>ColumnTransformer(transformers=[(&#x27;num&#x27;,\n",
              "                                 Pipeline(steps=[(&#x27;imputer&#x27;,\n",
              "                                                  SimpleImputer(strategy=&#x27;median&#x27;)),\n",
              "                                                 (&#x27;scaler&#x27;, StandardScaler())]),\n",
              "                                 Index([&#x27;longitude&#x27;, &#x27;latitude&#x27;, &#x27;housing_median_age&#x27;, &#x27;total_rooms&#x27;,\n",
              "       &#x27;total_bedrooms&#x27;, &#x27;population&#x27;, &#x27;households&#x27;, &#x27;median_income&#x27;,\n",
              "       &#x27;rooms_per_household&#x27;, &#x27;bedrooms_per_household&#x27;,\n",
              "       &#x27;population_per_household&#x27;],\n",
              "      dtype=&#x27;object&#x27;)),\n",
              "                                (&#x27;cat&#x27;,\n",
              "                                 Pipeline(steps=[(&#x27;encoder&#x27;,\n",
              "                                                  OneHotEncoder(handle_unknown=&#x27;ignore&#x27;))]),\n",
              "                                 Index([&#x27;ocean_proximity&#x27;], dtype=&#x27;object&#x27;))])</pre></div></div></div><div class=\"sk-parallel\"><div class=\"sk-parallel-item\"><div class=\"sk-item\"><div class=\"sk-label-container\"><div class=\"sk-label sk-toggleable\"><input class=\"sk-toggleable__control sk-hidden--visually\" id=\"sk-estimator-id-33\" type=\"checkbox\" ><label for=\"sk-estimator-id-33\" class=\"sk-toggleable__label sk-toggleable__label-arrow\">num</label><div class=\"sk-toggleable__content\"><pre>Index([&#x27;longitude&#x27;, &#x27;latitude&#x27;, &#x27;housing_median_age&#x27;, &#x27;total_rooms&#x27;,\n",
              "       &#x27;total_bedrooms&#x27;, &#x27;population&#x27;, &#x27;households&#x27;, &#x27;median_income&#x27;,\n",
              "       &#x27;rooms_per_household&#x27;, &#x27;bedrooms_per_household&#x27;,\n",
              "       &#x27;population_per_household&#x27;],\n",
              "      dtype=&#x27;object&#x27;)</pre></div></div></div><div class=\"sk-serial\"><div class=\"sk-item\"><div class=\"sk-serial\"><div class=\"sk-item\"><div class=\"sk-estimator sk-toggleable\"><input class=\"sk-toggleable__control sk-hidden--visually\" id=\"sk-estimator-id-34\" type=\"checkbox\" ><label for=\"sk-estimator-id-34\" class=\"sk-toggleable__label sk-toggleable__label-arrow\">SimpleImputer</label><div class=\"sk-toggleable__content\"><pre>SimpleImputer(strategy=&#x27;median&#x27;)</pre></div></div></div><div class=\"sk-item\"><div class=\"sk-estimator sk-toggleable\"><input class=\"sk-toggleable__control sk-hidden--visually\" id=\"sk-estimator-id-35\" type=\"checkbox\" ><label for=\"sk-estimator-id-35\" class=\"sk-toggleable__label sk-toggleable__label-arrow\">StandardScaler</label><div class=\"sk-toggleable__content\"><pre>StandardScaler()</pre></div></div></div></div></div></div></div></div><div class=\"sk-parallel-item\"><div class=\"sk-item\"><div class=\"sk-label-container\"><div class=\"sk-label sk-toggleable\"><input class=\"sk-toggleable__control sk-hidden--visually\" id=\"sk-estimator-id-36\" type=\"checkbox\" ><label for=\"sk-estimator-id-36\" class=\"sk-toggleable__label sk-toggleable__label-arrow\">cat</label><div class=\"sk-toggleable__content\"><pre>Index([&#x27;ocean_proximity&#x27;], dtype=&#x27;object&#x27;)</pre></div></div></div><div class=\"sk-serial\"><div class=\"sk-item\"><div class=\"sk-serial\"><div class=\"sk-item\"><div class=\"sk-estimator sk-toggleable\"><input class=\"sk-toggleable__control sk-hidden--visually\" id=\"sk-estimator-id-37\" type=\"checkbox\" ><label for=\"sk-estimator-id-37\" class=\"sk-toggleable__label sk-toggleable__label-arrow\">OneHotEncoder</label><div class=\"sk-toggleable__content\"><pre>OneHotEncoder(handle_unknown=&#x27;ignore&#x27;)</pre></div></div></div></div></div></div></div></div></div></div></div></div>"
            ]
          },
          "metadata": {},
          "execution_count": 195
        }
      ]
    },
    {
      "cell_type": "markdown",
      "source": [
        "- Cuando aplicamos `fit`, cada `transformer` se aplica a las columnas especificadas y el resultado de las transformaciones se concatena de forma horizontal.\n",
        "\n",
        "- Una ventaja es que creamos nuestras transformaciones en un solo objeto, de esta forma, nos aseguramos que se aplique el mismo procedimiento a las diferentes particiones de los datos."
      ],
      "metadata": {
        "id": "OU0B-o0iVHOL"
      }
    },
    {
      "cell_type": "markdown",
      "source": [
        "¿Cómo vemos los datos transformados como un `dataframe`?\n",
        "\n",
        "- Estamos agregando más columnas, así que las columnas originales no coinciden con los datos transformados.\n",
        "- Creemos nombres de columnas para los nuevos datos"
      ],
      "metadata": {
        "id": "2yk5PjBmVldf"
      }
    },
    {
      "cell_type": "code",
      "source": [
        "column_names = (\n",
        "    num_cols.to_list()   \n",
        "    + preprocessor.named_transformers_['cat'].named_steps['encoder'].get_feature_names_out().tolist()\n",
        ")\n",
        "column_names"
      ],
      "metadata": {
        "colab": {
          "base_uri": "https://localhost:8080/"
        },
        "id": "Tnt_trgnV7FH",
        "outputId": "f639e05b-ca6a-4239-c623-8ec3bdef7bc2"
      },
      "execution_count": 196,
      "outputs": [
        {
          "output_type": "execute_result",
          "data": {
            "text/plain": [
              "['longitude',\n",
              " 'latitude',\n",
              " 'housing_median_age',\n",
              " 'total_rooms',\n",
              " 'total_bedrooms',\n",
              " 'population',\n",
              " 'households',\n",
              " 'median_income',\n",
              " 'rooms_per_household',\n",
              " 'bedrooms_per_household',\n",
              " 'population_per_household',\n",
              " 'ocean_proximity_<1H OCEAN',\n",
              " 'ocean_proximity_INLAND',\n",
              " 'ocean_proximity_ISLAND',\n",
              " 'ocean_proximity_NEAR BAY',\n",
              " 'ocean_proximity_NEAR OCEAN']"
            ]
          },
          "metadata": {},
          "execution_count": 196
        }
      ]
    },
    {
      "cell_type": "code",
      "source": [
        "preprocessor.named_transformers_"
      ],
      "metadata": {
        "colab": {
          "base_uri": "https://localhost:8080/"
        },
        "id": "e1VujGKLXUvu",
        "outputId": "06f53c08-a4d4-43d3-f946-f95bc07315bb"
      },
      "execution_count": 197,
      "outputs": [
        {
          "output_type": "execute_result",
          "data": {
            "text/plain": [
              "{'num': Pipeline(steps=[('imputer', SimpleImputer(strategy='median')),\n",
              "                 ('scaler', StandardScaler())]),\n",
              " 'cat': Pipeline(steps=[('encoder', OneHotEncoder(handle_unknown='ignore'))])}"
            ]
          },
          "metadata": {},
          "execution_count": 197
        }
      ]
    },
    {
      "cell_type": "code",
      "source": [
        "pd.DataFrame(transformed, columns=column_names)\n"
      ],
      "metadata": {
        "colab": {
          "base_uri": "https://localhost:8080/",
          "height": 505
        },
        "id": "qAM0fljOXgbf",
        "outputId": "a0fea81b-0ee7-40d2-f20a-2b892dca101b"
      },
      "execution_count": 198,
      "outputs": [
        {
          "output_type": "execute_result",
          "data": {
            "text/plain": [
              "       longitude  latitude  housing_median_age  total_rooms  total_bedrooms  \\\n",
              "0      -1.159335  0.857026           -1.877350    -0.524079       -0.844724   \n",
              "1       0.853958 -0.874461           -1.081706    -0.832481       -0.580594   \n",
              "2      -0.884568  1.427949           -0.047369     0.334644        0.026191   \n",
              "3       1.288590 -0.799586           -0.206498    -0.993145       -1.123132   \n",
              "4      -0.874576  1.301598           -0.922577     0.806480        0.271285   \n",
              "...          ...       ...                 ...          ...             ...   \n",
              "13204   0.569200 -0.743430            1.862176    -0.402657       -0.554419   \n",
              "13205  -1.334187  1.016136            1.464354    -0.280774        0.111855   \n",
              "13206   1.228641 -1.347111           -0.683884    -0.455750       -0.171311   \n",
              "13207   0.604170 -0.832344            0.589146    -0.583636       -0.740024   \n",
              "13208  -1.279233  0.838308            0.589146     0.613037        1.199310   \n",
              "\n",
              "       population  households  median_income  rooms_per_household  \\\n",
              "0       -0.664114   -0.829604       3.395843             1.170051   \n",
              "1       -0.100168   -0.652057      -0.546466            -0.879506   \n",
              "2        0.096896    0.136457       0.208175             0.280941   \n",
              "3       -1.038262   -1.161198      -0.087333             1.322719   \n",
              "4        0.484666    0.353168       1.017217             0.625629   \n",
              "...           ...         ...            ...                  ...   \n",
              "13204   -0.636870   -0.513676       0.741289             0.164860   \n",
              "13205   -0.202786    0.131235      -0.650729            -0.733651   \n",
              "13206   -0.131044   -0.153361      -0.932609            -0.711128   \n",
              "13207   -0.684093   -0.743441       0.529944             0.395708   \n",
              "13208    0.739849    1.282676      -0.177081            -0.602212   \n",
              "\n",
              "       bedrooms_per_household  population_per_household  \\\n",
              "0                   -0.223054                  0.067133   \n",
              "1                    0.176602                  0.196996   \n",
              "2                   -0.240038                 -0.025045   \n",
              "3                    0.177075                  0.173898   \n",
              "4                   -0.163943                  0.002901   \n",
              "...                       ...                       ...   \n",
              "13204               -0.215365                 -0.059645   \n",
              "13205               -0.078170                 -0.078224   \n",
              "13206               -0.095732                 -0.013405   \n",
              "13207               -0.104477                  0.006150   \n",
              "13208               -0.104423                 -0.071615   \n",
              "\n",
              "       ocean_proximity_<1H OCEAN  ocean_proximity_INLAND  \\\n",
              "0                            1.0                     0.0   \n",
              "1                            1.0                     0.0   \n",
              "2                            0.0                     1.0   \n",
              "3                            0.0                     1.0   \n",
              "4                            0.0                     1.0   \n",
              "...                          ...                     ...   \n",
              "13204                        1.0                     0.0   \n",
              "13205                        0.0                     0.0   \n",
              "13206                        0.0                     0.0   \n",
              "13207                        1.0                     0.0   \n",
              "13208                        0.0                     0.0   \n",
              "\n",
              "       ocean_proximity_ISLAND  ocean_proximity_NEAR BAY  \\\n",
              "0                         0.0                       0.0   \n",
              "1                         0.0                       0.0   \n",
              "2                         0.0                       0.0   \n",
              "3                         0.0                       0.0   \n",
              "4                         0.0                       0.0   \n",
              "...                       ...                       ...   \n",
              "13204                     0.0                       0.0   \n",
              "13205                     0.0                       1.0   \n",
              "13206                     0.0                       0.0   \n",
              "13207                     0.0                       0.0   \n",
              "13208                     0.0                       1.0   \n",
              "\n",
              "       ocean_proximity_NEAR OCEAN  \n",
              "0                             0.0  \n",
              "1                             0.0  \n",
              "2                             0.0  \n",
              "3                             0.0  \n",
              "4                             0.0  \n",
              "...                           ...  \n",
              "13204                         0.0  \n",
              "13205                         0.0  \n",
              "13206                         1.0  \n",
              "13207                         0.0  \n",
              "13208                         0.0  \n",
              "\n",
              "[13209 rows x 16 columns]"
            ],
            "text/html": [
              "\n",
              "  <div id=\"df-a3b61eb2-4d56-4f70-bb5a-c5739b58737a\">\n",
              "    <div class=\"colab-df-container\">\n",
              "      <div>\n",
              "<style scoped>\n",
              "    .dataframe tbody tr th:only-of-type {\n",
              "        vertical-align: middle;\n",
              "    }\n",
              "\n",
              "    .dataframe tbody tr th {\n",
              "        vertical-align: top;\n",
              "    }\n",
              "\n",
              "    .dataframe thead th {\n",
              "        text-align: right;\n",
              "    }\n",
              "</style>\n",
              "<table border=\"1\" class=\"dataframe\">\n",
              "  <thead>\n",
              "    <tr style=\"text-align: right;\">\n",
              "      <th></th>\n",
              "      <th>longitude</th>\n",
              "      <th>latitude</th>\n",
              "      <th>housing_median_age</th>\n",
              "      <th>total_rooms</th>\n",
              "      <th>total_bedrooms</th>\n",
              "      <th>population</th>\n",
              "      <th>households</th>\n",
              "      <th>median_income</th>\n",
              "      <th>rooms_per_household</th>\n",
              "      <th>bedrooms_per_household</th>\n",
              "      <th>population_per_household</th>\n",
              "      <th>ocean_proximity_&lt;1H OCEAN</th>\n",
              "      <th>ocean_proximity_INLAND</th>\n",
              "      <th>ocean_proximity_ISLAND</th>\n",
              "      <th>ocean_proximity_NEAR BAY</th>\n",
              "      <th>ocean_proximity_NEAR OCEAN</th>\n",
              "    </tr>\n",
              "  </thead>\n",
              "  <tbody>\n",
              "    <tr>\n",
              "      <th>0</th>\n",
              "      <td>-1.159335</td>\n",
              "      <td>0.857026</td>\n",
              "      <td>-1.877350</td>\n",
              "      <td>-0.524079</td>\n",
              "      <td>-0.844724</td>\n",
              "      <td>-0.664114</td>\n",
              "      <td>-0.829604</td>\n",
              "      <td>3.395843</td>\n",
              "      <td>1.170051</td>\n",
              "      <td>-0.223054</td>\n",
              "      <td>0.067133</td>\n",
              "      <td>1.0</td>\n",
              "      <td>0.0</td>\n",
              "      <td>0.0</td>\n",
              "      <td>0.0</td>\n",
              "      <td>0.0</td>\n",
              "    </tr>\n",
              "    <tr>\n",
              "      <th>1</th>\n",
              "      <td>0.853958</td>\n",
              "      <td>-0.874461</td>\n",
              "      <td>-1.081706</td>\n",
              "      <td>-0.832481</td>\n",
              "      <td>-0.580594</td>\n",
              "      <td>-0.100168</td>\n",
              "      <td>-0.652057</td>\n",
              "      <td>-0.546466</td>\n",
              "      <td>-0.879506</td>\n",
              "      <td>0.176602</td>\n",
              "      <td>0.196996</td>\n",
              "      <td>1.0</td>\n",
              "      <td>0.0</td>\n",
              "      <td>0.0</td>\n",
              "      <td>0.0</td>\n",
              "      <td>0.0</td>\n",
              "    </tr>\n",
              "    <tr>\n",
              "      <th>2</th>\n",
              "      <td>-0.884568</td>\n",
              "      <td>1.427949</td>\n",
              "      <td>-0.047369</td>\n",
              "      <td>0.334644</td>\n",
              "      <td>0.026191</td>\n",
              "      <td>0.096896</td>\n",
              "      <td>0.136457</td>\n",
              "      <td>0.208175</td>\n",
              "      <td>0.280941</td>\n",
              "      <td>-0.240038</td>\n",
              "      <td>-0.025045</td>\n",
              "      <td>0.0</td>\n",
              "      <td>1.0</td>\n",
              "      <td>0.0</td>\n",
              "      <td>0.0</td>\n",
              "      <td>0.0</td>\n",
              "    </tr>\n",
              "    <tr>\n",
              "      <th>3</th>\n",
              "      <td>1.288590</td>\n",
              "      <td>-0.799586</td>\n",
              "      <td>-0.206498</td>\n",
              "      <td>-0.993145</td>\n",
              "      <td>-1.123132</td>\n",
              "      <td>-1.038262</td>\n",
              "      <td>-1.161198</td>\n",
              "      <td>-0.087333</td>\n",
              "      <td>1.322719</td>\n",
              "      <td>0.177075</td>\n",
              "      <td>0.173898</td>\n",
              "      <td>0.0</td>\n",
              "      <td>1.0</td>\n",
              "      <td>0.0</td>\n",
              "      <td>0.0</td>\n",
              "      <td>0.0</td>\n",
              "    </tr>\n",
              "    <tr>\n",
              "      <th>4</th>\n",
              "      <td>-0.874576</td>\n",
              "      <td>1.301598</td>\n",
              "      <td>-0.922577</td>\n",
              "      <td>0.806480</td>\n",
              "      <td>0.271285</td>\n",
              "      <td>0.484666</td>\n",
              "      <td>0.353168</td>\n",
              "      <td>1.017217</td>\n",
              "      <td>0.625629</td>\n",
              "      <td>-0.163943</td>\n",
              "      <td>0.002901</td>\n",
              "      <td>0.0</td>\n",
              "      <td>1.0</td>\n",
              "      <td>0.0</td>\n",
              "      <td>0.0</td>\n",
              "      <td>0.0</td>\n",
              "    </tr>\n",
              "    <tr>\n",
              "      <th>...</th>\n",
              "      <td>...</td>\n",
              "      <td>...</td>\n",
              "      <td>...</td>\n",
              "      <td>...</td>\n",
              "      <td>...</td>\n",
              "      <td>...</td>\n",
              "      <td>...</td>\n",
              "      <td>...</td>\n",
              "      <td>...</td>\n",
              "      <td>...</td>\n",
              "      <td>...</td>\n",
              "      <td>...</td>\n",
              "      <td>...</td>\n",
              "      <td>...</td>\n",
              "      <td>...</td>\n",
              "      <td>...</td>\n",
              "    </tr>\n",
              "    <tr>\n",
              "      <th>13204</th>\n",
              "      <td>0.569200</td>\n",
              "      <td>-0.743430</td>\n",
              "      <td>1.862176</td>\n",
              "      <td>-0.402657</td>\n",
              "      <td>-0.554419</td>\n",
              "      <td>-0.636870</td>\n",
              "      <td>-0.513676</td>\n",
              "      <td>0.741289</td>\n",
              "      <td>0.164860</td>\n",
              "      <td>-0.215365</td>\n",
              "      <td>-0.059645</td>\n",
              "      <td>1.0</td>\n",
              "      <td>0.0</td>\n",
              "      <td>0.0</td>\n",
              "      <td>0.0</td>\n",
              "      <td>0.0</td>\n",
              "    </tr>\n",
              "    <tr>\n",
              "      <th>13205</th>\n",
              "      <td>-1.334187</td>\n",
              "      <td>1.016136</td>\n",
              "      <td>1.464354</td>\n",
              "      <td>-0.280774</td>\n",
              "      <td>0.111855</td>\n",
              "      <td>-0.202786</td>\n",
              "      <td>0.131235</td>\n",
              "      <td>-0.650729</td>\n",
              "      <td>-0.733651</td>\n",
              "      <td>-0.078170</td>\n",
              "      <td>-0.078224</td>\n",
              "      <td>0.0</td>\n",
              "      <td>0.0</td>\n",
              "      <td>0.0</td>\n",
              "      <td>1.0</td>\n",
              "      <td>0.0</td>\n",
              "    </tr>\n",
              "    <tr>\n",
              "      <th>13206</th>\n",
              "      <td>1.228641</td>\n",
              "      <td>-1.347111</td>\n",
              "      <td>-0.683884</td>\n",
              "      <td>-0.455750</td>\n",
              "      <td>-0.171311</td>\n",
              "      <td>-0.131044</td>\n",
              "      <td>-0.153361</td>\n",
              "      <td>-0.932609</td>\n",
              "      <td>-0.711128</td>\n",
              "      <td>-0.095732</td>\n",
              "      <td>-0.013405</td>\n",
              "      <td>0.0</td>\n",
              "      <td>0.0</td>\n",
              "      <td>0.0</td>\n",
              "      <td>0.0</td>\n",
              "      <td>1.0</td>\n",
              "    </tr>\n",
              "    <tr>\n",
              "      <th>13207</th>\n",
              "      <td>0.604170</td>\n",
              "      <td>-0.832344</td>\n",
              "      <td>0.589146</td>\n",
              "      <td>-0.583636</td>\n",
              "      <td>-0.740024</td>\n",
              "      <td>-0.684093</td>\n",
              "      <td>-0.743441</td>\n",
              "      <td>0.529944</td>\n",
              "      <td>0.395708</td>\n",
              "      <td>-0.104477</td>\n",
              "      <td>0.006150</td>\n",
              "      <td>1.0</td>\n",
              "      <td>0.0</td>\n",
              "      <td>0.0</td>\n",
              "      <td>0.0</td>\n",
              "      <td>0.0</td>\n",
              "    </tr>\n",
              "    <tr>\n",
              "      <th>13208</th>\n",
              "      <td>-1.279233</td>\n",
              "      <td>0.838308</td>\n",
              "      <td>0.589146</td>\n",
              "      <td>0.613037</td>\n",
              "      <td>1.199310</td>\n",
              "      <td>0.739849</td>\n",
              "      <td>1.282676</td>\n",
              "      <td>-0.177081</td>\n",
              "      <td>-0.602212</td>\n",
              "      <td>-0.104423</td>\n",
              "      <td>-0.071615</td>\n",
              "      <td>0.0</td>\n",
              "      <td>0.0</td>\n",
              "      <td>0.0</td>\n",
              "      <td>1.0</td>\n",
              "      <td>0.0</td>\n",
              "    </tr>\n",
              "  </tbody>\n",
              "</table>\n",
              "<p>13209 rows × 16 columns</p>\n",
              "</div>\n",
              "      <button class=\"colab-df-convert\" onclick=\"convertToInteractive('df-a3b61eb2-4d56-4f70-bb5a-c5739b58737a')\"\n",
              "              title=\"Convert this dataframe to an interactive table.\"\n",
              "              style=\"display:none;\">\n",
              "        \n",
              "  <svg xmlns=\"http://www.w3.org/2000/svg\" height=\"24px\"viewBox=\"0 0 24 24\"\n",
              "       width=\"24px\">\n",
              "    <path d=\"M0 0h24v24H0V0z\" fill=\"none\"/>\n",
              "    <path d=\"M18.56 5.44l.94 2.06.94-2.06 2.06-.94-2.06-.94-.94-2.06-.94 2.06-2.06.94zm-11 1L8.5 8.5l.94-2.06 2.06-.94-2.06-.94L8.5 2.5l-.94 2.06-2.06.94zm10 10l.94 2.06.94-2.06 2.06-.94-2.06-.94-.94-2.06-.94 2.06-2.06.94z\"/><path d=\"M17.41 7.96l-1.37-1.37c-.4-.4-.92-.59-1.43-.59-.52 0-1.04.2-1.43.59L10.3 9.45l-7.72 7.72c-.78.78-.78 2.05 0 2.83L4 21.41c.39.39.9.59 1.41.59.51 0 1.02-.2 1.41-.59l7.78-7.78 2.81-2.81c.8-.78.8-2.07 0-2.86zM5.41 20L4 18.59l7.72-7.72 1.47 1.35L5.41 20z\"/>\n",
              "  </svg>\n",
              "      </button>\n",
              "      \n",
              "  <style>\n",
              "    .colab-df-container {\n",
              "      display:flex;\n",
              "      flex-wrap:wrap;\n",
              "      gap: 12px;\n",
              "    }\n",
              "\n",
              "    .colab-df-convert {\n",
              "      background-color: #E8F0FE;\n",
              "      border: none;\n",
              "      border-radius: 50%;\n",
              "      cursor: pointer;\n",
              "      display: none;\n",
              "      fill: #1967D2;\n",
              "      height: 32px;\n",
              "      padding: 0 0 0 0;\n",
              "      width: 32px;\n",
              "    }\n",
              "\n",
              "    .colab-df-convert:hover {\n",
              "      background-color: #E2EBFA;\n",
              "      box-shadow: 0px 1px 2px rgba(60, 64, 67, 0.3), 0px 1px 3px 1px rgba(60, 64, 67, 0.15);\n",
              "      fill: #174EA6;\n",
              "    }\n",
              "\n",
              "    [theme=dark] .colab-df-convert {\n",
              "      background-color: #3B4455;\n",
              "      fill: #D2E3FC;\n",
              "    }\n",
              "\n",
              "    [theme=dark] .colab-df-convert:hover {\n",
              "      background-color: #434B5C;\n",
              "      box-shadow: 0px 1px 3px 1px rgba(0, 0, 0, 0.15);\n",
              "      filter: drop-shadow(0px 1px 2px rgba(0, 0, 0, 0.3));\n",
              "      fill: #FFFFFF;\n",
              "    }\n",
              "  </style>\n",
              "\n",
              "      <script>\n",
              "        const buttonEl =\n",
              "          document.querySelector('#df-a3b61eb2-4d56-4f70-bb5a-c5739b58737a button.colab-df-convert');\n",
              "        buttonEl.style.display =\n",
              "          google.colab.kernel.accessAllowed ? 'block' : 'none';\n",
              "\n",
              "        async function convertToInteractive(key) {\n",
              "          const element = document.querySelector('#df-a3b61eb2-4d56-4f70-bb5a-c5739b58737a');\n",
              "          const dataTable =\n",
              "            await google.colab.kernel.invokeFunction('convertToInteractive',\n",
              "                                                     [key], {});\n",
              "          if (!dataTable) return;\n",
              "\n",
              "          const docLinkHtml = 'Like what you see? Visit the ' +\n",
              "            '<a target=\"_blank\" href=https://colab.research.google.com/notebooks/data_table.ipynb>data table notebook</a>'\n",
              "            + ' to learn more about interactive tables.';\n",
              "          element.innerHTML = '';\n",
              "          dataTable['output_type'] = 'display_data';\n",
              "          await google.colab.output.renderOutput(dataTable, element);\n",
              "          const docLink = document.createElement('div');\n",
              "          docLink.innerHTML = docLinkHtml;\n",
              "          element.appendChild(docLink);\n",
              "        }\n",
              "      </script>\n",
              "    </div>\n",
              "  </div>\n",
              "  "
            ]
          },
          "metadata": {},
          "execution_count": 198
        }
      ]
    },
    {
      "cell_type": "markdown",
      "source": [
        "\n",
        "![Scaling](https://drive.google.com/uc?id=1aRW-189rN4CXm7Y2MQPxDtbEgH8huBY6)\n"
      ],
      "metadata": {
        "id": "rD2avWIrYTgg"
      }
    },
    {
      "cell_type": "markdown",
      "source": [
        "## **Entrenamiento del modelo**\n"
      ],
      "metadata": {
        "id": "zSIuOJn3YiZB"
      }
    },
    {
      "cell_type": "code",
      "source": [
        "# Cargar los datos\n",
        "housing_df = pd.read_csv(\"housing.csv\")\n",
        "housing_df.head()"
      ],
      "metadata": {
        "colab": {
          "base_uri": "https://localhost:8080/",
          "height": 206
        },
        "id": "ot5-S4aVYvul",
        "outputId": "291576a4-3759-4b47-b076-3f77c81a8601"
      },
      "execution_count": 199,
      "outputs": [
        {
          "output_type": "execute_result",
          "data": {
            "text/plain": [
              "   longitude  latitude  housing_median_age  total_rooms  total_bedrooms  \\\n",
              "0    -122.23     37.88                41.0        880.0           129.0   \n",
              "1    -122.22     37.86                21.0       7099.0          1106.0   \n",
              "2    -122.24     37.85                52.0       1467.0           190.0   \n",
              "3    -122.25     37.85                52.0       1274.0           235.0   \n",
              "4    -122.25     37.85                52.0       1627.0           280.0   \n",
              "\n",
              "   population  households  median_income  median_house_value ocean_proximity  \n",
              "0       322.0       126.0         8.3252            452600.0        NEAR BAY  \n",
              "1      2401.0      1138.0         8.3014            358500.0        NEAR BAY  \n",
              "2       496.0       177.0         7.2574            352100.0        NEAR BAY  \n",
              "3       558.0       219.0         5.6431            341300.0        NEAR BAY  \n",
              "4       565.0       259.0         3.8462            342200.0        NEAR BAY  "
            ],
            "text/html": [
              "\n",
              "  <div id=\"df-24e17ee2-dd00-4c03-90c9-66845da0f7a8\">\n",
              "    <div class=\"colab-df-container\">\n",
              "      <div>\n",
              "<style scoped>\n",
              "    .dataframe tbody tr th:only-of-type {\n",
              "        vertical-align: middle;\n",
              "    }\n",
              "\n",
              "    .dataframe tbody tr th {\n",
              "        vertical-align: top;\n",
              "    }\n",
              "\n",
              "    .dataframe thead th {\n",
              "        text-align: right;\n",
              "    }\n",
              "</style>\n",
              "<table border=\"1\" class=\"dataframe\">\n",
              "  <thead>\n",
              "    <tr style=\"text-align: right;\">\n",
              "      <th></th>\n",
              "      <th>longitude</th>\n",
              "      <th>latitude</th>\n",
              "      <th>housing_median_age</th>\n",
              "      <th>total_rooms</th>\n",
              "      <th>total_bedrooms</th>\n",
              "      <th>population</th>\n",
              "      <th>households</th>\n",
              "      <th>median_income</th>\n",
              "      <th>median_house_value</th>\n",
              "      <th>ocean_proximity</th>\n",
              "    </tr>\n",
              "  </thead>\n",
              "  <tbody>\n",
              "    <tr>\n",
              "      <th>0</th>\n",
              "      <td>-122.23</td>\n",
              "      <td>37.88</td>\n",
              "      <td>41.0</td>\n",
              "      <td>880.0</td>\n",
              "      <td>129.0</td>\n",
              "      <td>322.0</td>\n",
              "      <td>126.0</td>\n",
              "      <td>8.3252</td>\n",
              "      <td>452600.0</td>\n",
              "      <td>NEAR BAY</td>\n",
              "    </tr>\n",
              "    <tr>\n",
              "      <th>1</th>\n",
              "      <td>-122.22</td>\n",
              "      <td>37.86</td>\n",
              "      <td>21.0</td>\n",
              "      <td>7099.0</td>\n",
              "      <td>1106.0</td>\n",
              "      <td>2401.0</td>\n",
              "      <td>1138.0</td>\n",
              "      <td>8.3014</td>\n",
              "      <td>358500.0</td>\n",
              "      <td>NEAR BAY</td>\n",
              "    </tr>\n",
              "    <tr>\n",
              "      <th>2</th>\n",
              "      <td>-122.24</td>\n",
              "      <td>37.85</td>\n",
              "      <td>52.0</td>\n",
              "      <td>1467.0</td>\n",
              "      <td>190.0</td>\n",
              "      <td>496.0</td>\n",
              "      <td>177.0</td>\n",
              "      <td>7.2574</td>\n",
              "      <td>352100.0</td>\n",
              "      <td>NEAR BAY</td>\n",
              "    </tr>\n",
              "    <tr>\n",
              "      <th>3</th>\n",
              "      <td>-122.25</td>\n",
              "      <td>37.85</td>\n",
              "      <td>52.0</td>\n",
              "      <td>1274.0</td>\n",
              "      <td>235.0</td>\n",
              "      <td>558.0</td>\n",
              "      <td>219.0</td>\n",
              "      <td>5.6431</td>\n",
              "      <td>341300.0</td>\n",
              "      <td>NEAR BAY</td>\n",
              "    </tr>\n",
              "    <tr>\n",
              "      <th>4</th>\n",
              "      <td>-122.25</td>\n",
              "      <td>37.85</td>\n",
              "      <td>52.0</td>\n",
              "      <td>1627.0</td>\n",
              "      <td>280.0</td>\n",
              "      <td>565.0</td>\n",
              "      <td>259.0</td>\n",
              "      <td>3.8462</td>\n",
              "      <td>342200.0</td>\n",
              "      <td>NEAR BAY</td>\n",
              "    </tr>\n",
              "  </tbody>\n",
              "</table>\n",
              "</div>\n",
              "      <button class=\"colab-df-convert\" onclick=\"convertToInteractive('df-24e17ee2-dd00-4c03-90c9-66845da0f7a8')\"\n",
              "              title=\"Convert this dataframe to an interactive table.\"\n",
              "              style=\"display:none;\">\n",
              "        \n",
              "  <svg xmlns=\"http://www.w3.org/2000/svg\" height=\"24px\"viewBox=\"0 0 24 24\"\n",
              "       width=\"24px\">\n",
              "    <path d=\"M0 0h24v24H0V0z\" fill=\"none\"/>\n",
              "    <path d=\"M18.56 5.44l.94 2.06.94-2.06 2.06-.94-2.06-.94-.94-2.06-.94 2.06-2.06.94zm-11 1L8.5 8.5l.94-2.06 2.06-.94-2.06-.94L8.5 2.5l-.94 2.06-2.06.94zm10 10l.94 2.06.94-2.06 2.06-.94-2.06-.94-.94-2.06-.94 2.06-2.06.94z\"/><path d=\"M17.41 7.96l-1.37-1.37c-.4-.4-.92-.59-1.43-.59-.52 0-1.04.2-1.43.59L10.3 9.45l-7.72 7.72c-.78.78-.78 2.05 0 2.83L4 21.41c.39.39.9.59 1.41.59.51 0 1.02-.2 1.41-.59l7.78-7.78 2.81-2.81c.8-.78.8-2.07 0-2.86zM5.41 20L4 18.59l7.72-7.72 1.47 1.35L5.41 20z\"/>\n",
              "  </svg>\n",
              "      </button>\n",
              "      \n",
              "  <style>\n",
              "    .colab-df-container {\n",
              "      display:flex;\n",
              "      flex-wrap:wrap;\n",
              "      gap: 12px;\n",
              "    }\n",
              "\n",
              "    .colab-df-convert {\n",
              "      background-color: #E8F0FE;\n",
              "      border: none;\n",
              "      border-radius: 50%;\n",
              "      cursor: pointer;\n",
              "      display: none;\n",
              "      fill: #1967D2;\n",
              "      height: 32px;\n",
              "      padding: 0 0 0 0;\n",
              "      width: 32px;\n",
              "    }\n",
              "\n",
              "    .colab-df-convert:hover {\n",
              "      background-color: #E2EBFA;\n",
              "      box-shadow: 0px 1px 2px rgba(60, 64, 67, 0.3), 0px 1px 3px 1px rgba(60, 64, 67, 0.15);\n",
              "      fill: #174EA6;\n",
              "    }\n",
              "\n",
              "    [theme=dark] .colab-df-convert {\n",
              "      background-color: #3B4455;\n",
              "      fill: #D2E3FC;\n",
              "    }\n",
              "\n",
              "    [theme=dark] .colab-df-convert:hover {\n",
              "      background-color: #434B5C;\n",
              "      box-shadow: 0px 1px 3px 1px rgba(0, 0, 0, 0.15);\n",
              "      filter: drop-shadow(0px 1px 2px rgba(0, 0, 0, 0.3));\n",
              "      fill: #FFFFFF;\n",
              "    }\n",
              "  </style>\n",
              "\n",
              "      <script>\n",
              "        const buttonEl =\n",
              "          document.querySelector('#df-24e17ee2-dd00-4c03-90c9-66845da0f7a8 button.colab-df-convert');\n",
              "        buttonEl.style.display =\n",
              "          google.colab.kernel.accessAllowed ? 'block' : 'none';\n",
              "\n",
              "        async function convertToInteractive(key) {\n",
              "          const element = document.querySelector('#df-24e17ee2-dd00-4c03-90c9-66845da0f7a8');\n",
              "          const dataTable =\n",
              "            await google.colab.kernel.invokeFunction('convertToInteractive',\n",
              "                                                     [key], {});\n",
              "          if (!dataTable) return;\n",
              "\n",
              "          const docLinkHtml = 'Like what you see? Visit the ' +\n",
              "            '<a target=\"_blank\" href=https://colab.research.google.com/notebooks/data_table.ipynb>data table notebook</a>'\n",
              "            + ' to learn more about interactive tables.';\n",
              "          element.innerHTML = '';\n",
              "          dataTable['output_type'] = 'display_data';\n",
              "          await google.colab.output.renderOutput(dataTable, element);\n",
              "          const docLink = document.createElement('div');\n",
              "          docLink.innerHTML = docLinkHtml;\n",
              "          element.appendChild(docLink);\n",
              "        }\n",
              "      </script>\n",
              "    </div>\n",
              "  </div>\n",
              "  "
            ]
          },
          "metadata": {},
          "execution_count": 199
        }
      ]
    },
    {
      "cell_type": "code",
      "source": [
        "#Particiones\n",
        "train_df, test_df = train_test_split(housing_df, test_size=0.20, random_state=123)\n",
        "train_df, val_df = train_test_split(train_df, test_size = 0.20, random_state=123)"
      ],
      "metadata": {
        "id": "gjre_SHHY8Uf"
      },
      "execution_count": 200,
      "outputs": []
    },
    {
      "cell_type": "code",
      "source": [
        "#Creación de nuevas variables\n",
        "train_df = train_df.assign(\n",
        "    rooms_per_household=train_df[\"total_rooms\"] / train_df[\"households\"]\n",
        ")\n",
        "\n",
        "val_df = val_df.assign(\n",
        "    rooms_per_household=val_df[\"total_rooms\"] / val_df[\"households\"]\n",
        ")\n",
        "\n",
        "test_df = test_df.assign(\n",
        "    rooms_per_household=test_df[\"total_rooms\"] / test_df[\"households\"]\n",
        ")\n",
        "\n",
        "train_df = train_df.assign(\n",
        "    bedrooms_per_household=train_df[\"total_bedrooms\"] / train_df[\"households\"]\n",
        ")\n",
        "\n",
        "val_df = val_df.assign(\n",
        "    bedrooms_per_household=val_df[\"total_bedrooms\"] / val_df[\"households\"]\n",
        ")\n",
        "\n",
        "test_df = test_df.assign(\n",
        "    bedrooms_per_household=test_df[\"total_bedrooms\"] / test_df[\"households\"]\n",
        ")\n",
        "\n",
        "train_df = train_df.assign(\n",
        "    population_per_household=train_df[\"population\"] / train_df[\"households\"]\n",
        ")\n",
        "\n",
        "val_df = val_df.assign(\n",
        "    population_per_household=val_df[\"population\"] / val_df[\"households\"]\n",
        ")\n",
        "\n",
        "test_df = test_df.assign(\n",
        "    population_per_household=test_df[\"population\"] / test_df[\"households\"]\n",
        ")"
      ],
      "metadata": {
        "id": "FqMR1zsGZEf5"
      },
      "execution_count": 201,
      "outputs": []
    },
    {
      "cell_type": "code",
      "source": [
        "#Definir características y variable objetivo\n",
        "X_train = train_df.drop(columns=[\"median_house_value\"])\n",
        "y_train = train_df[\"median_house_value\"]\n",
        "\n",
        "X_val = val_df.drop(columns=[\"median_house_value\"])\n",
        "y_val = val_df[\"median_house_value\"]\n",
        "\n",
        "X_test = test_df.drop(columns=[\"median_house_value\"])\n",
        "y_test = test_df[\"median_house_value\"]"
      ],
      "metadata": {
        "id": "dfnUUgocYmUc"
      },
      "execution_count": 202,
      "outputs": []
    },
    {
      "cell_type": "code",
      "source": [
        "#Encontrar variables numéricas y categóricas\n",
        "cat_cols = X_train.select_dtypes(include=object).columns\n",
        "num_cols = X_train.select_dtypes(include=np.number).columns"
      ],
      "metadata": {
        "id": "7WnvpnnQZQKt"
      },
      "execution_count": 203,
      "outputs": []
    },
    {
      "cell_type": "code",
      "source": [
        "#Definir el pipeline de pre-procesamiento\n",
        "numeric_transformer = Pipeline(\n",
        "    steps=[(\"imputer\", SimpleImputer(strategy=\"median\")),(\"scaler\", StandardScaler())]\n",
        ")\n",
        "\n",
        "categorical_transformer = Pipeline(\n",
        "    steps=[(\"encoder\", OneHotEncoder(handle_unknown=\"ignore\"))]\n",
        ")\n",
        "\n",
        "preprocessor = ColumnTransformer(\n",
        "    transformers=[\n",
        "        (\"num\", numeric_transformer, num_cols),\n",
        "        (\"cat\", categorical_transformer, cat_cols),\n",
        "    ]\n",
        ")"
      ],
      "metadata": {
        "id": "OjyixSu6ZYMh"
      },
      "execution_count": 204,
      "outputs": []
    },
    {
      "cell_type": "code",
      "source": [
        "# Crear un clasificador KNN con diferentes números de vecinos\n",
        "n_neighbors = [1,3,5,7,9,11,13,15]\n",
        "det_coef = []\n",
        "\n",
        "for k in n_neighbors:\n",
        "  clf = Pipeline(steps=[(\"preprocessor\", preprocessor), (\"regressor\", KNeighborsRegressor(k))])\n",
        "  # Entrenar el clasificador con los datos de entrenamiento\n",
        "  clf.fit(X_train, y_train)\n",
        "  # Evaluar el rendimiento del clasificador en los datos de validación\n",
        "  det_coef.append(clf.score(X_val, y_val))"
      ],
      "metadata": {
        "id": "I63E5j8EZqor"
      },
      "execution_count": 205,
      "outputs": []
    },
    {
      "cell_type": "code",
      "source": [
        "#Gráfica para selección del hiperparámetro\n",
        "gfg = sns.barplot(x = n_neighbors,y = det_coef)\n",
        "gfg.set(xlabel =\"Number of neighbors\", ylabel = \"Determination Coefficient (%)\", title ='k-NN Regression')"
      ],
      "metadata": {
        "colab": {
          "base_uri": "https://localhost:8080/",
          "height": 525
        },
        "id": "-tyFZGJnZ9Jn",
        "outputId": "09d44f06-3bb0-48a0-ff44-41457e4163eb"
      },
      "execution_count": 206,
      "outputs": [
        {
          "output_type": "execute_result",
          "data": {
            "text/plain": [
              "[Text(0.5, 0, 'Number of neighbors'),\n",
              " Text(0, 0.5, 'Determination Coefficient (%)'),\n",
              " Text(0.5, 1.0, 'k-NN Regression')]"
            ]
          },
          "metadata": {},
          "execution_count": 206
        },
        {
          "output_type": "display_data",
          "data": {
            "text/plain": [
              "<Figure size 640x480 with 1 Axes>"
            ],
            "image/png": "[encoded data removed]"
          },
          "metadata": {}
        }
      ]
    },
    {
      "cell_type": "code",
      "source": [
        "#Re-entrenar el modelo con los datos de entrenamiento y validación para el valor de k óptimo\n",
        "k_opt = n_neighbors[np.argmax(det_coef)]\n",
        "print(f\"El número óptimo de vecinos es {k_opt}\")\n",
        "X_train_test = pd.concat([X_train,X_val],axis=0)\n",
        "y_train_test = np.hstack([y_train,y_val])\n",
        "clf = Pipeline(steps=[(\"preprocessor\", preprocessor), (\"regressor\", KNeighborsRegressor(k_opt))])\n",
        "# Entrenar el clasificador con los datos de entrenamiento\n",
        "clf.fit(X_train_test, y_train_test)\n",
        "det_coef = clf.score(X_test, y_test)\n",
        "print(f\"El coeficiente de determinación en el conjunto de test es {det_coef:0.2f}\")"
      ],
      "metadata": {
        "colab": {
          "base_uri": "https://localhost:8080/"
        },
        "id": "XBld1DTyaELl",
        "outputId": "a08ecd8f-25ea-4e3a-d6fd-29afea3c27f8"
      },
      "execution_count": 207,
      "outputs": [
        {
          "output_type": "stream",
          "name": "stdout",
          "text": [
            "El número óptimo de vecinos es 15\n",
            "El coeficiente de determinación en el conjunto de test es 0.74\n"
          ]
        }
      ]
    },
    {
      "cell_type": "markdown",
      "source": [
        "## **¿Qué aprendimos hoy?**\n",
        "\n",
        "- Motivación para el preprocesamiento de datos\n",
        "- Técnicas comunes de preprocesamiento:\n",
        "  - Imputación\n",
        "  - Escalamiento\n",
        "  - OneHotEncoding\n",
        "- Aplicar diferentes transformaciones a diferentes columnas\n"
      ],
      "metadata": {
        "id": "fmF4Ug4jbWK-"
      }
    }
  ]
}